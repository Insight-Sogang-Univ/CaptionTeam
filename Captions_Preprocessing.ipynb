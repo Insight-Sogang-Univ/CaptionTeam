{
 "cells": [
  {
   "cell_type": "markdown",
   "id": "badef4a9",
   "metadata": {},
   "source": [
    "# Preprocessing Captions"
   ]
  },
  {
   "cell_type": "markdown",
   "id": "f2da3b1b",
   "metadata": {},
   "source": [
    "## Drop Foreigns"
   ]
  },
  {
   "cell_type": "code",
   "execution_count": 1,
   "id": "a8c78f1e",
   "metadata": {},
   "outputs": [],
   "source": [
    "import pandas as pd\n",
    "from datasets.preprocess import naming\n",
    "\n",
    "captions = pd.read_csv('captions_raw.csv')\n",
    "\n",
    "overseas = ['academy', 'cannes', 'fawards', 'fmovie', 'fmusic', 'oversea_celebrity']\n",
    "\n",
    "captions = captions[~captions['head'].isin(overseas)].reset_index(drop=True)\n",
    "captions.to_csv('captions.csv', index=False)"
   ]
  },
  {
   "cell_type": "markdown",
   "id": "3ed6530d",
   "metadata": {},
   "source": [
    "## Replacing names"
   ]
  },
  {
   "cell_type": "code",
   "execution_count": 107,
   "id": "780e6df2",
   "metadata": {},
   "outputs": [],
   "source": [
    "import pandas as pd\n",
    "from datasets.preprocess import naming\n",
    "\n",
    "captions = pd.read_csv('captions.csv')\n",
    "names = pd.read_csv('names.csv')"
   ]
  },
  {
   "cell_type": "code",
   "execution_count": 108,
   "id": "3e7c848b",
   "metadata": {},
   "outputs": [
    {
     "data": {
      "text/html": [
       "<div>\n",
       "<style scoped>\n",
       "    .dataframe tbody tr th:only-of-type {\n",
       "        vertical-align: middle;\n",
       "    }\n",
       "\n",
       "    .dataframe tbody tr th {\n",
       "        vertical-align: top;\n",
       "    }\n",
       "\n",
       "    .dataframe thead th {\n",
       "        text-align: right;\n",
       "    }\n",
       "</style>\n",
       "<table border=\"1\" class=\"dataframe\">\n",
       "  <thead>\n",
       "    <tr style=\"text-align: right;\">\n",
       "      <th></th>\n",
       "      <th>caption</th>\n",
       "      <th>head</th>\n",
       "      <th>name</th>\n",
       "    </tr>\n",
       "  </thead>\n",
       "  <tbody>\n",
       "    <tr>\n",
       "      <th>0</th>\n",
       "      <td>강다니엘 '반하게 만드는 미남'</td>\n",
       "      <td>AAA</td>\n",
       "      <td>AAA0.jpg</td>\n",
       "    </tr>\n",
       "    <tr>\n",
       "      <th>1</th>\n",
       "      <td>김수현 '조각미남'</td>\n",
       "      <td>AAA</td>\n",
       "      <td>AAA1.jpg</td>\n",
       "    </tr>\n",
       "    <tr>\n",
       "      <th>2</th>\n",
       "      <td>서예지 '눈부신 미모'</td>\n",
       "      <td>AAA</td>\n",
       "      <td>AAA2.jpg</td>\n",
       "    </tr>\n",
       "    <tr>\n",
       "      <th>3</th>\n",
       "      <td>이성경 '여전히 예쁜 미모'</td>\n",
       "      <td>AAA</td>\n",
       "      <td>AAA3.jpg</td>\n",
       "    </tr>\n",
       "    <tr>\n",
       "      <th>4</th>\n",
       "      <td>임영웅 '히어로 상 받았어요'</td>\n",
       "      <td>AAA</td>\n",
       "      <td>AAA4.jpg</td>\n",
       "    </tr>\n",
       "    <tr>\n",
       "      <th>...</th>\n",
       "      <td>...</td>\n",
       "      <td>...</td>\n",
       "      <td>...</td>\n",
       "    </tr>\n",
       "    <tr>\n",
       "      <th>184587</th>\n",
       "      <td>씨엔블루 이정신, '하트 받으세요'</td>\n",
       "      <td>way_to_work</td>\n",
       "      <td>way_to_work715.jpg</td>\n",
       "    </tr>\n",
       "    <tr>\n",
       "      <th>184588</th>\n",
       "      <td>씨엔블루 강민혁 '따스한 커피와 함께한 출근길'</td>\n",
       "      <td>way_to_work</td>\n",
       "      <td>way_to_work716.jpg</td>\n",
       "    </tr>\n",
       "    <tr>\n",
       "      <th>184589</th>\n",
       "      <td>씨엔블루 강민혁 '팬들에게 반가운 손인사'</td>\n",
       "      <td>way_to_work</td>\n",
       "      <td>way_to_work717.jpg</td>\n",
       "    </tr>\n",
       "    <tr>\n",
       "      <th>184590</th>\n",
       "      <td>씨엔블루 강민혁 '유스케 녹화 잘하고 올께요'</td>\n",
       "      <td>way_to_work</td>\n",
       "      <td>way_to_work718.jpg</td>\n",
       "    </tr>\n",
       "    <tr>\n",
       "      <th>184591</th>\n",
       "      <td>정용화 '취재진과 마주친 출근길'</td>\n",
       "      <td>way_to_work</td>\n",
       "      <td>way_to_work719.jpg</td>\n",
       "    </tr>\n",
       "  </tbody>\n",
       "</table>\n",
       "<p>184592 rows × 3 columns</p>\n",
       "</div>"
      ],
      "text/plain": [
       "                           caption         head                name\n",
       "0                강다니엘 '반하게 만드는 미남'          AAA            AAA0.jpg\n",
       "1                       김수현 '조각미남'          AAA            AAA1.jpg\n",
       "2                     서예지 '눈부신 미모'          AAA            AAA2.jpg\n",
       "3                  이성경 '여전히 예쁜 미모'          AAA            AAA3.jpg\n",
       "4                 임영웅 '히어로 상 받았어요'          AAA            AAA4.jpg\n",
       "...                            ...          ...                 ...\n",
       "184587         씨엔블루 이정신, '하트 받으세요'  way_to_work  way_to_work715.jpg\n",
       "184588  씨엔블루 강민혁 '따스한 커피와 함께한 출근길'  way_to_work  way_to_work716.jpg\n",
       "184589     씨엔블루 강민혁 '팬들에게 반가운 손인사'  way_to_work  way_to_work717.jpg\n",
       "184590   씨엔블루 강민혁 '유스케 녹화 잘하고 올께요'  way_to_work  way_to_work718.jpg\n",
       "184591          정용화 '취재진과 마주친 출근길'  way_to_work  way_to_work719.jpg\n",
       "\n",
       "[184592 rows x 3 columns]"
      ]
     },
     "execution_count": 108,
     "metadata": {},
     "output_type": "execute_result"
    }
   ],
   "source": [
    "captions"
   ]
  },
  {
   "cell_type": "code",
   "execution_count": 109,
   "id": "bc4acfea",
   "metadata": {
    "scrolled": false
   },
   "outputs": [
    {
     "data": {
      "text/html": [
       "<div>\n",
       "<style scoped>\n",
       "    .dataframe tbody tr th:only-of-type {\n",
       "        vertical-align: middle;\n",
       "    }\n",
       "\n",
       "    .dataframe tbody tr th {\n",
       "        vertical-align: top;\n",
       "    }\n",
       "\n",
       "    .dataframe thead th {\n",
       "        text-align: right;\n",
       "    }\n",
       "</style>\n",
       "<table border=\"1\" class=\"dataframe\">\n",
       "  <thead>\n",
       "    <tr style=\"text-align: right;\">\n",
       "      <th></th>\n",
       "      <th>name</th>\n",
       "    </tr>\n",
       "  </thead>\n",
       "  <tbody>\n",
       "    <tr>\n",
       "      <th>0</th>\n",
       "      <td>10cm</td>\n",
       "    </tr>\n",
       "    <tr>\n",
       "      <th>1</th>\n",
       "      <td>15&amp;</td>\n",
       "    </tr>\n",
       "    <tr>\n",
       "      <th>2</th>\n",
       "      <td>2AM</td>\n",
       "    </tr>\n",
       "    <tr>\n",
       "      <th>3</th>\n",
       "      <td>2F</td>\n",
       "    </tr>\n",
       "    <tr>\n",
       "      <th>4</th>\n",
       "      <td>2NE1</td>\n",
       "    </tr>\n",
       "    <tr>\n",
       "      <th>...</th>\n",
       "      <td>...</td>\n",
       "    </tr>\n",
       "    <tr>\n",
       "      <th>8623</th>\n",
       "      <td>히로세 아리스</td>\n",
       "    </tr>\n",
       "    <tr>\n",
       "      <th>8624</th>\n",
       "      <td>히스</td>\n",
       "    </tr>\n",
       "    <tr>\n",
       "      <th>8625</th>\n",
       "      <td>히스토리</td>\n",
       "    </tr>\n",
       "    <tr>\n",
       "      <th>8626</th>\n",
       "      <td>히쵸</td>\n",
       "    </tr>\n",
       "    <tr>\n",
       "      <th>8627</th>\n",
       "      <td>히토미</td>\n",
       "    </tr>\n",
       "  </tbody>\n",
       "</table>\n",
       "<p>8628 rows × 1 columns</p>\n",
       "</div>"
      ],
      "text/plain": [
       "         name\n",
       "0        10cm\n",
       "1         15&\n",
       "2         2AM\n",
       "3          2F\n",
       "4        2NE1\n",
       "...       ...\n",
       "8623  히로세 아리스\n",
       "8624       히스\n",
       "8625     히스토리\n",
       "8626       히쵸\n",
       "8627      히토미\n",
       "\n",
       "[8628 rows x 1 columns]"
      ]
     },
     "execution_count": 109,
     "metadata": {},
     "output_type": "execute_result"
    }
   ],
   "source": [
    "names"
   ]
  },
  {
   "cell_type": "code",
   "execution_count": 110,
   "id": "77798ddc",
   "metadata": {
    "scrolled": true
   },
   "outputs": [
    {
     "data": {
      "text/html": [
       "<div>\n",
       "<style scoped>\n",
       "    .dataframe tbody tr th:only-of-type {\n",
       "        vertical-align: middle;\n",
       "    }\n",
       "\n",
       "    .dataframe tbody tr th {\n",
       "        vertical-align: top;\n",
       "    }\n",
       "\n",
       "    .dataframe thead th {\n",
       "        text-align: right;\n",
       "    }\n",
       "</style>\n",
       "<table border=\"1\" class=\"dataframe\">\n",
       "  <thead>\n",
       "    <tr style=\"text-align: right;\">\n",
       "      <th></th>\n",
       "      <th>caption</th>\n",
       "      <th>head</th>\n",
       "      <th>name</th>\n",
       "    </tr>\n",
       "  </thead>\n",
       "  <tbody>\n",
       "    <tr>\n",
       "      <th>0</th>\n",
       "      <td>홍길동 '반하게 만드는 미남'</td>\n",
       "      <td>AAA</td>\n",
       "      <td>AAA0.jpg</td>\n",
       "    </tr>\n",
       "    <tr>\n",
       "      <th>1</th>\n",
       "      <td>홍길동 '조각미남'</td>\n",
       "      <td>AAA</td>\n",
       "      <td>AAA1.jpg</td>\n",
       "    </tr>\n",
       "    <tr>\n",
       "      <th>2</th>\n",
       "      <td>홍길동 '눈부신 미모'</td>\n",
       "      <td>AAA</td>\n",
       "      <td>AAA2.jpg</td>\n",
       "    </tr>\n",
       "    <tr>\n",
       "      <th>3</th>\n",
       "      <td>홍길동 '여전히 예쁜 미모'</td>\n",
       "      <td>AAA</td>\n",
       "      <td>AAA3.jpg</td>\n",
       "    </tr>\n",
       "    <tr>\n",
       "      <th>4</th>\n",
       "      <td>홍길동 '히어로 상 받았어요'</td>\n",
       "      <td>AAA</td>\n",
       "      <td>AAA4.jpg</td>\n",
       "    </tr>\n",
       "  </tbody>\n",
       "</table>\n",
       "</div>"
      ],
      "text/plain": [
       "            caption head      name\n",
       "0  홍길동 '반하게 만드는 미남'  AAA  AAA0.jpg\n",
       "1        홍길동 '조각미남'  AAA  AAA1.jpg\n",
       "2      홍길동 '눈부신 미모'  AAA  AAA2.jpg\n",
       "3   홍길동 '여전히 예쁜 미모'  AAA  AAA3.jpg\n",
       "4  홍길동 '히어로 상 받았어요'  AAA  AAA4.jpg"
      ]
     },
     "execution_count": 110,
     "metadata": {},
     "output_type": "execute_result"
    }
   ],
   "source": [
    "new_captions = naming.replace_names(captions, names)\n",
    "new_captions.head()"
   ]
  },
  {
   "cell_type": "code",
   "execution_count": 111,
   "id": "5fd20a76",
   "metadata": {},
   "outputs": [
    {
     "data": {
      "text/html": [
       "<div>\n",
       "<style scoped>\n",
       "    .dataframe tbody tr th:only-of-type {\n",
       "        vertical-align: middle;\n",
       "    }\n",
       "\n",
       "    .dataframe tbody tr th {\n",
       "        vertical-align: top;\n",
       "    }\n",
       "\n",
       "    .dataframe thead th {\n",
       "        text-align: right;\n",
       "    }\n",
       "</style>\n",
       "<table border=\"1\" class=\"dataframe\">\n",
       "  <thead>\n",
       "    <tr style=\"text-align: right;\">\n",
       "      <th></th>\n",
       "      <th>caption</th>\n",
       "      <th>head</th>\n",
       "      <th>name</th>\n",
       "    </tr>\n",
       "  </thead>\n",
       "  <tbody>\n",
       "    <tr>\n",
       "      <th>105000</th>\n",
       "      <td>마마무 솔라-휘인, '빛나는 각선미'</td>\n",
       "      <td>sbs_gayo</td>\n",
       "      <td>sbs_gayo4146.jpg</td>\n",
       "    </tr>\n",
       "    <tr>\n",
       "      <th>105001</th>\n",
       "      <td>휘인-화사 `우리와 함께 춤을`</td>\n",
       "      <td>sbs_gayo</td>\n",
       "      <td>sbs_gayo4147.jpg</td>\n",
       "    </tr>\n",
       "    <tr>\n",
       "      <th>105002</th>\n",
       "      <td>에이핑크, '섹시미가 흐르네'</td>\n",
       "      <td>sbs_gayo</td>\n",
       "      <td>sbs_gayo4148.jpg</td>\n",
       "    </tr>\n",
       "    <tr>\n",
       "      <th>105003</th>\n",
       "      <td>매력적인 아이콘</td>\n",
       "      <td>sbs_gayo</td>\n",
       "      <td>sbs_gayo4149.jpg</td>\n",
       "    </tr>\n",
       "    <tr>\n",
       "      <th>105004</th>\n",
       "      <td>방탄소년단 지민, '부드러운 눈빛 카리스마~'</td>\n",
       "      <td>sbs_gayo</td>\n",
       "      <td>sbs_gayo4150.jpg</td>\n",
       "    </tr>\n",
       "    <tr>\n",
       "      <th>105005</th>\n",
       "      <td>레드벨벳 아이린,'여신 입장'</td>\n",
       "      <td>sbs_gayo</td>\n",
       "      <td>sbs_gayo4151.jpg</td>\n",
       "    </tr>\n",
       "    <tr>\n",
       "      <th>105006</th>\n",
       "      <td>갓세븐 잭슨-뱀뱀, '이런 포즈는 어때요'</td>\n",
       "      <td>sbs_gayo</td>\n",
       "      <td>sbs_gayo4152.jpg</td>\n",
       "    </tr>\n",
       "    <tr>\n",
       "      <th>105007</th>\n",
       "      <td>마마무 화사,'블랙으로 강렬하게'</td>\n",
       "      <td>sbs_gayo</td>\n",
       "      <td>sbs_gayo4153.jpg</td>\n",
       "    </tr>\n",
       "    <tr>\n",
       "      <th>105008</th>\n",
       "      <td>신비 `반가워요`</td>\n",
       "      <td>sbs_gayo</td>\n",
       "      <td>sbs_gayo4154.jpg</td>\n",
       "    </tr>\n",
       "    <tr>\n",
       "      <th>105009</th>\n",
       "      <td>방탄소년단 지민 '많은 사랑 감사해요'</td>\n",
       "      <td>sbs_gayo</td>\n",
       "      <td>sbs_gayo4155.jpg</td>\n",
       "    </tr>\n",
       "    <tr>\n",
       "      <th>105010</th>\n",
       "      <td>엑소 디오 '지금 나만 불편한가'</td>\n",
       "      <td>sbs_gayo</td>\n",
       "      <td>sbs_gayo4156.jpg</td>\n",
       "    </tr>\n",
       "    <tr>\n",
       "      <th>105011</th>\n",
       "      <td>웨이브 타는 세븐틴</td>\n",
       "      <td>sbs_gayo</td>\n",
       "      <td>sbs_gayo4157.jpg</td>\n",
       "    </tr>\n",
       "    <tr>\n",
       "      <th>105012</th>\n",
       "      <td>웨이브에 신난 세븐틴</td>\n",
       "      <td>sbs_gayo</td>\n",
       "      <td>sbs_gayo4158.jpg</td>\n",
       "    </tr>\n",
       "    <tr>\n",
       "      <th>105013</th>\n",
       "      <td>방탄소년단 RM '훈내 폴폴'</td>\n",
       "      <td>sbs_gayo</td>\n",
       "      <td>sbs_gayo4159.jpg</td>\n",
       "    </tr>\n",
       "    <tr>\n",
       "      <th>105014</th>\n",
       "      <td>여자친구 예린 `SBS 가요대전에서 만나요`</td>\n",
       "      <td>sbs_gayo</td>\n",
       "      <td>sbs_gayo4160.jpg</td>\n",
       "    </tr>\n",
       "    <tr>\n",
       "      <th>105015</th>\n",
       "      <td>선미, '남심 저격'</td>\n",
       "      <td>sbs_gayo</td>\n",
       "      <td>sbs_gayo4161.jpg</td>\n",
       "    </tr>\n",
       "    <tr>\n",
       "      <th>105016</th>\n",
       "      <td>엑소 디오, '배우 도경수에서 오늘은 가수로'</td>\n",
       "      <td>sbs_gayo</td>\n",
       "      <td>sbs_gayo4162.jpg</td>\n",
       "    </tr>\n",
       "    <tr>\n",
       "      <th>105017</th>\n",
       "      <td>트와이스 채영 하이포즈에 ‘빵터진 트퉁이들~’</td>\n",
       "      <td>sbs_gayo</td>\n",
       "      <td>sbs_gayo4163.jpg</td>\n",
       "    </tr>\n",
       "    <tr>\n",
       "      <th>105018</th>\n",
       "      <td>배진영 '작은 얼굴에 꽉찬 잘생김'</td>\n",
       "      <td>sbs_gayo</td>\n",
       "      <td>sbs_gayo4164.jpg</td>\n",
       "    </tr>\n",
       "    <tr>\n",
       "      <th>105019</th>\n",
       "      <td>방탄소년단 진, 꽃보다 아름다운 남자</td>\n",
       "      <td>sbs_gayo</td>\n",
       "      <td>sbs_gayo4165.jpg</td>\n",
       "    </tr>\n",
       "  </tbody>\n",
       "</table>\n",
       "</div>"
      ],
      "text/plain": [
       "                          caption      head              name\n",
       "105000       마마무 솔라-휘인, '빛나는 각선미'  sbs_gayo  sbs_gayo4146.jpg\n",
       "105001          휘인-화사 `우리와 함께 춤을`  sbs_gayo  sbs_gayo4147.jpg\n",
       "105002           에이핑크, '섹시미가 흐르네'  sbs_gayo  sbs_gayo4148.jpg\n",
       "105003                   매력적인 아이콘  sbs_gayo  sbs_gayo4149.jpg\n",
       "105004  방탄소년단 지민, '부드러운 눈빛 카리스마~'  sbs_gayo  sbs_gayo4150.jpg\n",
       "105005           레드벨벳 아이린,'여신 입장'  sbs_gayo  sbs_gayo4151.jpg\n",
       "105006    갓세븐 잭슨-뱀뱀, '이런 포즈는 어때요'  sbs_gayo  sbs_gayo4152.jpg\n",
       "105007         마마무 화사,'블랙으로 강렬하게'  sbs_gayo  sbs_gayo4153.jpg\n",
       "105008                  신비 `반가워요`  sbs_gayo  sbs_gayo4154.jpg\n",
       "105009      방탄소년단 지민 '많은 사랑 감사해요'  sbs_gayo  sbs_gayo4155.jpg\n",
       "105010         엑소 디오 '지금 나만 불편한가'  sbs_gayo  sbs_gayo4156.jpg\n",
       "105011                 웨이브 타는 세븐틴  sbs_gayo  sbs_gayo4157.jpg\n",
       "105012                웨이브에 신난 세븐틴  sbs_gayo  sbs_gayo4158.jpg\n",
       "105013           방탄소년단 RM '훈내 폴폴'  sbs_gayo  sbs_gayo4159.jpg\n",
       "105014   여자친구 예린 `SBS 가요대전에서 만나요`  sbs_gayo  sbs_gayo4160.jpg\n",
       "105015                선미, '남심 저격'  sbs_gayo  sbs_gayo4161.jpg\n",
       "105016  엑소 디오, '배우 도경수에서 오늘은 가수로'  sbs_gayo  sbs_gayo4162.jpg\n",
       "105017  트와이스 채영 하이포즈에 ‘빵터진 트퉁이들~’  sbs_gayo  sbs_gayo4163.jpg\n",
       "105018        배진영 '작은 얼굴에 꽉찬 잘생김'  sbs_gayo  sbs_gayo4164.jpg\n",
       "105019       방탄소년단 진, 꽃보다 아름다운 남자  sbs_gayo  sbs_gayo4165.jpg"
      ]
     },
     "execution_count": 111,
     "metadata": {},
     "output_type": "execute_result"
    }
   ],
   "source": [
    "test_num = 105000\n",
    "captions[test_num:test_num+20]"
   ]
  },
  {
   "cell_type": "code",
   "execution_count": 112,
   "id": "d8d7543b",
   "metadata": {
    "scrolled": false
   },
   "outputs": [
    {
     "data": {
      "text/html": [
       "<div>\n",
       "<style scoped>\n",
       "    .dataframe tbody tr th:only-of-type {\n",
       "        vertical-align: middle;\n",
       "    }\n",
       "\n",
       "    .dataframe tbody tr th {\n",
       "        vertical-align: top;\n",
       "    }\n",
       "\n",
       "    .dataframe thead th {\n",
       "        text-align: right;\n",
       "    }\n",
       "</style>\n",
       "<table border=\"1\" class=\"dataframe\">\n",
       "  <thead>\n",
       "    <tr style=\"text-align: right;\">\n",
       "      <th></th>\n",
       "      <th>caption</th>\n",
       "      <th>head</th>\n",
       "      <th>name</th>\n",
       "    </tr>\n",
       "  </thead>\n",
       "  <tbody>\n",
       "    <tr>\n",
       "      <th>105000</th>\n",
       "      <td>홍길동 홍길동-홍길동, '빛나는 각선미'</td>\n",
       "      <td>sbs_gayo</td>\n",
       "      <td>sbs_gayo4146.jpg</td>\n",
       "    </tr>\n",
       "    <tr>\n",
       "      <th>105001</th>\n",
       "      <td>홍길동-화사 `우리와 함께 춤을`</td>\n",
       "      <td>sbs_gayo</td>\n",
       "      <td>sbs_gayo4147.jpg</td>\n",
       "    </tr>\n",
       "    <tr>\n",
       "      <th>105002</th>\n",
       "      <td>홍길동, '섹시미가 흐르네'</td>\n",
       "      <td>sbs_gayo</td>\n",
       "      <td>sbs_gayo4148.jpg</td>\n",
       "    </tr>\n",
       "    <tr>\n",
       "      <th>105003</th>\n",
       "      <td>매력적인 홍길동</td>\n",
       "      <td>sbs_gayo</td>\n",
       "      <td>sbs_gayo4149.jpg</td>\n",
       "    </tr>\n",
       "    <tr>\n",
       "      <th>105004</th>\n",
       "      <td>홍길동 홍길동, '부드러운 눈빛 카리스마~'</td>\n",
       "      <td>sbs_gayo</td>\n",
       "      <td>sbs_gayo4150.jpg</td>\n",
       "    </tr>\n",
       "    <tr>\n",
       "      <th>105005</th>\n",
       "      <td>홍길동 홍길동,'여신 입장'</td>\n",
       "      <td>sbs_gayo</td>\n",
       "      <td>sbs_gayo4151.jpg</td>\n",
       "    </tr>\n",
       "    <tr>\n",
       "      <th>105006</th>\n",
       "      <td>홍길동 홍길동-홍길동, '이런 포즈는 어때요'</td>\n",
       "      <td>sbs_gayo</td>\n",
       "      <td>sbs_gayo4152.jpg</td>\n",
       "    </tr>\n",
       "    <tr>\n",
       "      <th>105007</th>\n",
       "      <td>홍길동 화사,'블랙으로 강렬하게'</td>\n",
       "      <td>sbs_gayo</td>\n",
       "      <td>sbs_gayo4153.jpg</td>\n",
       "    </tr>\n",
       "    <tr>\n",
       "      <th>105008</th>\n",
       "      <td>신비 `반가워요`</td>\n",
       "      <td>sbs_gayo</td>\n",
       "      <td>sbs_gayo4154.jpg</td>\n",
       "    </tr>\n",
       "    <tr>\n",
       "      <th>105009</th>\n",
       "      <td>홍길동 홍길동 '많은 사랑 감사해요'</td>\n",
       "      <td>sbs_gayo</td>\n",
       "      <td>sbs_gayo4155.jpg</td>\n",
       "    </tr>\n",
       "    <tr>\n",
       "      <th>105010</th>\n",
       "      <td>홍길동 디오 '지금 나만 불편한가'</td>\n",
       "      <td>sbs_gayo</td>\n",
       "      <td>sbs_gayo4156.jpg</td>\n",
       "    </tr>\n",
       "    <tr>\n",
       "      <th>105011</th>\n",
       "      <td>홍길동브 타는 홍길동</td>\n",
       "      <td>sbs_gayo</td>\n",
       "      <td>sbs_gayo4157.jpg</td>\n",
       "    </tr>\n",
       "    <tr>\n",
       "      <th>105012</th>\n",
       "      <td>홍길동브에 신난 홍길동</td>\n",
       "      <td>sbs_gayo</td>\n",
       "      <td>sbs_gayo4158.jpg</td>\n",
       "    </tr>\n",
       "    <tr>\n",
       "      <th>105013</th>\n",
       "      <td>홍길동 RM '훈내 폴폴'</td>\n",
       "      <td>sbs_gayo</td>\n",
       "      <td>sbs_gayo4159.jpg</td>\n",
       "    </tr>\n",
       "    <tr>\n",
       "      <th>105014</th>\n",
       "      <td>홍길동 홍길동 `SBS 가요대전에서 만나요`</td>\n",
       "      <td>sbs_gayo</td>\n",
       "      <td>sbs_gayo4160.jpg</td>\n",
       "    </tr>\n",
       "    <tr>\n",
       "      <th>105015</th>\n",
       "      <td>선미, '남심 저격'</td>\n",
       "      <td>sbs_gayo</td>\n",
       "      <td>sbs_gayo4161.jpg</td>\n",
       "    </tr>\n",
       "    <tr>\n",
       "      <th>105016</th>\n",
       "      <td>홍길동 디오, '배우 홍길동에서 오늘은 가수로'</td>\n",
       "      <td>sbs_gayo</td>\n",
       "      <td>sbs_gayo4162.jpg</td>\n",
       "    </tr>\n",
       "    <tr>\n",
       "      <th>105017</th>\n",
       "      <td>홍길동 홍길동 하이포즈에 ‘빵터진 트퉁이들~’</td>\n",
       "      <td>sbs_gayo</td>\n",
       "      <td>sbs_gayo4163.jpg</td>\n",
       "    </tr>\n",
       "    <tr>\n",
       "      <th>105018</th>\n",
       "      <td>홍길동 '작은 얼굴에 꽉찬 잘생김'</td>\n",
       "      <td>sbs_gayo</td>\n",
       "      <td>sbs_gayo4164.jpg</td>\n",
       "    </tr>\n",
       "    <tr>\n",
       "      <th>105019</th>\n",
       "      <td>홍길동 진, 꽃보다 아름다운 남자</td>\n",
       "      <td>sbs_gayo</td>\n",
       "      <td>sbs_gayo4165.jpg</td>\n",
       "    </tr>\n",
       "  </tbody>\n",
       "</table>\n",
       "</div>"
      ],
      "text/plain": [
       "                           caption      head              name\n",
       "105000      홍길동 홍길동-홍길동, '빛나는 각선미'  sbs_gayo  sbs_gayo4146.jpg\n",
       "105001          홍길동-화사 `우리와 함께 춤을`  sbs_gayo  sbs_gayo4147.jpg\n",
       "105002             홍길동, '섹시미가 흐르네'  sbs_gayo  sbs_gayo4148.jpg\n",
       "105003                    매력적인 홍길동  sbs_gayo  sbs_gayo4149.jpg\n",
       "105004    홍길동 홍길동, '부드러운 눈빛 카리스마~'  sbs_gayo  sbs_gayo4150.jpg\n",
       "105005             홍길동 홍길동,'여신 입장'  sbs_gayo  sbs_gayo4151.jpg\n",
       "105006   홍길동 홍길동-홍길동, '이런 포즈는 어때요'  sbs_gayo  sbs_gayo4152.jpg\n",
       "105007          홍길동 화사,'블랙으로 강렬하게'  sbs_gayo  sbs_gayo4153.jpg\n",
       "105008                   신비 `반가워요`  sbs_gayo  sbs_gayo4154.jpg\n",
       "105009        홍길동 홍길동 '많은 사랑 감사해요'  sbs_gayo  sbs_gayo4155.jpg\n",
       "105010         홍길동 디오 '지금 나만 불편한가'  sbs_gayo  sbs_gayo4156.jpg\n",
       "105011                 홍길동브 타는 홍길동  sbs_gayo  sbs_gayo4157.jpg\n",
       "105012                홍길동브에 신난 홍길동  sbs_gayo  sbs_gayo4158.jpg\n",
       "105013              홍길동 RM '훈내 폴폴'  sbs_gayo  sbs_gayo4159.jpg\n",
       "105014    홍길동 홍길동 `SBS 가요대전에서 만나요`  sbs_gayo  sbs_gayo4160.jpg\n",
       "105015                 선미, '남심 저격'  sbs_gayo  sbs_gayo4161.jpg\n",
       "105016  홍길동 디오, '배우 홍길동에서 오늘은 가수로'  sbs_gayo  sbs_gayo4162.jpg\n",
       "105017   홍길동 홍길동 하이포즈에 ‘빵터진 트퉁이들~’  sbs_gayo  sbs_gayo4163.jpg\n",
       "105018         홍길동 '작은 얼굴에 꽉찬 잘생김'  sbs_gayo  sbs_gayo4164.jpg\n",
       "105019          홍길동 진, 꽃보다 아름다운 남자  sbs_gayo  sbs_gayo4165.jpg"
      ]
     },
     "execution_count": 112,
     "metadata": {},
     "output_type": "execute_result"
    }
   ],
   "source": [
    "new_captions[test_num:test_num+20]"
   ]
  },
  {
   "cell_type": "code",
   "execution_count": 113,
   "id": "2df87040",
   "metadata": {},
   "outputs": [],
   "source": [
    "new_captions.to_csv('captions.csv', index=False)"
   ]
  },
  {
   "cell_type": "markdown",
   "id": "e72f9ca4",
   "metadata": {},
   "source": [
    "## Tokenization"
   ]
  },
  {
   "cell_type": "code",
   "execution_count": 41,
   "id": "35be0d03",
   "metadata": {},
   "outputs": [],
   "source": [
    "from datasets import dataset\n",
    "test = dataset.CelebDataset('datasets/debug/captions.csv','datasets/debug/img', dic_path='C:/mecab/mecab-ko-dic')"
   ]
  },
  {
   "cell_type": "code",
   "execution_count": 44,
   "id": "4e055374",
   "metadata": {},
   "outputs": [
    {
     "data": {
      "text/plain": [
       "(<PIL.JpegImagePlugin.JpegImageFile image mode=RGB size=318x489 at 0x1E93FF06A90>,\n",
       " tensor([2., 0., 0., 9., 0., 0., 1., 1., 1., 1., 1., 1., 1., 1., 1., 1., 1., 1.,\n",
       "         1., 1.]))"
      ]
     },
     "execution_count": 44,
     "metadata": {},
     "output_type": "execute_result"
    }
   ],
   "source": [
    "test[0]"
   ]
  },
  {
   "cell_type": "code",
   "execution_count": 9,
   "id": "3603200a",
   "metadata": {},
   "outputs": [],
   "source": [
    "import pickle\n",
    "with open('captions_tokenized.pkl', 'rb') as f:\n",
    "    caption_df = pickle.load(f)"
   ]
  },
  {
   "cell_type": "code",
   "execution_count": 12,
   "id": "66d75a63",
   "metadata": {},
   "outputs": [
    {
     "data": {
      "text/html": [
       "<div>\n",
       "<style scoped>\n",
       "    .dataframe tbody tr th:only-of-type {\n",
       "        vertical-align: middle;\n",
       "    }\n",
       "\n",
       "    .dataframe tbody tr th {\n",
       "        vertical-align: top;\n",
       "    }\n",
       "\n",
       "    .dataframe thead th {\n",
       "        text-align: right;\n",
       "    }\n",
       "</style>\n",
       "<table border=\"1\" class=\"dataframe\">\n",
       "  <thead>\n",
       "    <tr style=\"text-align: right;\">\n",
       "      <th></th>\n",
       "      <th>caption</th>\n",
       "      <th>head</th>\n",
       "      <th>name</th>\n",
       "      <th>tokenized_captions</th>\n",
       "    </tr>\n",
       "  </thead>\n",
       "  <tbody>\n",
       "    <tr>\n",
       "      <th>0</th>\n",
       "      <td>홍길동 '반하게 만드는 미남'</td>\n",
       "      <td>AAA</td>\n",
       "      <td>AAA0.jpg</td>\n",
       "      <td>[홍길동, ', 반, 하, 게, 만드, 는, 미남, ', &lt;EOS&gt;]</td>\n",
       "    </tr>\n",
       "    <tr>\n",
       "      <th>1</th>\n",
       "      <td>홍길동 '조각미남'</td>\n",
       "      <td>AAA</td>\n",
       "      <td>AAA1.jpg</td>\n",
       "      <td>[홍길동, ', 조각, 미남, ', &lt;EOS&gt;]</td>\n",
       "    </tr>\n",
       "    <tr>\n",
       "      <th>2</th>\n",
       "      <td>홍길동 '눈부신 미모'</td>\n",
       "      <td>AAA</td>\n",
       "      <td>AAA2.jpg</td>\n",
       "      <td>[홍길동, ', 눈부신, 미모, ', &lt;EOS&gt;]</td>\n",
       "    </tr>\n",
       "    <tr>\n",
       "      <th>3</th>\n",
       "      <td>홍길동 '여전히 예쁜 미모'</td>\n",
       "      <td>AAA</td>\n",
       "      <td>AAA3.jpg</td>\n",
       "      <td>[홍길동, ', 여전히, 예쁜, 미모, ', &lt;EOS&gt;]</td>\n",
       "    </tr>\n",
       "    <tr>\n",
       "      <th>4</th>\n",
       "      <td>홍길동 '히어로 상 받았어요'</td>\n",
       "      <td>AAA</td>\n",
       "      <td>AAA4.jpg</td>\n",
       "      <td>[홍길동, ', 히어로, 상, 받, 았, 어요, ', &lt;EOS&gt;]</td>\n",
       "    </tr>\n",
       "    <tr>\n",
       "      <th>...</th>\n",
       "      <td>...</td>\n",
       "      <td>...</td>\n",
       "      <td>...</td>\n",
       "      <td>...</td>\n",
       "    </tr>\n",
       "    <tr>\n",
       "      <th>184587</th>\n",
       "      <td>홍길동 홍길동, '하트 받으세요'</td>\n",
       "      <td>way_to_work</td>\n",
       "      <td>way_to_work715.jpg</td>\n",
       "      <td>[홍길동, 홍길동, ,, ', 하트, 받, 으세요, ', &lt;EOS&gt;]</td>\n",
       "    </tr>\n",
       "    <tr>\n",
       "      <th>184588</th>\n",
       "      <td>홍길동 홍길동 '따스한 커피와 함께한 출근길'</td>\n",
       "      <td>way_to_work</td>\n",
       "      <td>way_to_work716.jpg</td>\n",
       "      <td>[홍길동, 홍길동, ', 따스, 한, 커피, 와, 함께, 한, 출근길, ', &lt;EOS&gt;]</td>\n",
       "    </tr>\n",
       "    <tr>\n",
       "      <th>184589</th>\n",
       "      <td>홍길동 홍길동 '팬들에게 반가운 손인사'</td>\n",
       "      <td>way_to_work</td>\n",
       "      <td>way_to_work717.jpg</td>\n",
       "      <td>[홍길동, 홍길동, ', 팬, 들, 에게, 반가운, 손, 인사, ', &lt;EOS&gt;]</td>\n",
       "    </tr>\n",
       "    <tr>\n",
       "      <th>184590</th>\n",
       "      <td>홍길동 홍길동 '유스케 녹화 잘하고 올께요'</td>\n",
       "      <td>way_to_work</td>\n",
       "      <td>way_to_work718.jpg</td>\n",
       "      <td>[홍길동, 홍길동, ', 유스케, 녹화, 잘, 하, 고, 올께요, ', &lt;EOS&gt;]</td>\n",
       "    </tr>\n",
       "    <tr>\n",
       "      <th>184591</th>\n",
       "      <td>홍길동 '취재진과 마주친 출근길'</td>\n",
       "      <td>way_to_work</td>\n",
       "      <td>way_to_work719.jpg</td>\n",
       "      <td>[홍길동, ', 취재진, 과, 마주친, 출근길, ', &lt;EOS&gt;]</td>\n",
       "    </tr>\n",
       "  </tbody>\n",
       "</table>\n",
       "<p>184592 rows × 4 columns</p>\n",
       "</div>"
      ],
      "text/plain": [
       "                          caption         head                name  \\\n",
       "0                홍길동 '반하게 만드는 미남'          AAA            AAA0.jpg   \n",
       "1                      홍길동 '조각미남'          AAA            AAA1.jpg   \n",
       "2                    홍길동 '눈부신 미모'          AAA            AAA2.jpg   \n",
       "3                 홍길동 '여전히 예쁜 미모'          AAA            AAA3.jpg   \n",
       "4                홍길동 '히어로 상 받았어요'          AAA            AAA4.jpg   \n",
       "...                           ...          ...                 ...   \n",
       "184587         홍길동 홍길동, '하트 받으세요'  way_to_work  way_to_work715.jpg   \n",
       "184588  홍길동 홍길동 '따스한 커피와 함께한 출근길'  way_to_work  way_to_work716.jpg   \n",
       "184589     홍길동 홍길동 '팬들에게 반가운 손인사'  way_to_work  way_to_work717.jpg   \n",
       "184590   홍길동 홍길동 '유스케 녹화 잘하고 올께요'  way_to_work  way_to_work718.jpg   \n",
       "184591         홍길동 '취재진과 마주친 출근길'  way_to_work  way_to_work719.jpg   \n",
       "\n",
       "                                       tokenized_captions  \n",
       "0                  [홍길동, ', 반, 하, 게, 만드, 는, 미남, ', <EOS>]  \n",
       "1                              [홍길동, ', 조각, 미남, ', <EOS>]  \n",
       "2                             [홍길동, ', 눈부신, 미모, ', <EOS>]  \n",
       "3                         [홍길동, ', 여전히, 예쁜, 미모, ', <EOS>]  \n",
       "4                    [홍길동, ', 히어로, 상, 받, 았, 어요, ', <EOS>]  \n",
       "...                                                   ...  \n",
       "184587             [홍길동, 홍길동, ,, ', 하트, 받, 으세요, ', <EOS>]  \n",
       "184588  [홍길동, 홍길동, ', 따스, 한, 커피, 와, 함께, 한, 출근길, ', <EOS>]  \n",
       "184589      [홍길동, 홍길동, ', 팬, 들, 에게, 반가운, 손, 인사, ', <EOS>]  \n",
       "184590     [홍길동, 홍길동, ', 유스케, 녹화, 잘, 하, 고, 올께요, ', <EOS>]  \n",
       "184591               [홍길동, ', 취재진, 과, 마주친, 출근길, ', <EOS>]  \n",
       "\n",
       "[184592 rows x 4 columns]"
      ]
     },
     "execution_count": 12,
     "metadata": {},
     "output_type": "execute_result"
    }
   ],
   "source": [
    "caption_df"
   ]
  },
  {
   "cell_type": "code",
   "execution_count": 15,
   "id": "63eb2bfe",
   "metadata": {},
   "outputs": [],
   "source": [
    "sentences = caption_df['tokenized_captions'].values"
   ]
  },
  {
   "cell_type": "code",
   "execution_count": 20,
   "id": "6d2e445b",
   "metadata": {},
   "outputs": [],
   "source": [
    "T = embedding.embedding_caption(sentences, method='fast')"
   ]
  },
  {
   "cell_type": "code",
   "execution_count": 21,
   "id": "63086aea",
   "metadata": {},
   "outputs": [
    {
     "data": {
      "text/plain": [
       "tensor([[-0.0288, -0.3158, -0.1825,  ..., -0.0867, -0.2079, -0.3476],\n",
       "        [ 0.0779, -0.4987, -0.4913,  ...,  0.4957, -0.0726, -0.1195],\n",
       "        [-0.0143, -0.1079, -0.1112,  ..., -0.0009, -0.1007, -0.0238],\n",
       "        ...,\n",
       "        [-0.0552, -0.0307, -0.0274,  ..., -0.0093, -0.0324, -0.0488],\n",
       "        [-0.0415, -0.0706,  0.0026,  ..., -0.0322, -0.0211, -0.0630],\n",
       "        [-0.0227, -0.0271, -0.0139,  ..., -0.0132, -0.0306, -0.0264]])"
      ]
     },
     "execution_count": 21,
     "metadata": {},
     "output_type": "execute_result"
    }
   ],
   "source": [
    "T.return_vectors()"
   ]
  },
  {
   "cell_type": "code",
   "execution_count": 1,
   "id": "05387f14",
   "metadata": {
    "scrolled": true
   },
   "outputs": [
    {
     "name": "stdout",
     "output_type": "stream",
     "text": [
      "Python 3.8.12\n"
     ]
    }
   ],
   "source": [
    "!python --version"
   ]
  },
  {
   "cell_type": "code",
   "execution_count": 9,
   "id": "18d54f60",
   "metadata": {
    "scrolled": true
   },
   "outputs": [
    {
     "data": {
      "text/html": [
       "<div>\n",
       "<style scoped>\n",
       "    .dataframe tbody tr th:only-of-type {\n",
       "        vertical-align: middle;\n",
       "    }\n",
       "\n",
       "    .dataframe tbody tr th {\n",
       "        vertical-align: top;\n",
       "    }\n",
       "\n",
       "    .dataframe thead th {\n",
       "        text-align: right;\n",
       "    }\n",
       "</style>\n",
       "<table border=\"1\" class=\"dataframe\">\n",
       "  <thead>\n",
       "    <tr style=\"text-align: right;\">\n",
       "      <th></th>\n",
       "      <th>caption</th>\n",
       "      <th>head</th>\n",
       "      <th>name</th>\n",
       "    </tr>\n",
       "  </thead>\n",
       "  <tbody>\n",
       "    <tr>\n",
       "      <th>0</th>\n",
       "      <td>홍길동 '반하게 만드는 미남'</td>\n",
       "      <td>AAA</td>\n",
       "      <td>AAA0.jpg</td>\n",
       "    </tr>\n",
       "    <tr>\n",
       "      <th>1</th>\n",
       "      <td>홍길동 '조각미남'</td>\n",
       "      <td>AAA</td>\n",
       "      <td>AAA1.jpg</td>\n",
       "    </tr>\n",
       "    <tr>\n",
       "      <th>2</th>\n",
       "      <td>홍길동 '눈부신 미모'</td>\n",
       "      <td>AAA</td>\n",
       "      <td>AAA2.jpg</td>\n",
       "    </tr>\n",
       "    <tr>\n",
       "      <th>3</th>\n",
       "      <td>홍길동 '여전히 예쁜 미모'</td>\n",
       "      <td>AAA</td>\n",
       "      <td>AAA3.jpg</td>\n",
       "    </tr>\n",
       "    <tr>\n",
       "      <th>4</th>\n",
       "      <td>홍길동 '히어로 상 받았어요'</td>\n",
       "      <td>AAA</td>\n",
       "      <td>AAA4.jpg</td>\n",
       "    </tr>\n",
       "  </tbody>\n",
       "</table>\n",
       "</div>"
      ],
      "text/plain": [
       "            caption head      name\n",
       "0  홍길동 '반하게 만드는 미남'  AAA  AAA0.jpg\n",
       "1        홍길동 '조각미남'  AAA  AAA1.jpg\n",
       "2      홍길동 '눈부신 미모'  AAA  AAA2.jpg\n",
       "3   홍길동 '여전히 예쁜 미모'  AAA  AAA3.jpg\n",
       "4  홍길동 '히어로 상 받았어요'  AAA  AAA4.jpg"
      ]
     },
     "execution_count": 9,
     "metadata": {},
     "output_type": "execute_result"
    }
   ],
   "source": [
    "import pandas as pd\n",
    "\n",
    "captions = pd.read_csv('captions.csv')\n",
    "captions.head()"
   ]
  },
  {
   "cell_type": "markdown",
   "id": "899c5a9d",
   "metadata": {},
   "source": [
    "### from_bottom"
   ]
  },
  {
   "cell_type": "markdown",
   "id": "48564eec",
   "metadata": {},
   "source": [
    "#### tokenize"
   ]
  },
  {
   "cell_type": "code",
   "execution_count": 1,
   "id": "413f291b",
   "metadata": {},
   "outputs": [
    {
     "data": {
      "text/plain": [
       "['이성경', \"'\", '여전히', '예쁜', '미모', \"'\"]"
      ]
     },
     "execution_count": 1,
     "metadata": {},
     "output_type": "execute_result"
    }
   ],
   "source": [
    "from konlpy.tag import Mecab\n",
    "\n",
    "mecab = Mecab(dicpath=r\"C:/mecab/mecab-ko-dic\")\n",
    "\n",
    "mecab.morphs(u\"이성경 '여전히 예쁜 미모'\")"
   ]
  },
  {
   "cell_type": "code",
   "execution_count": 117,
   "id": "04682daa",
   "metadata": {},
   "outputs": [],
   "source": [
    "with open('stopwords.txt', 'r') as f:\n",
    "    stopwords = f.read().split()"
   ]
  },
  {
   "cell_type": "code",
   "execution_count": 118,
   "id": "66ee423f",
   "metadata": {},
   "outputs": [],
   "source": [
    "def tokn(tokenizer, sentence):\n",
    "    try:\n",
    "        tokens = tokenizer.morphs(sentence) # 토큰화\n",
    "        tokens = [word for word in tokens if not word in stopwords] # 불용어 제거\n",
    "        return tokens\n",
    "    except:\n",
    "        print(sentence)"
   ]
  },
  {
   "cell_type": "code",
   "execution_count": 119,
   "id": "de831b52",
   "metadata": {},
   "outputs": [
    {
     "data": {
      "text/html": [
       "<div>\n",
       "<style scoped>\n",
       "    .dataframe tbody tr th:only-of-type {\n",
       "        vertical-align: middle;\n",
       "    }\n",
       "\n",
       "    .dataframe tbody tr th {\n",
       "        vertical-align: top;\n",
       "    }\n",
       "\n",
       "    .dataframe thead th {\n",
       "        text-align: right;\n",
       "    }\n",
       "</style>\n",
       "<table border=\"1\" class=\"dataframe\">\n",
       "  <thead>\n",
       "    <tr style=\"text-align: right;\">\n",
       "      <th></th>\n",
       "      <th>caption</th>\n",
       "      <th>head</th>\n",
       "      <th>name</th>\n",
       "      <th>tokenized_captions</th>\n",
       "    </tr>\n",
       "  </thead>\n",
       "  <tbody>\n",
       "    <tr>\n",
       "      <th>0</th>\n",
       "      <td>홍길동 '반하게 만드는 미남'</td>\n",
       "      <td>AAA</td>\n",
       "      <td>AAA0.jpg</td>\n",
       "      <td>[홍길동, ', 반, 하, 게, 만드, 는, 미남, ']</td>\n",
       "    </tr>\n",
       "    <tr>\n",
       "      <th>1</th>\n",
       "      <td>홍길동 '조각미남'</td>\n",
       "      <td>AAA</td>\n",
       "      <td>AAA1.jpg</td>\n",
       "      <td>[홍길동, ', 조각, 미남, ']</td>\n",
       "    </tr>\n",
       "    <tr>\n",
       "      <th>2</th>\n",
       "      <td>홍길동 '눈부신 미모'</td>\n",
       "      <td>AAA</td>\n",
       "      <td>AAA2.jpg</td>\n",
       "      <td>[홍길동, ', 눈부신, 미모, ']</td>\n",
       "    </tr>\n",
       "    <tr>\n",
       "      <th>3</th>\n",
       "      <td>홍길동 '여전히 예쁜 미모'</td>\n",
       "      <td>AAA</td>\n",
       "      <td>AAA3.jpg</td>\n",
       "      <td>[홍길동, ', 여전히, 예쁜, 미모, ']</td>\n",
       "    </tr>\n",
       "    <tr>\n",
       "      <th>4</th>\n",
       "      <td>홍길동 '히어로 상 받았어요'</td>\n",
       "      <td>AAA</td>\n",
       "      <td>AAA4.jpg</td>\n",
       "      <td>[홍길동, ', 히어로, 상, 받, 았, 어요, ']</td>\n",
       "    </tr>\n",
       "  </tbody>\n",
       "</table>\n",
       "</div>"
      ],
      "text/plain": [
       "            caption head      name               tokenized_captions\n",
       "0  홍길동 '반하게 만드는 미남'  AAA  AAA0.jpg  [홍길동, ', 반, 하, 게, 만드, 는, 미남, ']\n",
       "1        홍길동 '조각미남'  AAA  AAA1.jpg              [홍길동, ', 조각, 미남, ']\n",
       "2      홍길동 '눈부신 미모'  AAA  AAA2.jpg             [홍길동, ', 눈부신, 미모, ']\n",
       "3   홍길동 '여전히 예쁜 미모'  AAA  AAA3.jpg         [홍길동, ', 여전히, 예쁜, 미모, ']\n",
       "4  홍길동 '히어로 상 받았어요'  AAA  AAA4.jpg    [홍길동, ', 히어로, 상, 받, 았, 어요, ']"
      ]
     },
     "execution_count": 119,
     "metadata": {},
     "output_type": "execute_result"
    }
   ],
   "source": [
    "new_captions = captions.copy()\n",
    "\n",
    "new_captions['tokenized_captions'] = new_captions['caption'].apply(lambda x: tokn(mecab, x))\n",
    "new_captions.head()"
   ]
  },
  {
   "cell_type": "code",
   "execution_count": 120,
   "id": "681cbd78",
   "metadata": {},
   "outputs": [],
   "source": [
    "import pickle\n",
    "with open('captions_tokenized.pkl', 'wb') as f:\n",
    "    pickle.dump(new_captions, f)"
   ]
  },
  {
   "cell_type": "markdown",
   "id": "2e7ddd2b",
   "metadata": {},
   "source": [
    "#### Add Subwords"
   ]
  },
  {
   "cell_type": "code",
   "execution_count": 4,
   "id": "a8110b56",
   "metadata": {},
   "outputs": [],
   "source": [
    "import pickle\n",
    "with open('captions_tokenized.pkl', 'rb') as f:\n",
    "    caption_df = pickle.load(f)"
   ]
  },
  {
   "cell_type": "code",
   "execution_count": 8,
   "id": "fef80834",
   "metadata": {},
   "outputs": [
    {
     "data": {
      "text/html": [
       "<div>\n",
       "<style scoped>\n",
       "    .dataframe tbody tr th:only-of-type {\n",
       "        vertical-align: middle;\n",
       "    }\n",
       "\n",
       "    .dataframe tbody tr th {\n",
       "        vertical-align: top;\n",
       "    }\n",
       "\n",
       "    .dataframe thead th {\n",
       "        text-align: right;\n",
       "    }\n",
       "</style>\n",
       "<table border=\"1\" class=\"dataframe\">\n",
       "  <thead>\n",
       "    <tr style=\"text-align: right;\">\n",
       "      <th></th>\n",
       "      <th>caption</th>\n",
       "      <th>head</th>\n",
       "      <th>name</th>\n",
       "      <th>tokenized_captions</th>\n",
       "    </tr>\n",
       "  </thead>\n",
       "  <tbody>\n",
       "    <tr>\n",
       "      <th>0</th>\n",
       "      <td>홍길동 '반하게 만드는 미남'</td>\n",
       "      <td>AAA</td>\n",
       "      <td>AAA0.jpg</td>\n",
       "      <td>[홍길동, ', 반, 하, 게, 만드, 는, 미남, ']</td>\n",
       "    </tr>\n",
       "    <tr>\n",
       "      <th>1</th>\n",
       "      <td>홍길동 '조각미남'</td>\n",
       "      <td>AAA</td>\n",
       "      <td>AAA1.jpg</td>\n",
       "      <td>[홍길동, ', 조각, 미남, ']</td>\n",
       "    </tr>\n",
       "    <tr>\n",
       "      <th>2</th>\n",
       "      <td>홍길동 '눈부신 미모'</td>\n",
       "      <td>AAA</td>\n",
       "      <td>AAA2.jpg</td>\n",
       "      <td>[홍길동, ', 눈부신, 미모, ']</td>\n",
       "    </tr>\n",
       "    <tr>\n",
       "      <th>3</th>\n",
       "      <td>홍길동 '여전히 예쁜 미모'</td>\n",
       "      <td>AAA</td>\n",
       "      <td>AAA3.jpg</td>\n",
       "      <td>[홍길동, ', 여전히, 예쁜, 미모, ']</td>\n",
       "    </tr>\n",
       "    <tr>\n",
       "      <th>4</th>\n",
       "      <td>홍길동 '히어로 상 받았어요'</td>\n",
       "      <td>AAA</td>\n",
       "      <td>AAA4.jpg</td>\n",
       "      <td>[홍길동, ', 히어로, 상, 받, 았, 어요, ']</td>\n",
       "    </tr>\n",
       "  </tbody>\n",
       "</table>\n",
       "</div>"
      ],
      "text/plain": [
       "            caption head      name               tokenized_captions\n",
       "0  홍길동 '반하게 만드는 미남'  AAA  AAA0.jpg  [홍길동, ', 반, 하, 게, 만드, 는, 미남, ']\n",
       "1        홍길동 '조각미남'  AAA  AAA1.jpg              [홍길동, ', 조각, 미남, ']\n",
       "2      홍길동 '눈부신 미모'  AAA  AAA2.jpg             [홍길동, ', 눈부신, 미모, ']\n",
       "3   홍길동 '여전히 예쁜 미모'  AAA  AAA3.jpg         [홍길동, ', 여전히, 예쁜, 미모, ']\n",
       "4  홍길동 '히어로 상 받았어요'  AAA  AAA4.jpg    [홍길동, ', 히어로, 상, 받, 았, 어요, ']"
      ]
     },
     "execution_count": 8,
     "metadata": {},
     "output_type": "execute_result"
    }
   ],
   "source": [
    "caption_df.head()"
   ]
  },
  {
   "cell_type": "code",
   "execution_count": 16,
   "id": "75b7cbfe",
   "metadata": {
    "scrolled": true
   },
   "outputs": [
    {
     "data": {
      "text/html": [
       "<div>\n",
       "<style scoped>\n",
       "    .dataframe tbody tr th:only-of-type {\n",
       "        vertical-align: middle;\n",
       "    }\n",
       "\n",
       "    .dataframe tbody tr th {\n",
       "        vertical-align: top;\n",
       "    }\n",
       "\n",
       "    .dataframe thead th {\n",
       "        text-align: right;\n",
       "    }\n",
       "</style>\n",
       "<table border=\"1\" class=\"dataframe\">\n",
       "  <thead>\n",
       "    <tr style=\"text-align: right;\">\n",
       "      <th></th>\n",
       "      <th>caption</th>\n",
       "      <th>head</th>\n",
       "      <th>name</th>\n",
       "      <th>tokenized_captions</th>\n",
       "    </tr>\n",
       "  </thead>\n",
       "  <tbody>\n",
       "    <tr>\n",
       "      <th>0</th>\n",
       "      <td>홍길동 '반하게 만드는 미남'</td>\n",
       "      <td>AAA</td>\n",
       "      <td>AAA0.jpg</td>\n",
       "      <td>[&lt;SOS&gt;, 홍길동, ', 반, 하, 게, 만드, 는, 미남, ', &lt;EOS&gt;]</td>\n",
       "    </tr>\n",
       "    <tr>\n",
       "      <th>1</th>\n",
       "      <td>홍길동 '조각미남'</td>\n",
       "      <td>AAA</td>\n",
       "      <td>AAA1.jpg</td>\n",
       "      <td>[&lt;SOS&gt;, 홍길동, ', 조각, 미남, ', &lt;EOS&gt;]</td>\n",
       "    </tr>\n",
       "    <tr>\n",
       "      <th>2</th>\n",
       "      <td>홍길동 '눈부신 미모'</td>\n",
       "      <td>AAA</td>\n",
       "      <td>AAA2.jpg</td>\n",
       "      <td>[&lt;SOS&gt;, 홍길동, ', 눈부신, 미모, ', &lt;EOS&gt;]</td>\n",
       "    </tr>\n",
       "    <tr>\n",
       "      <th>3</th>\n",
       "      <td>홍길동 '여전히 예쁜 미모'</td>\n",
       "      <td>AAA</td>\n",
       "      <td>AAA3.jpg</td>\n",
       "      <td>[&lt;SOS&gt;, 홍길동, ', 여전히, 예쁜, 미모, ', &lt;EOS&gt;]</td>\n",
       "    </tr>\n",
       "    <tr>\n",
       "      <th>4</th>\n",
       "      <td>홍길동 '히어로 상 받았어요'</td>\n",
       "      <td>AAA</td>\n",
       "      <td>AAA4.jpg</td>\n",
       "      <td>[&lt;SOS&gt;, 홍길동, ', 히어로, 상, 받, 았, 어요, ', &lt;EOS&gt;]</td>\n",
       "    </tr>\n",
       "  </tbody>\n",
       "</table>\n",
       "</div>"
      ],
      "text/plain": [
       "            caption head      name  \\\n",
       "0  홍길동 '반하게 만드는 미남'  AAA  AAA0.jpg   \n",
       "1        홍길동 '조각미남'  AAA  AAA1.jpg   \n",
       "2      홍길동 '눈부신 미모'  AAA  AAA2.jpg   \n",
       "3   홍길동 '여전히 예쁜 미모'  AAA  AAA3.jpg   \n",
       "4  홍길동 '히어로 상 받았어요'  AAA  AAA4.jpg   \n",
       "\n",
       "                              tokenized_captions  \n",
       "0  [<SOS>, 홍길동, ', 반, 하, 게, 만드, 는, 미남, ', <EOS>]  \n",
       "1              [<SOS>, 홍길동, ', 조각, 미남, ', <EOS>]  \n",
       "2             [<SOS>, 홍길동, ', 눈부신, 미모, ', <EOS>]  \n",
       "3         [<SOS>, 홍길동, ', 여전히, 예쁜, 미모, ', <EOS>]  \n",
       "4    [<SOS>, 홍길동, ', 히어로, 상, 받, 았, 어요, ', <EOS>]  "
      ]
     },
     "execution_count": 16,
     "metadata": {},
     "output_type": "execute_result"
    }
   ],
   "source": [
    "for tokens_list in caption_df['tokenized_captions']:\n",
    "    tokens_list.append('<EOS>')\n",
    "    \n",
    "caption_df.head()"
   ]
  },
  {
   "cell_type": "code",
   "execution_count": 19,
   "id": "547bec3a",
   "metadata": {},
   "outputs": [],
   "source": [
    "import pickle\n",
    "with open('captions_tokenized.pkl', 'wb') as f:\n",
    "    pickle.dump(caption_df, f)"
   ]
  },
  {
   "cell_type": "markdown",
   "id": "5188ec63",
   "metadata": {},
   "source": [
    "### with torchtext"
   ]
  },
  {
   "cell_type": "code",
   "execution_count": 260,
   "id": "f614799f",
   "metadata": {},
   "outputs": [],
   "source": [
    "datasets = CelebDataset('captions.csv', 'img', None, dic_path='C:/mecab/mecab-ko-dic')"
   ]
  },
  {
   "cell_type": "code",
   "execution_count": 261,
   "id": "6ac1791c",
   "metadata": {
    "scrolled": true
   },
   "outputs": [
    {
     "data": {
      "text/plain": [
       "(<PIL.JpegImagePlugin.JpegImageFile image mode=RGB size=318x401 at 0x185879EAB50>,\n",
       " tensor([  2.,   3., 144.,  19.,   3.,   1.,   1.,   1.,   1.,   1.,   1.,   1.,\n",
       "           1.,   1.,   1.,   1.,   1.,   1.,   1.,   1.]))"
      ]
     },
     "execution_count": 261,
     "metadata": {},
     "output_type": "execute_result"
    }
   ],
   "source": [
    "datasets[6001]"
   ]
  },
  {
   "cell_type": "code",
   "execution_count": 262,
   "id": "f903e8d8",
   "metadata": {
    "scrolled": true
   },
   "outputs": [
    {
     "data": {
      "text/plain": [
       "tensor([[[ 0.3440, -0.3566, -0.6067,  ...,  1.3773,  1.5223, -0.6205],\n",
       "         [-0.1478,  1.4022, -1.7252,  ..., -1.3854, -0.3542,  0.8559],\n",
       "         [ 0.6309,  0.1805,  0.6763,  ..., -1.1617,  0.0694, -0.5347],\n",
       "         ...,\n",
       "         [ 0.4625,  1.9501, -2.0701,  ...,  0.0953,  0.8823, -1.0248],\n",
       "         [ 0.4625,  1.9501, -2.0701,  ...,  0.0953,  0.8823, -1.0248],\n",
       "         [ 0.4625,  1.9501, -2.0701,  ...,  0.0953,  0.8823, -1.0248]],\n",
       "\n",
       "        [[ 0.3440, -0.3566, -0.6067,  ...,  1.3773,  1.5223, -0.6205],\n",
       "         [-0.1478,  1.4022, -1.7252,  ..., -1.3854, -0.3542,  0.8559],\n",
       "         [-1.9440,  0.3412, -0.8594,  ...,  1.3170,  0.0026, -0.8601],\n",
       "         ...,\n",
       "         [ 0.4625,  1.9501, -2.0701,  ...,  0.0953,  0.8823, -1.0248],\n",
       "         [ 0.4625,  1.9501, -2.0701,  ...,  0.0953,  0.8823, -1.0248],\n",
       "         [ 0.4625,  1.9501, -2.0701,  ...,  0.0953,  0.8823, -1.0248]],\n",
       "\n",
       "        [[ 0.3440, -0.3566, -0.6067,  ...,  1.3773,  1.5223, -0.6205],\n",
       "         [ 0.3440, -0.3566, -0.6067,  ...,  1.3773,  1.5223, -0.6205],\n",
       "         [-0.0928, -0.2557,  1.3618,  ..., -1.4325, -0.1096, -1.9378],\n",
       "         ...,\n",
       "         [ 0.4625,  1.9501, -2.0701,  ...,  0.0953,  0.8823, -1.0248],\n",
       "         [ 0.4625,  1.9501, -2.0701,  ...,  0.0953,  0.8823, -1.0248],\n",
       "         [ 0.4625,  1.9501, -2.0701,  ...,  0.0953,  0.8823, -1.0248]],\n",
       "\n",
       "        ...,\n",
       "\n",
       "        [[-0.1478,  1.4022, -1.7252,  ..., -1.3854, -0.3542,  0.8559],\n",
       "         [-0.8457, -1.2204, -0.9366,  ..., -0.4600, -0.2312,  0.8591],\n",
       "         [-1.0107, -0.7763,  0.1084,  ...,  0.5123, -0.4135,  0.4927],\n",
       "         ...,\n",
       "         [ 0.4625,  1.9501, -2.0701,  ...,  0.0953,  0.8823, -1.0248],\n",
       "         [ 0.4625,  1.9501, -2.0701,  ...,  0.0953,  0.8823, -1.0248],\n",
       "         [ 0.4625,  1.9501, -2.0701,  ...,  0.0953,  0.8823, -1.0248]],\n",
       "\n",
       "        [[ 0.3746,  1.5948, -1.4806,  ...,  1.1245,  0.7205, -0.6701],\n",
       "         [ 0.3117, -0.0980,  1.0421,  ..., -1.7421,  0.3886,  0.9179],\n",
       "         [-0.4622, -2.4179, -0.1677,  ..., -2.1625, -0.6488,  1.0203],\n",
       "         ...,\n",
       "         [ 0.4625,  1.9501, -2.0701,  ...,  0.0953,  0.8823, -1.0248],\n",
       "         [ 0.4625,  1.9501, -2.0701,  ...,  0.0953,  0.8823, -1.0248],\n",
       "         [ 0.4625,  1.9501, -2.0701,  ...,  0.0953,  0.8823, -1.0248]],\n",
       "\n",
       "        [[ 0.3440, -0.3566, -0.6067,  ...,  1.3773,  1.5223, -0.6205],\n",
       "         [-0.0928, -0.2557,  1.3618,  ..., -1.4325, -0.1096, -1.9378],\n",
       "         [-0.1478,  1.4022, -1.7252,  ..., -1.3854, -0.3542,  0.8559],\n",
       "         ...,\n",
       "         [ 0.4625,  1.9501, -2.0701,  ...,  0.0953,  0.8823, -1.0248],\n",
       "         [ 0.4625,  1.9501, -2.0701,  ...,  0.0953,  0.8823, -1.0248],\n",
       "         [ 0.4625,  1.9501, -2.0701,  ...,  0.0953,  0.8823, -1.0248]]],\n",
       "       grad_fn=<EmbeddingBackward0>)"
      ]
     },
     "execution_count": 262,
     "metadata": {},
     "output_type": "execute_result"
    }
   ],
   "source": [
    "import torch.nn as nn\n",
    "em = nn.Embedding(len(TEXT.vocab.stoi),256)\n",
    "k = em(batch.caption)\n",
    "k"
   ]
  },
  {
   "cell_type": "code",
   "execution_count": 263,
   "id": "e9222085",
   "metadata": {},
   "outputs": [
    {
     "data": {
      "text/plain": [
       "torch.Size([10, 20, 256])"
      ]
     },
     "execution_count": 263,
     "metadata": {},
     "output_type": "execute_result"
    }
   ],
   "source": [
    "k.size()"
   ]
  },
  {
   "cell_type": "markdown",
   "id": "77d4ee83",
   "metadata": {},
   "source": [
    "# Word Embedding"
   ]
  },
  {
   "cell_type": "markdown",
   "id": "5d93c9aa",
   "metadata": {},
   "source": [
    "## Word2Vec"
   ]
  },
  {
   "cell_type": "markdown",
   "id": "bde9f06a",
   "metadata": {},
   "source": [
    "### Embedding 실행"
   ]
  },
  {
   "cell_type": "code",
   "execution_count": null,
   "id": "08f2ae3b",
   "metadata": {},
   "outputs": [],
   "source": [
    "# pip install gensim"
   ]
  },
  {
   "cell_type": "code",
   "execution_count": 6,
   "id": "9bbe84ef",
   "metadata": {
    "scrolled": true
   },
   "outputs": [
    {
     "name": "stdout",
     "output_type": "stream",
     "text": [
      "Name: gensim\n",
      "Version: 4.0.1\n",
      "Summary: Python framework for fast Vector Space Modelling\n",
      "Home-page: http://radimrehurek.com/gensim\n",
      "Author: Radim Rehurek\n",
      "Author-email: me@radimrehurek.com\n",
      "License: LGPL-2.1-only\n",
      "Location: c:\\users\\park3\\anaconda3\\envs\\data\\lib\\site-packages\n",
      "Requires: numpy, scipy, smart-open\n",
      "Required-by: pyLDAvis\n"
     ]
    }
   ],
   "source": [
    "!pip show gensim"
   ]
  },
  {
   "cell_type": "code",
   "execution_count": 5,
   "id": "a85034a0",
   "metadata": {},
   "outputs": [],
   "source": [
    "import pickle\n",
    "with open('captions_tokenized.pkl', 'rb') as f:\n",
    "    caption_df = pickle.load(f)"
   ]
  },
  {
   "cell_type": "code",
   "execution_count": 121,
   "id": "f9fbbbd0",
   "metadata": {},
   "outputs": [],
   "source": [
    "from gensim.models.word2vec import Word2Vec\n",
    "\n",
    "sentences = caption_df['tokenized_captions'].values\n",
    "model = Word2Vec(sentences = sentences, vector_size = 256, window = 1, min_count = 3, sg = 1) # Skip-gram\n",
    "model.save('word2vec_v1.1.1.model')"
   ]
  },
  {
   "cell_type": "code",
   "execution_count": 160,
   "id": "c0fd144a",
   "metadata": {},
   "outputs": [
    {
     "data": {
      "text/plain": [
       "<gensim.models.word2vec.Word2Vec at 0x18577f4f790>"
      ]
     },
     "execution_count": 160,
     "metadata": {},
     "output_type": "execute_result"
    }
   ],
   "source": [
    "model"
   ]
  },
  {
   "cell_type": "code",
   "execution_count": 154,
   "id": "0b79810b",
   "metadata": {},
   "outputs": [],
   "source": [
    "from gensim.models.word2vec import Word2Vec\n",
    "\n",
    "model = Word2Vec.load('word2vec_v1.model')"
   ]
  },
  {
   "cell_type": "code",
   "execution_count": 162,
   "id": "7c0cb662",
   "metadata": {},
   "outputs": [
    {
     "data": {
      "text/plain": [
       "array([[-0.09700315,  0.02293771, -0.01028785, ..., -0.02900931,\n",
       "        -0.3131984 , -0.0947175 ],\n",
       "       [-0.10734818, -0.00243226,  0.00724155, ..., -0.2885142 ,\n",
       "        -0.1612216 , -0.16023655],\n",
       "       [-0.03030379, -0.05559994,  0.18403745, ..., -0.02214793,\n",
       "        -0.31484511, -0.3630469 ],\n",
       "       ...,\n",
       "       [-0.07422971, -0.01128414, -0.09733124, ...,  0.01432343,\n",
       "        -0.0618103 , -0.07614607],\n",
       "       [-0.05989129, -0.00739786, -0.03722718, ...,  0.01301227,\n",
       "        -0.04779989, -0.05565992],\n",
       "       [-0.06945322,  0.00272603, -0.0420671 , ...,  0.01652699,\n",
       "        -0.04701153, -0.09143987]], dtype=float32)"
      ]
     },
     "execution_count": 162,
     "metadata": {},
     "output_type": "execute_result"
    }
   ],
   "source": [
    "model.wv.vectors"
   ]
  },
  {
   "cell_type": "markdown",
   "id": "7633174b",
   "metadata": {},
   "source": [
    "### 결과 확인"
   ]
  },
  {
   "cell_type": "code",
   "execution_count": 123,
   "id": "b60d229d",
   "metadata": {
    "scrolled": true
   },
   "outputs": [
    {
     "name": "stdout",
     "output_type": "stream",
     "text": [
      "{'홍길동': 0, \"'\": 1, ',': 2, '\"': 3, '는': 4, '한': 5, '.': 6, '-': 7, '의': 8, '‘': 9, '이': 10, '에': 11, '’': 12, '`': 13, '하': 14, '은': 15, 'ㅣ': 16, '미모': 17, '미소': 18, '도': 19, '!': 20, '고': 21, '비주얼': 22, '게': 23, '로': 24, '가': 25, '…': 26, '하트': 27, '눈빛': 28, '들': 29, '적': 30, \"~'\": 31, '무대': 32, '매력': 33, '사랑': 34, '인': 35, '으로': 36, '인사': 37, '?': 38, '네': 39, '어요': 40, '을': 41, '손': 42, '어': 43, '오늘': 44, '심': 45, '나': 46, '다': 47, '해': 48, '여신': 49, '~': 50, '만': 51, '카리스마': 52, '섹시': 53, '청순': 54, '美': 55, '쿵': 56, '없': 57, '시구': 58, '아': 59, '우아': 60, '에서': 61, '훈훈': 62, '잘': 63, '”': 64, '과': 65, '“': 66, '포즈': 67, '더': 68, '컴백': 69, '넘치': 70, '상큼': 71, '같': 72, '러블리': 73, '드레스': 74, '입': 75, '완벽': 76, '빛나': 77, '시크': 78, '와': 79, '인형': 80, '함': 81, '패션': 82, '길동': 83, '세요': 84, '를': 85, '공개': 86, '+': 87, '지': 88, '폭발': 89, '분위기': 90, '꽃': 91, '깜찍': 92, '팬': 93, '시선': 94, '강렬': 95, '받': 96, 'X': 97, '있': 98, '눈': 99, '며': 100, '얼굴': 101, '배우': 102, '출석': 103, '남': 104, '왔': 105, '가득': 106, '뿜': 107, '상': 108, '남자': 109, '야': 110, '블랙': 111, '·': 112, '펫': 113, '여심': 114, '레드카': 115, '주': 116, '보': 117, '함께': 118, '화려': 119, '첫': 120, '자태': 121, '대상': 122, '화사': 123, '예쁨': 124, '아름다운': 125, '스러운': 126, '멋진': 127, '해요': 128, '수': 129, '내': 130, '모습': 131, '예쁜': 132, '♥': 133, '귀여운': 134, '졸업': 135, '머리': 136, '승리': 137, '포토': 138, '요': 139, '표정': 140, '요정': 141, '눈부신': 142, '미': 143, '스': 144, '기대': 145, '안': 146, '까지': 147, '예뻐': 148, '참석': 149, '일': 150, '뷔': 151, '멋': 152, '예쁘': 153, '걸': 154, '샷': 155, '로운': 156, '진': 157, '좋': 158, '연기': 159, '년': 160, '치명': 161, '뮤지컬': 162, '했': 163, '죠': 164, '홍길': 165, '서': 166, '면': 167, '행복': 168, '등장': 169, '우리': 170, '너무': 171, '았': 172, '.\"': 173, '후': 174, '수상': 175, 'MC': 176, '보다': 177, '핑크': 178, '합니다': 179, '기': 180, '속': 181, '축하': 182, '두': 183, '각선미': 184, '중': 185, '몸매': 186, '인증': 187, '변신': 188, '티저': 189, '그': 190, '겠': 191, '신': 192, '브이': 193, '소녀': 194, '화보': 195, '애교': 196, '\"…': 197, '소화': 198, '사로잡': 199, '~’': 200, '빛': 201, '이렇게': 202, '엄지': 203, '라인': 204, '살': 205, '데뷔': 206, '영화': 207, '처럼': 208, '세': 209, '입장': 210, '님': 211, '전': 212, '부드러운': 213, '발걸음': 214, '짐': 215, '잘생김': 216, '경찰': 217, '할': 218, '일상': 219, '셀카': 220, '막내': 221, '저격': 222, '조각': 223, '..': 224, '찰떡': 225, '앨범': 226, '되': 227, \"♥'\": 228, '출신': 229, '대': 230, '않': 231, '에게': 232, '순백': 233, '포스': 234, '미니': 235, '마스크': 236, '시': 237, '훈': 238, '올': 239, '골든디스크': 240, '위': 241, '찢': 242, '화이트': 243, '선': 244, '부르': 245, '부터': 246, '시상식': 247, '근황': 248, '수줍': 249, '차': 250, '번': 251, '커플': 252, '느낌': 253, '독보': 254, '혐의': 255, '정석': 256, '매혹': 257, '그룹': 258, '애': 259, '워즈': 260, '댄스': 261, '선미': 262, '반': 263, '강탈': 264, '헤어': 265, '발랄': 266, '듯': 267, '물오른': 268, '습니다': 269, '비': 270, '자체': 271, '동안': 272, '던': 273, '쇼': 274, '스타': 275, '었': 276, '러': 277, '외모': 278, '영화제': 279, '사진': 280, '결혼': 281, '만나': 282, '자랑': 283, 'RM': 284, '파이팅': 285, '뽐내': 286, '어도': 287, '가을': 288, '파격': 289, '돋보이': 290, '해도': 291, '녹이': 292, '블링': 293, '자': 294, '집': 295, '귀엽': 296, '선물': 297, '마음': 298, '니': 299, '비율': 300, '가요': 301, '퍼포먼스': 302, 'KBS': 303, '레드': 304, '최고': 305, '맞춤': 306, '척': 307, '신비': 308, '의상': 309, '오': 310, '라': 311, '입대': 312, '명품': 313, '믿': 314, '연예대상': 315, '아이': 316, '찍': 317, '감독': 318, '수트': 319, '모델': 320, '핏': 321, '피부': 322, '아이돌': 323, '말': 324, '다정': 325, '이런': 326, '청룡': 327, '초': 328, '가수': 329, '공판': 330, '단아': 331, '옆': 332, '째': 333, 'V': 334, '미남': 335, '여유': 336, '날': 337, '빠져드': 338, '2018': 339, '설레': 340, '싶': 341, '남다른': 342, '급': 343, '너': 344, '슈트': 345, '감사': 346, '룩': 347, '단발': 348, '성숙': 349, '아름다움': 350, '투': 351, '소년': 352, '세상': 353, '그녀': 354, '미녀': 355, '청': 356, '청량': 357, '제': 358, 'SBS': 359, '왕': 360, '월': 361, '온': 362, '트': 363, '귀여움': 364, '어울리': 365, '우월': 366, '발산': 367, '감탄': 368, '해진': 369, '돌아왔': 370, '투표': 371, '섹': 372, '감': 373, '눈웃음': 374, '아찔': 375, '순미': 376, '예술': 377, '잡': 378, '긴': 379, '리더': 380, '생': 381, '것': 382, '돌아온': 383, '전역': 384, '귀요미': 385, '달콤': 386, '물씬': 387, '된': 388, '대종상': 389, '생김': 390, '저': 391, '해맑': 392, '기분': 393, '도도': 394, '왕자': 395, '문화': 396, '생일': 397, '맞': 398, '법원': 399, '어깨': 400, '스타일': 401, '고혹': 402, '시스루': 403, '윙크': 404, '당당': 405, '서울': 406, '과감': 407, '\"...': 408, '열': 409, '달달': 410, '파워': 411, '드려요': 412, '사': 413, '케미': 414, '리아': 415, '눈길': 416, '극': 417, '금발': 418, '성': 419, '많이': 420, '부부': 421, '연극': 422, '초과': 423, '철철': 424, '새': 425, '솔로': 426, '졸업식': 427, '길': 428, '눈망울': 429, '한도': 430, '사람': 431, '뽐낸': 432, '봐도': 433, '언니': 434, '멋지': 435, '입술': 436, '감성': 437, '긴장': 438, '끝': 439, '순간': 440, '압도': 441, '또': 442, '반한': 443, '청초': 444, '오랜만': 445, '크리스마스': 446, '엔': 447, '<': 448, '먹': 449, '따로': 450, '나오': 451, '가요대전': 452, '맡': 453, '타임': 454, '>': 455, '업': 456, '원피스': 457, '스러워': 458, '몽환': 459, '남친': 460, '깜짝': 461, '교복': 462, '센터': 463, '보이': 464, '신부': 465, '신나': 466, '떨리': 467, '다이아': 468, '거': 469, '뚫': 470, '앞': 471, '대표': 472, '공주': 473, '봄': 474, '올해': 475, '뒤태': 476, 'MBC': 477, '빠져': 478, '웃': 479, '리즈': 480, '여전': 481, '쓰': 482, '반려': 483, '넘사벽': 484, '아우라': 485, '찬': 486, '스럽': 487, '시미': 488, '환상': 489, '주인공': 490, '대세': 491, '콘셉트': 492, '엄마': 493, '숨': 494, '준': 495, '크': 496, '매일': 497, '안무': 498, '풀': 499, '무': 500, '꽉': 501, '힙': 502, '천재': 503, '뮤직': 504, '과즙': 505, '표창': 506, '민낯': 507, '다른': 508, '2020': 509, '봐': 510, '아나운서': 511, '담': 512, '남심': 513, '10': 514, '닮': 515, '여름': 516, '취하': 517, '밝히': 518, '렌': 519, '갈수록': 520, '밝': 521, '설렘': 522, '킬': 523, '한가득': 524, '으며': 525, '혼자': 526, '프로': 527, '이목구비': 528, '자신': 529, '인간': 530, '끝판': 531, '딸': 532, '아요': 533, '군무': 534, '자체발광': 535, '고개': 536, '마지막': 537, '반전': 538, '싱그러운': 539, '언제나': 540, '에요': 541, '반짝반짝': 542, '차트': 543, '천사': 544, '즈': 545, '스런': 546, '촬영': 547, '신인': 548, '활짝': 549, '웃음': 550, '응원': 551, 'AAA': 552, '남편': 553, '수능': 554, '아련': 555, '백': 556, \"'♥\": 557, 'MAMA': 558, '목소리': 559, '볼': 560, '현실': 561, '노래': 562, '그림': 563, '멤버': 564, '작': 565, '돌': 566, '완성': 567, '점점': 568, '하나': 569, '공연': 570, '드러낸': 571, '열정': 572, 'kg': 573, '역시': 574, '못': 575, '유혹': 576, '환한': 577, '신곡': 578, '티': 579, '나요': 580, '컷': 581, '워킹': 582, '세련': 583, '후보': 584, '와인드업': 585, '줄': 586, '불가': 587, '개월': 588, '크러쉬': 589, '꿀': 590, '포인트': 591, '정규': 592, '심장': 593, '구': 594, '꾸': 595, '다리': 596, '살짝': 597, '밤': 598, '영광': 599, '형': 600, '햇살': 601, '모두': 602, '아미': 603, '향한': 604, '인상': 605, '결혼식': 606, '흑백': 607, '예': 608, '꽃미남': 609, '뚝뚝': 610, '호흡': 611, '힘찬': 612, '멋있': 613, '위해': 614, '진짜': 615, '역대': 616, '밟': 617, '2019': 618, '멎': 619, '아니': 620, '힐링': 621, '대중': 622, '입니다': 623, '취재진': 624, '생겼': 625, '주역': 626, '여전히': 627, '시간': 628, '만드': 629, '이제': 630, '소감': 631, '턱시도': 632, '군': 633, '레': 634, '진행': 635, '김홍': 636, 'L': 637, '컨': 638, '영화상': 639, '추위': 640, '노출': 641, '→': 642, '다이어트': 643, '숄더': 644, '어디': 645, '등': 646, '시작': 647, '복근': 648, '|': 649, '~`': 650, '멍': 651, '처음': 652, 'JR': 653, '귀여워': 654, '택': 655, '조사': 656, '물': 657, '반짝이': 658, '질문': 659, '보이스': 660, '유쾌': 661, '여기': 662, '겨울': 663, '아름다워': 664, '웨딩': 665, '내추럴': 666, '야구장': 667, '퀸': 668, '누가': 669, '오프': 670, '으세요': 671, '\"..': 672, '드': 673, '향기': 674, '지네': 675, '여러분': 676, '한국': 677, '짧': 678, '방송': 679, '음악': 680, '보조개': 681, '때': 682, '곡': 683, '키': 684, \"'…\": 685, '127': 686, '건강': 687, '소원': 688, '&': 689, '찾': 690, '색': 691, '칼': 692, '손짓': 693, '세계': 694, '즐거운': 695, '턱': 696, '졸업장': 697, '마치': 698, '주년': 699, '반짝': 700, '별': 701, '츄': 702, '코트': 703, '다시': 704, '가려': 705, '명': 706, '아들': 707, '안경': 708, '안녕': 709, '발매': 710, '타': 711, '방': 712, '귀공자': 713, '대축제': 714, '블': 715, '꼭': 716, '핫': 717, '나온': 718, '폼': 719, '보내': 720, '예뻐졌': 721, '시타': 722, '정화': 723, '집중': 724, '좀': 725, '드립': 726, '만화': 727, '커피차': 728, '도전': 729, '바라보': 730, '따뜻': 731, '모자': 732, '맘': 733, '존재감': 734, '배': 735, '향해': 736, '롱': 737, '사회': 738, '그윽': 739, '덤': 740, '개미허리': 741, '월드': 742, '굴욕': 743, '엠': 744, '왔어요': 745, '미인': 746, '흔드': 747, '굳': 748, '벗': 749, '브': 750, '준비': 751, '여배우': 752, '드라마': 753, \".'\": 754, '클로즈업': 755, '빛내': 756, '트롯': 757, '흥': 758, '사이': 759, '많': 760, '발사': 761, '숙인': 762, '옆모습': 763, '샤': 764, '장인': 765, '데이트': 766, '베스트': 767, '어울려': 768, '예능': 769, '장': 770, '허리': 771, '볼륨': 772, '반가워요': 773, '향하': 774, '새해': 775, '든': 776, '품격': 777, '미스': 778, '감미': 779, '팀': 780, '한다': 781, '개성': 782, '♥’': 783, '알': 784, '남성미': 785, '치': 786, '백호': 787, '달라진': 788, '원': 789, '잘생긴': 790, '회': 791, '춤': 792, '나이': 793, '빵': 794, '심사': 795, '감동': 796, '에너지': 797, '신고': 798, '조합': 799, '짙': 800, '반가운': 801, '더니': 802, '선남선녀': 803, '져': 804, '뭐': 805, '같이': 806, '웨': 807, '끼': 808, '수수': 809, '뜨거운': 810, '원조': 811, '선고': 812, '피': 813, '보여': 814, '구역': 815, '주연': 816, '클래스': 817, '출연': 818, '잊': 819, '크러시': 820, 'S': 821, '기념': 822, '깔끔': 823, '계': 824, '과시': 825, '앞머리': 826, '본상': 827, 'D': 828, '찐': 829, '한복': 830, '열창': 831, '빠질': 832, '각도': 833, '스러움': 834, '화이팅': 835, '우정': 836, '_': 837, '친': 838, '늠름': 839, '쇄골': 840, '숏': 841, '양': 842, '트로피': 843, '탑': 844, '큰': 845, '‥': 846, '달': 847, '하루': 848, '국민': 849, '견': 850, '~!': 851, '20': 852, '생각': 853, '아침': 854, '앤': 855, '사전': 856, '홀릭': 857, '공': 858, '귀': 859, '완료': 860, '촉촉': 861, '컬러': 862, '강림': 863, '법정': 864, '재킷': 865, '정도': 866, '맑': 867, '조심': 868, '볼빨간': 869, '가슴': 870, '기럭지': 871, '친구': 872, '앞두': 873, '여자': 874, '답': 875, '젤': 876, '바람': 877, '오빠': 878, '큐티': 879, '사춘기': 880, '어때요': 881, '개': 882, '드림': 883, '화': 884, '슈': 885, '만점': 886, '흰': 887, '열일': 888, '젠틀': 889, '없이': 890, '꽃다발': 891, '네요': 892, '복': 893, '미소년': 894, '가족': 895, '진홍': 896, '지금': 897, '짤': 898, '트로트': 899, '다운': 900, '새침': 901, '슈퍼': 902, '마운드': 903, ':': 904, '둘': 905, '청바지': 906, '최강': 907, '프': 908, '부문': 909, '장관': 910, '정말': 911, '두근두근': 912, '도박': 913, '늘씬': 914, '최': 915, '는데': 916, '죄송': 917, '벤': 918, '랑': 919, '감량': 920, '음': 921, 'x': 922, '띄': 923, '스윗': 924, '30': 925, '생머리': 926, '장착': 927, '無': 928, '옷': 929, '몸': 930, '눈동자': 931, '어워드': 932, '센스': 933, '저희': 934, '됐': 935, '힘': 936, '언제': 937, '훈장': 938, '확': 939, '루': 940, '만남': 941, '방출': 942, '병': 943, '이기': 944, '으면': 945, '대체': 946, '대결': 947, '상자': 948, '유발': 949, '모든': 950, '채': 951, '묵묵부답': 952, '날리': 953, '나왔': 954, '인사말': 955, '패셔': 956, '타이틀': 957, '완전체': 958, '고양이': 959, '톱': 960, '체크': 961, '복무': 962, '날렵': 963, '느껴': 964, '꽃받침': 965, '박홍': 966, '풋풋': 967, '놀란': 968, '벌써': 969, '견과': 970, '현장': 971, '백상': 972, '조명': 973, '만큼': 974, '강의': 975, '수호': 976, '11': 977, '녹': 978, '피의자': 979, '찰칵': 980, '뺨치': 981, '푸': 982, '숙미': 983, '단체': 984, '휘날리': 985, '뿐': 986, '싱글': 987, '넘쳐': 988, '하늘': 989, '필요': 990, '글': 991, '데': 992, '연홍': 993, '초롱초롱': 994, '앙증맞': 995, '선보이': 996, '사수': 997, '♥\"': 998, '윤': 999, '코로나': 1000, '마친': 1001, '~\"': 1002, '독특': 1003, '건': 1004, '사인': 1005, '든다': 1006, '대한민국': 1007, '결점': 1008, '순수': 1009, '팔': 1010, '야구': 1011, '이러': 1012, '본방': 1013, '홍보': 1014, '순정만화': 1015, '유': 1016, '리': 1017, '박': 1018, '뒤': 1019, '우수': 1020, '시상': 1021, '아래': 1022, '아닌': 1023, '찰리': 1024, '앉': 1025, '깊': 1026, '입소': 1027, '손가락': 1028, '︎': 1029, '등신': 1030, '위엄': 1031, '경찰서': 1032, '이번': 1033, '꿈': 1034, '테': 1035, '유닛': 1036, '아내': 1037, '비니': 1038, '난': 1039, '소리': 1040, '자신감': 1041, '마약': 1042, '멜론': 1043, '음원': 1044, '나라': 1045, '덕': 1046, '반칙': 1047, '아도': 1048, '어색': 1049, '산타': 1050, '부': 1051, '로맨틱': 1052, '주의보': 1053, '호': 1054, '예쁠': 1055, '교과서': 1056, '저장': 1057, '여인': 1058, '아티스트': 1059, '만든': 1060, '예비': 1061, '밖': 1062, '앞터': 1063, '거울': 1064, '역': 1065, '똑': 1066, '아빠': 1067, '밀착': 1068, '반했': 1069, '소중': 1070, '변함없': 1071, '척척': 1072, '빨간': 1073, '청춘': 1074, '복귀': 1075, '누나': 1076, '기쁨': 1077, '발표': 1078, '갈래': 1079, '볼수록': 1080, '개인': 1081, '꾼': 1082, '공식': 1083, '대박': 1084, '영장': 1085, '는다': 1086, '반해': 1087, '오른': 1088, '셔츠': 1089, '실질': 1090, '고등학교': 1091, '귀환': 1092, '여': 1093, '방부제': 1094, '이래서': 1095, '여리여리': 1096, '지만': 1097, '막': 1098, '논란': 1099, '이유': 1100, '시선집중': 1101, '그대로': 1102, '메': 1103, '훤칠': 1104, '예뻐진': 1105, '출근': 1106, '코': 1107, '옆태': 1108, '힘든': 1109, '절로': 1110, '눈부셔': 1111, '토끼': 1112, '예고': 1113, '순': 1114, '팡팡': 1115, '제대로': 1116, '튀': 1117, '글래머': 1118, '폴폴': 1119, '짓': 1120, '불법': 1121, '블리': 1122, '우즈': 1123, '써도': 1124, '강아지': 1125, '프린스': 1126, '참': 1127, '줘': 1128, '갱신': 1129, '파티': 1130, '존재': 1131, '종': 1132, '품': 1133, '마저': 1134, '인생': 1135, '마': 1136, '슬': 1137, '세월': 1138, '카메라': 1139, '콕': 1140, '가창력': 1141, '이창섭': 1142, '이게': 1143, '신사': 1144, '환호': 1145, '빛낸': 1146, '폭풍': 1147, '아무': 1148, '콘서트': 1149, '아름답': 1150, '보컬': 1151, '안구': 1152, '부자': 1153, '피지컬': 1154, '성장': 1155, '듣': 1156, '연하': 1157, '팝': 1158, '장면': 1159, '팩': 1160, '콜라보': 1161, '열심히': 1162, '몰라보': 1163, '절친': 1164, '도발': 1165, '동기': 1166, '19': 1167, '래퍼': 1168, '아기': 1169, '버터': 1170, '고마워요': 1171, '가릴': 1172, '녀': 1173, '12': 1174, '제일': 1175, '성공': 1176, '자리': 1177, '해서': 1178, '둥이': 1179, '가녀린': 1180, '근접': 1181, '국무총리': 1182, '사슴': 1183, '케': 1184, 'YG': 1185, '흑발': 1186, '류홍': 1187, '군살': 1188, '각': 1189, '출격': 1190, '대통령': 1191, '치타': 1192, '열연': 1193, '선수': 1194, '근사': 1195, 'MMA': 1196, '쌍': 1197, '떨어지': 1198, '점': 1199, '사뿐사뿐': 1200, '무장': 1201, '나비': 1202, '눈물': 1203, '의혹': 1204, '진정': 1205, '핀': 1206, '무거운': 1207, '펜': 1208, '특별': 1209, '문홍': 1210, '자세': 1211, '드러내': 1212, '곳': 1213, '.♥': 1214, '요즘': 1215, '세련미': 1216, '해제': 1217, '82': 1218, '런': 1219, '가장': 1220, '붐': 1221, '신분': 1222, '쭉': 1223, '호강': 1224, '강': 1225, '제작': 1226, '부산': 1227, '홀로': 1228, '실화': 1229, '어둠': 1230, '100': 1231, '힐': 1232, '따라': 1233, '황홍': 1234, '루돌프': 1235, '가리': 1236, '위한': 1237, '소멸': 1238, '치마': 1239, '다르': 1240, '인기': 1241, '탄탄': 1242, '반하': 1243, '실종': 1244, '자매': 1245, '밥': 1246, '만난': 1247, '싹쓸이': 1248, '정한': 1249, '40': 1250, '접수': 1251, '고마워': 1252, '숨길': 1253, '글로벌': 1254, '기자': 1255, '게임': 1256, '출구': 1257, '핸드': 1258, '장발': 1259, '표': 1260, '소시': 1261, '으니': 1262, '힘차': 1263, '뭉미': 1264, '빼꼼': 1265, '경신': 1266, '불꽃': 1267, '귀염': 1268, '연애': 1269, '..\"': 1270, '영': 1271, '우주': 1272, '어서': 1273, '실력': 1274, \"',\": 1275, '그렇게': 1276, '뭘': 1277, '단발머리': 1278, '나서': 1279, '시절': 1280, 'UP': 1281, '거부': 1282, '엔딩': 1283, '터지': 1284, '국제': 1285, '란': 1286, '마성': 1287, '절정': 1288, '투약': 1289, '걷': 1290, '유발자': 1291, '딱': 1292, '박수': 1293, '아서': 1294, '누구': 1295, '광희': 1296, '감출': 1297, '톡톡': 1298, '특급': 1299, '프린팅': 1300, '고정': 1301, '동생': 1302, '아시아': 1303, '버티': 1304, '생긴': 1305, '인정': 1306, '신랑': 1307, '단': 1308, '넘': 1309, '우연': 1310, '여행': 1311, '범접': 1312, '댄디': 1313, '계단': 1314, '뮤': 1315, '포유': 1316, '왜': 1317, '커피': 1318, '꾸미': 1319, '마리': 1320, '선배': 1321, '텐': 1322, '출근길': 1323, '포': 1324, '어떤': 1325, '빠진': 1326, '엄': 1327, '아직': 1328, '훈련소': 1329, '하우스': 1330, '창욱': 1331, '이나': 1332, '라고': 1333, '밴드': 1334, '맛집': 1335, '본능': 1336, '예뻐도': 1337, '블루': 1338, '드디어': 1339, '사르르': 1340, '놀': 1341, '댄': 1342, '애정': 1343, '즐기': 1344, '괜찮': 1345, '저리': 1346, '스크린': 1347, 'MV': 1348, '애절': 1349, '한류': 1350, '실물': 1351, '럭셔리': 1352, '혁': 1353, '믿기': 1354, '분': 1355, '빈': 1356, '어두운': 1357, '외출': 1358, '하의': 1359, '관객': 1360, '베일': 1361, '콧대': 1362, '멋쟁이': 1363, '날씨': 1364, '시리즈': 1365, '강한': 1366, '조심조심': 1367, '싱글벙글': 1368, '으러': 1369, '미스터': 1370, '원정': 1371, '무시': 1372, '흐뭇': 1373, '러브': 1374, '보석': 1375, '곧': 1376, '신혼': 1377, '甲': 1378, '어려': 1379, 'LG': 1380, '뜬': 1381, '건강미': 1382, '은은': 1383, '예요': 1384, '동소': 1385, '서로': 1386, '기원': 1387, '하객': 1388, '뿅뿅': 1389, '강력': 1390, '뿅': 1391, '만들': 1392, '줬': 1393, '불': 1394, '오르': 1395, '나들이': 1396, '쁨': 1397, '졌': 1398, '작품': 1399, '베': 1400, '설': 1401, '더욱': 1402, '지으며': 1403, '씨': 1404, '여친': 1405, '새로운': 1406, '내리': 1407, '무표정': 1408, '여전사': 1409, '진지': 1410, '파인': 1411, '선글라스': 1412, '황제': 1413, '될': 1414, '영원': 1415, '자기': 1416, '여왕': 1417, '프레': 1418, '항소심': 1419, '봤': 1420, '맛': 1421, '잘록': 1422, '뗄': 1423, '솔': 1424, '막히': 1425, '킴': 1426, '춤추': 1427, '방연': 1428, '블랙홀': 1429, 'cm': 1430, '연기대상': 1431, '날카로운': 1432, '자극': 1433, '\"\\'': 1434, '호피': 1435, '고급': 1436, '스타일링': 1437, '투명': 1438, '활동': 1439, '골디': 1440, '폴': 1441, '떨려요': 1442, '볼까': 1443, '드립니다': 1444, '임홍': 1445, '이상': 1446, '축': 1447, '성실히': 1448, '머금': 1449, '스콜': 1450, '갓': 1451, \".'♥\": 1452, '내일': 1453, '운동': 1454, '유포': 1455, '지척': 1456, '파탈': 1457, '꾸러기': 1458, '주먹': 1459, '멋져': 1460, '조금': 1461, '장악': 1462, '제대': 1463, '붉': 1464, '로드': 1465, '독려': 1466, '장사리': 1467, '필': 1468, '명불허전': 1469, 'K': 1470, '이야기': 1471, '행사': 1472, '셋': 1473, '셨': 1474, '터진': 1475, '마무리': 1476, '메리': 1477, '미주': 1478, '현역': 1479, '바지': 1480, '출산': 1481, '먹방': 1482, '멜': 1483, '임신': 1484, '머니': 1485, '뽀짝': 1486, '할게요': 1487, '얼': 1488, '인가': 1489, '높': 1490, '한층': 1491, '놀라운': 1492, '연습': 1493, '타투': 1494, '보랏빛': 1495, '나란히': 1496, '머리카락': 1497, '빠졌': 1498, '엑스칼리버': 1499, '생활': 1500, '합류': 1501, '연상': 1502, '갑니다': 1503, '디': 1504, '주말': 1505, '다니': 1506, '즐겨요': 1507, '감각': 1508, '자꾸': 1509, '청량미': 1510, '설렌다': 1511, '인조': 1512, '거리': 1513, '빠지': 1514, '마마': 1515, '투구': 1516, '넘기': 1517, '잠시': 1518, '떠나': 1519, '드러난': 1520, '스마일': 1521, '거나': 1522, '무슨': 1523, '양손': 1524, '직접': 1525, '관': 1526, '그리': 1527, '차려입': 1528, '맨': 1529, '쪽': 1530, '직전': 1531, '차분': 1532, '한파': 1533, '큐': 1534, '꼬': 1535, 'PD': 1536, '패딩': 1537, '깨': 1538, '새하얀': 1539, '학교': 1540, '동환': 1541, '그대': 1542, '탄': 1543, '마녀': 1544, '스트라이크': 1545, '장미': 1546, '유산': 1547, '포스터': 1548, '영웅': 1549, '눈매': 1550, '멀리': 1551, '롭': 1552, '형제': 1553, '하차': 1554, '손끝': 1555, '캐릭터': 1556, '갈': 1557, '덕분': 1558, '필수': 1559, '뽀뽀': 1560, '연출': 1561, '뽀': 1562, '비밀': 1563, '가죽': 1564, '걸음': 1565, '희': 1566, '핫팬츠': 1567, '포착': 1568, '진리': 1569, '워너': 1570, '답변': 1571, '자연': 1572, '노라조': 1573, '요염': 1574, '발라드': 1575, '사과': 1576, '접대': 1577, '소환': 1578, '어린': 1579, '음주운전': 1580, '소라': 1581, '절': 1582, '가온': 1583, '니까': 1584, '농구': 1585, '팔짱': 1586, '잠실': 1587, '퍼펙트': 1588, '질투': 1589, '해피': 1590, '그림자': 1591, '리본': 1592, '조각상': 1593, '추억': 1594, '개설': 1595, '검찰': 1596, '장난기': 1597, '2021': 1598, 'MJ': 1599, '폭': 1600, '율': 1601, '수록': 1602, '푹': 1603, '본': 1604, '잃': 1605, '발광': 1606, '짠': 1607, '온다': 1608, '악': 1609, '해졌': 1610, '다는': 1611, '통통': 1612, '구속': 1613, '하이틴': 1614, '보스': 1615, '시즌': 1616, '화면': 1617, '연말': 1618, '발끝': 1619, '재판': 1620, '흔들': 1621, '쉬': 1622, 'TMA': 1623, '듬직': 1624, '경': 1625, '니트': 1626, 'JB': 1627, '부탁': 1628, '뿌': 1629, '레깅스': 1630, '콜': 1631, '션': 1632, '옴므': 1633, '여성': 1634, '성규': 1635, '기품': 1636, '슈주': 1637, '밖에': 1638, '뮤지': 1639, '시투': 1640, '맞이': 1641, '금빛': 1642, '레전드': 1643, '백옥': 1644, '기다리': 1645, '로맨스': 1646, '거수경례': 1647, '2017': 1648, '늘': 1649, '앞둔': 1650, '50': 1651, '아슬아슬': 1652, '유홍': 1653, '경례': 1654, '드릴게요': 1655, '소': 1656, '세례': 1657, '대신': 1658, '삼': 1659, '만났': 1660, '잼': 1661, '고막': 1662, '이후': 1663, '연인': 1664, '오프닝': 1665, '아라': 1666, '피날레': 1667, '탄생': 1668, '가능': 1669, 'MGMA': 1670, '틴': 1671, '청청': 1672, '버': 1673, '들어서': 1674, '빠져들': 1675, '동비': 1676, '링': 1677, '무심': 1678, '로버트': 1679, '여성미': 1680, '어라': 1681, '판': 1682, '라니': 1683, '설레이': 1684, '13': 1685, 'MXM': 1686, '촬영장': 1687, '#': 1688, '출두': 1689, '대명사': 1690, '공항': 1691, '황금': 1692, '17': 1693, '편안': 1694, '기다려': 1695, '경찰청': 1696, '석상': 1697, '인데': 1698, '망사': 1699, '휘': 1700, '예뻤': 1701, '반갑': 1702, '수염': 1703, '모먼트': 1704, '바': 1705, '기억': 1706, '숲': 1707, '요원': 1708, '영상': 1709, ']': 1710, '콧날': 1711, '작가': 1712, '시키': 1713, '했어요': 1714, '돌아보': 1715, '요리': 1716, '초대': 1717, '신경': 1718, '크롭': 1719, '후드': 1720, '극장': 1721, '젖': 1722, '위풍당당': 1723, '돼': 1724, '널': 1725, '쏙': 1726, '어마어마': 1727, '거짓말': 1728, '씩': 1729, '든든': 1730, '전한': 1731, '아역': 1732, '매너': 1733, '군대': 1734, '이젠': 1735, '괴물': 1736, '인방': 1737, '송': 1738, '보호': 1739, '체육관': 1740, '트레이닝': 1741, '아냐': 1742, '이협': 1743, '돔': 1744, '혀': 1745, '감격': 1746, '냉': 1747, '홍콩': 1748, '진심': 1749, '듀': 1750, '의사': 1751, '김': 1752, '홈': 1753, '수험': 1754, '대학': 1755, '팔색조': 1756, '광주': 1757, '바라': 1758, '발': 1759, '마네킹': 1760, '실': 1761, \"'..\": 1762, '기죽이': 1763, '남달라': 1764, '패': 1765, '배지현': 1766, '올랐': 1767, '반듯': 1768, '센': 1769, '나선': 1770, '메인': 1771, '까': 1772, '집행유예': 1773, '찔': 1774, '때문': 1775, '쓴': 1776, '오렌지': 1777, '헉': 1778, '청년': 1779, '조': 1780, '대본': 1781, '이웃': 1782, '티셔츠': 1783, '애국가': 1784, '최초': 1785, '활': 1786, '일본': 1787, '팜': 1788, '재밌': 1789, '리우스': 1790, '킹': 1791, '담당': 1792, '운': 1793, '인지': 1794, '찬란': 1795, '가이': 1796, '관리': 1797, '의리': 1798, '함박': 1799, '넌': 1800, '이름': 1801, '군복': 1802, '놀라': 1803, '여우': 1804, 'DJ': 1805, '동고': 1806, '문': 1807, '눈부시': 1808, '와인': 1809, '새댁': 1810, '죽': 1811, '15': 1812, '강승현': 1813, '디오': 1814, '리얼': 1815, '우린': 1816, \"..'\": 1817, '앞트임': 1818, '대사': 1819, '뱅': 1820, '변호사': 1821, '두산': 1822, '화장': 1823, '스페셜': 1824, '셔서': 1825, '프로젝트': 1826, '택트': 1827, '나른': 1828, '플래시': 1829, '추석': 1830, '바른': 1831, '산다': 1832, '달라': 1833, '축제': 1834, '터치': 1835, '고수': 1836, '아나': 1837, '어쩜': 1838, '스틸러': 1839, '제주': 1840, '오픈': 1841, '싱어': 1842, '할리': 1843, '염색': 1844, '롯': 1845, '강조': 1846, '충무로': 1847, '댁': 1848, '한겸': 1849, '수상자': 1850, '바라봐': 1851, '뭉': 1852, '천상계': 1853, '운전': 1854, '인기상': 1855, '우윳빛': 1856, '오징어': 1857, '반할': 1858, '세사': 1859, '만발': 1860, '참여': 1861, '..`': 1862, '광부': 1863, '엑스': 1864, '만기': 1865, '힙합': 1866, '울리': 1867, '수험표': 1868, 'KPMA': 1869, '맏': 1870, '산책': 1871, '라디오': 1872, '불끈': 1873, '울': 1874, '빚': 1875, '꽃밭': 1876, '코믹': 1877, '마다': 1878, '복고': 1879, '마주치': 1880, '인터뷰': 1881, '모르': 1882, '이것': 1883, '당기': 1884, '개그맨': 1885, '크림': 1886, 'B': 1887, '간': 1888, '다소곳': 1889, '번쩍': 1890, 'ing': 1891, '홀리': 1892, '나가': 1893, '남녀': 1894, '듬뿍': 1895, '\"…\\'': 1896, '단정': 1897, '였': 1898, '주의': 1899, 'TV': 1900, '미스트': 1901, '비하인드': 1902, '남매': 1903, '옆트임': 1904, '모아': 1905, '플': 1906, '이란': 1907, '칸': 1908, '중년': 1909, '대기': 1910, '쳤': 1911, '봐요': 1912, '몬': 1913, '통령': 1914, '빼': 1915, '디스코': 1916, '흩날리': 1917, '안희연': 1918, '마이크': 1919, '선명': 1920, '하이': 1921, '무늬': 1922, '깔': 1923, '슬림': 1924, '가졌': 1925, '침대': 1926, '근육': 1927, '완전': 1928, 'MGA': 1929, '깨물': 1930, '음반': 1931, '표현': 1932, '힘내': 1933, '차림': 1934, '온라인': 1935, '피아노': 1936, '핑': 1937, '다문': 1938, '작렬': 1939, '중독': 1940, '화끈': 1941, '샛별': 1942, '잔': 1943, '잡힌': 1944, '화기애애': 1945, '쓰리': 1946, '소개': 1947, '거들': 1948, '펼치': 1949, '서비스': 1950, '14': 1951, '18': 1952, '고생': 1953, '둥': 1954, '완': 1955, '록': 1956, '엣지': 1957, '옹': 1958, '태평양': 1959, '{': 1960, '최희': 1961, '노홍철': 1962, '국보': 1963, \"''\": 1964, '=': 1965, 'EP': 1966, '헤': 1967, '채우': 1968, '복면': 1969, '휴식': 1970, '비드': 1971, '묶': 1972, '기적': 1973, '고백': 1974, '연주': 1975, '예뻐요': 1976, 'LE': 1977, '화관': 1978, '뱀파이어': 1979, '흥부': 1980, '걸어다니': 1981, '묻': 1982, '진한': 1983, '넣': 1984, '매끈': 1985, '들어도': 1986, '섬세': 1987, '싸': 1988, '의인화': 1989, '포옹': 1990, '움직이': 1991, '김호중': 1992, '고등학생': 1993, '붕어빵': 1994, '묘': 1995, '추워': 1996, '후배': 1997, '보여도': 1998, '충성': 1999, '쉿': 2000, '검사': 2001, '한줌': 2002, '롱부츠': 2003, '빈틈': 2004, '시대': 2005, '주장': 2006, '깡패': 2007, '알바': 2008, '현': 2009, '면서': 2010, '국': 2011, '종결자': 2012, '16': 2013, '입국': 2014, 'ENOi': 2015, '자아내': 2016, '선후배': 2017, '끄': 2018, '라면': 2019, '수많': 2020, '가까이': 2021, '선생': 2022, '꽃사슴': 2023, '잉': 2024, '그냥': 2025, '엄청난': 2026, '칭찬': 2027, '질': 2028, '몰카': 2029, '누': 2030, '맏형': 2031, '관심': 2032, '자축': 2033, '모태': 2034, '레트': 2035, '숙녀': 2036, '도하': 2037, '잇': 2038, '성인': 2039, '퍼': 2040, '성우': 2041, '~‘': 2042, '중심': 2043, '골드': 2044, 'SNS': 2045, '전하': 2046, '채운': 2047, '거꾸로': 2048, '계속': 2049, '다섯': 2050, '이리': 2051, '므파탈': 2052, '음란물': 2053, '잊혀진': 2054, '산': 2055, '짜릿': 2056, '기타': 2057, '떠오르': 2058, '어땠': 2059, '강철': 2060, '카페': 2061, '냐': 2062, '명곡': 2063, '벨벳': 2064, '댄서': 2065, '자유': 2066, '자르': 2067, '생기': 2068, '거침없': 2069, '흑': 2070, '용': 2071, '총알': 2072, '박성광': 2073, '개구쟁이': 2074, '듀오': 2075, '잖아': 2076, '샤프': 2077, '배꼽': 2078, '커다란': 2079, '대형': 2080, '뽀얀': 2081, '다고': 2082, '뻗': 2083, '강홍': 2084, '48': 2085, '가린': 2086, '리듬': 2087, '힘들': 2088, '에스': 2089, '에선': 2090, '콜라': 2091, '새빨간': 2092, '대학생': 2093, '송이': 2094, '신흥': 2095, '섭': 2096, '우': 2097, '박장': 2098, '아만': 2099, '잘생겨': 2100, '고파': 2101, '남신': 2102, '은근': 2103, '베레모': 2104, '선한': 2105, '미리': 2106, '프리': 2107, '열려': 2108, '모으': 2109, '북좌': 2110, '충만': 2111, '낸': 2112, '강추위': 2113, '날씬': 2114, '댄싱': 2115, '굿': 2116, '사배': 2117, '걱정': 2118, '광고': 2119, '스타일리시': 2120, '커': 2121, '깜놀': 2122, '32': 2123, '빵빵': 2124, '컨셉': 2125, '고민': 2126, '은발': 2127, '해병대': 2128, '즐겨': 2129, '보복': 2130, '간담회': 2131, '성폭행': 2132, '메기': 2133, '볼살': 2134, '매': 2135, '다크': 2136, '롬': 2137, 'OK': 2138, '장난': 2139, '위크': 2140, '한껏': 2141, '편': 2142, '강자': 2143, '또렷': 2144, '42': 2145, '발표회': 2146, 'CG': 2147, '익살': 2148, '핸섬': 2149, '인자': 2150, '반박': 2151, '사실': 2152, '해외': 2153, 'W': 2154, '민소매': 2155, '검': 2156, '노': 2157, '기뻐요': 2158, '모인': 2159, '약속': 2160, '민': 2161, '다녀올': 2162, '삼총사': 2163, '벚꽃': 2164, '41': 2165, '광': 2166, '께': 2167, '색다른': 2168, '징역': 2169, '실력파': 2170, '팔뚝': 2171, '코드': 2172, '쥐': 2173, '귀걸이': 2174, '판타지': 2175, '소화력': 2176, '가왕': 2177, '손연재': 2178, '천': 2179, '구릿빛': 2180, '장르': 2181, '퇴장': 2182, '44': 2183, '쌍둥이': 2184, '붙': 2185, '리지': 2186, '생애': 2187, '마이': 2188, '사장': 2189, '보이즈': 2190, '노란': 2191, '긴장감': 2192, '권': 2193, '시사회': 2194, '항상': 2195, '확정': 2196, '날개': 2197, '말해요': 2198, '범': 2199, '스쿨': 2200, '즐겁': 2201, '일곱': 2202, '부대': 2203, '그린': 2204, '결정체': 2205, '국가': 2206, '동반': 2207, '부른다': 2208, '지방': 2209, '비결': 2210, '불후': 2211, '생겨': 2212, '법': 2213, '예쁘다': 2214, '떴': 2215, '기대감': 2216, '나타난': 2217, '풍기': 2218, '높이': 2219, '와이드': 2220, '전홍': 2221, '놓': 2222, '줌': 2223, '하얀': 2224, '소장': 2225, '골프': 2226, '재': 2227, '고맙': 2228, '출': 2229, '셀프': 2230, '김이나': 2231, '새신랑': 2232, '금': 2233, '만렙': 2234, '억': 2235, '빈틈없': 2236, '뒷모습': 2237, '아버지': 2238, '포기': 2239, '지후': 2240, '박력': 2241, '노을': 2242, '쟁이': 2243, '뷰티': 2244, '보정': 2245, '기본': 2246, '극치': 2247, '그저': 2248, '뭔들': 2249, '냥': 2250, '머릿결': 2251, '장미꽃': 2252, '소두': 2253, '싱그러움': 2254, '학': 2255, '21': 2256, '평범': 2257, '썼': 2258, '정리': 2259, '미팅': 2260, '준영': 2261, '찡긋': 2262, '즐거워': 2263, '키움': 2264, '천홍': 2265, '동니': 2266, '태': 2267, '정변': 2268, '언': 2269, '프로포폴': 2270, '삼매경': 2271, '첸': 2272, '소집': 2273, '골든': 2274, '목': 2275, '결': 2276, '가벼운': 2277, '진실': 2278, '젠틀맨': 2279, '빅': 2280, '갖': 2281, '야구팬': 2282, '보고회': 2283, '지쳐': 2284, '조연상': 2285, '벌': 2286, '이두희': 2287, '얼마나': 2288, '바쁜': 2289, '개최': 2290, '동작': 2291, '점프': 2292, '치인다': 2293, '영예': 2294, '염': 2295, '멜로디': 2296, '백조': 2297, '되찾': 2298, '정장': 2299, '켄': 2300, '가방': 2301, '톤': 2302, '스키니': 2303, '주목': 2304, '문제': 2305, '부른': 2306, '액션': 2307, '구름': 2308, '취한다': 2309, '모차르트': 2310, '데이': 2311, '무드': 2312, '우산': 2313, '호수': 2314, '환하': 2315, '담긴': 2316, '공손': 2317, '천상': 2318, '카펫': 2319, '함성': 2320, '데일리': 2321, '을까': 2322, '대한': 2323, '뷰': 2324, '무더위': 2325, '위원': 2326, '숙이': 2327, '꽁꽁': 2328, 'BX': 2329, 'KS': 2330, '저격수': 2331, '소울': 2332, '차원': 2333, '쏘': 2334, '회견': 2335, '빨리': 2336, '형신': 2337, '비글': 2338, '투게더': 2339, '무한': 2340, '절대': 2341, '고교': 2342, '스케줄': 2343, '갑': 2344, '및': 2345, '전성기': 2346, '머': 2347, '터': 2348, '방탄': 2349, '미국': 2350, '머신': 2351, '서동주': 2352, '몸짓': 2353, '형사': 2354, '썸': 2355, '교환': 2356, '봄날': 2357, '변치': 2358, '자진': 2359, '취해': 2360, '귀국': 2361, '유연': 2362, '걸음걸이': 2363, '던지': 2364, '술': 2365, '대제전': 2366, '뭉쳤': 2367, 'I': 2368, '46': 2369, 'Y': 2370, '여주인공': 2371, '베이': 2372, '홍': 2373, '짝': 2374, '추': 2375, '킥': 2376, '랍니다': 2377, '강인': 2378, '%': 2379, '짜리': 2380, '자켓': 2381, '먼저': 2382, '스타킹': 2383, '앵': 2384, '내게': 2385, '셀': 2386, '착용': 2387, '올리': 2388, '눈썹': 2389, '나날이': 2390, '올게요': 2391, '네일': 2392, '산하': 2393, '코요태': 2394, '살인': 2395, '회장': 2396, '창': 2397, '방문': 2398, '내성': 2399, '이미': 2400, '푸른': 2401, '어느': 2402, '립': 2403, 'OST': 2404, '초록': 2405, '마시': 2406, '외치': 2407, '패스': 2408, '43': 2409, '방긋': 2410, '일정': 2411, '잠옷': 2412, '다녀왔': 2413, '꾹': 2414, '라포': 2415, '흐르': 2416, '정열': 2417, '흥겨운': 2418, '스투': 2419, '가진': 2420, '모드': 2421, '이혼': 2422, '황금빛': 2423, '계절': 2424, '김나희': 2425, '악동': 2426, '만세': 2427, '싫': 2428, '스커트': 2429, '연예': 2430, '뉴': 2431, '잠긴': 2432, '대화': 2433, '알선': 2434, '우상': 2435, '학사모': 2436, '분장': 2437, '럽': 2438, '래도': 2439, '히어로': 2440, '쓸': 2441, '청량감': 2442, '두부': 2443, '훔치': 2444, '해야': 2445, '기록': 2446, '90': 2447, '파': 2448, '닝': 2449, '탁': 2450, '설레임': 2451, '미스코리아': 2452, '신예': 2453, '드러나': 2454, '충전': 2455, '싹': 2456, '저녁': 2457, 'LA': 2458, '땐': 2459, '포수': 2460, '손바닥': 2461, '던질': 2462, '보나': 2463, '신난': 2464, '예찬': 2465, '광대': 2466, '출발': 2467, '변함': 2468, '클라스': 2469, '새벽': 2470, '섹시해': 2471, '앵두': 2472, '출국': 2473, '역할': 2474, '투톤': 2475, '롤': 2476, '세대': 2477, '동백': 2478, '당찬': 2479, '동시': 2480, '이강성': 2481, '책': 2482, '악역': 2483, '따': 2484, '나르다': 2485, '사복': 2486, '’…': 2487, '베르': 2488, '반달': 2489, '푸근': 2490, '불변': 2491, '함박웃음': 2492, '성큼': 2493, '‘♥': 2494, '밝힌': 2495, '역주행': 2496, '야키': 2497, '진동': 2498, '작업': 2499, '＂': 2500, '청아': 2501, '묘한': 2502, '미안': 2503, '가지': 2504, '기린': 2505, '부족': 2506, '흐른다': 2507, '미친': 2508, '크기': 2509, '퇴근': 2510, '얼짱': 2511, '끈': 2512, '나쁜': 2513, '쎈': 2514, '베베': 2515, '미소녀': 2516, '랜드': 2517, '제복': 2518, '차세대': 2519, '궁금': 2520, '살린': 2521, '캔': 2522, '느끼': 2523, '人': 2524, '정혁': 2525, '바디': 2526, '절개': 2527, 'is': 2528, '조홍': 2529, '늦': 2530, '재회': 2531, '만끽': 2532, '배달': 2533, '소금': 2534, '뮤지션': 2535, '수훈': 2536, '쁨의': 2537, '보낸': 2538, '다음': 2539, '바이러스': 2540, '입학': 2541, '남성': 2542, '헹가래': 2543, '내밀': 2544, '립스틱': 2545, '돈': 2546, '청순가련': 2547, '음색': 2548, '만능': 2549, '스위트': 2550, '마쳤': 2551, '발견': 2552, '처': 2553, '댕댕이': 2554, '불타': 2555, '앙': 2556, '져요': 2557, '바닷가': 2558, '챙기': 2559, '동료': 2560, '후광': 2561, '인어공주': 2562, '강제': 2563, '다양': 2564, '때로': 2565, '대기실': 2566, '장난꾸러기': 2567, 'Aron': 2568, '용식': 2569, '격': 2570, '부상': 2571, '업도': 2572, '예의': 2573, '터프': 2574, '영홍': 2575, '건치': 2576, '어떻게': 2577, '들어가': 2578, '몇': 2579, '커트': 2580, '대마초': 2581, '쳐다보': 2582, '랩': 2583, '잉꼬부부': 2584, '깨알': 2585, '무관': 2586, '추가': 2587, '시청': 2588, '생각나': 2589, '에이리얼': 2590, '승': 2591, '조선': 2592, '열혈': 2593, '우파': 2594, '역행': 2595, '내린': 2596, '허윤진': 2597, '트리': 2598, '이사': 2599, '우유': 2600, '혼신': 2601, '엉덩이': 2602, 'vs': 2603, '갔': 2604, '안정환': 2605, '읽': 2606, '역동': 2607, '여고생': 2608, '24': 2609, '잔뜩': 2610, '위대': 2611, '부츠': 2612, '냈': 2613, '45': 2614, '개그우먼': 2615, '연가': 2616, '제천': 2617, '놀랄': 2618, '인연': 2619, '섹션': 2620, '이야': 2621, '뻔': 2622, '무색': 2623, '사격': 2624, '격리': 2625, '실감': 2626, '더위': 2627, '고스트': 2628, '뜨겁': 2629, '봉': 2630, '오피셜': 2631, '간식': 2632, '제주도': 2633, '色': 2634, '아트': 2635, '포근': 2636, '입담': 2637, '맞춰': 2638, '수찬': 2639, '넓': 2640, '다가': 2641, '복서': 2642, '하이힐': 2643, 'PO': 2644, '디지털': 2645, '뉴트': 2646, '산뜻': 2647, '녹화': 2648, '등산': 2649, '요대': 2650, '봉사': 2651, '주홍': 2652, '밑': 2653, '이태승': 2654, '모녀': 2655, '커버': 2656, '쑥스러운': 2657, '사인회': 2658, '부드럽': 2659, '내년': 2660, '빛난': 2661, '판소리': 2662, '폭행': 2663, '부끄러워': 2664, '뚜렷': 2665, '늙': 2666, '이국': 2667, '린': 2668, '무결': 2669, '행': 2670, '리딩': 2671, '라는': 2672, '어머나': 2673, '성큼성큼': 2674, '시험': 2675, '주자': 2676, '다인': 2677, '등교': 2678, '둘째': 2679, '원스': 2680, '대충': 2681, '부셔': 2682, '女心': 2683, '정직': 2684, '종영': 2685, '랜': 2686, '퇴근길': 2687, '효과': 2688, '나와': 2689, '공존': 2690, '동복': 2691, '똑같': 2692, '맵시': 2693, '줘서': 2694, '뾰로통': 2695, '마른': 2696, '천진난만': 2697, '레이디': 2698, '수편': 2699, '초점': 2700, '환호성': 2701, '성매매': 2702, '프로필': 2703, '장홍': 2704, '최종범': 2705, '타고난': 2706, '천만': 2707, '수척': 2708, '라도': 2709, '시동': 2710, '기운': 2711, '똘망똘망': 2712, '추행': 2713, '악수': 2714, '한잔': 2715, '착시': 2716, '랄까': 2717, '동영': 2718, '트임': 2719, '찰랑': 2720, '세미': 2721, '시티': 2722, '엔젤': 2723, '문체': 2724, '얼마': 2725, '상습': 2726, '할까요': 2727, '깐': 2728, '오묘': 2729, '연속': 2730, '최대치': 2731, '360': 2732, '180': 2733, '인천': 2734, '바보': 2735, '주얼': 2736, '가대': 2737, '어른': 2738, '박은태': 2739, '따스': 2740, '다녀오': 2741, '가운': 2742, '56': 2743, '평생': 2744, '꿀벅지': 2745, '희망': 2746, '男': 2747, '더블': 2748, '쿨': 2749, '난다': 2750, '화수분': 2751, '중후': 2752, '오브': 2753, '네버': 2754, '프로듀서': 2755, '파리': 2756, '26': 2757, '에프엑스': 2758, '심경': 2759, '스모키': 2760, '극복': 2761, '캐럿': 2762, '선택': 2763, '차이': 2764, '반지': 2765, '쏟아지': 2766, '요요': 2767, '아쉬운': 2768, '한테': 2769, '라켓': 2770, '착한': 2771, '나누': 2772, '수려': 2773, '배웅': 2774, '바꾸': 2775, '마이클': 2776, '반쪽': 2777, '뉴욕': 2778, '마법': 2779, '드리': 2780, '배드': 2781, '하모니': 2782, '총총': 2783, '프린': 2784, '길이': 2785, '불러': 2786, '풋': 2787, '웃음꽃': 2788, '녀석': 2789, '포니테일': 2790, '얼음': 2791, '꽃무늬': 2792, '수다': 2793, '돋': 2794, '매니저': 2795, '래': 2796, '머리띠': 2797, '차량': 2798, '사극': 2799, '도착': 2800, '25': 2801, '안방': 2802, '감탄사': 2803, '예감': 2804, '한림': 2805, '연기자': 2806, '내려온': 2807, '드릴': 2808, '넘나드': 2809, '너무나': 2810, '달리': 2811, '길래': 2812, '작정': 2813, '영혼': 2814, '키아라': 2815, '연예계': 2816, '당길': 2817, '테이': 2818, '최재욱': 2819, '꽂': 2820, '협박': 2821, '뼘': 2822, '찰': 2823, '새내기': 2824, '못한': 2825, '정희': 2826, '강속구': 2827, '大': 2828, '동훈': 2829, '어깨동무': 2830, 'R': 2831, '스무': 2832, '꾸민': 2833, '소속': 2834, '누난': 2835, '앞서': 2836, '동': 2837, '찌': 2838, '임하': 2839, '전설': 2840, '보타이': 2841, '위로': 2842, '최애': 2843, '아쉬움': 2844, '누워': 2845, '고척': 2846, '경기': 2847, '치어리더': 2848, '최준성': 2849, '싱크로': 2850, '딩동': 2851, '톡': 2852, '병아리': 2853, '폼나게': 2854, '카': 2855, '경쾌': 2856, '지나': 2857, '미초': 2858, '말랐': 2859, '어게인': 2860, '심플': 2861, '비디오': 2862, '남다르': 2863, '확인': 2864, '피곤': 2865, '보답': 2866, '우승': 2867, '해체': 2868, '틸': 2869, '온몸': 2870, '쪼': 2871, '보고': 2872, '바넘': 2873, '컸': 2874, '어택': 2875, '안방마님': 2876, '폭소': 2877, '정홍': 2878, '장가': 2879, '평상': 2880, '화답': 2881, '셰프': 2882, '갑자기': 2883, '맛있': 2884, '군인': 2885, '맡겨': 2886, '아저씨': 2887, '튜브': 2888, '❤': 2889, '곱': 2890, '어제': 2891, '세트': 2892, 'SM': 2893, '단독': 2894, '가만히': 2895, '감싸': 2896, '구두': 2897, 'FT': 2898, '순홍': 2899, '아일랜드': 2900, '오가': 2901, '낮': 2902, '개봉': 2903, '도자기': 2904, '쯤': 2905, '틸러': 2906, '동주': 2907, '방정': 2908, '총출동': 2909, '주변': 2910, '예쁜데': 2911, '봄여름가을겨울': 2912, '텐션': 2913, '올백': 2914, '젠': 2915, '퀴리': 2916, '동리': 2917, '우열': 2918, '55': 2919, '농구장': 2920, '웩': 2921, '옅': 2922, '마음씨': 2923, '성탄절': 2924, '장식': 2925, '신스': 2926, '땋': 2927, '전원': 2928, '놀이': 2929, '버리': 2930, '육아': 2931, '당신': 2932, '흘러': 2933, '민트': 2934, '묵직': 2935, '넥센': 2936, '당황': 2937, '23': 2938, '하이파': 2939, '신발': 2940, '탈': 2941, '환생': 2942, '튀어나온': 2943, '신입': 2944, '박재범': 2945, '이별': 2946, '곰': 2947, 'A': 2948, '까까머리': 2949, '현란': 2950, '강릉': 2951, '보미': 2952, '넘버원': 2953, '숙여': 2954, '맞추': 2955, '땀': 2956, '한화': 2957, '전도': 2958, 'Not': 2959, '쌀': 2960, '장만': 2961, '앙상블': 2962, '정': 2963, '소나무': 2964, '올라': 2965, '바둑': 2966, '어딜': 2967, '충격': 2968, '선사': 2969, '상처': 2970, '사자': 2971, '35': 2972, '미니스커트': 2973, '떨린다': 2974, '혼': 2975, '입맞춤': 2976, '은데': 2977, '바이': 2978, '코리아': 2979, '29': 2980, '열기': 2981, '관람': 2982, '광화문': 2983, '서머': 2984, '토크': 2985, '동정': 2986, '그라운드': 2987, '개념': 2988, '부러워': 2989, '쳐': 2990, '최선': 2991, '여의도': 2992, '잔망': 2993, '47': 2994, '루키': 2995, '채원': 2996, '심려': 2997, '캐': 2998, '패션쇼': 2999, '신중': 3000, '장전': 3001, '어필': 3002, '부천': 3003, '담담': 3004, '22': 3005, '아님': 3006, '만족': 3007, '오후': 3008, '新': 3009, '근육질': 3010, '본명': 3011, '야구공': 3012, '일자': 3013, '성수기': 3014, '로건': 3015, '똥': 3016, '카프': 3017, '파란': 3018, '터졌': 3019, '관문': 3020, '낫': 3021, '버스': 3022, '그리고': 3023, '흠뻑': 3024, '당': 3025, '도홍': 3026, '삼촌': 3027, '추모': 3028, '쑥': 3029, '바이크': 3030, '정신': 3031, '볼래': 3032, '실사': 3033, '탈출': 3034, '치킨': 3035, '덮': 3036, '방시혁': 3037, '기다렸': 3038, '레벨': 3039, '이벤트': 3040, '우아미': 3041, '잠깐': 3042, '픈': 3043, '사기': 3044, '이건': 3045, '캔디': 3046, '대장': 3047, '문지애': 3048, '간다': 3049, '선녀': 3050, '우먼': 3051, '배경': 3052, '귀염둥이': 3053, '바뀐': 3054, '덤덤': 3055, '자카': 3056, '형광': 3057, '버전': 3058, '백만': 3059, '도경완': 3060, '배트': 3061, '셔터': 3062, '그리스': 3063, '드림콘서트': 3064, '꾸며': 3065, '어린이': 3066, '신선': 3067, '자랐': 3068, '어여쁜': 3069, '그렇': 3070, '떨려': 3071, '야수': 3072, '닮은꼴': 3073, '다채': 3074, '취향': 3075, '울컥': 3076, '캐주얼': 3077, '리그': 3078, 'NO': 3079, '미래': 3080, '개미': 3081, '전동석': 3082, '사죄': 3083, '중국': 3084, '무지개': 3085, '풍성': 3086, '보디라인': 3087, '초췌': 3088, '놀토': 3089, '헬리콥터': 3090, '태국': 3091, '오똑': 3092, '제창': 3093, '덕담': 3094, '대선': 3095, '라떼': 3096, '매서운': 3097, '발라': 3098, '변정': 3099, '샬': 3100, '삶': 3101, '자비': 3102, '줄게': 3103, '게요': 3104, '천옥': 3105, '젊': 3106, '보통': 3107, '뻥': 3108, '체리': 3109, '거친': 3110, '창가': 3111, '필름': 3112, '공인': 3113, '38': 3114, '故': 3115, '백만불': 3116, '딜리버리': 3117, '학생': 3118, '남우': 3119, '베트남': 3120, '버린': 3121, '파트라': 3122, '총': 3123, '삼켰': 3124, '취재': 3125, '실버': 3126, '오버': 3127, '딸기': 3128, '날아올라': 3129, '몰': 3130, '동글동글': 3131, '설명': 3132, '살아남': 3133, '한수': 3134, 'CF': 3135, '표본': 3136, '할까': 3137, ')': 3138, '전계수': 3139, '신인선': 3140, '라이징': 3141, '썬': 3142, '꼬부기': 3143, '묻어나': 3144, '상추': 3145, '벨': 3146, '턴': 3147, '만삭': 3148, '딩': 3149, '짐승돌': 3150, '`,': 3151, '뜨': 3152, '선거': 3153, '합시다': 3154, '설민석': 3155, '라메': 3156, '못지': 3157, '대열': 3158, '박성원': 3159, '필터': 3160, '노력': 3161, '감정': 3162, '넥스트': 3163, '영화배우': 3164, '용의자': 3165, '개그': 3166, '허': 3167, '손길': 3168, '무죄': 3169, '사고': 3170, '캠핑': 3171, '리스': 3172, '간절': 3173, '익': 3174, '승무원': 3175, '전주국': 3176, '무공': 3177, '유치장': 3178, '어엿': 3179, '팬츠': 3180, '황동준': 3181, '모': 3182, '날려': 3183, '작사': 3184, '백마': 3185, '어떡': 3186, '샤워': 3187, '%\"': 3188, '로코': 3189, 'T': 3190, '아자': 3191, '양홍': 3192, '직구': 3193, '환영': 3194, '펌': 3195, '선정': 3196, '리스트': 3197, '일으키': 3198, '홀': 3199, '바르': 3200, '알콩달콩': 3201, '살림': 3202, '라서': 3203, '뭉클': 3204, '와요': 3205, '보관': 3206, '쉽니다': 3207, '화제': 3208, '판타스틱': 3209, '통': 3210, '조카': 3211, '패기': 3212, '괜히': 3213, '과다': 3214, '나타났': 3215, '김연아': 3216, '아쉬워': 3217, '라운': 3218, '챌': 3219, '리틀': 3220, '리나': 3221, '주세요': 3222, '뜻깊': 3223, '37': 3224, '렘': 3225, '자란': 3226, '리허설': 3227, '으리으리': 3228, '꽃길': 3229, '메시지': 3230, '위원장': 3231, '도깨비': 3232, '흠': 3233, '모범': 3234, '귀수': 3235, '부일': 3236, 'CEO': 3237, '샤랄': 3238, '엘': 3239, '쌈디': 3240, '곽': 3241, '신새': 3242, '손잡': 3243, '청정': 3244, '람': 3245, '친절': 3246, '여대생': 3247, '복숭아': 3248, '충분': 3249, 'TEAM': 3250, '근엄': 3251, '웅': 3252, '운명': 3253, '중학교': 3254, '여동생': 3255, '피해': 3256, '화장기': 3257, '해져': 3258, '육군': 3259, '고향': 3260, '재벌': 3261, '골': 3262, '엄청': 3263, '검법': 3264, '여섯': 3265, '일취월장': 3266, '벌레': 3267, '유기': 3268, '무무': 3269, '뚫린': 3270, '채경': 3271, '영어': 3272, '플레이': 3273, '본격': 3274, '장갑': 3275, '...': 3276, '곁': 3277, '㎏': 3278, '풍덩': 3279, '자타': 3280, '초임': 3281, '선언': 3282, '구나': 3283, '엉뚱': 3284, '동우': 3285, '마스코트': 3286, '음료': 3287, '꽃향기': 3288, '이래': 3289, '타자': 3290, '신보': 3291, '선율': 3292, '꼬꼬': 3293, '기도': 3294, '귀가': 3295, '흡수': 3296, '감홍': 3297, '조기': 3298, '무서운': 3299, '손님': 3300, '오스카': 3301, '좌': 3302, '멈추': 3303, '동준': 3304, '틈': 3305, '늑대': 3306, '던져요': 3307, '브랜드': 3308, '그만': 3309, '월요병': 3310, '이모': 3311, '도굴': 3312, '작곡가': 3313, '日': 3314, '떨': 3315, '퐁당': 3316, '기쁜': 3317, '수업': 3318, '축가': 3319, '허그': 3320, '아홉': 3321, '역사': 3322, '강희': 3323, '34': 3324, '동원': 3325, '최우수': 3326, '추워도': 3327, '일으켜': 3328, '안겨': 3329, '플라워': 3330, '관련': 3331, \"~!'\": 3332, '자홍': 3333, '풍': 3334, '혼산': 3335, '카운트': 3336, '장지': 3337, '운동복': 3338, '젓가락': 3339, '축구': 3340, '지배': 3341, '뿔테': 3342, '쇼맨': 3343, '재치': 3344, '봉중근': 3345, '찰랑이': 3346, '떼': 3347, '이거': 3348, '나무': 3349, '올스타': 3350, '로워': 3351, '은광': 3352, '페스티벌': 3353, '그래도': 3354, '28': 3355, '떡': 3356, '수놓': 3357, '트윈스': 3358, '간직': 3359, '애틋': 3360, 'BIFAN': 3361, '레기': 3362, '예사': 3363, '위험': 3364, '동호': 3365, '성관': 3366, '병장': 3367, '재미': 3368, '방금': 3369, '톱스타': 3370, '무한도전': 3371, '들썩': 3372, '특집': 3373, '황바울': 3374, '사냥': 3375, 'or': 3376, '퇴폐': 3377, '빌보드': 3378, '대륙': 3379, '체질': 3380, '피자': 3381, '황태자': 3382, '확실': 3383, '새롭': 3384, '부탁드려요': 3385, '로코퀸': 3386, '런닝맨': 3387, '가을밤': 3388, '기부': 3389, '한데': 3390, '팅': 3391, '볼까요': 3392, '남기': 3393, '투혼': 3394, '김지철': 3395, '긍정': 3396, '이글이글': 3397, '수리': 3398, '뇌쇄': 3399, '달린': 3400, '끼쳐': 3401, '27': 3402, '주인': 3403, '조신': 3404, 'CL': 3405, '북': 3406, '류': 3407, '백설': 3408, '졸업앨범': 3409, 'APAN': 3410, '휴가': 3411, '넥타이': 3412, '뛰어넘': 3413, '갈치': 3414, '탔': 3415, '의연': 3416, '라이프': 3417, '야성미': 3418, '조화': 3419, '발열': 3420, '재미있': 3421, '솟': 3422, '처리': 3423, '시킨': 3424, '모은': 3425, '알록달록': 3426, '휘찬': 3427, '걸어오': 3428, '특수': 3429, '끌': 3430, '꼬미': 3431, '떡소': 3432, '맥주': 3433, '미코': 3434, \"'...\": 3435, '싹둑': 3436, '며느리': 3437, '무사히': 3438, '뷰티풀': 3439, '언론': 3440, '뭉친': 3441, '가냘픈': 3442, '재개': 3443, '된다': 3444, '안홍': 3445, '은혜': 3446, '폭격': 3447, '방역': 3448, '다비': 3449, '클럽': 3450, '싱': 3451, '이마': 3452, '벽화': 3453, '려고': 3454, '이겨': 3455, '과거': 3456, '들어갑니다': 3457, '33': 3458, '춥': 3459, '합동': 3460, '흘러넘치': 3461, '넘버': 3462, '공로상': 3463, '정성': 3464, '수정': 3465, '반바지': 3466, '주한': 3467, '★': 3468, '옥': 3469, '수식어': 3470, '모였': 3471, '하다': 3472, '결과': 3473, '났': 3474, '흔들림': 3475, '꼴': 3476, '벳': 3477, '로움': 3478, '투표소': 3479, '훌쩍': 3480, '목보': 3481, '탑승': 3482, '악녀': 3483, '예뻐질': 3484, '떨군': 3485, '부인': 3486, '멀리서': 3487, '뿌듯': 3488, '뺀': 3489, '뱅크': 3490, '민폐': 3491, '건강히': 3492, '깨끗': 3493, '구장': 3494, '진행자': 3495, '만화책': 3496, '귀신': 3497, '럭키': 3498, '느': 3499, '위즈': 3500, '추운': 3501, '드라': 3502, '예능인': 3503, '아송': 3504, '정확': 3505, '영원히': 3506, '지내': 3507, '뚜': 3508, '씹': 3509, '할로윈': 3510, '열광': 3511, '고유': 3512, '추리': 3513, '놈': 3514, '감기': 3515, '애교만점': 3516, '입가': 3517, '의외': 3518, '맞춘': 3519, '취미': 3520, '하네': 3521, '동물': 3522, '연기력': 3523, '이즈': 3524, '부장': 3525, '핸': 3526, '규': 3527, '지법': 3528, '로망스': 3529, '도령': 3530, '멈췄': 3531, '정조준': 3532, '무엇': 3533, '주찬': 3534, '구경': 3535, '짱': 3536, '실래요': 3537, '흥행': 3538, '콘': 3539, '중계': 3540, '씩씩': 3541, '스타트업': 3542, '안무가': 3543, '요홍': 3544, '자상': 3545, 'F': 3546, '탈색': 3547, '위촉': 3548, '코미디': 3549, '게인': 3550, '그날': 3551, '꿈꾸': 3552, '신났': 3553, '글러브': 3554, '출사표': 3555, '투어': 3556, '켄타': 3557, '재한': 3558, '자라': 3559, '도둑': 3560, '그램': 3561, '발그레': 3562, '꼬리': 3563, '떡볶이': 3564, '녹두': 3565, '보드': 3566, '멍한': 3567, '실루엣': 3568, '넘겨': 3569, '따라와': 3570, '호소력': 3571, '쇼핑': 3572, '셀린': 3573, '정조국': 3574, '자른': 3575, '여보': 3576, '맨발': 3577, 'JM': 3578, '쓰여': 3579, '쩍': 3580, '달려': 3581, '뛰': 3582, '초콜릿': 3583, '49': 3584, '트랙': 3585, '홈즈': 3586, '굽': 3587, '짜': 3588, '전달': 3589, '길거리': 3590, '미드나잇': 3591, 'LOVE': 3592, '이솔': 3593, '대단': 3594, '장신': 3595, '부럽': 3596, '반가워': 3597, '히트': 3598, '사제': 3599, '비상': 3600, '마세요': 3601, '이어': 3602, '동참': 3603, '설탕': 3604, '감치': 3605, '옐로우': 3606, '주머니': 3607, '부드러움': 3608, '박문': 3609, '연휴': 3610, '셜': 3611, '핵': 3612, '이옥섭': 3613, '작년': 3614, '복고풍': 3615, 'U': 3616, '제발': 3617, '입증': 3618, '변화': 3619, '이곳': 3620, '배해선': 3621, '데칼코마니': 3622, '홀쭉': 3623, '봐서': 3624, '사세요': 3625, '식': 3626, '안고': 3627, '이쁜': 3628, '전시회': 3629, '갈림길': 3630, 'M': 3631, '잠': 3632, '흔들리': 3633, '구속영장': 3634, '개막식': 3635, '소문': 3636, '트렌디': 3637, '삭발': 3638, '설렜': 3639, '부러운': 3640, '대만': 3641, '170': 3642, '몰입': 3643, '대잔치': 3644, '혜': 3645, '걸스': 3646, '팀워크': 3647, '뼈': 3648, '화이트로': 3649, '이쁘': 3650, '경험': 3651, '죄': 3652, '들썩이': 3653, '질끈': 3654, '됩니다': 3655, '마주친': 3656, '응시': 3657, '피니시': 3658, '암행어사': 3659, '종료': 3660, '뽑': 3661, '39': 3662, '캐스팅': 3663, '기생충': 3664, '미디어': 3665, '기대주': 3666, '끝내': 3667, '반성': 3668, '31': 3669, '프로그램': 3670, 'm': 3671, '지기': 3672, '빠른': 3673, '쌍꺼풀': 3674, '라스트': 3675, '애니': 3676, '먼': 3677, '차홍': 3678, '앳된': 3679, '히트맨': 3680, '통화': 3681, '스나이퍼': 3682, '윰': 3683, '깊이': 3684, '피처': 3685, '끼리': 3686, '어쩌다': 3687, '키드': 3688, '기습': 3689, '효주': 3690, '올림머리': 3691, '샘': 3692, '체조': 3693, '사이즈': 3694, '구정화': 3695, '배구': 3696, '더하기': 3697, '마음껏': 3698, '신영숙': 3699, '가르마': 3700, '보장': 3701, '열매': 3702, '셜록': 3703, '끌어안': 3704, '\\'…\"': 3705, '야홍': 3706, '갸름': 3707, '여주': 3708, '대답': 3709, '호랑이': 3710, '이창명': 3711, '구형': 3712, '심리': 3713, '어려진': 3714, '제법': 3715, '요청': 3716, '품위': 3717, '승부': 3718, '신기': 3719, '방과': 3720, '대로': 3721, '출동': 3722, '전사': 3723, '해야죠': 3724, '공감': 3725, '뿌까': 3726, '영웅본색': 3727, '회동': 3728, '내려놓': 3729, '짧아진': 3730, '전자': 3731, '꺄르르': 3732, '눈인사': 3733, '통일': 3734, '착': 3735, '바닥': 3736, '철통': 3737, '목걸이': 3738, '체': 3739, '빨': 3740, '쉽': 3741, '골든글러브': 3742, '소통': 3743, '무게': 3744, '라이어': 3745, '뭉이': 3746, 'HIP': 3747, '스포트라이트': 3748, '남주': 3749, '활기찬': 3750, '브라': 3751, '세종': 3752, '동오': 3753, '광장': 3754, '브레인': 3755, '장제원': 3756, '심문': 3757, '댕댕': 3758, '라온': 3759, '첫눈': 3760, '성실': 3761, 'DNA': 3762, '시청자': 3763, '률': 3764, 'THE': 3765, '민망': 3766, '보이프렌드': 3767, '眞': 3768, '디저트': 3769, '상냥': 3770, '52': 3771, '레이저': 3772, '누드': 3773, '질러': 3774, '태풍': 3775, '노크': 3776, '폴더': 3777, '봄꽃': 3778, '듀스': 3779, '츠비': 3780, '절제': 3781, '장각': 3782, '잘못': 3783, '부러질': 3784, '최우': 3785, '랭': 3786, '살리': 3787, '관중': 3788, '정식': 3789, '주근깨': 3790, '국카스텐': 3791, '와우': 3792, '물결': 3793, '차차': 3794, '\"♥': 3795, '母': 3796, '벽': 3797, '밴': 3798, '정갈': 3799, '이른': 3800, '꼰대': 3801, '김제동': 3802, '정상': 3803, '개막': 3804, '입주': 3805, '곰돌이': 3806, '꽃가루': 3807, '365': 3808, '실망': 3809, '넥': 3810, '시점': 3811, '력': 3812, '돌아오': 3813, '차세찌': 3814, '포에버': 3815, '편지': 3816, '양보': 3817, '영화관': 3818, '썸머': 3819, '달빛': 3820, '뿌리': 3821, '당겨': 3822, '호텔': 3823, '듀엣': 3824, '발언': 3825, '큰절': 3826, '붙잡': 3827, '구멍': 3828, '어스': 3829, '관계': 3830, '벅찬': 3831, '경우': 3832, 'You': 3833, '의경': 3834, '이드': 3835, '레이스': 3836, '터닝': 3837, '부스스': 3838, '아카데미': 3839, '집사': 3840, '러스': 3841, '느껴져': 3842, '창작': 3843, '발차기': 3844, '피어싱': 3845, 'Love': 3846, '쯔': 3847, '오영주': 3848, '후회': 3849, '동부': 3850, '전지': 3851, '턱돌이': 3852, '포커스': 3853, '물의': 3854, '폰': 3855, '황홀': 3856, '軍': 3857, '자산어보': 3858, '발목': 3859, '돌파': 3860, '이건명': 3861, '월요일': 3862, '레디': 3863, '분홍': 3864, '어머니': 3865, '시장': 3866, '찌르': 3867, '팡': 3868, '가볍': 3869, '아웃렛': 3870, '지구': 3871, '마린': 3872, '상해': 3873, '증인': 3874, '쫑파티': 3875, '캠퍼스': 3876, '태그': 3877, '어머': 3878, '깜찍이': 3879, '잔디': 3880, '호령': 3881, '나눔': 3882, '온도': 3883, 'TOP': 3884, '지켜봐': 3885, '골반': 3886, '두아': 3887, '전신': 3888, '나올': 3889, '노리': 3890, '친근': 3891, '소송': 3892, '속옷': 3893, '부캐': 3894, '동네': 3895, '손톱': 3896, '제너': 3897, '멀': 3898, '101': 3899, '잡화점': 3900, '베이글': 3901, '(': 3902, '돼요': 3903, '열애': 3904, '오리': 3905, '블라우스': 3906, '칠': 3907, '일까': 3908, '특전': 3909, '때론': 3910, '동규': 3911, '캠페인': 3912, '폴짝': 3913, '입꼬리': 3914, '어쩔': 3915, '상상': 3916, '조작': 3917, '51': 3918, '신다': 3919, '갬': 3920, '구미호': 3921, '야식': 3922, '들리': 3923, '앙증': 3924, '물든': 3925, '개별': 3926, '스완': 3927, '동민': 3928, '하원미': 3929, '변호인': 3930, '연소': 3931, '독립': 3932, '대왕': 3933, '단장': 3934, '숨바꼭질': 3935, '신난다': 3936, '비교': 3937, '존': 3938, '흡연': 3939, '서프라이즈': 3940, '털털': 3941, '두기': 3942, '만개': 3943, 'Butter': 3944, '큐트': 3945, '타석': 3946, '동백꽃': 3947, '으뜸': 3948, '페': 3949, '흠잡': 3950, '자마자': 3951, '미쓰': 3952, '배구장': 3953, '클라': 3954, '껴도': 3955, '쑥스러워': 3956, '의자': 3957, '럭': 3958, '비치': 3959, '한때': 3960, '슬립': 3961, '풍선': 3962, '타오르': 3963, '서른': 3964, '모양': 3965, '맨투맨': 3966, '털': 3967, '벌크': 3968, '스릴러': 3969, '스푼': 3970, '삐': 3971, '前': 3972, '이렇': 3973, '우뚝': 3974, '석': 3975, 'KMDF': 3976, '플레이오프': 3977, '전국': 3978, '눈부심': 3979, '동그란': 3980, '다이너마이트': 3981, '참시': 3982, '사뿐': 3983, '데님': 3984, '리파': 3985, '의미': 3986, '참견': 3987, '축년': 3988, '영웅시대': 3989, '랄': 3990, '아파': 3991, '간만': 3992, '쏠린': 3993, '정미숙': 3994, '음식': 3995, '지키': 3996, '성추행': 3997, '해라': 3998, '인턴': 3999, '웃겨': 4000, '응': 4001, '다만': 4002, '냄새': 4003, '클로': 4004, '은별': 4005, '젯': 4006, '겸손': 4007, '이재명': 4008, '관능미': 4009, '광채': 4010, '불안': 4011, '아가': 4012, '안정': 4013, '로스': 4014, '동락': 4015, '입학식': 4016, '핼러윈': 4017, '락': 4018, '끈끈': 4019, '부시': 4020, '차가운': 4021, '홍일점': 4022, '농염': 4023, '본인': 4024, '투수': 4025, '춤사위': 4026, '남산': 4027, '각자': 4028, '진권': 4029, '동행': 4030, '루드윅': 4031, '웰컴': 4032, '빨강': 4033, '파드': 4034, '빛난다': 4035, '법칙': 4036, '아가씨': 4037, '전격': 4038, '적시': 4039, '파라다이스': 4040, '스토브': 4041, '크리스': 4042, '넋': 4043, '기세': 4044, '능감': 4045, '고독': 4046, '딛': 4047, '공포': 4048, '달라졌': 4049, '부끄부끄': 4050, '개막전': 4051, '도진': 4052, '소식': 4053, '탱': 4054, '수준': 4055, '악인': 4056, '마스터': 4057, '거스르': 4058, '몰랐': 4059, '전해': 4060, '식장': 4061, 'JYP': 4062, '선도': 4063, '영하': 4064, '中': 4065, '식구': 4066, '놀랐': 4067, '예약': 4068, '타임아웃': 4069, '연출가': 4070, '원래': 4071, '초코': 4072, 'BIFF': 4073, '즐거웠': 4074, '사생활': 4075, '몰라': 4076, '수준급': 4077, '와일드': 4078, '36': 4079, '랩퍼': 4080, '흘러넘쳐': 4081, '중무장': 4082, '동지': 4083, '고영욱': 4084, '고양': 4085, '왕관': 4086, '달구': 4087, '잡티': 4088, '도회': 4089, '군주': 4090, '대구': 4091, '단추': 4092, '도연': 4093, '모티브': 4094, '알려': 4095, '펄럭이': 4096, '허벅지': 4097, '나잇': 4098, '불렀': 4099, '합쳐': 4100, '유전자': 4101, '필라테스': 4102, '어느덧': 4103, '둘러싸여': 4104, '혹은': 4105, 'VS': 4106, '원더': 4107, '골프장': 4108, '보디가드': 4109, '지친': 4110, '살포시': 4111, '걸로': 4112, '드럼': 4113, '∙': 4114, '빠르': 4115, '탐정': 4116, '어야': 4117, '콩': 4118, '윙': 4119, 'VIP': 4120, '어울릴': 4121, '샘해밍턴': 4122, '킨': 4123, '어떻': 4124, '아담': 4125, '당당히': 4126, '요트': 4127, '발리': 4128, '어린이날': 4129, '올린': 4130, '훤히': 4131, '영향력': 4132, '삼광': 4133, '방법': 4134, '치과': 4135, '수술': 4136, '라이': 4137, '다비드': 4138, '로켓': 4139, '..“': 4140, '절세': 4141, 'G': 4142, '꼬마': 4143, '녹음': 4144, '란제리': 4145, '상쾌': 4146, '려': 4147, '박진열': 4148, '개그콘서트': 4149, '복수': 4150, '이토록': 4151, '보람': 4152, '귀여울': 4153, '동글': 4154, '철웅': 4155, '애프터': 4156, '터질': 4157, '호탕': 4158, '봄바람': 4159, '라인업': 4160, '제기차기': 4161, '빌': 4162, '엔터': 4163, '은근히': 4164, '덩어리': 4165, '신성': 4166, '오래': 4167, '천국': 4168, '써': 4169, '본식': 4170, '교차로': 4171, '바쁘': 4172, '미러': 4173, '강수정': 4174, '펴': 4175, '바퀴': 4176, '하고': 4177, '지적': 4178, '매료': 4179, '미트': 4180, '화들짝': 4181, '야생': 4182, '뒤흔드': 4183, '캠': 4184, '직': 4185, '너머': 4186, '닫': 4187, '아모르파티': 4188, '속눈썹': 4189, '문신': 4190, '살랑살랑': 4191, '복장': 4192, '레몬': 4193, '쥬얼': 4194, '기죽': 4195, '작곡': 4196, '윤진': 4197, '난해': 4198, '넬': 4199, '다더니': 4200, '가시나': 4201, '풍경': 4202, '성덕': 4203, '틱': 4204, '육대': 4205, '러닝': 4206, '아야': 4207, '렁': 4208, '콤비': 4209, '조우종': 4210, '교수': 4211, '어흥': 4212, '친분': 4213, '움직여': 4214, '모어': 4215, 'YES': 4216, '\\'..\"': 4217, '훈련병': 4218, '스칼렛': 4219, '꾸며도': 4220, '솜씨': 4221, '중단발': 4222, '정점': 4223, '프랑켄슈타인': 4224, '’,': 4225, '꾸밈없': 4226, '덜': 4227, '야무지': 4228, '왓': 4229, '균': 4230, '몬스터': 4231, '문수인': 4232, '버렸': 4233, '음악중심': 4234, '롯데': 4235, '황재균': 4236, '교통사고': 4237, '해변': 4238, '츠': 4239, '여제': 4240, '팅커벨': 4241, '트레이드': 4242, '↑': 4243, '몫': 4244, '테니스': 4245, '마네': 4246, '은빛': 4247, '자유분방': 4248, '살살': 4249, '이욱': 4250, '상반': 4251, '슬리퍼': 4252, '다재다능': 4253, '쿤': 4254, '지하철': 4255, '깃털': 4256, '시너지': 4257, '못지않': 4258, '정면': 4259, '홀린': 4260, '십': 4261, '더라': 4262, '거침없이': 4263, '구하': 4264, '임': 4265, '림': 4266, '이웃사촌': 4267, '구슬': 4268, '으': 4269, '호스트': 4270, '당나귀': 4271, '시준': 4272, '그립': 4273, '임박': 4274, '임성빈': 4275, '조영인': 4276, '차려': 4277, '대장인': 4278, '컬투쇼': 4279, '진아름': 4280, '선두': 4281, '♥”': 4282, '심각': 4283, '가디건': 4284, '통해': 4285, '가발': 4286, '청담동': 4287, '굿바이': 4288, '겸': 4289, '메피스토': 4290, '힙스터': 4291, '건네': 4292, '나비넥타이': 4293, '공부': 4294, '고음': 4295, '전문가': 4296, '윤홍': 4297, '낭만': 4298, '투모로우': 4299, '언니네': 4300, '목도리': 4301, '햄': 4302, '솜사탕': 4303, '과감히': 4304, '범죄': 4305, '초이스': 4306, '유튜브': 4307, '낳': 4308, '리호': 4309, '휴대폰': 4310, '들으며': 4311, '친한': 4312, '이태은': 4313, '점검': 4314, '셔': 4315, '오붓': 4316, '스물': 4317, '인도네시아': 4318, '韓': 4319, '자국': 4320, '말없이': 4321, '특유': 4322, '새초': 4323, '박사': 4324, '눈코': 4325, '동라': 4326, '착장': 4327, '찹쌀떡': 4328, '자전거': 4329, '전파': 4330, '동희': 4331, '통신': 4332, '엽': 4333, '다다': 4334, '비장': 4335, '화창': 4336, '뽐': 4337, '뒤돌아보': 4338, '어쩌': 4339, '성국': 4340, '캐슬': 4341, '레카': 4342, '비켜': 4343, '스피릿': 4344, '한창': 4345, '돋보인': 4346, '착잡': 4347, '린다': 4348, '실비': 4349, '잔잔': 4350, '는구나': 4351, '할머니': 4352, '전화': 4353, '프란': 4354, '슛': 4355, '시험장': 4356, '철저': 4357, '걸치': 4358, '정규수': 4359, '예뻐서': 4360, '픽': 4361, '꼼꼼': 4362, '미라클': 4363, '리건': 4364, '지니': 4365, '윤승열': 4366, '클래식': 4367, '생존': 4368, '/': 4369, '깜직': 4370, '조준': 4371, '코디': 4372, '계약': 4373, '휘어잡': 4374, '중요': 4375, '동재': 4376, '링링': 4377, '찰랑찰랑': 4378, '왕국': 4379, '텍': 4380, '아주': 4381, '승연': 4382, '무해': 4383, '연': 4384, '구리': 4385, '컬': 4386, '시계': 4387, '지리산': 4388, '노란색': 4389, '공략': 4390, '앓': 4391, '기다릴': 4392, '별빛': 4393, '원탑': 4394, '비오': 4395, '귀여우': 4396, '조용히': 4397, 'ON': 4398, '오토바이': 4399, '송민교': 4400, '는지': 4401, '갖춘': 4402, '동갑내기': 4403, '참가': 4404, 'JH': 4405, '생명': 4406, '스타트': 4407, '무조건': 4408, '본드': 4409, '응답': 4410, '패션왕': 4411, '공원': 4412, '섭섭': 4413, '뇌섹남': 4414, '다정다감': 4415, '슈퍼스타': 4416, '모여': 4417, '죽음': 4418, '다홍': 4419, '토요일': 4420, 'UV': 4421, '돌아온다': 4422, '한계': 4423, '엘사': 4424, '엔터테이너': 4425, '걸쳐도': 4426, '명예': 4427, '윤기': 4428, '와이프': 4429, '욕망': 4430, '자연광': 4431, '훈련': 4432, '동표': 4433, '성열': 4434, '개콘': 4435, '으라': 4436, '터져': 4437, '다니까': 4438, '탄성': 4439, '융': 4440, '부쩍': 4441, '활약': 4442, '비욘세': 4443, 'JYJ': 4444, '기일': 4445, '승자': 4446, '격렬': 4447, '남부': 4448, '아픔': 4449, '기르': 4450, '궁민': 4451, '하시시': 4452, '돌아올': 4453, '난감': 4454, '고홍': 4455, '얘': 4456, '키즈': 4457, '익숙': 4458, '캐리': 4459, '햇빛': 4460, '들어갔': 4461, '피하': 4462, '하늘하늘': 4463, '에스코트': 4464, '식사': 4465, '대위': 4466, '한서희': 4467, '나갑니다': 4468, '레인': 4469, '심서': 4470, '퍼플': 4471, '한방': 4472, '인가요': 4473, '자한': 4474, '방망': 4475, '빈센조': 4476, '반응': 4477, '기사': 4478, '부신': 4479, '정글': 4480, '풀풀': 4481, '아더': 4482, '트렌드': 4483, '문제없': 4484, '맞대': 4485, '♥..': 4486, '상견례': 4487, '맘마': 4488, '카디건': 4489, '판박이': 4490, '식스': 4491, '멈춘': 4492, '꾸몄': 4493, '다소': 4494, '스카프': 4495, '빠': 4496, '心': 4497, '부모': 4498, '쿤스': 4499, '추락': 4500, '감회': 4501, '조직': 4502, 'BC': 4503, '실수': 4504, '분방': 4505, '곱창': 4506, '가문': 4507, '얹': 4508, '슬픔': 4509, '블루칩': 4510, '동동': 4511, '장편': 4512, '털모자': 4513, '지켜': 4514, '목표': 4515, '수사대': 4516, '지검': 4517, '단골손님': 4518, '미션': 4519, '단풍': 4520, '녹인다': 4521, 'That': 4522, '한눈': 4523, 'XOXO': 4524, '카운티': 4525, '결국': 4526, '닥터': 4527, '비껴간': 4528, '반항아': 4529, '실패': 4530, '못하': 4531, '등극': 4532, '든지': 4533, '애슐리': 4534, '복지': 4535, '주일': 4536, '行': 4537, '결정': 4538, '포효': 4539, '걸렸': 4540, '동공': 4541, '173': 4542, '앵글': 4543, '철': 4544, '대전': 4545, '신들린': 4546, '이끌': 4547, 'BAD': 4548, '女': 4549, '웹툰': 4550, '유명': 4551, '결혼식장': 4552, '200': 4553, '결별': 4554, '다져진': 4555, '워라': 4556, '꽈당': 4557, '품절녀': 4558, '말문': 4559, '단골': 4560, '악마': 4561, '바람직': 4562, '퍼즐': 4563, '끊': 4564, '흰색': 4565, '삐딱': 4566, 'P': 4567, '배인': 4568, '박양우': 4569, '리예': 4570, '이만큼': 4571, '관능': 4572, '그리운': 4573, '권리': 4574, '변함없이': 4575, '노랑': 4576, '투척': 4577, '논산': 4578, '발레': 4579, '심금': 4580, '시그': 4581, '육': 4582, '축사': 4583, '웃음기': 4584, '태동': 4585, '베테랑': 4586, '불타오르': 4587, '아프': 4588, '회복': 4589, '칼바람': 4590, '블레스': 4591, '말씀': 4592, '날아가': 4593, '미쳤': 4594, '설화': 4595, '♥`': 4596, '타이거즈': 4597, '잇몸': 4598, '사뭇': 4599, '주체': 4600, '벙거지': 4601, '맏언니': 4602, '비친': 4603, '비행': 4604, '예정': 4605, '빠진다': 4606, '뒤집': 4607, '채홍': 4608, '르': 4609, '배틀': 4610, '증명사진': 4611, '향': 4612, '룸': 4613, '로라': 4614, '할리우드': 4615, '알아보': 4616, '펠트': 4617, \"…'\": 4618, '별밤': 4619, '실격': 4620, '천기': 4621, '동윤': 4622, '해치': 4623, '둔': 4624, '뽕': 4625, '파트너': 4626, '훌륭': 4627, '놓치': 4628, '물오르': 4629, '헬스': 4630, '콤': 4631, '슈퍼맨': 4632, \",,'\": 4633, '홍길동전': 4634, '크로스': 4635, '요조숙녀': 4636, '들어오': 4637, '무아지경': 4638, '아닙니다': 4639, '이뻐': 4640, '노린다': 4641, '짜잔': 4642, '던졌': 4643, '우성': 4644, '인질': 4645, '흔한': 4646, '잠자': 4647, '식당': 4648, '떰즈업': 4649, '금융': 4650, '흑조': 4651, '운전자': 4652, '꽁': 4653, '보따리': 4654, '꿇': 4655, '딜란': 4656, '브람스': 4657, '중앙': 4658, '어울려요': 4659, '찢어진': 4660, '마담': 4661, '트웬티': 4662, '불러요': 4663, '감고': 4664, '음직': 4665, '앗': 4666, '부채': 4667, '불참': 4668, '밤톨': 4669, '약': 4670, '챙겨': 4671, '왕후': 4672, '쏜다': 4673, '셔도': 4674, 'The': 4675, '넷플릭스': 4676, '인천항': 4677, '아이반': 4678, '흡입': 4679, '햄릿': 4680, '하홍': 4681, '크라운': 4682, '증량': 4683, '즐거움': 4684, '무한대': 4685, '깨우': 4686, '한가위': 4687, '아쉽': 4688, '돌아와': 4689, '껌': 4690, '살빼': 4691, '칼라': 4692, '여우상': 4693, '플랜': 4694, '피스': 4695, '부담': 4696, '변하': 4697, '치명타': 4698, '버건': 4699, '폭격기': 4700, '튼': 4701, '언더': 4702, '끌린다': 4703, '헐리우드': 4704, '수고': 4705, '서복': 4706, '직각': 4707, '굿모닝': 4708, '연습생': 4709, '다물': 4710, '영국': 4711, '튜버': 4712, '햄버거': 4713, '세포': 4714, '을까요': 4715, '톰보이': 4716, '쉼표': 4717, '쪘': 4718, '크랙': 4719, '♡': 4720, '뇌': 4721, '솔솔': 4722, '김치': 4723, '1000': 4724, '다람쥐': 4725, '몰락': 4726, '더워': 4727, '마나': 4728, '어때': 4729, '화난': 4730, '라이더': 4731, 'Chu': 4732, '감당': 4733, '떨구': 4734, '바가지': 4735, '묶음': 4736, '그려': 4737, '망': 4738, '타이트': 4739, '캣우먼': 4740, '웅장': 4741, '돕': 4742, '수사': 4743, '반장': 4744, '힘드': 4745, '모공': 4746, '탈퇴': 4747, '못해': 4748, '김병현': 4749, '휴지': 4750, '행운': 4751, '컴': 4752, '우홍길': 4753, '60': 4754, '로페즈': 4755, '산후조리원': 4756, 'Time': 4757, 'kt': 4758, '발레리나': 4759, '스와': 4760, '스티커': 4761, '옳': 4762, '와서': 4763, '삐죽': 4764, '편한': 4765, '줘요': 4766, 'for': 4767, '노려': 4768, 'and': 4769, '가사': 4770, '보낸다': 4771, '드레': 4772, '생일맞이': 4773, '본업': 4774, '빛깔': 4775, '최병길': 4776, '모임': 4777, '하루하루': 4778, '동인': 4779, '모자라': 4780, '줄래': 4781, '흘러내릴': 4782, '히피': 4783, '격한': 4784, '달군': 4785, '능력': 4786, '백결': 4787, '객석': 4788, '공작': 4789, '본캐': 4790, '프레임': 4791, '도플갱어': 4792, '감초': 4793, '동장': 4794, '쫙': 4795, '천문': 4796, '공간': 4797, '기지개': 4798, 'MORE': 4799, '숨겨': 4800, '볼게요': 4801, '파문': 4802, '기회': 4803, '잡초': 4804, '기타리스트': 4805, '달성': 4806, '던져': 4807, '은퇴': 4808, '밀': 4809, '정복': 4810, '밤샘': 4811, '쌈': 4812, '의젓': 4813, '하늘색': 4814, '말썽': 4815, '관록': 4816, '유력': 4817, '큐브': 4818, '낭': 4819, '브레': 4820, '시도': 4821, '결백': 4822, '집단': 4823, '부기': 4824, '녹아내려': 4825, '패왕': 4826, '포머': 4827, '빙': 4828, '서울대': 4829, '..‘': 4830, '수줍음': 4831, '련': 4832, '도전장': 4833, \"'❤\": 4834, '그윈': 4835, '아이라인': 4836, '쌩': 4837, '브랜뉴': 4838, '바꿔치기': 4839, '유부녀': 4840, '나팔바지': 4841, '장영실': 4842, '브라운관': 4843, '프로디': 4844, '포승줄': 4845, '위기': 4846, '베이스': 4847, '이끄': 4848, '해냅니다': 4849, '전도사': 4850, '분노': 4851, '위하': 4852, '부리': 4853, '빼어난': 4854, '~\"…': 4855, '마트': 4856, '민족': 4857, 'E': 4858, '넘친': 4859, '팔찌': 4860, '렌즈': 4861, '함부로': 4862, '예스': 4863, '고마운': 4864, '소름': 4865, '스타디움': 4866, 'of': 4867, '젤리': 4868, '실제': 4869, '청소년': 4870, '\"..\\'': 4871, '최종': 4872, '.’': 4873, '트레져': 4874, '소독': 4875, '야호': 4876, '썰매': 4877, '전시': 4878, '비슷': 4879, '상황': 4880, '끝동': 4881, '동양': 4882, '비수기': 4883, '폭염': 4884, '안대': 4885, '한쪽': 4886, '스캔들': 4887, '할래': 4888, '헐렁': 4889, '이동': 4890, '위니': 4891, '도록': 4892, '배려': 4893, '엑': 4894, '미스터리': 4895, '거뜬': 4896, '청일': 4897, 'GD': 4898, '어딘가': 4899, '김병관': 4900, '[': 4901, '깡': 4902, '인사법': 4903, '불시착': 4904, '정미': 4905, '하얗': 4906, '사막여우': 4907, '행보': 4908, '셀러': 4909, 'MAP': 4910, '와도': 4911, '평소': 4912, '샵': 4913, '파란색': 4914, '거장': 4915, '송라이터': 4916, '선보여': 4917, '신데렐라': 4918, '달래': 4919, '박기훈': 4920, '심취': 4921, '마니': 4922, '롤린': 4923, '덥수룩': 4924, '발톱': 4925, '명화': 4926, '방방': 4927, '무비': 4928, '발칙': 4929, '단상': 4930, '다녀': 4931, '자녀': 4932, '규리': 4933, '당돌': 4934, '원대': 4935, '소방': 4936, '틀': 4937, '시기': 4938, '닥': 4939, '다저': 4940, '유어': 4941, '만두': 4942, '이쁨': 4943, '박지': 4944, 'Day': 4945, '피어나': 4946, '다면': 4947, '양말': 4948, '파이트': 4949, '초롱': 4950, '유안': 4951, '귤': 4952, '공약': 4953, '활활': 4954, '마법사': 4955, '차도남': 4956, '말괄량이': 4957, '여고': 4958, '멜로': 4959, 'Shy': 4960, '내민': 4961, '신병교육대': 4962, '나와요': 4963, '싱크홀': 4964, '블링크': 4965, '후쿠시': 4966, '평화': 4967, '던진': 4968, '송연': 4969, '블레어': 4970, '못할': 4971, '설렐': 4972, '열풍': 4973, '아줌마': 4974, '야속': 4975, '식차': 4976, '체중': 4977, '씨네타운': 4978, '흘러도': 4979, '잊어': 4980, '옷소매': 4981, '더한': 4982, '품절남': 4983, '극한': 4984, '입양': 4985, '300': 4986, '야경': 4987, '사과문': 4988, '호구': 4989, '꽃잎': 4990, '해바라기': 4991, '브라더스': 4992, '식단': 4993, '땅': 4994, '동한': 4995, '한편': 4996, '슈퍼밴드': 4997, '호현': 4998, '줄리엣': 4999, '여도': 5000, '돌아가': 5001, '간이역': 5002, '디테일': 5003, '겨울밤': 5004, '박지은': 5005, '파스텔': 5006, '스키': 5007, '진수': 5008, '심저': 5009, '짝짝': 5010, '대작': 5011, '박스': 5012, '조차': 5013, '확신': 5014, '연모': 5015, '아리따운': 5016, '전해요': 5017, '특이': 5018, '최인': 5019, '드루': 5020, '김경화': 5021, 'us': 5022, '물리학': 5023, '양자': 5024, '슈퍼루키': 5025, '포토제닉': 5026, '바짝': 5027, '려도': 5028, '육감': 5029, '훅': 5030, '공중부양': 5031, 'OOPSIE': 5032, '부러움': 5033, '타일러': 5034, '브라운': 5035, '지휘': 5036, '전쟁': 5037, '사탕': 5038, '~\"...': 5039, '디스크': 5040, '정든': 5041, '마냥': 5042, '망고': 5043, 'BE': 5044, '돛': 5045, '만날': 5046, '깅이': 5047, '동영상': 5048, '의미심장': 5049, '얇': 5050, '스승': 5051, '53': 5052, '끌림': 5053, '여름밤': 5054, '자작곡': 5055, '호기심': 5056, '액세서리': 5057, '회상': 5058, '곤': 5059, '박태인': 5060, '흔적': 5061, '위해서': 5062, '바라본다': 5063, '백배': 5064, '내려': 5065, '눈감': 5066, '클': 5067, '마왕': 5068, '오밀조밀': 5069, '전문': 5070, '막둥이': 5071, '녹색': 5072, '마이티마우스': 5073, 'km': 5074, '아이고': 5075, '국내': 5076, '벌어진': 5077, '체구': 5078, '연상호': 5079, '던진다': 5080, '부끄럽': 5081, '댓': 5082, '애기': 5083, '근': 5084, '풋워크': 5085, '동혁': 5086, '뒷': 5087, 'Yes': 5088, 'in': 5089, '소년단': 5090, '유스케': 5091, '실검': 5092, '대학교': 5093, '골목': 5094, '백발': 5095, '태어나': 5096, '거기': 5097, 'My': 5098, '똘': 5099, '초록색': 5100, '섭렵': 5101, '편하': 5102, '말리': 5103, '여덟': 5104, '묘하': 5105, '도대체': 5106, '하드': 5107, '핫바디': 5108, '목선': 5109, '기술': 5110, '국장': 5111, '병원': 5112, '김조': 5113, '제왕': 5114, '킬러': 5115, '넘겨도': 5116, 'ARMY': 5117, '헤어나올': 5118, '넷': 5119, 'Night': 5120, '근무': 5121, '보냈': 5122, '들어갈': 5123, '사업가': 5124, '트인': 5125, '쓸어내리': 5126, '측': 5127, '초전': 5128, '쓰러지': 5129, '형서': 5130, '축복': 5131, '우홍': 5132, 'O': 5133, '올림픽': 5134, '쏟': 5135, '동유': 5136, '나자': 5137, '꺼': 5138, '고기': 5139, 'ME': 5140, '반반': 5141, '생겨도': 5142, '동근': 5143, '이불': 5144, '한국어': 5145, '격정': 5146, '삼각': 5147, '흐믓': 5148, '잠겨': 5149, '소탈': 5150, '보배': 5151, '길쭉': 5152, '맹수': 5153, '누군지': 5154, '황': 5155, '캐롤': 5156, '등굣길': 5157, '뒤흔든': 5158, '로즈': 5159, '중단': 5160, '토이즈': 5161, '결혼기념일': 5162, '가르': 5163, '숀': 5164, '권병호': 5165, '부케': 5166, '프레디': 5167, '소우타': 5168, '끌리': 5169, '으나': 5170, '광피': 5171, '!\"': 5172, '잰': 5173, '새초롬한': 5174, '섭취': 5175, '새끼': 5176, '나갈': 5177, '게스트': 5178, '시집': 5179, '무거워': 5180, '·\"': 5181, 'KIA': 5182, '움푹': 5183, 'UN': 5184, '눈시울': 5185, '혁명': 5186, '고충': 5187, '탕': 5188, '브런치': 5189, '제라': 5190, '진중': 5191, '한번': 5192, '실천': 5193, 'GO': 5194, '뒤늦': 5195, '연탄': 5196, '잠실야구장': 5197, '아워': 5198, '성형': 5199, 'Ready': 5200, '교차': 5201, '김지희': 5202, '패턴': 5203, '숨기': 5204, '똑똑': 5205, '욕': 5206, '니쿠': 5207, '호다': 5208, '지능': 5209, '릴레이': 5210, '벌어지': 5211, '뿜어내': 5212, '체온': 5213, '핼쑥': 5214, 'st': 5215, '캡틴': 5216, '후끈': 5217, '날아갈': 5218, '꾸벅': 5219, '템': 5220, '북한': 5221, '증명': 5222, '남미': 5223, '빼앗': 5224, '진출': 5225, '모닝': 5226, 'SF': 5227, '느라': 5228, '들꽃': 5229, '스윙': 5230, '감자탕': 5231, \"↑'\": 5232, '브리': 5233, '한가': 5234, '전야': 5235, '시네마': 5236, '｜': 5237, '노련': 5238, '부끄러운': 5239, '그놈': 5240, '몸무게': 5241, 'Got': 5242, '기견': 5243, '재난': 5244, '백야': 5245, '그리워': 5246, '벌금': 5247, '의료진': 5248, '부탁드립니다': 5249, '단연': 5250, '어마': 5251, '신명': 5252, '구르': 5253, '확실히': 5254, '통과': 5255, 'MSG': 5256, '둠': 5257, '자택': 5258, '초이스상': 5259, '힘주': 5260, '오피스': 5261, '홍내': 5262, '우승자': 5263, '서홍': 5264, '컵': 5265, '의견': 5266, '등판': 5267, '웹': 5268, '원신': 5269, '문명': 5270, '차차차': 5271, '영롱': 5272, '윌': 5273, '썸씽': 5274, '그래': 5275, '지요': 5276, '외면': 5277, '섬뜩': 5278, '차렷': 5279, 'Boom': 5280, '베토벤': 5281, '높인': 5282, '기쁘': 5283, '군단': 5284, '태교': 5285, '팬텀': 5286, '박준': 5287, '핸드폰': 5288, '박승준': 5289, '캣츠': 5290, '홈런': 5291, '표명': 5292, '혹시': 5293, '얻': 5294, '54': 5295, '시급': 5296, '작별': 5297, '실형': 5298, '따르릉': 5299, '드려': 5300, '안성현': 5301, '수채화': 5302, '오직': 5303, '인사이드': 5304, '에스라': 5305, '가늠': 5306, '사친': 5307, '초보': 5308, '시축': 5309, '밝혀': 5310, '국방': 5311, '올려': 5312, '필승': 5313, '토로': 5314, '군기': 5315, '서구': 5316, '주부': 5317, '봄밤': 5318, '초월': 5319, '우렁찬': 5320, '백신': 5321, '만수': 5322, '빌라': 5323, '소소': 5324, '뺏': 5325, '파마': 5326, '일요일': 5327, '우천': 5328, '곱슬머리': 5329, '고품격': 5330, '샤인': 5331, '로아': 5332, '마주': 5333, '리듬파워': 5334, '\"...\\'': 5335, '흩뿌리': 5336, '급진': 5337, '뿔': 5338, '흉내': 5339, '검은색': 5340, '방한': 5341, '보여준': 5342, '흐트러짐': 5343, '아픈': 5344, '도면': 5345, '데리': 5346, '쥬': 5347, '윌슨': 5348, '인테리어': 5349, '명탐정': 5350, '가가': 5351, '색깔': 5352, '향연': 5353, '그리웠': 5354, '동온': 5355, '슬픈': 5356, '총회': 5357, '두르': 5358, '마술사': 5359, '빵모자': 5360, '완치': 5361, '방송인': 5362, '그물': 5363, '손언진': 5364, '커리어': 5365, '책임진다': 5366, '보디': 5367, '포물선': 5368, '캉': 5369, '호쾌': 5370, '모찌': 5371, '쁨이': 5372, '땡': 5373, '독립영화': 5374, '반가웠': 5375, '허홍': 5376, '오랜': 5377, '백화점': 5378, '노홍': 5379, '책임': 5380, '★,': 5381, '독수리': 5382, '강풍': 5383, '뭔가': 5384, '멈출': 5385, '더하': 5386, '밀랍': 5387, '생기발랄': 5388, '궁': 5389, '주르륵': 5390, '간지': 5391, '‘’': 5392, '저승': 5393, '길쭉길쭉': 5394, '뽀송뽀송': 5395, '놓칠': 5396, '머무': 5397, '대놓고': 5398, '프리티': 5399, '김태호': 5400, '새로': 5401, '형아': 5402, '부분': 5403, '동다': 5404, '주름': 5405, '호리병': 5406, '국악': 5407, '미학': 5408, '서글서글': 5409, '될까요': 5410, '즐길': 5411, '댄스댄스': 5412, '프린세스': 5413, '버튼': 5414, '설날': 5415, '안일환': 5416, '앙큼': 5417, '반삭': 5418, '너무너무': 5419, '잡힐': 5420, '싱그럽': 5421, '그야말로': 5422, '뉴스': 5423, '온화': 5424, '즐거워요': 5425, '조정식': 5426, '검정': 5427, '면모': 5428, '女': 5429, '나래': 5430, '고비': 5431, '발령': 5432, '종횡': 5433, '센치': 5434, '곳곳': 5435, '까꿍': 5436, '전매특허': 5437, '재차': 5438, '빨개': 5439, '시백': 5440, '대비': 5441, '덥': 5442, '도장': 5443, '막힌': 5444, '메롱': 5445, '돋보여': 5446, '어야지': 5447, '근심': 5448, '트렌치코트': 5449, '인물': 5450, '유난히': 5451, '지옥': 5452, '급하': 5453, '귀티': 5454, '아날로그': 5455, '재경': 5456, '넉넉': 5457, 'Hello': 5458, '분홍색': 5459, '‧': 5460, '상태': 5461, '폴짝폴짝': 5462, '인원': 5463, '..?': 5464, '습니까': 5465, '할지': 5466, '콧수염': 5467, '다녀올게요': 5468, '걸어가': 5469, '무표': 5470, '왼쪽': 5471, '줘야': 5472, '초이': 5473, '말끔': 5474, '여명': 5475, '기뻐': 5476, '몽': 5477, '덩실덩실': 5478, '투비': 5479, 'SDG': 5480, '갈등': 5481, '굵': 5482, '을게요': 5483, '부끄': 5484, '악물': 5485, '서부': 5486, 'SK': 5487, '돌입': 5488, '쇼트커트': 5489, '무당': 5490, '정경미': 5491, '사건': 5492, '지미': 5493, '레트로': 5494, '헌': 5495, '플레임': 5496, '빗물': 5497, '재질': 5498, '섰어요': 5499, '외국인': 5500, '가즈': 5501, '벌금형': 5502, '티격태격': 5503, '맞잡': 5504, '크루': 5505, '외계인': 5506, '지킬': 5507, '데스노트': 5508, '공백': 5509, '야지': 5510, '깡총깡총': 5511, '저음': 5512, '난리': 5513, '파트': 5514, '뿌린': 5515, '순정': 5516, '99': 5517, '파이터': 5518, '기각': 5519, '애플힙': 5520, '맺': 5521, '델': 5522, '계획': 5523, '씁쓸': 5524, '숭': 5525, '의지': 5526, '접': 5527, '라일락': 5528, '항소': 5529, '마흔': 5530, '고소인': 5531, '브릿지': 5532, '초고속': 5533, '아닌가요': 5534, '까라': 5535, '무빙': 5536, '유림': 5537, '‥♥': 5538, '학번': 5539, '밍': 5540, '1976': 5541, '정단영': 5542, '씬': 5543, '토반': 5544, '조라': 5545, '파서블': 5546, '동아': 5547, '밭': 5548, '망토': 5549, '립도': 5550, '미공개': 5551, '점프수트': 5552, '독립군': 5553, 'What': 5554, '판다': 5555, '홍원찬': 5556, '연한': 5557, '버릴': 5558, '들려': 5559, '고명성': 5560, '다방': 5561, '소서': 5562, '토': 5563, '아닌데': 5564, '려나': 5565, '뽀글': 5566, '빵꾸': 5567, '옥상': 5568, '들어간': 5569, '아프간': 5570, '입고도': 5571, '잘랐': 5572, '태웅': 5573, '가너': 5574, '독': 5575, '태사자': 5576, '코미디언': 5577, '쭈쭈': 5578, '토피아': 5579, '의무': 5580, '태극기': 5581, '따라잡': 5582, '로망': 5583, '국회의원': 5584, '창문': 5585, '천상지희': 5586, '명절': 5587, '김환': 5588, '캐디': 5589, '캣츠아이': 5590, '\\'\"': 5591, '모방': 5592, '잠겼': 5593, '빗속': 5594, '부드러워': 5595, '박성근': 5596, 'C': 5597, '사이먼': 5598, '엔오': 5599, '1500': 5600, '플렉스': 5601, '흔들려': 5602, '채널': 5603, '워': 5604, '탤런트': 5605, '무섭': 5606, '파이널': 5607, '퀴즈': 5608, '칫': 5609, '양의지': 5610, '엄친아': 5611, '모던': 5612, '꽃송이': 5613, '성탄': 5614, '토일': 5615, '핸즈': 5616, '들어와': 5617, '탄소': 5618, '시아': 5619, '사관': 5620, '딱지': 5621, '조프': 5622, '폭탄': 5623, '살려서': 5624, '갈래머리': 5625, '서언': 5626, '퍼지': 5627, '누아르': 5628, '키치': 5629, '억울': 5630, '정순주': 5631, '줄리엔강': 5632, '스케일': 5633, '누워서': 5634, '윈': 5635, '페인팅': 5636, '소파': 5637, '룰라': 5638, '상승': 5639, '드로': 5640, 'Sneakers': 5641, '환지': 5642, '황후': 5643, '꺼내': 5644, '밀리터리': 5645, '비키니': 5646, '이루': 5647, '대문자': 5648, '뛰어난': 5649, '여권': 5650, '정남': 5651, '점심': 5652, '버뮤다': 5653, '만지': 5654, '아름다워진': 5655, 'Up': 5656, '포크': 5657, '동거': 5658, '컬러풀': 5659, '배기': 5660, '앙상': 5661, '믹스': 5662, '래요': 5663, '헬멧': 5664, '볼록': 5665, '구만': 5666, '나이스': 5667, '장인희': 5668, '실전': 5669, '유광': 5670, '애잔': 5671, '티키': 5672, '찾아갑니다': 5673, '타카': 5674, '저세상': 5675, '구자': 5676, '마우스': 5677, '머플러': 5678, 'god': 5679, '리얼리티': 5680, '좌우': 5681, 'Me': 5682, '달인': 5683, '산행': 5684, '고등': 5685, '어렵': 5686, 'CP': 5687, '다큐': 5688, '옵니다': 5689, '고르': 5690, '신선놀음': 5691, '58': 5692, '새콤달콤': 5693, '단단': 5694, '허쉬': 5695, '심수': 5696, '최근': 5697, '해야지': 5698, '영락없': 5699, '소다': 5700, '집행': 5701, '섬마을': 5702, '껴안': 5703, '밤샜': 5704, '한숨': 5705, '구미': 5706, '트러블': 5707, '태형': 5708, '필로폰': 5709, 'loryUS': 5710, '한가요': 5711, '공세': 5712, '안전': 5713, '나시': 5714, '날아라': 5715, '벌새': 5716, '둘러': 5717, '살리에리': 5718, '미용실': 5719, '뚱': 5720, '도중': 5721, '반사': 5722, '빈틈없이': 5723, '돌아간': 5724, '폭우': 5725, '자화자찬': 5726, '화장실': 5727, '예비역': 5728, '신어': 5729, '떨림': 5730, '엽기': 5731, '에메랄드': 5732, '상체': 5733, '심정': 5734, '놨다': 5735, '0': 5736, '웃기': 5737, '엘비스': 5738, '직진': 5739, '트렌치': 5740, '파도': 5741, '산발': 5742, '한다면': 5743, \"~~'\": 5744, '노규': 5745, '삼진': 5746, '레이': 5747, '여운': 5748, '아기자기': 5749, '최다': 5750, '어느새': 5751, '펼쳐': 5752, '슬로': 5753, '침묵': 5754, '음주': 5755, '전혀': 5756, '채워': 5757, '블랑': 5758, '시홍': 5759, '찾아온': 5760, '임산부': 5761, '빙의': 5762, '임영주': 5763, '모르가': 5764, '펑키': 5765, '상큼상큼': 5766, '관전': 5767, '로빈': 5768, '트립': 5769, '500': 5770, '패밀리': 5771, '코스튬': 5772, '잭': 5773, '숨겨둔': 5774, '버킷': 5775, '동서': 5776, '그래퍼': 5777, '부를래': 5778, 'Like': 5779, '교': 5780, '아누팜': 5781, '질주': 5782, '동양미': 5783, '면회': 5784, '상호': 5785, '철저히': 5786, '쌤': 5787, '새긴': 5788, '넘쳐흘러': 5789, '붓': 5790, '동심': 5791, '낮잠': 5792, '아름': 5793, '\"#': 5794, '수신호': 5795, '전성시대': 5796, '평균': 5797, '반팔': 5798, '펑펑': 5799, '마중': 5800, '붙이': 5801, '다둥': 5802, '스틸': 5803, '두렵': 5804, '교장': 5805, '터진다': 5806, '울먹이': 5807, '보좌관': 5808, '합': 5809, '백두산': 5810, '해군': 5811, '고서': 5812, '사이드암': 5813, '헝클어진': 5814, '차일드': 5815, '그래서': 5816, '궁금증': 5817, '다녀와': 5818, '금의환향': 5819, '블론디': 5820, '시인': 5821, '넘겨요': 5822, '무겁': 5823, '백돌': 5824, '삐삐': 5825, 'SO': 5826, '학년': 5827, '숨쉬': 5828, '김우리': 5829, '득': 5830, '추천': 5831, '고고': 5832, '높여': 5833, '생길': 5834, '갓파더': 5835, '몰아주': 5836, '팔다리': 5837, '패티': 5838, '좋아하': 5839, '더우먼': 5840, '야외': 5841, '행진': 5842, '줍': 5843, '싱글즈': 5844, '티타임': 5845, '레스토랑': 5846, '뾰족': 5847, '부비': 5848, '둬': 5849, '녹여': 5850, '로봇': 5851, '스파이': 5852, '전광판': 5853, '경고': 5854, '라이돌': 5855, '쿠': 5856, '결혼반지': 5857, '아낌없이': 5858, '결성': 5859, '정의': 5860, '유혹자': 5861, '멜빵': 5862, '땡큐': 5863, 'NBC': 5864, '니스': 5865, '사연': 5866, '릭': 5867, '탁월': 5868, '스킨': 5869, '×': 5870, '사단': 5871, '가늘': 5872, '시하': 5873, '무용': 5874, '도움': 5875, '장항준': 5876, '으리': 5877, '바빠': 5878, '승천': 5879, '서핑': 5880, '섬섬옥수': 5881, '호명': 5882, '~?': 5883, '반사판': 5884, '음성': 5885, '미세먼지': 5886, '뎐': 5887, '아웃': 5888, '안젤리나': 5889, '스텝': 5890, '드러머': 5891, \"'…'\": 5892, '성량': 5893, '들썩들썩': 5894, '왼손': 5895, '도와': 5896, '네이슨': 5897, '야윈': 5898, '알베르토': 5899, '흩': 5900, '박세연': 5901, '콕콕': 5902, '.‘': 5903, '서가': 5904, '바이올렛': 5905, '히': 5906, '납시': 5907, '상기': 5908, '김밥': 5909, '넘어진': 5910, '정종철': 5911, '머리숱': 5912, '폈': 5913, '한송이': 5914, '당겨도': 5915, '어릴': 5916, '한별': 5917, '가득찬': 5918, '폭주': 5919, '소녀단': 5920, '환히': 5921, '댓글': 5922, '펭': 5923, '파파': 5924, '크라잉넛': 5925, '두른': 5926, '감자': 5927, '동갑': 5928, '희랑': 5929, '역력': 5930, '도무시': 5931, '아름다움의': 5932, '연륜': 5933, '죽이': 5934, '절규': 5935, '플레': 5936, '힘겨운': 5937, '야옹': 5938, '체력': 5939, '시포': 5940, '앞치마': 5941, '마초': 5942, '외침': 5943, '맞춰요': 5944, '피로연': 5945, '자락': 5946, '로민': 5947, '연극배우': 5948, '드레서': 5949, '한마디': 5950, '제압': 5951, '험난': 5952, '루팡': 5953, '완전히': 5954, '우와': 5955, '툭': 5956, '바뀌': 5957, '콜드': 5958, '거대': 5959, '참고인': 5960, '정답': 5961, '흘리': 5962, '개나리': 5963, '뜻밖': 5964, '덕화': 5965, '맞췄': 5966, '강사': 5967, '조장': 5968, '브이넥': 5969, '아재': 5970, '아임': 5971, '어려워': 5972, '밤비': 5973, '쁜': 5974, '싸움': 5975, '패키지': 5976, '미쓰라': 5977, '전부': 5978, '애중': 5979, '유죄': 5980, '子': 5981, '공격': 5982, '＋': 5983, '맴': 5984, '쉴': 5985, '아끼': 5986, '심호흡': 5987, '최수형': 5988, '까이': 5989, '될까': 5990, '쉰다': 5991, '아마조네스': 5992, '시켜': 5993, '군더더기': 5994, '놀러오': 5995, '외톨이': 5996, '헬': 5997, '돈스파이크': 5998, '할래요': 5999, '중전': 6000, '개구리': 6001, '막강': 6002, '바람아': 6003, '개구진': 6004, '보물': 6005, '철인': 6006, '숨긴': 6007, '포츠': 6008, '힘껏': 6009, '라스': 6010, '홍대': 6011, '치아': 6012, '정통파': 6013, '마술': 6014, '생일날': 6015, '이끈': 6016, '암': 6017, '판사': 6018, '범상': 6019, '이걸': 6020, '당근': 6021, '매니': 6022, 'GV': 6023, '떨어져': 6024, '옹산': 6025, '비대': 6026, '대회': 6027, '발전': 6028, '지각': 6029, '구홍': 6030, '환불': 6031, '뱃살': 6032, '마이노': 6033, '썸남': 6034, '서공': 6035, '반항': 6036, '오른쪽': 6037, '도톰': 6038, '얼른': 6039, '웁': 6040, 'OF': 6041, 'MESSAGE': 6042, '연결': 6043, '학민': 6044, '패러디': 6045, '마라': 6046, '스트릿': 6047, '내공': 6048, '맘속': 6049, '때리': 6050, '에이': 6051, '북극곰': 6052, '엉': 6053, '바꾼': 6054, '로디': 6055, '금요일': 6056, '탐스러운': 6057, 'XEN': 6058, '멋질': 6059, '한양도성': 6060, '지화자': 6061, '보헤미안': 6062, '환경': 6063, '을래': 6064, '취소': 6065, '따위': 6066, '포미': 6067, '스포일러': 6068, '타인': 6069, '캐리어': 6070, '가오': 6071, '가까운': 6072, '죽였': 6073, '각오': 6074, '헬로': 6075, 'HK': 6076, '항공': 6077, '지지': 6078, '크리': 6079, '자판기': 6080, '울려': 6081, '가려진': 6082, '스로': 6083, '속삭임': 6084, '어깨춤': 6085, '바둑판': 6086, '일본인': 6087, '세레': 6088, '찜': 6089, '국적': 6090, '녹음실': 6091, '박해': 6092, '스테이시': 6093, '이글스': 6094, '건아': 6095, '살쪘': 6096, '교육': 6097, '펙': 6098, '김유': 6099, '전직': 6100, '기념식': 6101, 'Or': 6102, '매드': 6103, '하품': 6104, '좌완': 6105, '다짐': 6106, '허미영': 6107, 'BIAF': 6108, '평온': 6109, '초과근무': 6110, '스포츠': 6111, '저돌': 6112, '틱톡': 6113, '터줏대감': 6114, '녹인': 6115, '주방': 6116, '첫째': 6117, '주차장': 6118, '부홍': 6119, '쌓인': 6120, '탓': 6121, '심하': 6122, '흔들린': 6123, '성홍': 6124, '게이트': 6125, '스마': 6126, '격려': 6127, '애월': 6128, '흡': 6129, '만수르': 6130, '낼름': 6131, '다가오': 6132, '번쩍번쩍': 6133, '득표': 6134, '적극': 6135, '슈트로': 6136, '작사가': 6137, 'ONE': 6138, '속삭이': 6139, '스위치': 6140, '만감': 6141, '라틴': 6142, '눈가': 6143, '발찌': 6144, '장형윤': 6145, '학도병': 6146, '정규직': 6147, '펄럭': 6148, '.\"\\'': 6149, '중절모': 6150, '청소': 6151, '황인뢰': 6152, '아이드': 6153, '명랑': 6154, '집안': 6155, '조교': 6156, '역자': 6157, '뚝': 6158, '눌러': 6159, '손등': 6160, '햇': 6161, '탄력': 6162, '봉투': 6163, '싸인': 6164, 'NC': 6165, '모교': 6166, '다가가': 6167, '학창': 6168, '짐승': 6169, '정체': 6170, '뱃속': 6171, '모욕': 6172, '화신': 6173, '상의': 6174, '협업': 6175, '군악대': 6176, '삐딱선': 6177, '프레시': 6178, '귀여워도': 6179, '위아래': 6180, '친해요': 6181, '이틀': 6182, '과자': 6183, '짝꿍': 6184, 'you': 6185, '향수': 6186, '완벽히': 6187, 'HOME': 6188, '가슴골': 6189, '할라': 6190, '불금': 6191, '장군': 6192, '넘어질': 6193, '달릴': 6194, '직관': 6195, '돌격': 6196, '대장금': 6197, '맥스': 6198, '야간': 6199, '최욱': 6200, '첫날': 6201, '숨겨왔': 6202, 'We': 6203, '물들': 6204, '종잇장': 6205, '몰래': 6206, '재간둥이': 6207, '침착': 6208, '수원': 6209, '거니': 6210, '쓰이': 6211, '컨디션': 6212, '뱀': 6213, '원샷': 6214, '자주': 6215, '돌상': 6216, '춤출': 6217, '스테이': 6218, '푸들': 6219, '어딨': 6220, '개천': 6221, '세민': 6222, '순한': 6223, '절묘': 6224, '관리비': 6225, '빅터': 6226, '공백기': 6227, '도선': 6228, '천생': 6229, '스티븐': 6230, '애쉬': 6231, '갈게요': 6232, '간동': 6233, '두건': 6234, '아파트': 6235, '고치': 6236, '장애': 6237, '끌려': 6238, '피칭': 6239, '동구': 6240, '살구': 6241, '촬': 6242, '내게로': 6243, 'Moment': 6244, 'riB': 6245, '미담': 6246, '하이픈': 6247, '스니커즈': 6248, '갑작스러운': 6249, '졌어요': 6250, '작아진': 6251, '편애': 6252, '음중': 6253, '파크': 6254, '다국적': 6255, '…\"': 6256, '쌀쌀': 6257, '진격': 6258, '~!’': 6259, '쾌': 6260, 'MAX': 6261, '땡땡이': 6262, '지사': 6263, '넘긴': 6264, '수련': 6265, '장점': 6266, '버드': 6267, '답답': 6268, '약간': 6269, '돌려': 6270, '손목': 6271, '예상': 6272, '공익': 6273, '김원중': 6274, '해명': 6275, '산소': 6276, '방학': 6277, '마스': 6278, '치료': 6279, '팬클럽': 6280, '홍매': 6281, '물개': 6282, '쓸쓸': 6283, '외제': 6284, '바꿨': 6285, '어린애': 6286, '초특급': 6287, '기안': 6288, '♡\"': 6289, '비행기': 6290, '유령': 6291, '집서': 6292, '재즈': 6293, '미대': 6294, '신입생': 6295, '생글생글': 6296, '만한': 6297, '친남매': 6298, '빗': 6299, '그런가': 6300, '추워서': 6301, '비지': 6302, '세우': 6303, '돌진': 6304, '80': 6305, '학당': 6306, '최대한': 6307, '퍼레이드': 6308, '도미닉': 6309, '거지': 6310, '초승달': 6311, '새콤': 6312, '최준': 6313, '지치': 6314, '고뇌': 6315, '부채춤': 6316, '출소': 6317, '산장': 6318, '뒤집어쓰': 6319, '다큐멘터리': 6320, 'DMZ': 6321, '포차': 6322, '갖췄': 6323, '팀장': 6324, '김재': 6325, 'DAY': 6326, '상념': 6327, '숨겨진': 6328, '살벌': 6329, '일품': 6330, '이너': 6331, '찰랑거리': 6332, '일까요': 6333, '갈비뼈': 6334, '공기': 6335, 'Why': 6336, 'SIS': 6337, 'AOMG': 6338, '그릇': 6339, '조풍': 6340, '송치': 6341, '히든': 6342, '배상재': 6343, '평': 6344, '미드': 6345, '감춘': 6346, '무쌍': 6347, '폴로': 6348, 'Ride': 6349, '선발': 6350, '소수': 6351, '낼': 6352, '말라': 6353, '집합소': 6354, '오지': 6355, '폴라로이드': 6356, '독점': 6357, '베어스': 6358, '보일': 6359, '이선': 6360, '제목': 6361, '상대': 6362, '최재웅': 6363, '꼬옥': 6364, '체포': 6365, '변': 6366, '옆구리': 6367, '갈색': 6368, '이다': 6369, '손해': 6370, '야스코': 6371, '전주': 6372, '묵묵히': 6373, '택시': 6374, '예전': 6375, '군필': 6376, '열린': 6377, '행동': 6378, '농구공': 6379, '하오': 6380, '전후': 6381, '시무룩': 6382, '아마데우스': 6383, '낯설': 6384, '구원': 6385, '배웠': 6386, '황하나': 6387, '책상': 6388, '파묻혀': 6389, '새싹': 6390, '빠져나가': 6391, '선보인': 6392, '이시가미': 6393, '홀연': 6394, '해결': 6395, '달밤': 6396, '복잡': 6397, '터널': 6398, '위생': 6399, '안타까운': 6400, '검찰청': 6401, '휘청': 6402, '취': 6403, '3000': 6404, '떠난': 6405, '스마트': 6406, '보낼': 6407, '최원섭': 6408, '챙겼': 6409, '음악가': 6410, '도박장': 6411, '59': 6412, 'SG': 6413, '너스': 6414, '책임질': 6415, '요가': 6416, '감상': 6417, '두근': 6418, '쾌거': 6419, '마타': 6420, '신비주의': 6421, '프리미어': 6422, '장수': 6423, '풀린': 6424, '낀': 6425, 'JIMFF': 6426, '인디': 6427, '보름달': 6428, '차관': 6429, '감춰': 6430, '최면': 6431, '외식': 6432, '돌리': 6433, '갯마을': 6434, 'SSG': 6435, '백골': 6436, '차범근': 6437, '쿠시': 6438, '김홍길': 6439, '올립니다': 6440, '송도': 6441, '사양': 6442, '시샘': 6443, '멋졌': 6444, '협': 6445, '물들이': 6446, '왕세자': 6447, '카운터': 6448, '어린이재단': 6449, '건배': 6450, '기자상': 6451, '으셨': 6452, '호소': 6453, '뺄': 6454, '진정한': 6455, '박현선': 6456, '소피': 6457, '숙': 6458, '피해자': 6459, '금방': 6460, '냐고': 6461, '저기': 6462, '최동욱': 6463, '문워크': 6464, '했었': 6465, '대부': 6466, '신고식': 6467, '갑작스런': 6468, '걸어온다': 6469, '일리': 6470, '집사부': 6471, '작심': 6472, '성희롱': 6473, '고마움': 6474, '눈꽃': 6475, '가렸': 6476, '적응': 6477, '쇼리': 6478, '무마': 6479, '도그': 6480, '민간인': 6481, '존스': 6482, '노라': 6483, '귀한': 6484, '몰린': 6485, '임할': 6486, '범주': 6487, '각양각색': 6488, '훔쳐': 6489, 'N': 6490, '눌러쓰': 6491, '오해': 6492, '활기차': 6493, '일찍': 6494, '김선근': 6495, '둘러싸인': 6496, '어나더': 6497, '주안': 6498, '어유': 6499, '분홍빛': 6500, '겹': 6501, '마리퀴리': 6502, '고왕': 6503, '착해': 6504, '활력': 6505, '실크': 6506, '동브': 6507, '날아오르': 6508, '토익': 6509, '결실': 6510, '참가자': 6511, '묵묵': 6512, '천생연분': 6513, '치맥': 6514, '..♥': 6515, '실력자': 6516, '007': 6517, '불편': 6518, '솔직': 6519, '언급': 6520, '삽시다': 6521, '밥상': 6522, 'Apple': 6523, '얼쑤': 6524, '태가': 6525, '집합': 6526, '장가가': 6527, \"%'\": 6528, '개회식': 6529, '내림': 6530, '반란': 6531, '생성': 6532, '본부': 6533, '위협': 6534, '의원': 6535, '간택': 6536, '모른다': 6537, '쳐다': 6538, 'No': 6539, '~?’': 6540, '손동작': 6541, '이색': 6542, '점령': 6543, '살며시': 6544, '깡마른': 6545, '플러스': 6546, '이호': 6547, '얘기': 6548, '추리닝': 6549, '학원': 6550, '창영': 6551, '연중무휴': 6552, '유엔': 6553, '미끄럼틀': 6554, '그라': 6555, '최대': 6556, '나린': 6557, '싹뚝': 6558, '일단': 6559, '할수록': 6560, '투피스': 6561, '새색시': 6562, '영구': 6563, '세계사': 6564, '비트': 6565, '그루브': 6566, '비대칭': 6567, '늑대소년': 6568, '172': 6569, '↔': 6570, '공복': 6571, '팍팍': 6572, '이질감': 6573, '움': 6574, '털썩': 6575, '조충현': 6576, '예쁠까': 6577, '펜싱': 6578, '야성': 6579, '식서': 6580, '백년가약': 6581, '따끈따끈': 6582, '불새': 6583, '홀린다': 6584, '원정대': 6585, '기색': 6586, '뿡': 6587, '토닥토닥': 6588, '샤샤': 6589, '외조': 6590, '더운': 6591, '동문': 6592, '열전': 6593, '단짝': 6594, '흘러내린': 6595, '신과': 6596, '쉼': 6597, '디리': 6598, '달걀': 6599, '겁': 6600, '기복': 6601, '각도기': 6602, \"'-\": 6603, '비추': 6604, '표범': 6605, '텀블러': 6606, '울상': 6607, '장남': 6608, '닦': 6609, '뽀글뽀글': 6610, '꽃바구니': 6611, '주문': 6612, '치러': 6613, '책임지': 6614, '마실': 6615, '리액션': 6616, '�': 6617, '캡': 6618, '론': 6619, '시스터즈': 6620, '띠': 6621, '신경전': 6622, '당장': 6623, '개짓': 6624, '내음': 6625, '날릴': 6626, '조상': 6627, '평강공주': 6628, '맨날': 6629, '커요': 6630, '치유': 6631, '릿': 6632, '스스로': 6633, '냉동': 6634, '새틴': 6635, '사우스': 6636, '지배자': 6637, '알린': 6638, '국밥': 6639, '옛날': 6640, '건물': 6641, '태어난': 6642, '존엄': 6643, '독차지': 6644, '굴곡': 6645, '거품': 6646, '딥': 6647, '190': 6648, '이근': 6649, '성대': 6650, '샌드위치': 6651, '서늘': 6652, '예준': 6653, '결방': 6654, '트윙클': 6655, '콧구멍': 6656, '색안경': 6657, '똑부러지': 6658, '여차': 6659, '복싱': 6660, '모음': 6661, '그럼': 6662, '김연경': 6663, '수발': 6664, '모금': 6665, 'by': 6666, '지켜보': 6667, '똥강아지': 6668, '멜빵바지': 6669, '코치': 6670, '꼴리': 6671, 'INSIDE': 6672, '방어': 6673, '장하나': 6674, '서나': 6675, '정비': 6676, '리샤': 6677, '남남': 6678, '기다림': 6679, '한없이': 6680, 'OUT': 6681, '~~’': 6682, '런던': 6683, '빈티지': 6684, '휴': 6685, '포티': 6686, '특기': 6687, 'SET': 6688, '정중': 6689, 'SES': 6690, '케렌': 6691, '건가요': 6692, '수장': 6693, '이쪽': 6694, '서브': 6695, '편성': 6696, 'PART': 6697, '보안': 6698, '화촉': 6699, '취했': 6700, '돈독': 6701, '나눠': 6702, '다이아몬드': 6703, '오드': 6704, '스티브': 6705, '달려가': 6706, '활발': 6707, '멋쩍': 6708, '메들리': 6709, '일세': 6710, '개그계': 6711, '막춤': 6712, '재보궐선거': 6713, '찌릿찌릿': 6714, '훗': 6715, '헤라': 6716, '독서': 6717, '초긴장': 6718, '얍': 6719, '내사': 6720, '뉴시스': 6721, '앞세운': 6722, '한지': 6723, '대가': 6724, '일병': 6725, '조용': 6726, 'YOU': 6727, '확장': 6728, '전역식': 6729, '랜디': 6730, '얼리': 6731, '말려': 6732, '신의': 6733, '로우': 6734, '가져': 6735, '트레이너': 6736, '김홍탁': 6737, '질의': 6738, '쥔': 6739, '부리부리': 6740, '사투리': 6741, '누르': 6742, '탬버린': 6743, '말죽거리': 6744, '한의사': 6745, '한판': 6746, '김용국': 6747, '퇴소': 6748, '탱크톱': 6749, '팝핀': 6750, '장성': 6751, '유애': 6752, '경건': 6753, 'On': 6754, '돼지': 6755, '장소': 6756, '차기': 6757, '피겨': 6758, '어빈': 6759, '거실': 6760, '폭설': 6761, '초근': 6762, '청첩장': 6763, '범인': 6764, '훨씬': 6765, '한우': 6766, '나이트': 6767, '안절부절': 6768, '곽지영': 6769, '콘트': 6770, 'Your': 6771, 'For': 6772, '모범생': 6773, '~♥’': 6774, '자동차': 6775, '색도': 6776, '홀로서기': 6777, '뒤돌': 6778, '노래방': 6779, '앵커': 6780, '대요': 6781, '찰떡궁합': 6782, '사이다': 6783, '코스모': 6784, '경기장': 6785, '놀이터': 6786, '동발': 6787, '이상무': 6788, '따르': 6789, '싸매': 6790, '수요일': 6791, '욕심': 6792, '초커': 6793, '박동수': 6794, '영자': 6795, '세계관': 6796, '샤우': 6797, '송경아': 6798, '전투': 6799, '다가와': 6800, '이가흔': 6801, '성난': 6802, '캣': 6803, '타운': 6804, '영수증': 6805, '거침': 6806, '치이': 6807, 'ACA': 6808, '교실': 6809, '리쉬': 6810, '레이즈': 6811, '내려왔': 6812, '소설': 6813, '직업': 6814, '짚': 6815, '눈치': 6816, '음료수': 6817, '소박': 6818, '받으': 6819, '리에': 6820, '결심': 6821, '달라지': 6822, '단란': 6823, '이동엽': 6824, '지나가': 6825, '켠': 6826, '창피': 6827, '쓰릴': 6828, '무도': 6829, '변했': 6830, '아이템': 6831, '만인': 6832, '윤혜진': 6833, '축의금': 6834, '지난': 6835, '잘라': 6836, '토드': 6837, '떨어졌': 6838, '그리움': 6839, '지영': 6840, '손주': 6841, '거의': 6842, '브래드': 6843, '알아볼': 6844, '퇴사': 6845, '검색어': 6846, '루비': 6847, '귀작': 6848, '나간': 6849, '내한': 6850, '차가워': 6851, '올렸': 6852, '데미안': 6853, '구석': 6854, '그동안': 6855, '맞서': 6856, '여라': 6857, '판타': 6858, '선행': 6859, '동모': 6860, '웬': 6861, '걸친': 6862, '골퍼': 6863, '필감성': 6864, '프레스': 6865, '찐한': 6866, 'NEW': 6867, '무니': 6868, '신호탄': 6869, '예술가': 6870, '지운': 6871, '김태': 6872, '카우보이': 6873, '코러스': 6874, '매끄러운': 6875, '기립': 6876, '외국': 6877, '부녀': 6878, '신체': 6879, '포터': 6880, '꾸준': 6881, '타로': 6882, '자요': 6883, '빨래판': 6884, '심창민': 6885, '서사': 6886, '액터': 6887, '‥‘': 6888, '다정히': 6889, '이따': 6890, '샴푸': 6891, '비티': 6892, '맡기': 6893, '겹경사': 6894, '상무': 6895, '동물원': 6896, '아바타': 6897, '크레': 6898, '가지런': 6899, 'FNC': 6900, '뜯': 6901, '과장': 6902, '내내': 6903, '네임': 6904, '가라': 6905, '오디션': 6906, '고쳐': 6907, '아우': 6908, '친해': 6909, '단편': 6910, '사리': 6911, '미복': 6912, '육군훈련소': 6913, '인기가요': 6914, '재석': 6915, 'LP': 6916, '자본주의': 6917, '이긴': 6918, '꾹꾹': 6919, '이기자': 6920, '번호': 6921, '비둘기': 6922, '깎': 6923, '이성동': 6924, '외할머니': 6925, '삼청동': 6926, '레슬리': 6927, '장구': 6928, '트위스트': 6929, '돼서': 6930, '공채': 6931, '배터리': 6932, 'ㅋㅋ': 6933, '귀족': 6934, '보증': 6935, '트위드': 6936, '~♥': 6937, '지난해': 6938, '백댄서': 6939, '스루': 6940, '주위': 6941, '물들인': 6942, '구독자': 6943, '시려': 6944, '정혁기': 6945, '뭇': 6946, '투애니원': 6947, '루프': 6948, '얼굴선': 6949, '국회': 6950, '심야': 6951, '전미라': 6952, '미술': 6953, '흐': 6954, '표장': 6955, '어리': 6956, '욕구': 6957, 'with': 6958, '리티': 6959, '녹일': 6960, '조끼': 6961, '고깔모자': 6962, '아름다워요': 6963, '는다더니': 6964, '선장': 6965, '휘감': 6966, '마미손': 6967, '떠났': 6968, '더듬이': 6969, '은단': 6970, '정경천': 6971, '옴': 6972, '치열': 6973, '연락': 6974, '어깨선': 6975, '바이든': 6976, '아모르': 6977, '패트릭': 6978, '문득': 6979, '빛낼': 6980, '대리': 6981, '과일': 6982, '랄라': 6983, '전선': 6984, '듬': 6985, '위화감': 6986, '위트': 6987, '몰라볼': 6988, '개인기': 6989, '초토화': 6990, '카레': 6991, '극대': 6992, '매튜': 6993, '푸르른': 6994, '밀짚모자': 6995, '메가': 6996, '파마머리': 6997, '안현수': 6998, '샐러드': 6999, '듯이': 7000, '네온': 7001, '父': 7002, '다워': 7003, '해냈': 7004, '神': 7005, '피쉬': 7006, '전통': 7007, '투성이': 7008, '동랑': 7009, '흔든다': 7010, '봄빛': 7011, '뺐': 7012, '헤드셋': 7013, '쑥스럽': 7014, '택배': 7015, '여름향기': 7016, '인파': 7017, '상업': 7018, '장사': 7019, '새러': 7020, '가끔': 7021, '놀라워': 7022, '닿': 7023, '체인지': 7024, '쑥쓰러운': 7025, '임시': 7026, '준지': 7027, '지켜줄': 7028, '레인저': 7029, '검역': 7030, '얼핏': 7031, '내려도': 7032, '친형제': 7033, '에겐': 7034, '이끌려': 7035, \"·'\": 7036, '쥐띠': 7037, '들려주': 7038, '김장': 7039, '시킬': 7040, '센타': 7041, '므파탈의': 7042, '내겐': 7043, '긴급': 7044, '쿵쿵': 7045, '유행': 7046, '드세요': 7047, '박희연': 7048, '레고': 7049, '동파': 7050, '겨울비': 7051, '다림': 7052, '발란스': 7053, '섞인': 7054, '청와대': 7055, '모아서': 7056, '줘야지': 7057, '해피니스': 7058, '신생아': 7059, '어사': 7060, '분출': 7061, '다연': 7062, '섰': 7063, '고사장': 7064, '장님': 7065, '교포': 7066, '몬디': 7067, '글썽': 7068, '옹기종기': 7069, '..’': 7070, '다래끼': 7071, '보인': 7072, '켓': 7073, '여대': 7074, '총사': 7075, '따라가': 7076, '앵무새': 7077, '팡파레': 7078, '케미스트리': 7079, '관심사': 7080, '뜨거워': 7081, '태혜영': 7082, '진입': 7083, '팍': 7084, '믿겨': 7085, '남동생': 7086, '질서': 7087, '어떠': 7088, '칭': 7089, '드릴께요': 7090, '아아': 7091, '선호': 7092, '준수': 7093, '모를': 7094, '서점': 7095, '짜장면': 7096, '수박': 7097, '살려': 7098, '귀재': 7099, '싣': 7100, '다문화가정': 7101, '매덕스': 7102, '시민': 7103, '공대': 7104, '옆집': 7105, '!!': 7106, '스웨터': 7107, '졸리': 7108, '계세요': 7109, '시즈니': 7110, '뇨': 7111, '신남': 7112, '수달': 7113, '성격': 7114, '쭉쭉': 7115, 'EXPO': 7116, '웃겨요': 7117, '길렀': 7118, '이모티콘': 7119, '츤데레': 7120, '사부작': 7121, '70': 7122, '뭉치': 7123, '부티크': 7124, '온통': 7125, '영접': 7126, '울림': 7127, '임도': 7128, '광색': 7129, '원철': 7130, '동태': 7131, '찬스': 7132, '하체': 7133, '드러냈': 7134, '프랑스': 7135, '기선': 7136, '태리': 7137, '가려져': 7138, '올라간': 7139, 'SOUL': 7140, '마린룩': 7141, '보도': 7142, '버디': 7143, '경쟁': 7144, '내려오': 7145, '홍성흔': 7146, '지휘자': 7147, '김세진': 7148, '뭔데': 7149, '부러지': 7150, '4000': 7151, '내전': 7152, '오목조목': 7153, \"'?\": 7154, '홍홍': 7155, '영업': 7156, '트윈': 7157, '사진사': 7158, '메모': 7159, '뚫어질': 7160, '애플': 7161, '오마이갓': 7162, '진혜지': 7163, '띄우': 7164, '오오': 7165, '홈파티': 7166, '달라요': 7167, '전생': 7168, '스킨십': 7169, '데자뷰': 7170, '수치': 7171, '효': 7172, '흔들흔들': 7173, '소주': 7174, '타이': 7175, '오세연': 7176, '공들여': 7177, '시골': 7178, '보여요': 7179, '셀피': 7180, '카멜레온': 7181, '으쌰': 7182, '마블': 7183, '매직': 7184, '즈다': 7185, '점장': 7186, '정보': 7187, '잔치': 7188, '머리핀': 7189, '봄맞이': 7190, '방구석': 7191, '구마사': 7192, '얼떨떨': 7193, '보너스': 7194, '복슬복슬': 7195, '이스': 7196, '어퍼컷': 7197, 'FACE': 7198, '미치': 7199, '폴라': 7200, '헷갈리': 7201, '잠들': 7202, '윈드': 7203, '훔쳤': 7204, '가느다란': 7205, '여름날': 7206, '베프': 7207, '그때': 7208, '부를': 7209, '주렁주렁': 7210, '벅': 7211, '눈물점': 7212, '하와': 7213, '사재기': 7214, '앙큼상큼': 7215, '언밸런스': 7216, '리빌': 7217, '슬로우': 7218, '회사': 7219, '자격': 7220, '힌트': 7221, '남겨요': 7222, '개명': 7223, '원더풀': 7224, '챔피언': 7225, '파랑': 7226, '짝사랑': 7227, '물러가': 7228, '반홍': 7229, '갈까': 7230, '세심': 7231, '유혼': 7232, '생후': 7233, '폴리': 7234, '교사': 7235, '앙리': 7236, '드롭': 7237, '바모스': 7238, '프릴': 7239, '스태프': 7240, '트레이': 7241, '순박': 7242, '물리친': 7243, '설원': 7244, '소매': 7245, '관계자': 7246, 'Call': 7247, '지나치': 7248, '바치': 7249, '기간': 7250, '아이쿠': 7251, '살랑': 7252, '가치': 7253, 'HERO': 7254, '구매': 7255, '디스': 7256, '처연': 7257, '공중': 7258, '착각': 7259, '변한': 7260, '왕방울': 7261, '면허': 7262, '쿠도': 7263, '세끼': 7264, 'HD': 7265, 's': 7266, '걸맞': 7267, '불토': 7268, '갸우뚱': 7269, '키부츠': 7270, '구왕': 7271, '합체': 7272, '집유': 7273, '다루': 7274, '티어': 7275, '촛': 7276, '위드': 7277, '풍부': 7278, '콘스탄체': 7279, '경청': 7280, '위반': 7281, 'BUMP': 7282, '기소': 7283, '지다': 7284, '억대': 7285, '우완': 7286, '노려보': 7287, '다행': 7288, '사운드': 7289, '멀린': 7290, '작품상': 7291, '송곳': 7292, '삼형제': 7293, '오전': 7294, '나우': 7295, '해봐요': 7296, '기른': 7297, '2000': 7298, '동가': 7299, '이터': 7300, '럿': 7301, '종이': 7302, '차례': 7303, '용서': 7304, '플로어': 7305, '겁나': 7306, 'OOTD': 7307, '미워할': 7308, '달고나': 7309, '전환': 7310, '올리비아': 7311, '전력': 7312, '화질': 7313, '볶': 7314, '배꼽티': 7315, '능청': 7316, '여부': 7317, '라이트': 7318, '선보': 7319, '호감': 7320, '훔친': 7321, '가새': 7322, '빈자리': 7323, ';': 7324, '떠': 7325, '모션': 7326, '꾀꼬리': 7327, '큰일': 7328, '싸우': 7329, 'Waiting': 7330, 'HAPPEN': 7331, '로로': 7332, '예그린': 7333, '제자': 7334, '강태': 7335, '가딩': 7336, '인어': 7337, '공허': 7338, '묶인': 7339, 'CODE': 7340, '곤지암': 7341, '후유증': 7342, 'GIRL': 7343, '연구': 7344, '경자': 7345, '속도': 7346, '찔러': 7347, '조막': 7348, '울산': 7349, '임동규': 7350, '트레일러': 7351, '대해': 7352, '꿀벌': 7353, '윤전': 7354, '봄기운': 7355, '해리포터': 7356, '올라오': 7357, '풀렸': 7358, '가꾼': 7359, '멀티': 7360, '조언': 7361, '친하': 7362, '끄떡없': 7363, '뚝딱': 7364, '민정': 7365, '욕조': 7366, '폭력': 7367, '역전': 7368, '시사': 7369, '덩': 7370, '걸쳐': 7371, '나눠요': 7372, 'LOCO': 7373, '잡아먹': 7374, '알라': 7375, 'Collection': 7376, '내뿜': 7377, '구력': 7378, '카니발': 7379, 'Romanticize': 7380, '조제': 7381, '파자마': 7382, '에홍': 7383, '성원': 7384, '동국': 7385, 'AKMU': 7386, '달라붙': 7387, '으니까': 7388, '큐레이터': 7389, '공연장': 7390, '더빙': 7391, '백설기': 7392, '��': 7393, '체제': 7394, '보단': 7395, '모가디슈': 7396, '엄청나': 7397, '김칠두': 7398, '신혼집': 7399, '까진': 7400, '낚시': 7401, '레이업': 7402, '윽': 7403, '사색': 7404, '노인': 7405, '렛': 7406, '쎄': 7407, '덕지덕지': 7408, '디자인': 7409, '춰요': 7410, '악귀': 7411, '이성배': 7412, '아름다워도': 7413, '사준': 7414, '헤드폰': 7415, '당일': 7416, '계정': 7417, '습관': 7418, 'Bad': 7419, 'Attacca': 7420, '마음고생': 7421, '용하': 7422, '박자': 7423, '허당': 7424, '음감': 7425, '능통': 7426, '퀸카': 7427, '뚜벅뚜벅': 7428, '로마': 7429, '해리': 7430, '최지은': 7431, '여파': 7432, '렛츠': 7433, '특별상': 7434, '옛': 7435, '퇴': 7436, '인치': 7437, '쿰': 7438, '신박': 7439, '착석': 7440, '쏠': 7441, '휴일': 7442, '돼야': 7443, '담요': 7444, '웃긴': 7445, 'WJSN': 7446, '미라지': 7447, '괴팍': 7448, '쨍': 7449, '초등학생': 7450, '허세': 7451, '분명': 7452, '피플': 7453, '카메오': 7454, '깜짝이': 7455, '첫발': 7456, '화환': 7457, '힐끔': 7458, '파일럿': 7459, '세기': 7460, '나르시시즘': 7461, '응급실': 7462, '김나진': 7463, '마요': 7464, '만찬': 7465, '이선영': 7466, '가운데': 7467, '라방': 7468, '텐트': 7469, '체인': 7470, 'Summer': 7471, 'that': 7472, '세미콜론': 7473, '낙엽': 7474, '걸터앉': 7475, '민초': 7476, '채웠': 7477, '나대': 7478, '슝': 7479, '공룡': 7480, '극찬': 7481, '와이낫': 7482, '다녀온': 7483, 'Show': 7484, '천진': 7485, '송글송글': 7486, '한기윤': 7487, '흘러내려': 7488, '전곡': 7489, '활용': 7490, '조우': 7491, 'DAMAGE': 7492, '주제': 7493, '대면': 7494, '히메컷': 7495, '지정': 7496, '카로': 7497, '펀딩': 7498, '희열': 7499, '스위밍': 7500, '그것': 7501, '물려받': 7502, '모니터링': 7503, '아리': 7504, '삐쭉': 7505, '얼룩말': 7506, '프러포즈': 7507, '빗겨': 7508, 'itzy': 7509, '간결': 7510, '취해서': 7511, '밀리': 7512, '옥홍': 7513, '구오': 7514, '예쁘장': 7515, '다소곳이': 7516, '프랭크': 7517, '무이': 7518, '이상천': 7519, '지구촌': 7520, '스퀘어': 7521, '투수판': 7522, '연작': 7523, '창민': 7524, '결계': 7525, '빙구': 7526, '군번줄': 7527, '최동원': 7528, '이탈자': 7529, '가브리엘': 7530, '유체': 7531, '조성우': 7532, '옌': 7533, 'KBO': 7534, '페라': 7535, '지독': 7536, '헹': 7537, '가래': 7538, '축구장': 7539, '외로운': 7540, '폭투': 7541, '안중근': 7542, '판정': 7543, '오래오래': 7544, '오열': 7545, '개념시': 7546, '내려온다': 7547, '어찌': 7548, '물고기': 7549, '반가움': 7550, '중사': 7551, '초미': 7552, '브라더': 7553, \"'#\": 7554, '띤': 7555, '부작': 7556, '가식': 7557, '춘사': 7558, '해병': 7559, '찡': 7560, '마주쳐도': 7561, '반도': 7562, '추격자': 7563, '깃발': 7564, '형용': 7565, '태백': 7566, '라오': 7567, '정수리': 7568, '순서': 7569, '구질': 7570, '아오키': 7571, '동과': 7572, '에이판': 7573, '뵐': 7574, '언젠가': 7575, '꽃처럼': 7576, '나릴': 7577, '염원': 7578, '상병': 7579, '막걸리': 7580, '마우스피스': 7581, '극작가': 7582, '랙': 7583, '외로워': 7584, '생동감': 7585, '랭보': 7586, '동진': 7587, '함희': 7588, '찾아가': 7589, '우신': 7590, '화살': 7591, '서범석': 7592, '이주광': 7593, '예서': 7594, '꼼짝': 7595, '컨트리': 7596, '빙수': 7597, '윤문': 7598, '김순택': 7599, '김동연': 7600, '호주': 7601, '아이다': 7602, '조연': 7603, '늠': 7604, '정통': 7605, '상승세': 7606, '서커스': 7607, '번쩍이': 7608, '동상이몽': 7609, '사직': 7610, '박제': 7611, '골수팬': 7612, '원년': 7613, '무지': 7614, '자아낸': 7615, '힝': 7616, '내면': 7617, '끌어올린': 7618, '그럴': 7619, '볼러': 7620, '박지완': 7621, '마쉬': 7622, '페기': 7623, '금악': 7624, '투정': 7625, '그거': 7626, '델라': 7627, '벨마': 7628, '로이스': 7629, '동렬': 7630, '위키드': 7631, '필립': 7632, '자전': 7633, '려지': 7634, '다이어리': 7635, '교감': 7636, '스테이크': 7637, '카트라이더': 7638, '도솔': 7639, '자아': 7640, '체대': 7641, '외교관': 7642, 'th': 7643, '혜진': 7644, '잖아요': 7645, '능력자': 7646, '친숙': 7647, '예쁜가': 7648, '마돈나': 7649, '정치': 7650, 'So': 7651, '북유럽': 7652, '지간': 7653, '약이': 7654, '바이올린': 7655, 't': 7656, '가시리': 7657, '내려간': 7658, '잡지': 7659, 'TMI': 7660, '돌려요': 7661, '오아': 7662, '맵': 7663, '고전': 7664, '밀러': 7665, '세팅': 7666, '돌이': 7667, '태관': 7668, '방긋방긋': 7669, '종방': 7670, '엎': 7671, '코스프레': 7672, 'Flower': 7673, '불혹': 7674, '옵': 7675, '깁스': 7676, '망가져': 7677, '오픈카': 7678, '신드롬': 7679, '방송국': 7680, '탱크': 7681, 'EBS': 7682, '사이코': 7683, '화장법': 7684, '팔로우': 7685, '부름': 7686, '장서': 7687, '으면서': 7688, '모전': 7689, '좀비': 7690, '%..': 7691, '아수라장': 7692, '이나래': 7693, '찌릿': 7694, '홀릴': 7695, '보좌': 7696, '코피': 7697, '기다려요': 7698, '머치': 7699, '의심': 7700, '체크무늬': 7701, '헤이': 7702, '지은': 7703, '원도': 7704, '내받': 7705, '안내': 7706, '바둑돌': 7707, '아무리': 7708, '외톨': 7709, '아리스': 7710, '사활': 7711, '지주': 7712, '본다': 7713, '감개무량': 7714, '원장': 7715, '타격': 7716, '쿠션': 7717, '장병': 7718, '전승': 7719, '배울': 7720, '유시': 7721, '물신': 7722, '멋들어진': 7723, '어김없이': 7724, '모범택시': 7725, '피할': 7726, '단태': 7727, '곽정은': 7728, '정단': 7729, 'MBN': 7730, '꿀맛': 7731, '자고': 7732, '선남': 7733, '안테나': 7734, '동대': 7735, '줄이': 7736, '넘어간다': 7737, '본사': 7738, '희수': 7739, '갑시다': 7740, '장거리': 7741, '회식': 7742, '저쪽': 7743, '편집': 7744, '올바른': 7745, 'WORLD': 7746, '도담': 7747, '믿음직': 7748, '신비감': 7749, '떰즈': 7750, '더욱더': 7751, '일반인': 7752, '역광': 7753, '좋아해': 7754, '오프라인': 7755, '펭귄': 7756, '삼부자': 7757, '체험': 7758, '아잉': 7759, '한옥': 7760, '꽃단장': 7761, '큰형': 7762, '걸려': 7763, '불사르': 7764, '업로드': 7765, '궂': 7766, '볼거리': 7767, '도마': 7768, '여사': 7769, '즐긴': 7770, '리라': 7771, '월상': 7772, '막대': 7773, '텐데': 7774, \"··'\": 7775, '국어': 7776, '샛노란': 7777, '내조': 7778, '두근거리': 7779, '클리': 7780, '왕자님': 7781, '스러울': 7782, '리다': 7783, '중학생': 7784, '방향': 7785, '누워서도': 7786, '테라스': 7787, '트랩': 7788, '화백': 7789, '보일라': 7790, '넘겼': 7791, '커밍': 7792, '동요': 7793, '포켓': 7794, '96': 7795, '싱그러워': 7796, '불구': 7797, '반복': 7798, '중성': 7799, '이재시': 7800, '의문': 7801, '곱슬': 7802, '바라기': 7803, '매고': 7804, '마무': 7805, '손질': 7806, '한입': 7807, '꽃피': 7808, '과연': 7809, '윤승현': 7810, '점수': 7811, '받침': 7812, '친목': 7813, '무적': 7814, '달째': 7815, \"·'♥\": 7816, '송즈': 7817, '로서': 7818, '!··': 7819, '사용': 7820, '화폐': 7821, '기본소득': 7822, '으신': 7823, '작전': 7824, '빨간색': 7825, '찼': 7826, '망언': 7827, '황신영': 7828, '달려왔': 7829, '떠올리': 7830, '금지': 7831, '승마': 7832, '대담': 7833, '고스란히': 7834, '머리칼': 7835, '밸런스': 7836, '샤론스톤': 7837, '♥\"..': 7838, '서포트': 7839, '옷매무새': 7840, '최후': 7841, '가다듬': 7842, '재활': 7843, '심심': 7844, '옮기': 7845, '보폭': 7846, '금주': 7847, '마쳐': 7848, '95': 7849, '속닥속닥': 7850, '써야': 7851, '400': 7852, '모이': 7853, '내숭': 7854, '헤어밴드': 7855, '신장': 7856, '증': 7857, '조정': 7858, '지킨다': 7859, '휘젓': 7860, '대축': 7861, '코난': 7862, '싸맨': 7863, '멋져요': 7864, '파이': 7865, '주접': 7866, '레이먼킴': 7867, '도복': 7868, '지진': 7869, '유독': 7870, '와중': 7871, '밤새': 7872, '김창렬': 7873, '프로페셔널': 7874, '교도소': 7875, '미쳐': 7876, '효리': 7877, '삼킨다': 7878, '오렌지색': 7879, '혼인': 7880, '팔불출': 7881, '지평': 7882, '커진': 7883, '내릴': 7884, '로써': 7885, '씻': 7886, '커튼': 7887, '베이시스트': 7888, '가닥': 7889, '피고인': 7890, '강원도': 7891, '말랑말랑': 7892, '풀어헤친': 7893, '부끄러움': 7894, '봅니다': 7895, 'PHOTOPIC': 7896, '겁먹': 7897, '춰': 7898, '칼날': 7899, '마실까': 7900, '반드시': 7901, '밤중': 7902, '밤하늘': 7903, '모발': 7904, '브래디': 7905, '꾸밈': 7906, '모았': 7907, '남훈': 7908, '앤더슨': 7909, '분식': 7910, '황민': 7911, '폭로': 7912, '불문': 7913, '붙인': 7914, '바리': 7915, '홀렸': 7916, '혼란': 7917, '파당': 7918, '고소': 7919, '아형': 7920, '불어오': 7921, '대홍': 7922, '차지': 7923, '감은': 7924, '압구정': 7925, '식빵': 7926, '오색': 7927, '부잣집': 7928, '.`': 7929, '침통': 7930, '안마': 7931, '뜻': 7932, '내려가': 7933, '일관': 7934, '소품': 7935, '금연': 7936, '나노': 7937, '태권': 7938, '강하': 7939, '뺨': 7940, '따듯': 7941, '걸린': 7942, '점핑': 7943, '고공': 7944, '무기': 7945, '대칭': 7946, '끼얹': 7947, '길러': 7948, '흐트러진': 7949, '워터': 7950, '재능': 7951, '아름다웠': 7952, '레이디스': 7953, '부활': 7954, '먼로': 7955, '오구': 7956, '귀욤': 7957, '셋째': 7958, '장악력': 7959, '촉촉히': 7960, '형형색색': 7961, '마카롱': 7962, '석홍': 7963, \"'·'\": 7964, '다부진': 7965, '아유': 7966, '초반': 7967, '김충재': 7968, '동신': 7969, '급한': 7970, '양성': 7971, '나경': 7972, '배역': 7973, '무렵': 7974, '극단': 7975, '도종환': 7976, '김강헌': 7977, '넘김': 7978, '구도': 7979, '불리': 7980, '너희': 7981, '벨트': 7982, '답니다': 7983, '눈앞': 7984, '얌': 7985, '꽈배기': 7986, '뇌섹녀': 7987, '서서히': 7988, '봄비': 7989, 'BJ': 7990, '레슨': 7991, '어리둥절': 7992, '저절로': 7993, '회의': 7994, '다툼': 7995, '춘': 7996, '일부': 7997, '귓가': 7998, '천녀': 7999, '오드리': 8000, '열공': 8001, '달려라': 8002, '만보': 8003, '소현': 8004, '내요': 8005, 'Forever': 8006, '사사키': 8007, '흘러내리': 8008, '클라운': 8009, '바리스타': 8010, '행사장': 8011, '코카': 8012, '봄처녀': 8013, '’”': 8014, '아닌가': 8015, '월드컵': 8016, '더벅머리': 8017, '귀고리': 8018, '넘어서': 8019, '쿠키': 8020, '스트라이프': 8021, '개야': 8022, '‥“': 8023, '배워': 8024, 'Choice': 8025, '유승옥': 8026, '샴페인': 8027, '공손히': 8028, '비타': 8029, '방가': 8030, '요미': 8031, '손뼉': 8032, '오누이': 8033, '㎝': 8034, '청계산': 8035, '올레드': 8036, '따라올': 8037, '넷째': 8038, '자심': 8039, '여서': 8040, '알파카': 8041, '편견': 8042, '해사': 8043, '틈새': 8044, '충무': 8045, '새삼': 8046, '\\'...\"': 8047, '나성호': 8048, '플로': 8049, '수학': 8050, '마당': 8051, '헌혈': 8052, '휘리': 8053, '애비': 8054, '이미쉘': 8055, '팁': 8056, '겨울바람': 8057, '퓨마': 8058, '갤러리': 8059, '빡': 8060, '오세득': 8061, '경계': 8062, '발휘': 8063, '투표장': 8064, '트래블': 8065, '흐린': 8066, '살게요': 8067, '뮬': 8068, '부러워요': 8069, '꿈틀': 8070, '잃어버렸': 8071, '자발': 8072, '혼모': 8073, '멸각': 8074, '압살': 8075, '해줘': 8076, '호호': 8077, '풀어헤치': 8078, '렛미인': 8079, '골인': 8080, '상담': 8081, '솜': 8082, '끌레르': 8083, '장기': 8084, '타올': 8085, '죄수복': 8086, '피크닉': 8087, '소녀풍': 8088, '메가폰': 8089, '잠기': 8090, '당연히': 8091, '목숨': 8092, '친동생': 8093, '완연': 8094, '앰': 8095, '건지': 8096, '독일인': 8097, '불러일으키': 8098, '빨려': 8099, '기다려온': 8100, '노희경': 8101, '열중': 8102, '끌어당기': 8103, '피아니스트': 8104, '순위': 8105, '술렁': 8106, '넥타': 8107, '끼쳐드려': 8108, '끊임없이': 8109, '걸까': 8110, '서열': 8111, \"→'\": 8112, '소지': 8113, '기에': 8114, '갈까요': 8115, '떨어질': 8116, '깬': 8117, '훨훨': 8118, '화목': 8119, '슬쩍': 8120, '무서워': 8121, '세스': 8122, '회견장': 8123, '뚱한': 8124, '창백': 8125, '변경': 8126, '총집합': 8127, '울린': 8128, '빼입': 8129, '수건': 8130, '할리퀸': 8131, '뉴이': 8132, '해적': 8133, '환갑': 8134, '자동': 8135, '상징': 8136, '딘': 8137, '올라요': 8138, '세션': 8139, '셉': 8140, '채종': 8141, '황급히': 8142, '생겨서': 8143, '바캉스': 8144, '열리': 8145, '관부': 8146, '걸즈': 8147, '벅차': 8148, '해결사': 8149, '레즈': 8150, '쏘옥': 8151, '댕': 8152, '베스트셀러': 8153, '피팅': 8154, '광합성': 8155, '해짐': 8156, '까르르': 8157, '낭독': 8158, '명동': 8159, '정성윤': 8160, '허민': 8161, '눈부셨': 8162, '선발투수': 8163, '라우': 8164, '계곡': 8165, '완결': 8166, '코스모스': 8167, '동람': 8168, '스님': 8169, '89': 8170, '독도': 8171, '어깨끈': 8172, '멈춰': 8173, '사진첩': 8174, '더그아웃': 8175, '브리지': 8176, '차민': 8177, '도서관': 8178, '시집가': 8179, '쇼핑몰': 8180, '환우': 8181, '모조리': 8182, '히어로즈': 8183, '바둑알': 8184, '나빌레라': 8185, '환해': 8186, '등산복': 8187, '상당': 8188, '어니': 8189, '포토샵': 8190, '보쌈': 8191, 'TMINEWS': 8192, '다우': 8193, '정자': 8194, '담보': 8195, '귀여운데': 8196, '창원': 8197, '불쾌': 8198, '파이프라인': 8199, '라푼젤': 8200, '멸망': 8201, '클로이': 8202, '례': 8203, '플래닛': 8204, '999': 8205, '국군': 8206, '모레츠': 8207, '세일': 8208, '동녀': 8209, '조비': 8210, '참새': 8211, '갖춰': 8212, '직격': 8213, '심강': 8214, '밥알': 8215, '배운': 8216, '해방': 8217, '화상': 8218, '몸보신': 8219, '설치': 8220, '변화구': 8221, '구공': 8222, '새하얗': 8223, '컬렉션': 8224, '옳다': 8225, '냉철': 8226, '대선배': 8227, '귀찮': 8228, '신세계': 8229, '다수': 8230, '봉준': 8231, '스카우트': 8232, '터틀넥': 8233, '절차': 8234, '이순': 8235, \"‥'\": 8236, '주심': 8237, '벤치': 8238, '열도': 8239, '멱살': 8240, '초청': 8241, '강동구': 8242, '지헤': 8243, '노안': 8244, '토스': 8245, '벌리': 8246, '움직인다': 8247, 'Dr': 8248, '제리': 8249, '담벼락': 8250, '폐막식': 8251, '얼도': 8252, '어젯밤': 8253, '몸풀기': 8254, '스며드': 8255, '초록빛': 8256, '한경': 8257, '뒤흔들': 8258, '택서': 8259, '덜덜': 8260, '메일': 8261, 'Don': 8262, '코앞': 8263, '찾아왔': 8264, '주스': 8265, '량': 8266, '박연경': 8267, '찰나': 8268, '필살기': 8269, '달마': 8270, '제격': 8271, '파타': 8272, '여정': 8273, '수칙': 8274, '아침마당': 8275, '파묻힌': 8276, '끈다': 8277, '키로': 8278, '스트리트': 8279, '그라스': 8280, '침입자': 8281, '까칠': 8282, '신종': 8283, '초년생': 8284, '둡': 8285, '배드민턴': 8286, 'aaa': 8287, '들뜬': 8288, '멍멍': 8289, '찍혔': 8290, '꼭꼭': 8291, 'Seoul': 8292, '줄까': 8293, '파노라마': 8294, '방불': 8295, '맥': 8296, '머릿속': 8297, '자료': 8298, '지존': 8299, '오재웅': 8300, '일체': 8301, '무술': 8302, '어쩌면': 8303, '스파크': 8304, '김광빈': 8305, '단단히': 8306, '헤드': 8307, '불러줘': 8308, '보유국': 8309, '소예': 8310, '고영배': 8311, '러시아': 8312, '그렸': 8313, '세자빈': 8314, '항해': 8315, '나세': 8316, '때릴': 8317, '주름잡': 8318, '준두': 8319, '생일상': 8320, '여기저기': 8321, '규빈': 8322, '장화': 8323, '절세미인': 8324, '한양': 8325, '매운맛': 8326, '예방': 8327, '부릅': 8328, '복학생': 8329, '쿵쾅': 8330, '허일': 8331, '코지': 8332, '제작진': 8333, '찬바람': 8334, 'Teddy': 8335, 'Bear': 8336, '다가온': 8337, '마고': 8338, '규모': 8339, 'WAW': 8340, '’…“': 8341, 'SPICY': 8342, '정상급': 8343, '진정선': 8344, '카리스': 8345, '빵떡': 8346, '허락': 8347, '해줘요': 8348, 'IOI': 8349, '이견': 8350, '환각': 8351, '추워진': 8352, 'NOE': 8353, 'MY': 8354, '러블': 8355, 'Side': 8356, '라이터': 8357, 'Bambi': 8358, '블라': 8359, '컨셉트': 8360, '동그래진': 8361, '진행형': 8362, '꽤': 8363, '앙탈': 8364, '보여서': 8365, '돌풍': 8366, '지쳤': 8367, '탐나': 8368, '강원랜드': 8369, '문태곤': 8370, '가뿐': 8371, 'SDA': 8372, 'Feels': 8373, '율동': 8374, '아타카': 8375, '오로지': 8376, '고메즈': 8377, '무서워요': 8378, '아연': 8379, '오케스트라': 8380, '표창장': 8381, '엊그제': 8382, '정승': 8383, '레인져': 8384, '우바이': 8385, '자는': 8386, '당차': 8387, '아틀란티스': 8388, '기준': 8389, '지그재그': 8390, '유치원': 8391, '희성': 8392, '군요': 8393, '접근': 8394, '코스': 8395, '송송': 8396, '졸': 8397, '~~': 8398, '특공대': 8399, '가차없이': 8400, '거절': 8401, '술렁이': 8402, '스트로베리': 8403, '목욕': 8404, '버레': 8405, 'w': 8406, 'How': 8407, '치르': 8408, '꼼꼼히': 8409, '불어': 8410, '스텔': 8411, '수험장': 8412, '격하': 8413, '독일': 8414, '손잡고': 8415, '믹스테이프': 8416, '쉘': 8417, 'YOURS': 8418, '고와': 8419, '호이': 8420, '중국어': 8421, '타타': 8422, '마틴': 8423, '바통': 8424, '퓨리': 8425, '게스': 8426, '마피아': 8427, \"'%%',\": 8428, 'Midnight': 8429, '과백': 8430, '빨려드': 8431, '브리드': 8432, '피네': 8433, '生': 8434, '스탭': 8435, '돈트': 8436, '라곤': 8437, '레더': 8438, '이상곤': 8439, '시영': 8440, '.“': 8441, '고속': 8442, '핸섬한': 8443, '연이': 8444, '콘택트': 8445, '돌변': 8446, '총선': 8447, 'SCENE': 8448, 'Better': 8449, 'Change': 8450, '등라': 8451, '킨텍스': 8452, '갈피': 8453, '랴': 8454, '석화': 8455, '가질': 8456, '신년': 8457, 'Cold': 8458, '먼지': 8459, '야심': 8460, '향해서': 8461, 'URN': 8462, '불태우': 8463, 'OVER': 8464, '마디': 8465, 'TURN': 8466, '167': 8467, 'Holiday': 8468, '홀리데이': 8469, '빙빙': 8470, 'QURIOUS': 8471, '러버': 8472, '다구': 8473, '유망주': 8474, 'WOOPS': 8475, 'Savage': 8476, '드러': 8477, '가만': 8478, '시가': 8479, '밑줄': 8480, '티스': 8481, '휘파람': 8482, '동림': 8483, '자세히': 8484, '혼돈': 8485, '나간다': 8486, '난리나': 8487, '와야': 8488, '추자': 8489, '발동': 8490, '바닐라': 8491, '부수': 8492, '치트키': 8493, '초읽기': 8494, '동굴': 8495, '소띠': 8496, '예열': 8497, 'KAI': 8498, '바라볼': 8499, '국판': 8500, '복제': 8501, '미간': 8502, 'H': 8503, '급해': 8504, '흐려': 8505, '정신줄': 8506, '도련님': 8507, '노하우': 8508, '동철': 8509, '타파': 8510, '현대': 8511, '철벽': 8512, '걸리': 8513, '손오공': 8514, '삼겹살': 8515, '라운드': 8516, '스튜디오': 8517, '휴양지': 8518, '러쉬': 8519, '드린다': 8520, '68': 8521, '옆자리': 8522, 'Maria': 8523, '뒹굴뒹굴': 8524, '뱉': 8525, '튜': 8526, '노랑나비': 8527, '안쓰러워': 8528, '존경': 8529, '레잇': 8530, '전용진': 8531, '일어나': 8532, '보석함': 8533, '의외로': 8534, '상궁': 8535, '리뷰': 8536, '편의점': 8537, '잘생기': 8538, '녹턴': 8539, '단어': 8540, 'Happy': 8541, '한텐': 8542, '단계': 8543, \"~?'\": 8544, '따라오': 8545, '황인욱': 8546, '디테': 8547, '연반': 8548, '레시피': 8549, '함박눈': 8550, '쪄': 8551, '연승': 8552, '박찬호': 8553, '온달': 8554, '정해': 8555, '닐': 8556, '무사': 8557, '설정': 8558, '서부터': 8559, '야망': 8560, '기차': 8561, '칸막이': 8562, '잔소리': 8563, '윤일상': 8564, '영입': 8565, '킹스맨': 8566, '동상': 8567, '업데이트': 8568, '이뤘': 8569, '미워': 8570, '훔친다': 8571, '체불': 8572, '떳떳': 8573, '송편': 8574, '불사': 8575, '휘날려': 8576, '외': 8577, '경국지색': 8578, '보컬리스트': 8579, 'BACK': 8580, '떠날까': 8581, '상사': 8582, '날려도': 8583, '을래요': 8584, '당했': 8585, '룡': 8586, '여요': 8587, '굴': 8588, '중복': 8589, '시산': 8590, '파괴자': 8591, '스트레칭': 8592, '이창규': 8593, '가시': 8594, '프렌즈': 8595, '없인': 8596, '투병': 8597, '뭔지': 8598, '비룡': 8599, '통하': 8600, '내기': 8601, '순백색': 8602, '롱런': 8603, '거뜬히': 8604, '물결치': 8605, '순둥이': 8606, '장모님': 8607, '알아본': 8608, 'INK': 8609, '페는': 8610, '안쓰러운': 8611, '가을맞이': 8612, '찰싹': 8613, '외투': 8614, '이륙': 8615, '체이스': 8616, '누가누': 8617, 'RIP': 8618, '王': 8619, '오를': 8620, '누군가': 8621, '왕년': 8622, '소떡': 8623, '함꼐': 8624, '진상': 8625, '한다는': 8626, '붙드': 8627, '난생': 8628, '신임': 8629, '훤': 8630, '엑스엑스': 8631, '빨갛': 8632, '끼리끼리': 8633, '세련되': 8634, '포레스트': 8635, '왠지': 8636, '갈래요': 8637, '홀딱': 8638, '슈즈': 8639, '쿵쾅쿵쾅': 8640, '플랫': 8641, '내려와': 8642, '빨대': 8643, '부러우': 8644, '이탈': 8645, '발탁': 8646, '종강': 8647, '아스': 8648, '농부': 8649, '우동': 8650, 'Guy': 8651, '오스틴': 8652, '켜': 8653, 'Turn': 8654, '기장': 8655, 'Over': 8656, '티비': 8657, '단화': 8658, '인터': 8659, '벽돌': 8660, '까불': 8661, '장돌': 8662, '귀여웠': 8663, '성취': 8664, '맛나': 8665, '기간제': 8666, '예승': 8667, '인도': 8668, '종결': 8669, '우람': 8670, '챠': 8671, '대래': 8672, '122609': 8673, '퓨전': 8674, '멘': 8675, '대대': 8676, '섹시함': 8677, '재시': 8678, '흑화': 8679, '평상복': 8680, 'CMA': 8681, '을라': 8682, '어렸': 8683, '신대': 8684, '낸다': 8685, '정신없': 8686, '원로': 8687, '카롤': 8688, '보타': 8689, '알찬': 8690, '수녀': 8691, '맥도널드': 8692, '성종': 8693, '전적': 8694, '신상': 8695, '네티즌': 8696, '술상': 8697, '쇼핑백': 8698, '사상': 8699, '조종': 8700, '수료': 8701, '자필': 8702, 'RBW': 8703, '도예': 8704, '구수': 8705, '촛불': 8706, '확산': 8707, '모시': 8708, '펄펄': 8709, '개럿': 8710, '값진': 8711, '으실': 8712, '자유인': 8713, '父子': 8714, '똑같이': 8715, '하디': 8716, '깨소금': 8717, '썩인': 8718, '마비': 8719, '메론': 8720, '파릇파릇': 8721, '지그시': 8722, '랩소디': 8723, 'HAPPY': 8724, '두피': 8725, 'DYNAMITE': 8726, '흥신': 8727, '흥왕': 8728, '라더니': 8729, '펑크': 8730, '감사히': 8731, '영스': 8732, 'OC': 8733, '회색': 8734, '지퍼': 8735, '접도': 8736, '갈갈이': 8737, '~~\"': 8738, '짐주': 8739, '스케치': 8740, 'It': 8741, '경사': 8742, '자나깨나': 8743, '적설': 8744, '크램': 8745, '탈의': 8746, '검진': 8747, '상복': 8748, '원해': 8749, '이제야': 8750, '몸놀림': 8751, '이계벽': 8752, '전보': 8753, '스팽글': 8754, '세연': 8755, '교통': 8756, '펼친': 8757, '가정': 8758, '시린': 8759, '감춰진': 8760, '흥신소': 8761, '대질': 8762, '성동': 8763, '과분': 8764, '체크인': 8765, '스모': 8766, '낙원': 8767, '넘쳐흐르': 8768, '신작': 8769, '여홍': 8770, '재탄생': 8771, '그런': 8772, '옷차림': 8773, '스윗소로우': 8774, '질린': 8775, '빨개진': 8776, '공방': 8777, '소닉': 8778, '이날': 8779, '됨': 8780, '누굴': 8781, '최고령': 8782, '압권': 8783, '슈트룩': 8784, '석양': 8785, '마셨': 8786, '갈아입': 8787, '뺨쳐': 8788, '참담': 8789, '녹두전': 8790, '포퍼': 8791, '충': 8792, '와니': 8793, '수표': 8794, '몸짱': 8795, '친정': 8796, '히로': 8797, '이경자': 8798, '위스키': 8799, '마릴린': 8800, '딴': 8801, '용산': 8802, 'CD': 8803, '강희선': 8804, '평창': 8805, '층': 8806, 'AI': 8807, '올께요': 8808, '관객석': 8809, '첨': 8810, '래린': 8811, '어벤져스': 8812, '뽀로로': 8813, '마감': 8814, '망가질': 8815, '먼스': 8816, '예절': 8817, '~”': 8818, '찾아오': 8819, '하버드': 8820, '꺾': 8821, '스트림': 8822, '허니': 8823, '독전': 8824, '취임식': 8825, '만지작': 8826, '슨': 8827, '전우': 8828, '129': 8829, '벗어난': 8830, '활기': 8831, '다이나마이트': 8832, '덤블': 8833, '헐크': 8834, '홍반장': 8835, '이만': 8836, '어려워요': 8837, '아슬': 8838, '쓰레기': 8839, '촌': 8840, '오른다': 8841, '비법': 8842, '외로움': 8843, '포스트': 8844, '전종환': 8845, '꽃꽂이': 8846, '회사원': 8847, '티켓': 8848, '상관': 8849, '디자이너': 8850, '혹': 8851, '리브': 8852, '돌아서': 8853, '경미': 8854, '불꽃놀이': 8855, '키다리': 8856, '톰': 8857, '윤미래': 8858, '백경': 8859, '건법': 8860, '징': 8861, '신바람': 8862, '부티': 8863, '해질': 8864, '귀부인': 8865, '하사': 8866, '장풍': 8867, '핫도그': 8868, '물리칠': 8869, '양반': 8870, '성운': 8871, '야노시호': 8872, '새치': 8873, '그네': 8874, '윤화': 8875, '봐야': 8876, '줄무늬': 8877, '선언문': 8878, '도넛': 8879, '라디오스타': 8880, '서양': 8881, '프리랜서': 8882, '천하무적': 8883, '넘어지': 8884, '손들': 8885, '주례': 8886, '하와이': 8887, '참으로': 8888, '살께요': 8889, '잤': 8890, '지천명': 8891, '이천수': 8892, '탐': 8893, '아메리카노': 8894, '살금살금': 8895, '애송이': 8896, '이광섭': 8897, '청명': 8898, '까만': 8899, '못했': 8900, '형부': 8901, '퍼진': 8902, '자제': 8903, '살아라': 8904, '상륙': 8905, 'ㅠㅠ': 8906, '강탈자': 8907, '유부': 8908, '두식': 8909, '복덩이': 8910, '동식': 8911, '손도장': 8912, '우려': 8913, '잠자리': 8914, '정교': 8915, '만져': 8916, '각선': 8917, '사니': 8918, '당고': 8919, '별설': 8920, '커졌': 8921, '샤이': 8922, '짱구': 8923, '거수': 8924, '발하': 8925, '홍초': 8926, '개국': 8927, '아까운': 8928, '웨어': 8929, '비켜간': 8930, '까치발': 8931, 'All': 8932, '’(': 8933, '98': 8934, '독감': 8935, '여행자': 8936, '신춘수': 8937, '꼽': 8938, '맞춰서': 8939, '휩쓸': 8940, '숫자': 8941, 'a': 8942, '우디': 8943, '대환영': 8944, '과하': 8945, '표지': 8946, '준이': 8947, '디렉션': 8948, '어두워도': 8949, '흥겹': 8950, '귀태': 8951, 'FOR': 8952, 'CRY': 8953, '펼쳐지': 8954, \">'\": 8955, '접종': 8956, '평정': 8957, '긁': 8958, '소개팅': 8959, '종아리': 8960, '171': 8961, '사카구치': 8962, '장첸': 8963, '소공녀': 8964, '살해': 8965, '~,': 8966, '외쳐': 8967, '에리카': 8968, '입체': 8969, '스에': 8970, '데릴': 8971, '흑표범': 8972, '득녀': 8973, 'JJ': 8974, '어째': 8975, '비포': 8976, '파인애플': 8977, '취해도': 8978, '84': 8979, '하운드': 8980, '정홍길': 8981, '올라서': 8982, '스스': 8983, '페도라': 8984, '박힌': 8985, '얼형': 8986, '될래요': 8987, '개발': 8988, '각기': 8989, '안부': 8990, '꺅': 8991, '164': 8992, '털옷': 8993, '재결합': 8994, '트리플': 8995, '상어': 8996, '진품명품': 8997, '답안': 8998, '주고받': 8999, '입감': 9000, '매진': 9001, '어찌나': 9002, '왕실': 9003, '충동': 9004, '눈물샘': 9005, '혐': 9006, '으시': 9007, '한울': 9008, '가네': 9009, '구준': 9010, \"★'\": 9011, '필리핀': 9012, '봐라': 9013, '전속': 9014, '필드': 9015, '투투': 9016, '오싹': 9017, '흘려': 9018, '원망': 9019, '가지런히': 9020, '남긴': 9021, '유도': 9022, '삼관': 9023, '무난': 9024, '꼬까옷': 9025, '륜': 9026, 'QR': 9027, '수갑차': 9028, '양희종': 9029, '트릴': 9030, '동욱': 9031, '로지': 9032, '덕선': 9033, '달라도': 9034, '라이벌': 9035, '구청장': 9036, '관중석': 9037, '담겨': 9038, '협회': 9039, '의식': 9040, '견도': 9041, '마켓': 9042, '프레슬리': 9043, '묶여': 9044, '떠올라': 9045, '동광': 9046, '돈가스': 9047, '재발견': 9048, '울먹': 9049, '백합': 9050, '커져': 9051, '떨렸': 9052, '다이나믹': 9053, '시봉': 9054, '이시어': 9055, '잠든': 9056, '병구': 9057, '성형수술': 9058, '뭣': 9059, '닭': 9060, '인태': 9061, '참관': 9062, '망한': 9063, '배상': 9064, '제기': 9065, '기로': 9066, '다크서클': 9067, '중헌': 9068, '예측': 9069, '텝': 9070, '지망생': 9071, '재준': 9072, '챙긴': 9073, '쌍수': 9074, '잔인': 9075, '감추': 9076, '와이셔츠': 9077, '할매': 9078, '후다닥': 9079, '희생': 9080, '친오빠': 9081, '버림': 9082, '홀딩스': 9083, '진운': 9084, '뒤통수': 9085, '룰루랄라': 9086, '청구': 9087, '에스더': 9088, '아장아장': 9089, '움켜쥐': 9090, '김태오': 9091, '부내': 9092, 'day': 9093, '아파요': 9094, '으로서': 9095, '엄친': 9096, '답장': 9097, '몸집': 9098, '이뤄': 9099, '대마': 9100, '아슬한': 9101, '이창희': 9102, '밝힐': 9103, '영감': 9104, '역투': 9105, '구애': 9106, '공동': 9107, '단과': 9108, '뭘까': 9109, '럼': 9110, '꽃구경': 9111, '노부부': 9112, '사직야구장': 9113, '깡총': 9114, '드리운': 9115, '벙커': 9116, '특히': 9117, '지난주': 9118, '심판': 9119, '규환': 9120, '엄치': 9121, '도망친': 9122, '손정은': 9123, '셸던': 9124, '쌓': 9125, '다듬': 9126, '알아봐': 9127, '박태환': 9128, '박세혁': 9129, '욱': 9130, '여리': 9131, '울프': 9132, '기증': 9133, '기획': 9134, '석권': 9135, '도로': 9136, '멘첼': 9137, '다룬': 9138, '일산': 9139, '로워진': 9140, '벤허': 9141, '창대': 9142, '덤벼': 9143, '향긋': 9144, '뒤로한': 9145, '원작': 9146, '들린다': 9147, '침': 9148, '\"..♥': 9149, '산증인': 9150, '마라도나': 9151, '호러': 9152, 'WHAT': 9153, '김형주': 9154, '동나': 9155, '기막힌': 9156, '연극제': 9157, '등원': 9158, '모바일': 9159, '광역': 9160, '내자': 9161, '주행': 9162, '서치': 9163, '임강희': 9164, '백두': 9165, '퀭': 9166, '시국': 9167, 'ALL': 9168, '끝나': 9169, '암시': 9170, '봉부': 9171, '니다': 9172, '안나': 9173, '기성': 9174, '처녀': 9175, '미투': 9176, '한라산': 9177, 'TT': 9178, '한다고': 9179, 'Hit': 9180, 'it': 9181, 'Op': 9182, '양팔': 9183, '158': 9184, '성균관': 9185, '던져야': 9186, '투표용지': 9187, '글러': 9188, '겨': 9189, 'off': 9190, 'GOTCHA': 9191, '한스타': 9192, '길동홍': 9193, '짱이': 9194, '일탈': 9195, '주빈': 9196, '“‘': 9197, '설강': 9198, '악몽': 9199, '준우': 9200, '테마': 9201, '플라잉': 9202, '이럴': 9203, '연패': 9204, '묻힌': 9205, '미니언': 9206, '사무실': 9207, 'Lover': 9208, '달린다': 9209, '섬': 9210, '널찍': 9211, 'LR': 9212, 'Tomorrow': 9213, '썰': 9214, '보온병': 9215, '철파': 9216, 'Thank': 9217, '어용': 9218, '밀가루': 9219, '끄떡': 9220, '스파이더맨': 9221, '복만': 9222, 'BLOSSOM': 9223, '소주잔': 9224, '째려보': 9225, '시어머니': 9226, '...\"': 9227, '생방': 9228, '쫄쫄이': 9229, '손재주': 9230, '!..': 9231, '여장': 9232, '던져라': 9233, 'ㅎ': 9234, '했으니': 9235, '에펠': 9236, '꼬집': 9237, '샀': 9238, 'HOT': 9239, '고무장갑': 9240, '타워': 9241, '사구': 9242, '플라스틱': 9243, '맛난': 9244, 'Ponzona': 9245, '중세': 9246, '금지곡': 9247, '헛스윙': 9248, '중반': 9249, '불태운': 9250, '체지방': 9251, '피트': 9252, '세컨드': 9253, 'COLD': 9254, '자도': 9255, '전향': 9256, '살찔': 9257, '명은': 9258, '포복': 9259, '103': 9260, '프로야구': 9261, '목홍': 9262, '샐': 9263, 'MAGENTA': 9264, '농장': 9265, '갇혔': 9266, '평가전': 9267, '쁘': 9268, '휘두르': 9269, '유산소': 9270, '마젠타': 9271, '들판': 9272, '채송화': 9273, '부스': 9274, 'PLAY': 9275, '이서': 9276, '김가온': 9277, '시아버지': 9278, '야밤': 9279, 'Do': 9280, '지도': 9281, '레리': 9282, 'Ice': 9283, '작아졌': 9284, '하윤': 9285, 'Cream': 9286, '조깅': 9287, '차리': 9288, '일부러': 9289, '언더핸드': 9290, '오디오': 9291, '동령': 9292, '호떡': 9293, '호두과자': 9294, 'Dynamite': 9295, '돼도': 9296, '가구': 9297, '얼레': 9298, '손색없': 9299, '두꺼운': 9300, '순대': 9301, '구척장신': 9302, '잔디밭': 9303, '훌렁': 9304, '한남동': 9305, '과식': 9306, '금메달리스트': 9307, '돔구장': 9308, '리릭': 9309, 'FANTASIA': 9310, '스플래시': 9311, '도배': 9312, 'Sugar': 9313, '상관없이': 9314, 'J': 9315, '타고났': 9316, '경소': 9317, 'YOON': 9318, '막힐': 9319, '~♥\"': 9320, '레터링': 9321, 'PARANOIA': 9322, '169': 9323, '쪽진': 9324, '양평': 9325, '쪼그려': 9326, '이중생활': 9327, '상투': 9328, '사모님': 9329, 'Select': 9330, '검정치마': 9331, 'Zombie': 9332, '고글': 9333, 'HIDE': 9334, '후추': 9335, '럭키맨': 9336, '센티': 9337, '등록': 9338, 'SEEK': 9339, 'ㅅ': 9340, '이창석': 9341, '속상한': 9342, '부지런': 9343, 'Taste': 9344, '리믹스': 9345, '대취타': 9346, 'Future': 9347, '반함': 9348, 'SWITCH': 9349, '심오': 9350, '귀하': 9351, 'Shop': 9352, '피쳐': 9353, '구전': 9354, '운동장': 9355, '♥··': 9356, '무스탕': 9357, '경도': 9358, '감상회': 9359, '털보': 9360, 'woo': 9361, 'ah': 9362, '손자': 9363, '홍재경': 9364, '봄내': 9365, '사칭': 9366, '성별': 9367, '62': 9368, '말투': 9369, '트러스트': 9370, '끼니': 9371, '할텐데': 9372, '\",': 9373, '츄리닝': 9374, '눈싸움': 9375, '잘라버렸': 9376, '깔깔이': 9377, '에블린': 9378, '비가': 9379, '뜨개': 9380, '혼혈': 9381, '치맛바람': 9382, '증발': 9383, '화해': 9384, '들어올': 9385, '달랜': 9386, '앞모습': 9387, '꿀잠': 9388, '대머리': 9389, '코빅': 9390, '다녀요': 9391, '깔깔깔': 9392, '월요': 9393, '자몽': 9394, '탕탕': 9395, '는걸': 9396, 'Who': 9397, '으셨어요': 9398, '너자': 9399, '커스텀': 9400, '며칠': 9401, '오웬': 9402, '근데': 9403, '홍차': 9404, '오뚝': 9405, 'Dis': 9406, '핏불': 9407, '로퍼': 9408, 'ETERNITY': 9409, '원홍': 9410, '알콜': 9411, '신디': 9412, '애완견': 9413, '대디': 9414, '자칭': 9415, '냉장고': 9416, '오스본': 9417, '유희관': 9418, '사카다': 9419, '스윗남': 9420, '빨래': 9421, '브렛': 9422, '달빛천사': 9423, '섀도우': 9424, '알레르기': 9425, '검색': 9426, '심마니': 9427, '도리': 9428, '패러글라이딩': 9429, '그건': 9430, '세프': 9431, '디너쇼': 9432, '일기': 9433, '바라다': 9434, '모처럼': 9435, '난리난': 9436, '는다고': 9437, '애프터눈': 9438, '피츠버그': 9439, '!!\"': 9440, '해줘서': 9441, '그려진': 9442, '일출': 9443, '저탄고': 9444, '통기타': 9445, '등지': 9446, '더미': 9447, '벌칙': 9448, '함의': 9449, '인맥': 9450, '딕펑스': 9451, '큼직': 9452, '한참': 9453, '치사량': 9454, '박서': 9455, '퇴치': 9456, '빗방울': 9457, '체전': 9458, '잔머리': 9459, '초유': 9460, '뽀삐': 9461, '서아': 9462, '인데요': 9463, '척하': 9464, '말라서': 9465, 'me': 9466, '영향': 9467, '전태관': 9468, '앞자리': 9469, '되게': 9470, '치통': 9471, '내산': 9472, '피드': 9473, '배고프': 9474, '해시': 9475, '증가': 9476, '접시': 9477, '아이마르': 9478, '㎏’': 9479, '졸린': 9480, '자우림': 9481, '바늘': 9482, '57': 9483, '다저스': 9484, '범벅': 9485, '내렸': 9486, '피니': 9487, \"'..'\": 9488, '마니아': 9489, '완두콩': 9490, '추워졌': 9491, '삼바': 9492, '아랑': 9493, '연장': 9494, '언어': 9495, '로다운': 9496, '플리스': 9497, '쌍권총': 9498, '빗자루': 9499, '먹이': 9500, '스키장': 9501, '팝콘': 9502, '삼색': 9503, '클리어': 9504, '환골탈태': 9505, '후기': 9506, '장작': 9507, '소방관': 9508, '지애': 9509, '바닷바람': 9510, 'New': 9511, '피아': 9512, 'Obliviate': 9513, '뿡뿡이': 9514, '테크노': 9515, '태우': 9516, '카시트': 9517, '’‥': 9518, '헤어핀': 9519, 'Lovesick': 9520, '싱숭생숭': 9521, '어버이날': 9522, '마셔': 9523, '빵집': 9524, '어부': 9525, '에너자이저': 9526, '건데': 9527, 'MILL': 9528, '지워': 9529, '톰보': 9530, '배고파': 9531, '눕': 9532, '키우': 9533, \"…'♥\": 9534, '매래': 9535, 'Girls': 9536, '↑’': 9537, '못난이': 9538, '므': 9539, '친자': 9540, '알통': 9541, '세차': 9542, '긴팔': 9543, '던질까': 9544, '병관': 9545, 'MLB': 9546, '쏘리': 9547, '파이어': 9548, '사부': 9549, '진도': 9550, '맞혀': 9551, '묵찌빠': 9552, '물놀': 9553, '헤메': 9554, '낙서': 9555, '닉': 9556, '이이': 9557, '장염': 9558, '이무기': 9559, '야광': 9560, '뭍': 9561, '지루': 9562, '발빈': 9563, '초면': 9564, '황야': 9565, '하우': 9566, 'AMAs': 9567, '트렁크': 9568, '비닐장갑': 9569, '방해': 9570, '팰런': 9571, 'Black': 9572, '쁨이란': 9573, '이여': 9574, '감싼': 9575, '셰이': 9576, '구먼': 9577, '퓨어': 9578, '빼닮': 9579, '가복': 9580, '마구': 9581, '프로모션': 9582, '당부': 9583, '네이버': 9584, '버즈': 9585, '세터': 9586, '선교사': 9587, '사콜': 9588, '로진': 9589, '합성': 9590, '분리수거': 9591, '풀리': 9592, '모니터': 9593, '정착': 9594, '모리스': 9595, '마렌': 9596, '전력투구': 9597, '놀러': 9598, '지목': 9599, '심한': 9600, '포테': 9601, '미란다': 9602, '외우': 9603, '우비': 9604, '모기': 9605, '쇼트': 9606, '억새': 9607, '백숙': 9608, '심바': 9609, '미우': 9610, '120': 9611, '월렌': 9612, '모건': 9613, '제롬': 9614, '추화': 9615, '장학생': 9616, '간단': 9617, '부디': 9618, '두려움': 9619, '귀갓길': 9620, '카톡': 9621, '헤진': 9622, '섭하': 9623, '샌': 9624, '놀람': 9625, '잃어버린': 9626, '지나갈': 9627, '이목': 9628, '살쪄': 9629, '이행': 9630, '뉘우치': 9631, '명배우': 9632, '유착': 9633, '위태': 9634, '화가': 9635, '기계': 9636, '정지': 9637, '성적': 9638, '큐빅': 9639, '지하': 9640, '측정': 9641, '기울이': 9642, '띈': 9643, '스탠딩': 9644, '행차': 9645, '흐릿': 9646, '했으면': 9647, '승강기': 9648, '얼간': 9649, '몰골': 9650, '앞세우': 9651, '검소': 9652, '밝혀질': 9653, '동전': 9654, '나눌': 9655, '초여름': 9656, '선선': 9657, '황용식': 9658, '좋아할': 9659, '안녕하': 9660, '힌': 9661, '고소장': 9662, '원색': 9663, '알릴': 9664, '스텐': 9665, '힘겹': 9666, '구와': 9667, '도트': 9668, '결의': 9669, '담장': 9670, '하회탈': 9671, '정정': 9672, '녹아드': 9673, '조치': 9674, '단순': 9675, '석방': 9676, '양봉': 9677, '오니': 9678, '라고요': 9679, '우울': 9680, '피고발인': 9681, '동석': 9682, '반창고': 9683, '붕대': 9684, '쑥쓰럽': 9685, '닫힌': 9686, '사태': 9687, '로버트할리': 9688, 'LACMA': 9689, '1988': 9690, '달뜨': 9691, '잠겨서': 9692, '민감': 9693, '베드': 9694, '해프닝': 9695, '배리어': 9696, '에디': 9697, '뱃': 9698, '려니': 9699, '심상': 9700, '상반신': 9701, '룻': 9702, '쏴라': 9703, '오락': 9704, '포항': 9705, '혹독': 9706, '役': 9707, '위안': 9708, '딜레마': 9709, '오은영': 9710, '마블리': 9711, '서요': 9712, '불허': 9713, '눈발': 9714, '참한': 9715, '도봉': 9716, '뼛속': 9717, '손깍지': 9718, '반짝거리': 9719, '완주': 9720, '오만': 9721, '쟈': 9722, '천근만근': 9723, '총괄': 9724, '균형': 9725, '바뻐': 9726, '서류': 9727, '하마터면': 9728, '소인': 9729, '안준영': 9730, '방청': 9731, '인사성': 9732, '일렬': 9733, '더없이': 9734, '쑥스러움': 9735, '아름다울': 9736, '스러워진': 9737, '나날': 9738, '서둘러': 9739, '특별히': 9740, '워진': 9741, '줄행랑': 9742, '정렬': 9743, '청사': 9744, '제보자': 9745, '채진': 9746, '그늘진': 9747, '손금': 9748, '왕눈이': 9749, '컴퍼니': 9750, '망연자실': 9751, '쓱': 9752, '초호': 9753, '착찹': 9754, '관한': 9755, '막내딸': 9756, '겨냥': 9757, '아무것': 9758, '승승장구': 9759, '동현': 9760, '김주연': 9761, '레드원': 9762, '지홍': 9763, '이븐': 9764, '타미': 9765, '연기파': 9766, '간만에': 9767, '새로워': 9768, '박새': 9769, 'Worldwide': 9770, 'Fans': 9771, '안시성': 9772, '오마': 9773, '동혼': 9774, '사무총장': 9775, '연설': 9776, '나옵니다': 9777, '한정판': 9778, '가져요': 9779, '똘똘': 9780, '투스': 9781, '깜박': 9782, '전미': 9783, '스코트': 9784, '큼지막': 9785, '~’‘': 9786, '마련': 9787, '은밀': 9788, '숨겨온': 9789, '오른손': 9790, '며느라기': 9791, '삔': 9792, '센티멘탈': 9793, '새롬': 9794, 'mama': 9795, '볼래요': 9796, '동대문': 9797, '도련': 9798, '무얼': 9799, '겸비': 9800, '남배우': 9801, '켄타로': 9802, \"'★\": 9803, '접촉': 9804, '역조': 9805, '빛났': 9806, '다이나믹듀오': 9807, '위용': 9808, '사리나': 9809, '대접': 9810, '타카모토': 9811, '시호': 9812, '카토': 9813, '주시': 9814, '전방': 9815, '불어온다': 9816, '정감': 9817, '햇님': 9818, '봅시다': 9819, 'LIN': 9820, '수집': 9821, '초겨울': 9822, '도저히': 9823, '매니쉬': 9824, '나고야': 9825, '양국': 9826, '열쇠': 9827, '입김': 9828, '어르신': 9829, '실장': 9830, '올라왔': 9831, 'KPOP': 9832, '스쳐': 9833, '스토': 9834, '옥탑방': 9835, '쑥쑥': 9836, '부전자전': 9837, \",'\": 9838, '전수': 9839, '언덕': 9840, '마르': 9841, '치맛자락': 9842, '외롭': 9843, '깜빡': 9844, '후예': 9845, '코발트': 9846, '우도': 9847, '포크송': 9848, '대모': 9849, '스마트폰': 9850, '즐겨라': 9851, '아휴': 9852, '배지': 9853, '끼치': 9854, '금세': 9855, '휘둥그레': 9856, '내편': 9857, '자존심': 9858, '타이트한': 9859, '엄용수': 9860, '고사리': 9861, 'mc': 9862, 'CM': 9863, '일심동체': 9864, '천장': 9865, '매거진': 9866, '금동이': 9867, '스냅': 9868, '사이버': 9869, '함게': 9870, '얌전': 9871, '포문': 9872, '조절': 9873, '예술인': 9874, '매니큐어': 9875, 'to': 9876, '참전': 9877, '쁙': 9878, \"...'\": 9879, '제작자': 9880, '월도': 9881, '아스라': 9882, '파도타기': 9883, '타이거': 9884, '아우르': 9885, '김용식': 9886, '91': 9887, '봐야지': 9888, '봉시아': 9889, '껏': 9890, '반짝임': 9891, '나야': 9892, '오남매': 9893, '황정혜': 9894, '박이': 9895, '우릴': 9896, '혼담': 9897, '이크': 9898, '집착': 9899, '기네스북': 9900, '맹추위': 9901, '한곡': 9902, '뤠잇': 9903, '해년': 9904, '동그라미': 9905, '뚫리': 9906, '..!': 9907, '쏟아진': 9908, '과해': 9909, '진환': 9910, '화음': 9911, '가상': 9912, '제임스': 9913, '올라가': 9914, '동미': 9915, '현수': 9916, '무더운': 9917, '풍요': 9918, '독무': 9919, '속사포': 9920, '악보': 9921, '태어났': 9922, '그러': 9923, '파도치': 9924, '깃': 9925, '울트라': 9926, '정숙': 9927, '어부바': 9928, '숭숭': 9929, '앞장서': 9930, '담백': 9931, '어질': 9932, '숨죽이': 9933, '좁': 9934, '오름': 9935, '거스른': 9936, '폐': 9937, '콩닥콩닥': 9938, '어휴': 9939, '춥다': 9940, '빤': 9941, '작아지': 9942, '아랫배': 9943, '스러워도': 9944, '버려': 9945, '너야': 9946, '남사': 9947, '올라도': 9948, '이라도': 9949, '빛날': 9950, '장막': 9951, '난로': 9952, '눈송이': 9953, '딸랑딸랑': 9954, '시베': 9955, '인현': 9956, '넘친다': 9957, '쪼르르': 9958, '엷': 9959, '용선': 9960, '요동치': 9961, '보유자': 9962, '최단': 9963, '사이렌': 9964, '망설임': 9965, '귀여': 9966, '모나리자': 9967, 'ok': 9968, '숱': 9969, 'on': 9970, '행시': 9971, '파고드': 9972, '예진': 9973, '점프력': 9974, '맘껏': 9975, 'XRM': 9976, '웜': 9977, '북치': 9978, '들어올리': 9979, '연다': 9980, '닥치': 9981, '비범': 9982, '배길': 9983, '지킨': 9984, '맷': 9985, '털기': 9986, '재주': 9987, '기상': 9988, '쉬워요': 9989, '金': 9990, '밖엔': 9991, '명수': 9992, '각이': 9993, '발랐': 9994, '뻔한': 9995, '옥동자': 9996, '철철철': 9997, '디야': 9998, '엔진': 9999, '막즈': 10000, '꿋꿋': 10001, '인돌': 10002, '엔시': 10003, '넘어질라': 10004, '하얘': 10005, '레게': 10006, '또는': 10007, '애인': 10008, '움직임': 10009, '쇼크': 10010, '좌중': 10011, '산적': 10012, '자부심': 10013, '넘어져': 10014, '얼떨결': 10015, '맞댄': 10016, '기나긴': 10017, '여긴': 10018, '귀여워서': 10019, '췄': 10020, '니코니코': 10021, '빌릴': 10022, '풀려': 10023, '튼튼': 10024, '특한': 10025, '외동딸': 10026, '마음속': 10027, '밀어주': 10028, '이성곤': 10029, '비닐': 10030, '월계수': 10031, '플레시': 10032, '햅번': 10033, '나풀나풀': 10034, '황충': 10035, '바래요': 10036, '구현': 10037, '레몬색': 10038, '정영': 10039, '비즈니스': 10040, '속삭여': 10041, '냅시다': 10042, '서기': 10043, '경기도': 10044, '결재': 10045, '구입': 10046, '정선': 10047, '공주님': 10048, '남겨': 10049, 'RCY': 10050, '뽑혔': 10051, '소비': 10052, '총동원': 10053, '춘다': 10054, '그리울': 10055, '바탕': 10056, '덧': 10057, '개인전': 10058, '문학': 10059, '런더': 10060, '수갑': 10061, '여경': 10062, '커팅': 10063, '독백': 10064, '시려워': 10065, '샌들': 10066, '곁눈질': 10067, '불어라': 10068, '찡그려도': 10069, '헵번': 10070, '이근호': 10071, '사이버펑크': 10072, '바니': 10073, '척도': 10074, '믿음': 10075, '졸려요': 10076, '맹활약': 10077, '황동혁': 10078, '비서': 10079, '피싱': 10080, '정재원': 10081, '데니안': 10082, '져라': 10083, 'WHO': 10084, '그려요': 10085, '스프링': 10086, '서단': 10087, '박매': 10088, '서바이벌': 10089, '・': 10090, '낄낄': 10091, '상회': 10092, '유투': 10093, '자유투': 10094, '매일매일': 10095, '쫌': 10096, '아동': 10097, '탄다': 10098, '부패': 10099, '보각': 10100, '영동대로': 10101, '가드': 10102, '가령': 10103, '로부터': 10104, '봐줘': 10105, '교왕': 10106, '들려줄': 10107, '승화': 10108, '어려도': 10109, '휩쓴': 10110, '지켜낸': 10111, '나리': 10112, '동징': 10113, '뒷자리': 10114, '로다': 10115, '트로피컬': 10116, '뿌렸': 10117, '삼킨': 10118, '화분': 10119, '쉬잇': 10120, '퀄리티': 10121, '쬐': 10122, '마현': 10123, '니티': 10124, '안착': 10125, '사내': 10126, '보험': 10127, '실시간': 10128, '갈기': 10129, '눈꼬리': 10130, '덧니': 10131, '쪽쪽': 10132, '짝눈': 10133, '멀쩡': 10134, '틀린': 10135, '흐트': 10136, 'MK': 10137, '떨어진다': 10138, '초토': 10139, '반달눈': 10140, '살아요': 10141, '빤짝빤짝': 10142, '밀라노': 10143, '수홍': 10144, '그리메상': 10145, '방울': 10146, '캅': 10147, '그려도': 10148, 'Safe': 10149, '걸으면': 10150, '비명': 10151, '시래기': 10152, '덩달': 10153, '도성': 10154, '보노': 10155, '마주칠': 10156, '토마토': 10157, '온기': 10158, '하네스': 10159, '박싱': 10160, '복도': 10161, '시폰': 10162, '가득히': 10163, '살찌': 10164, '댕이': 10165, 'love': 10166, '정류장': 10167, '스며든다': 10168, '스톤': 10169, '꿈속': 10170, '블록버스터': 10171, '얼스': 10172, '천둥': 10173, '잊어버린': 10174, '두바이': 10175, '박람회': 10176, '산다라': 10177, '침입': 10178, '무단': 10179, '그루비': 10180, '메운': 10181, '그곳': 10182, '히아신스': 10183, '려면': 10184, '팟': 10185, '뭉쳐': 10186, '쉬웠': 10187, '양심': 10188, '이을용': 10189, '도전기': 10190, '따와': 10191, '보건': 10192, '비운': 10193, '청치마': 10194, '플레이트': 10195, '도둑잠': 10196, '수북': 10197, '쿡': 10198, '취할': 10199, '매무새': 10200, 'NEWS': 10201, '조조': 10202, '촬영차': 10203, '교양': 10204, \"!'\": 10205, '특사': 10206, '액션물': 10207, '루카': 10208, '바울': 10209, '바너': 10210, '기상천외': 10211, '통쾌': 10212, '야위': 10213, '관통': 10214, '남현희': 10215, '라바': 10216, '루갈': 10217, '음악캠프': 10218, '톡톡히': 10219, '초홍': 10220, '올라탄': 10221, '초능력': 10222, '고파요': 10223, '정유': 10224, '두상': 10225, '리포터': 10226, '음악회': 10227, '데이아나': 10228, '파스타': 10229, 'tvN': 10230, '더라도': 10231, '유별나': 10232, '김문정': 10233, '더킹': 10234, '골절': 10235, '바빠도': 10236, '여린': 10237, '대거': 10238, '출중': 10239, '이랜드': 10240, '착지': 10241, '교문': 10242, '장시간': 10243, '연령': 10244, '부동산': 10245, '사이보그': 10246, 'JTBC': 10247, '일기장': 10248, '망치': 10249, '마인': 10250, '사귀': 10251, '립니': 10252, '레이놀즈': 10253, '자기소개': 10254, '난입': 10255, '위위': 10256, '드문': 10257, '꾸욱': 10258, '기침': 10259, '갈증': 10260, '건다': 10261, '외워': 10262, '출생': 10263, '중간': 10264, '뛰어왔': 10265, '굉장히': 10266, '만난다': 10267, '부릉부릉': 10268, '대하': 10269, '느낄': 10270, '왈칵': 10271, '목격자': 10272, '김태윤': 10273, '입소문': 10274, '무명': 10275, '조심히': 10276, '인삿말': 10277, '어떠셨': 10278, '지나칠': 10279, '블럭': 10280, '헝크러': 10281, '조운': 10282, '워크': 10283, '명성': 10284, '쿨쿨': 10285, '보인다': 10286, '오메가': 10287, '윌리': 10288, '페퍼톤스': 10289, '우다': 10290, '최태성': 10291, '정봉주': 10292, '합격': 10293, '김이선': 10294, '커플링': 10295, '디피': 10296, '가두': 10297, '우미': 10298, '우드': 10299, '반대': 10300, '기승': 10301, '카멜': 10302, '감칠맛': 10303, '치카': 10304, '방지': 10305, '라며': 10306, '잔혹사': 10307, '뮤즈': 10308, '선홍': 10309, '상상력': 10310, '기발': 10311, '현기증': 10312, '스팟': 10313, '만득': 10314, '승부수': 10315, '떠날': 10316, '입금': 10317, '밝아졌': 10318, '이홍길': 10319, '친환경': 10320, '조체': 10321, '버금가': 10322, '추운데': 10323, '미술관': 10324, '민홍': 10325, 'NG': 10326, '패스워드': 10327, '잡히': 10328, 'VAMOS': 10329, 'GLASSY': 10330, 'OUTSIDE': 10331, 'Blue': 10332, 'Eyes': 10333, 'POPPING': 10334, '와이': 10335, '오마주': 10336, '져서': 10337, 'DANCE': 10338, 'MOON': 10339, '액자': 10340, '난조': 10341, '안기': 10342, '헐리': 10343, '타상': 10344, '퍼스트': 10345, '씨앗': 10346, '담아낸': 10347, 'f': 10348, '학사': 10349, '학위': 10350, '능장': 10351, '이름표': 10352, 'Drop': 10353, '쪼개': 10354, '뛸': 10355, '칭칭': 10356, 'GRATATA': 10357, '코어': 10358, '포부': 10359, '태호': 10360, '보냅니다': 10361, '유창': 10362, '곡도': 10363, 'Free': 10364, '셕들': 10365, '자아도취': 10366, '트레이스': 10367, '각인': 10368, '첫인상': 10369, 'Water': 10370, '술잔': 10371, '재연': 10372, '글쎄': 10373, '냉정': 10374, '파괴': 10375, 'Next': 10376, '햄스터': 10377, '샤시': 10378, '오차': 10379, '2005': 10380, '현해탄': 10381, '야자수': 10382, '펀': 10383, '짱짱': 10384, '두통': 10385, '끝냈': 10386, '원투': 10387, '스러우': 10388, '학우': 10389, '셰어': 10390, '탑재': 10391, '입동': 10392, '목련': 10393, '엽신': 10394, '쏭': 10395, 'sbs': 10396, '통했': 10397, '박기원': 10398, '사슴뿔': 10399, \"♡'\": 10400, '쏩니다': 10401, '고리': 10402, '남겨야': 10403, '타요': 10404, '쾌유': 10405, 'Mnet': 10406, '메탈': 10407, '아의': 10408, '퍼퓸': 10409, '세시': 10410, '더워도': 10411, '바닷속': 10412, '선풍기': 10413, '호랑': 10414, '럴한': 10415, '장금': 10416, '냉면': 10417, '내꺼야': 10418, '즉석': 10419, '매미': 10420, '동와': 10421, '메시': 10422, '개편': 10423, 'Dream': 10424, '전교': 10425, '입학생': 10426, '동이': 10427, '졸업생': 10428, '학년도': 10429, '입실': 10430, '챙겨준': 10431, '낼게요': 10432, '원동력': 10433, '딸기코': 10434, '발렌타인데이': 10435, '순도': 10436, '루즈': 10437, '팅팅': 10438, '대견': 10439, '초밥': 10440, '비싼': 10441, '빈아': 10442, '가지각색': 10443, '편해요': 10444, '주연아': 10445, '다발': 10446, '인줄': 10447, '검거': 10448, '가져왔': 10449, '따라갈': 10450, '뒤지': 10451, '돌발': 10452, '실내': 10453, '령': 10454, '유통': 10455, '구한': 10456, '입간판': 10457, '양길영': 10458, '홍완표': 10459, '무자비': 10460, '병기': 10461, '불과': 10462, '하동': 10463, '확진': 10464, '총잡이': 10465, '이니셜': 10466, '다모임': 10467, '피어난': 10468, '크로': 10469, '한국식': 10470, '이을': 10471, '달렸': 10472, '꼬여': 10473, '박물관': 10474, '휩쓰': 10475, 'Can': 10476, '폭죽': 10477, '찬무대': 10478, '러플': 10479, '꽃게': 10480, '이전': 10481, '타짜': 10482, '깍듯': 10483, '내려요': 10484, '재림': 10485, '군제': 10486, '설마': 10487, '도우': 10488, '올라갈': 10489, '농담': 10490, '정오': 10491, '검지': 10492, '을수록': 10493, '데뷔작': 10494, '조무래기': 10495, '신병': 10496, '역장': 10497, '참으': 10498, '\"···': 10499, '아원': 10500, '임명': 10501, '별명': 10502, '재방송': 10503, '폐막': 10504, '단결': 10505, '군입': 10506, '배치': 10507, '역소': 10508, '빡빡머리': 10509, 'happy': 10510, '동영배': 10511, '철원': 10512, '소전': 10513, '예비군': 10514, '중대장': 10515, '보소': 10516, '카모': 10517, '생시': 10518, 'IS': 10519, '병사': 10520, '동의': 10521, '고무신': 10522, '해져서': 10523, '비홍': 10524, '녹차': 10525, '최홍길': 10526, '韓日': 10527, '날갯짓': 10528, '우마': 10529, '박미소': 10530, '바꿔': 10531, '허니문': 10532, '행복감': 10533, '사귄': 10534, '기쁩니다': 10535, '노총각': 10536, '만든다': 10537, '치장': 10538, '구청': 10539, '권총': 10540, '생겼어요': 10541, '꼬였': 10542, '정범균': 10543, '이상봉': 10544, '따끈따근': 10545, '챙겨요': 10546, '이룬': 10547, '예식': 10548, '희준': 10549, '끝자락': 10550, '오작교': 10551, '야구단': 10552, '성혼': 10553, '졸려': 10554, '황영진': 10555, '김용명': 10556, '올려요': 10557, '촉감': 10558, '목발': 10559, '해설': 10560, '바랍니다': 10561, '옹달샘': 10562, '슈렉': 10563, '파업': 10564, '끈적끈적': 10565, '지났': 10566, '소절': 10567, '꾸준히': 10568, '생방송': 10569, '콘텐츠': 10570, '유두': 10571, '래곤': 10572, '표창원': 10573, '무려': 10574, '텔': 10575, '던스': 10576, '감독상': 10577, '노립니다': 10578, '책임져': 10579, '회원': 10580, '허준': 10581, '시터': 10582, '맞대결': 10583, '매치': 10584, '단오': 10585, '박장대소': 10586, '녕': 10587, '슬플': 10588, '근로': 10589, '균형감': 10590, '밸': 10591, '규수': 10592, '닭살': 10593, '後': 10594, '액': 10595, '시트': 10596, '비즈': 10597, '인트': 10598, '김용완': 10599, '연두': 10600, '김경수': 10601, '농익': 10602, '아랏': 10603, '임혜영': 10604, '자살': 10605, '에녹': 10606, '나섰': 10607, '떠올랐': 10608, '하이드': 10609, '쓰러진': 10610, '따라서': 10611, '닷컴': 10612, '용돈': 10613, '포장마차': 10614, '광기': 10615, '보일락': 10616, '플린': 10617, '경력': 10618, '춤춰': 10619, '개비': 10620, '축배': 10621, '자크': 10622, '항아리': 10623, '조건': 10624, '고난': 10625, '스코어': 10626, '계란': 10627, '탭': 10628, '브록': 10629, '소여': 10630, '오리지널': 10631, '기남': 10632, '롤라': 10633, '엠마': 10634, '팽팽': 10635, '창시자': 10636, '김은경': 10637, '익살꾸러기': 10638, '수위': 10639, '봄봄': 10640, '이서윤': 10641, '구직자': 10642, '개구장이': 10643, '신청': 10644, '돌멩이': 10645, '사원': 10646, '사채업자': 10647, '유인택': 10648, '이철하': 10649, '요르단': 10650, '김선': 10651, '강경모': 10652, '추노': 10653, '밝힌다': 10654, '주기': 10655, '추적': 10656, '160': 10657, '이사장': 10658, '오하라': 10659, '오케': 10660, '겨우': 10661, '조윤영': 10662, '막혀': 10663, '에드거': 10664, '굉장': 10665, '차별': 10666, '페스트': 10667, '펼쳐집니다': 10668, '린드': 10669, '올릴': 10670, '동안미녀': 10671, '살찐': 10672, '천안': 10673, '기리': 10674, '툼': 10675, '유하': 10676, '조진모': 10677, '젊은이': 10678, '프로브': 10679, '엘파': 10680, '노장': 10681, '아그네스': 10682, '문진아': 10683, '몰리': 10684, '명장면': 10685, 'FM': 10686, '한양대': 10687, '이등병': 10688, '사마': 10689, '중기': 10690, '광복절': 10691, '기념사진': 10692, '고마웠': 10693, '병역': 10694, '안심': 10695, '질까': 10696, '수료식': 10697, '초신성': 10698, '해경': 10699, '도슨': 10700, '용사': 10701, '지용': 10702, '시츠': 10703, '리비': 10704, '설거지': 10705, '살아가': 10706, '정승혜': 10707, '메노': 10708, '고통': 10709, '쇼트컷': 10710, '차정': 10711, '가이드': 10712, '1446': 10713, '무척': 10714, '엇갈린': 10715, '고자': 10716, '공작부인': 10717, '이혜경': 10718, '거두': 10719, '최적화': 10720, '병실': 10721, 'ROCK': 10722, '와일드혼': 10723, '스탄': 10724, '비어': 10725, '기네': 10726, '앙투아네트': 10727, '말판': 10728, '테너': 10729, '정수': 10730, '착하': 10731, '무용수': 10732, '밤거리': 10733, '강물': 10734, '지저스': 10735, '추정': 10736, '아프로디테': 10737, '만우절': 10738}\n"
     ]
    },
    {
     "data": {
      "text/plain": [
       "array([-0.09700315,  0.02293771, -0.01028785,  0.23994066,  0.18029802,\n",
       "       -0.07470717,  0.07907069,  0.53760356, -0.10535703,  0.22410087,\n",
       "       -0.05899994,  0.06848893,  0.14065185, -0.04751774,  0.2751522 ,\n",
       "       -0.08651539,  0.18479003,  0.13112262, -0.29308575, -0.07737587,\n",
       "        0.10049512, -0.0631912 ,  0.18840896,  0.08020393,  0.04156866,\n",
       "        0.06812388, -0.17141937,  0.03456437, -0.2105569 , -0.01922563,\n",
       "       -0.06531771,  0.10240828,  0.36170894, -0.21442878,  0.19494207,\n",
       "        0.07795159, -0.03718185,  0.294385  , -0.00134624, -0.44854617,\n",
       "       -0.14189607, -0.10563374,  0.03630978,  0.2746968 ,  0.3304311 ,\n",
       "        0.06157553, -0.02533867, -0.15565163,  0.00311089, -0.03215439,\n",
       "       -0.29381898,  0.38714778, -0.03380352,  0.07014058, -0.23967937,\n",
       "       -0.15395373,  0.01625146,  0.00143887, -0.05255526,  0.2049291 ,\n",
       "       -0.04778447, -0.30073413,  0.2019354 ,  0.17766275,  0.14571536,\n",
       "        0.2720821 , -0.14990498,  0.1856849 , -0.27042365,  0.08815021,\n",
       "        0.00259892,  0.26510528, -0.06510947,  0.16421933,  0.21537098,\n",
       "       -0.29565263,  0.05889437,  0.06091668,  0.21314164, -0.23726155,\n",
       "       -0.27798095, -0.25317368,  0.02071325, -0.02712483, -0.16606502,\n",
       "        0.02357213,  0.14917332, -0.0192775 , -0.17204314,  0.18099065,\n",
       "        0.17962281,  0.13450111,  0.3228096 , -0.00643374,  0.0262734 ,\n",
       "       -0.10819052,  0.10116492,  0.06067466,  0.2951445 , -0.08423036,\n",
       "       -0.20965567,  0.2804524 ,  0.2602204 ,  0.26634488,  0.01860967,\n",
       "       -0.25811422, -0.08934352,  0.15323456, -0.22702053, -0.20895287,\n",
       "       -0.09730334, -0.07104955, -0.2462899 , -0.29773048, -0.21871816,\n",
       "       -0.0997365 ,  0.56311744, -0.23441389, -0.21313554, -0.16449903,\n",
       "       -0.01845152, -0.27484494,  0.01862036, -0.29574522, -0.03958569,\n",
       "        0.03263166,  0.06458455,  0.12564804,  0.12990642, -0.21294026,\n",
       "        0.07289045,  0.01085611, -0.10769004, -0.29275075,  0.1934234 ,\n",
       "        0.21254483, -0.02626803,  0.01809727,  0.13394803,  0.07768611,\n",
       "        0.04172534, -0.30429888, -0.08254707,  0.20068873, -0.1537789 ,\n",
       "        0.04820659, -0.07728922, -0.2659712 ,  0.1383234 ,  0.09850748,\n",
       "       -0.09886976, -0.10888667, -0.06687149,  0.19779138,  0.03011112,\n",
       "       -0.06572188,  0.36905414, -0.01218451, -0.21167444,  0.08114654,\n",
       "       -0.0351699 ,  0.25875536,  0.1361243 ,  0.05287793,  0.24603909,\n",
       "       -0.04771794,  0.08705594,  0.14064814, -0.10284804, -0.09257771,\n",
       "       -0.09235787, -0.08199871,  0.01347643,  0.15765537, -0.07786581,\n",
       "       -0.1459311 , -0.38634506,  0.13686128,  0.21112673, -0.04214312,\n",
       "       -0.2340557 ,  0.13700539,  0.03708914, -0.19885223,  0.09400643,\n",
       "       -0.08971816,  0.32763416,  0.14146517,  0.02222131,  0.27641818,\n",
       "        0.166559  , -0.1678988 , -0.00485817, -0.07056791,  0.10146736,\n",
       "        0.17439525,  0.1988206 , -0.02900931, -0.3131984 , -0.0947175 ],\n",
       "      dtype=float32)"
      ]
     },
     "execution_count": 123,
     "metadata": {},
     "output_type": "execute_result"
    }
   ],
   "source": [
    "# 단어별 key & 벡터 확인\n",
    "key2index = model.wv.key_to_index\n",
    "print(key2index)\n",
    "model.wv['홍길동']"
   ]
  },
  {
   "cell_type": "code",
   "execution_count": 124,
   "id": "b672f392",
   "metadata": {},
   "outputs": [
    {
     "data": {
      "image/png": "[encoded data removed]",
      "text/plain": [
       "<Figure size 1008x1008 with 1 Axes>"
      ]
     },
     "metadata": {
      "needs_background": "light"
     },
     "output_type": "display_data"
    }
   ],
   "source": [
    "import matplotlib.pyplot as plt\n",
    "from sklearn.decomposition import PCA\n",
    "\n",
    "def plot_2d_graph(vocabs, xs, ys):\n",
    "    import matplotlib.pyplot as plt\n",
    "    plt.figure(figsize=(14 ,14))\n",
    "    plt.scatter(xs, ys, marker = 'o')\n",
    "    for i, v in enumerate(vocabs):\n",
    "        plt.annotate(v, xy=(xs[i], ys[i]))\n",
    "\n",
    "N=50\n",
    "\n",
    "#2차원으로 축소\n",
    "pca = PCA(n_components=2)\n",
    "xys = pca.fit_transform([model.wv[key] for key in key2index.keys()][:N])\n",
    "xs = xys[:,0]\n",
    "ys = xys[:,1]\n",
    "\n",
    "plt.rcParams['font.family'] = 'Gulim'\n",
    "plt.rc('font', size=20) \n",
    " \n",
    "# 결과 출력\n",
    "plot_2d_graph(list(key2index.keys())[:N], xs, ys)\n",
    "plt.show()"
   ]
  },
  {
   "cell_type": "markdown",
   "id": "b85035e2",
   "metadata": {},
   "source": [
    "## FastText"
   ]
  },
  {
   "cell_type": "code",
   "execution_count": null,
   "id": "8f139fe4",
   "metadata": {},
   "outputs": [],
   "source": [
    "# pip install gensim"
   ]
  },
  {
   "cell_type": "code",
   "execution_count": 6,
   "id": "0e8759b5",
   "metadata": {},
   "outputs": [
    {
     "name": "stdout",
     "output_type": "stream",
     "text": [
      "Name: gensim\n",
      "Version: 4.0.1\n",
      "Summary: Python framework for fast Vector Space Modelling\n",
      "Home-page: http://radimrehurek.com/gensim\n",
      "Author: Radim Rehurek\n",
      "Author-email: me@radimrehurek.com\n",
      "License: LGPL-2.1-only\n",
      "Location: c:\\users\\park3\\anaconda3\\envs\\data\\lib\\site-packages\n",
      "Requires: numpy, scipy, smart-open\n",
      "Required-by: pyLDAvis\n"
     ]
    }
   ],
   "source": [
    "!pip show gensim"
   ]
  },
  {
   "cell_type": "code",
   "execution_count": null,
   "id": "b4deb6a8",
   "metadata": {},
   "outputs": [],
   "source": [
    "import pickle\n",
    "with open('captions_tokenized.pkl', 'rb') as f:\n",
    "    caption_df = pickle.load(f)"
   ]
  },
  {
   "cell_type": "code",
   "execution_count": 121,
   "id": "df5117c0",
   "metadata": {},
   "outputs": [],
   "source": [
    "from gensim.models import FastText\n",
    "\n",
    "sentences = caption_df['tokenized_captions'].values\n",
    "model = FastText(sentences = sentences, size = 256, window = 1, min_count = 3, sg = 1) # Skip-gram\n",
    "model.save('fasttext_v1.0.model')"
   ]
  },
  {
   "cell_type": "code",
   "execution_count": 2,
   "id": "6b09a41f",
   "metadata": {},
   "outputs": [],
   "source": [
    "from gensim.models import FastText\n",
    "\n",
    "model = FastText.load('fasttext_v1.0.model')"
   ]
  },
  {
   "cell_type": "markdown",
   "id": "b775f72c",
   "metadata": {},
   "source": [
    "### 결과 확인"
   ]
  },
  {
   "cell_type": "code",
   "execution_count": 123,
   "id": "76a0b7c2",
   "metadata": {
    "scrolled": true
   },
   "outputs": [
    {
     "name": "stdout",
     "output_type": "stream",
     "text": [
      "{'홍길동': 0, \"'\": 1, ',': 2, '\"': 3, '는': 4, '한': 5, '.': 6, '-': 7, '의': 8, '‘': 9, '이': 10, '에': 11, '’': 12, '`': 13, '하': 14, '은': 15, 'ㅣ': 16, '미모': 17, '미소': 18, '도': 19, '!': 20, '고': 21, '비주얼': 22, '게': 23, '로': 24, '가': 25, '…': 26, '하트': 27, '눈빛': 28, '들': 29, '적': 30, \"~'\": 31, '무대': 32, '매력': 33, '사랑': 34, '인': 35, '으로': 36, '인사': 37, '?': 38, '네': 39, '어요': 40, '을': 41, '손': 42, '어': 43, '오늘': 44, '심': 45, '나': 46, '다': 47, '해': 48, '여신': 49, '~': 50, '만': 51, '카리스마': 52, '섹시': 53, '청순': 54, '美': 55, '쿵': 56, '없': 57, '시구': 58, '아': 59, '우아': 60, '에서': 61, '훈훈': 62, '잘': 63, '”': 64, '과': 65, '“': 66, '포즈': 67, '더': 68, '컴백': 69, '넘치': 70, '상큼': 71, '같': 72, '러블리': 73, '드레스': 74, '입': 75, '완벽': 76, '빛나': 77, '시크': 78, '와': 79, '인형': 80, '함': 81, '패션': 82, '길동': 83, '세요': 84, '를': 85, '공개': 86, '+': 87, '지': 88, '폭발': 89, '분위기': 90, '꽃': 91, '깜찍': 92, '팬': 93, '시선': 94, '강렬': 95, '받': 96, 'X': 97, '있': 98, '눈': 99, '며': 100, '얼굴': 101, '배우': 102, '출석': 103, '남': 104, '왔': 105, '가득': 106, '뿜': 107, '상': 108, '남자': 109, '야': 110, '블랙': 111, '·': 112, '펫': 113, '여심': 114, '레드카': 115, '주': 116, '보': 117, '함께': 118, '화려': 119, '첫': 120, '자태': 121, '대상': 122, '화사': 123, '예쁨': 124, '아름다운': 125, '스러운': 126, '멋진': 127, '해요': 128, '수': 129, '내': 130, '모습': 131, '예쁜': 132, '♥': 133, '귀여운': 134, '졸업': 135, '머리': 136, '승리': 137, '포토': 138, '요': 139, '표정': 140, '요정': 141, '눈부신': 142, '미': 143, '스': 144, '기대': 145, '안': 146, '까지': 147, '예뻐': 148, '참석': 149, '일': 150, '뷔': 151, '멋': 152, '예쁘': 153, '걸': 154, '샷': 155, '로운': 156, '진': 157, '좋': 158, '연기': 159, '년': 160, '치명': 161, '뮤지컬': 162, '했': 163, '죠': 164, '홍길': 165, '서': 166, '면': 167, '행복': 168, '등장': 169, '우리': 170, '너무': 171, '았': 172, '.\"': 173, '후': 174, '수상': 175, 'MC': 176, '보다': 177, '핑크': 178, '합니다': 179, '기': 180, '속': 181, '축하': 182, '두': 183, '각선미': 184, '중': 185, '몸매': 186, '인증': 187, '변신': 188, '티저': 189, '그': 190, '겠': 191, '신': 192, '브이': 193, '소녀': 194, '화보': 195, '애교': 196, '\"…': 197, '소화': 198, '사로잡': 199, '~’': 200, '빛': 201, '이렇게': 202, '엄지': 203, '라인': 204, '살': 205, '데뷔': 206, '영화': 207, '처럼': 208, '세': 209, '입장': 210, '님': 211, '전': 212, '부드러운': 213, '발걸음': 214, '짐': 215, '잘생김': 216, '경찰': 217, '할': 218, '일상': 219, '셀카': 220, '막내': 221, '저격': 222, '조각': 223, '..': 224, '찰떡': 225, '앨범': 226, '되': 227, \"♥'\": 228, '출신': 229, '대': 230, '않': 231, '에게': 232, '순백': 233, '포스': 234, '미니': 235, '마스크': 236, '시': 237, '훈': 238, '올': 239, '골든디스크': 240, '위': 241, '찢': 242, '화이트': 243, '선': 244, '부르': 245, '부터': 246, '시상식': 247, '근황': 248, '수줍': 249, '차': 250, '번': 251, '커플': 252, '느낌': 253, '독보': 254, '혐의': 255, '정석': 256, '매혹': 257, '그룹': 258, '애': 259, '워즈': 260, '댄스': 261, '선미': 262, '반': 263, '강탈': 264, '헤어': 265, '발랄': 266, '듯': 267, '물오른': 268, '습니다': 269, '비': 270, '자체': 271, '동안': 272, '던': 273, '쇼': 274, '스타': 275, '었': 276, '러': 277, '외모': 278, '영화제': 279, '사진': 280, '결혼': 281, '만나': 282, '자랑': 283, 'RM': 284, '파이팅': 285, '뽐내': 286, '어도': 287, '가을': 288, '파격': 289, '돋보이': 290, '해도': 291, '녹이': 292, '블링': 293, '자': 294, '집': 295, '귀엽': 296, '선물': 297, '마음': 298, '니': 299, '비율': 300, '가요': 301, '퍼포먼스': 302, 'KBS': 303, '레드': 304, '최고': 305, '맞춤': 306, '척': 307, '신비': 308, '의상': 309, '오': 310, '라': 311, '입대': 312, '명품': 313, '믿': 314, '연예대상': 315, '아이': 316, '찍': 317, '감독': 318, '수트': 319, '모델': 320, '핏': 321, '피부': 322, '아이돌': 323, '말': 324, '다정': 325, '이런': 326, '청룡': 327, '초': 328, '가수': 329, '공판': 330, '단아': 331, '옆': 332, '째': 333, 'V': 334, '미남': 335, '여유': 336, '날': 337, '빠져드': 338, '2018': 339, '설레': 340, '싶': 341, '남다른': 342, '급': 343, '너': 344, '슈트': 345, '감사': 346, '룩': 347, '단발': 348, '성숙': 349, '아름다움': 350, '투': 351, '소년': 352, '세상': 353, '그녀': 354, '미녀': 355, '청': 356, '청량': 357, '제': 358, 'SBS': 359, '왕': 360, '월': 361, '온': 362, '트': 363, '귀여움': 364, '어울리': 365, '우월': 366, '발산': 367, '감탄': 368, '해진': 369, '돌아왔': 370, '투표': 371, '섹': 372, '감': 373, '눈웃음': 374, '아찔': 375, '순미': 376, '예술': 377, '잡': 378, '긴': 379, '리더': 380, '생': 381, '것': 382, '돌아온': 383, '전역': 384, '귀요미': 385, '달콤': 386, '물씬': 387, '된': 388, '대종상': 389, '생김': 390, '저': 391, '해맑': 392, '기분': 393, '도도': 394, '왕자': 395, '문화': 396, '생일': 397, '맞': 398, '법원': 399, '어깨': 400, '스타일': 401, '고혹': 402, '시스루': 403, '윙크': 404, '당당': 405, '서울': 406, '과감': 407, '\"...': 408, '열': 409, '달달': 410, '파워': 411, '드려요': 412, '사': 413, '케미': 414, '리아': 415, '눈길': 416, '극': 417, '금발': 418, '성': 419, '많이': 420, '부부': 421, '연극': 422, '초과': 423, '철철': 424, '새': 425, '솔로': 426, '졸업식': 427, '길': 428, '눈망울': 429, '한도': 430, '사람': 431, '뽐낸': 432, '봐도': 433, '언니': 434, '멋지': 435, '입술': 436, '감성': 437, '긴장': 438, '끝': 439, '순간': 440, '압도': 441, '또': 442, '반한': 443, '청초': 444, '오랜만': 445, '크리스마스': 446, '엔': 447, '<': 448, '먹': 449, '따로': 450, '나오': 451, '가요대전': 452, '맡': 453, '타임': 454, '>': 455, '업': 456, '원피스': 457, '스러워': 458, '몽환': 459, '남친': 460, '깜짝': 461, '교복': 462, '센터': 463, '보이': 464, '신부': 465, '신나': 466, '떨리': 467, '다이아': 468, '거': 469, '뚫': 470, '앞': 471, '대표': 472, '공주': 473, '봄': 474, '올해': 475, '뒤태': 476, 'MBC': 477, '빠져': 478, '웃': 479, '리즈': 480, '여전': 481, '쓰': 482, '반려': 483, '넘사벽': 484, '아우라': 485, '찬': 486, '스럽': 487, '시미': 488, '환상': 489, '주인공': 490, '대세': 491, '콘셉트': 492, '엄마': 493, '숨': 494, '준': 495, '크': 496, '매일': 497, '안무': 498, '풀': 499, '무': 500, '꽉': 501, '힙': 502, '천재': 503, '뮤직': 504, '과즙': 505, '표창': 506, '민낯': 507, '다른': 508, '2020': 509, '봐': 510, '아나운서': 511, '담': 512, '남심': 513, '10': 514, '닮': 515, '여름': 516, '취하': 517, '밝히': 518, '렌': 519, '갈수록': 520, '밝': 521, '설렘': 522, '킬': 523, '한가득': 524, '으며': 525, '혼자': 526, '프로': 527, '이목구비': 528, '자신': 529, '인간': 530, '끝판': 531, '딸': 532, '아요': 533, '군무': 534, '자체발광': 535, '고개': 536, '마지막': 537, '반전': 538, '싱그러운': 539, '언제나': 540, '에요': 541, '반짝반짝': 542, '차트': 543, '천사': 544, '즈': 545, '스런': 546, '촬영': 547, '신인': 548, '활짝': 549, '웃음': 550, '응원': 551, 'AAA': 552, '남편': 553, '수능': 554, '아련': 555, '백': 556, \"'♥\": 557, 'MAMA': 558, '목소리': 559, '볼': 560, '현실': 561, '노래': 562, '그림': 563, '멤버': 564, '작': 565, '돌': 566, '완성': 567, '점점': 568, '하나': 569, '공연': 570, '드러낸': 571, '열정': 572, 'kg': 573, '역시': 574, '못': 575, '유혹': 576, '환한': 577, '신곡': 578, '티': 579, '나요': 580, '컷': 581, '워킹': 582, '세련': 583, '후보': 584, '와인드업': 585, '줄': 586, '불가': 587, '개월': 588, '크러쉬': 589, '꿀': 590, '포인트': 591, '정규': 592, '심장': 593, '구': 594, '꾸': 595, '다리': 596, '살짝': 597, '밤': 598, '영광': 599, '형': 600, '햇살': 601, '모두': 602, '아미': 603, '향한': 604, '인상': 605, '결혼식': 606, '흑백': 607, '예': 608, '꽃미남': 609, '뚝뚝': 610, '호흡': 611, '힘찬': 612, '멋있': 613, '위해': 614, '진짜': 615, '역대': 616, '밟': 617, '2019': 618, '멎': 619, '아니': 620, '힐링': 621, '대중': 622, '입니다': 623, '취재진': 624, '생겼': 625, '주역': 626, '여전히': 627, '시간': 628, '만드': 629, '이제': 630, '소감': 631, '턱시도': 632, '군': 633, '레': 634, '진행': 635, '김홍': 636, 'L': 637, '컨': 638, '영화상': 639, '추위': 640, '노출': 641, '→': 642, '다이어트': 643, '숄더': 644, '어디': 645, '등': 646, '시작': 647, '복근': 648, '|': 649, '~`': 650, '멍': 651, '처음': 652, 'JR': 653, '귀여워': 654, '택': 655, '조사': 656, '물': 657, '반짝이': 658, '질문': 659, '보이스': 660, '유쾌': 661, '여기': 662, '겨울': 663, '아름다워': 664, '웨딩': 665, '내추럴': 666, '야구장': 667, '퀸': 668, '누가': 669, '오프': 670, '으세요': 671, '\"..': 672, '드': 673, '향기': 674, '지네': 675, '여러분': 676, '한국': 677, '짧': 678, '방송': 679, '음악': 680, '보조개': 681, '때': 682, '곡': 683, '키': 684, \"'…\": 685, '127': 686, '건강': 687, '소원': 688, '&': 689, '찾': 690, '색': 691, '칼': 692, '손짓': 693, '세계': 694, '즐거운': 695, '턱': 696, '졸업장': 697, '마치': 698, '주년': 699, '반짝': 700, '별': 701, '츄': 702, '코트': 703, '다시': 704, '가려': 705, '명': 706, '아들': 707, '안경': 708, '안녕': 709, '발매': 710, '타': 711, '방': 712, '귀공자': 713, '대축제': 714, '블': 715, '꼭': 716, '핫': 717, '나온': 718, '폼': 719, '보내': 720, '예뻐졌': 721, '시타': 722, '정화': 723, '집중': 724, '좀': 725, '드립': 726, '만화': 727, '커피차': 728, '도전': 729, '바라보': 730, '따뜻': 731, '모자': 732, '맘': 733, '존재감': 734, '배': 735, '향해': 736, '롱': 737, '사회': 738, '그윽': 739, '덤': 740, '개미허리': 741, '월드': 742, '굴욕': 743, '엠': 744, '왔어요': 745, '미인': 746, '흔드': 747, '굳': 748, '벗': 749, '브': 750, '준비': 751, '여배우': 752, '드라마': 753, \".'\": 754, '클로즈업': 755, '빛내': 756, '트롯': 757, '흥': 758, '사이': 759, '많': 760, '발사': 761, '숙인': 762, '옆모습': 763, '샤': 764, '장인': 765, '데이트': 766, '베스트': 767, '어울려': 768, '예능': 769, '장': 770, '허리': 771, '볼륨': 772, '반가워요': 773, '향하': 774, '새해': 775, '든': 776, '품격': 777, '미스': 778, '감미': 779, '팀': 780, '한다': 781, '개성': 782, '♥’': 783, '알': 784, '남성미': 785, '치': 786, '백호': 787, '달라진': 788, '원': 789, '잘생긴': 790, '회': 791, '춤': 792, '나이': 793, '빵': 794, '심사': 795, '감동': 796, '에너지': 797, '신고': 798, '조합': 799, '짙': 800, '반가운': 801, '더니': 802, '선남선녀': 803, '져': 804, '뭐': 805, '같이': 806, '웨': 807, '끼': 808, '수수': 809, '뜨거운': 810, '원조': 811, '선고': 812, '피': 813, '보여': 814, '구역': 815, '주연': 816, '클래스': 817, '출연': 818, '잊': 819, '크러시': 820, 'S': 821, '기념': 822, '깔끔': 823, '계': 824, '과시': 825, '앞머리': 826, '본상': 827, 'D': 828, '찐': 829, '한복': 830, '열창': 831, '빠질': 832, '각도': 833, '스러움': 834, '화이팅': 835, '우정': 836, '_': 837, '친': 838, '늠름': 839, '쇄골': 840, '숏': 841, '양': 842, '트로피': 843, '탑': 844, '큰': 845, '‥': 846, '달': 847, '하루': 848, '국민': 849, '견': 850, '~!': 851, '20': 852, '생각': 853, '아침': 854, '앤': 855, '사전': 856, '홀릭': 857, '공': 858, '귀': 859, '완료': 860, '촉촉': 861, '컬러': 862, '강림': 863, '법정': 864, '재킷': 865, '정도': 866, '맑': 867, '조심': 868, '볼빨간': 869, '가슴': 870, '기럭지': 871, '친구': 872, '앞두': 873, '여자': 874, '답': 875, '젤': 876, '바람': 877, '오빠': 878, '큐티': 879, '사춘기': 880, '어때요': 881, '개': 882, '드림': 883, '화': 884, '슈': 885, '만점': 886, '흰': 887, '열일': 888, '젠틀': 889, '없이': 890, '꽃다발': 891, '네요': 892, '복': 893, '미소년': 894, '가족': 895, '진홍': 896, '지금': 897, '짤': 898, '트로트': 899, '다운': 900, '새침': 901, '슈퍼': 902, '마운드': 903, ':': 904, '둘': 905, '청바지': 906, '최강': 907, '프': 908, '부문': 909, '장관': 910, '정말': 911, '두근두근': 912, '도박': 913, '늘씬': 914, '최': 915, '는데': 916, '죄송': 917, '벤': 918, '랑': 919, '감량': 920, '음': 921, 'x': 922, '띄': 923, '스윗': 924, '30': 925, '생머리': 926, '장착': 927, '無': 928, '옷': 929, '몸': 930, '눈동자': 931, '어워드': 932, '센스': 933, '저희': 934, '됐': 935, '힘': 936, '언제': 937, '훈장': 938, '확': 939, '루': 940, '만남': 941, '방출': 942, '병': 943, '이기': 944, '으면': 945, '대체': 946, '대결': 947, '상자': 948, '유발': 949, '모든': 950, '채': 951, '묵묵부답': 952, '날리': 953, '나왔': 954, '인사말': 955, '패셔': 956, '타이틀': 957, '완전체': 958, '고양이': 959, '톱': 960, '체크': 961, '복무': 962, '날렵': 963, '느껴': 964, '꽃받침': 965, '박홍': 966, '풋풋': 967, '놀란': 968, '벌써': 969, '견과': 970, '현장': 971, '백상': 972, '조명': 973, '만큼': 974, '강의': 975, '수호': 976, '11': 977, '녹': 978, '피의자': 979, '찰칵': 980, '뺨치': 981, '푸': 982, '숙미': 983, '단체': 984, '휘날리': 985, '뿐': 986, '싱글': 987, '넘쳐': 988, '하늘': 989, '필요': 990, '글': 991, '데': 992, '연홍': 993, '초롱초롱': 994, '앙증맞': 995, '선보이': 996, '사수': 997, '♥\"': 998, '윤': 999, '코로나': 1000, '마친': 1001, '~\"': 1002, '독특': 1003, '건': 1004, '사인': 1005, '든다': 1006, '대한민국': 1007, '결점': 1008, '순수': 1009, '팔': 1010, '야구': 1011, '이러': 1012, '본방': 1013, '홍보': 1014, '순정만화': 1015, '유': 1016, '리': 1017, '박': 1018, '뒤': 1019, '우수': 1020, '시상': 1021, '아래': 1022, '아닌': 1023, '찰리': 1024, '앉': 1025, '깊': 1026, '입소': 1027, '손가락': 1028, '︎': 1029, '등신': 1030, '위엄': 1031, '경찰서': 1032, '이번': 1033, '꿈': 1034, '테': 1035, '유닛': 1036, '아내': 1037, '비니': 1038, '난': 1039, '소리': 1040, '자신감': 1041, '마약': 1042, '멜론': 1043, '음원': 1044, '나라': 1045, '덕': 1046, '반칙': 1047, '아도': 1048, '어색': 1049, '산타': 1050, '부': 1051, '로맨틱': 1052, '주의보': 1053, '호': 1054, '예쁠': 1055, '교과서': 1056, '저장': 1057, '여인': 1058, '아티스트': 1059, '만든': 1060, '예비': 1061, '밖': 1062, '앞터': 1063, '거울': 1064, '역': 1065, '똑': 1066, '아빠': 1067, '밀착': 1068, '반했': 1069, '소중': 1070, '변함없': 1071, '척척': 1072, '빨간': 1073, '청춘': 1074, '복귀': 1075, '누나': 1076, '기쁨': 1077, '발표': 1078, '갈래': 1079, '볼수록': 1080, '개인': 1081, '꾼': 1082, '공식': 1083, '대박': 1084, '영장': 1085, '는다': 1086, '반해': 1087, '오른': 1088, '셔츠': 1089, '실질': 1090, '고등학교': 1091, '귀환': 1092, '여': 1093, '방부제': 1094, '이래서': 1095, '여리여리': 1096, '지만': 1097, '막': 1098, '논란': 1099, '이유': 1100, '시선집중': 1101, '그대로': 1102, '메': 1103, '훤칠': 1104, '예뻐진': 1105, '출근': 1106, '코': 1107, '옆태': 1108, '힘든': 1109, '절로': 1110, '눈부셔': 1111, '토끼': 1112, '예고': 1113, '순': 1114, '팡팡': 1115, '제대로': 1116, '튀': 1117, '글래머': 1118, '폴폴': 1119, '짓': 1120, '불법': 1121, '블리': 1122, '우즈': 1123, '써도': 1124, '강아지': 1125, '프린스': 1126, '참': 1127, '줘': 1128, '갱신': 1129, '파티': 1130, '존재': 1131, '종': 1132, '품': 1133, '마저': 1134, '인생': 1135, '마': 1136, '슬': 1137, '세월': 1138, '카메라': 1139, '콕': 1140, '가창력': 1141, '이창섭': 1142, '이게': 1143, '신사': 1144, '환호': 1145, '빛낸': 1146, '폭풍': 1147, '아무': 1148, '콘서트': 1149, '아름답': 1150, '보컬': 1151, '안구': 1152, '부자': 1153, '피지컬': 1154, '성장': 1155, '듣': 1156, '연하': 1157, '팝': 1158, '장면': 1159, '팩': 1160, '콜라보': 1161, '열심히': 1162, '몰라보': 1163, '절친': 1164, '도발': 1165, '동기': 1166, '19': 1167, '래퍼': 1168, '아기': 1169, '버터': 1170, '고마워요': 1171, '가릴': 1172, '녀': 1173, '12': 1174, '제일': 1175, '성공': 1176, '자리': 1177, '해서': 1178, '둥이': 1179, '가녀린': 1180, '근접': 1181, '국무총리': 1182, '사슴': 1183, '케': 1184, 'YG': 1185, '흑발': 1186, '류홍': 1187, '군살': 1188, '각': 1189, '출격': 1190, '대통령': 1191, '치타': 1192, '열연': 1193, '선수': 1194, '근사': 1195, 'MMA': 1196, '쌍': 1197, '떨어지': 1198, '점': 1199, '사뿐사뿐': 1200, '무장': 1201, '나비': 1202, '눈물': 1203, '의혹': 1204, '진정': 1205, '핀': 1206, '무거운': 1207, '펜': 1208, '특별': 1209, '문홍': 1210, '자세': 1211, '드러내': 1212, '곳': 1213, '.♥': 1214, '요즘': 1215, '세련미': 1216, '해제': 1217, '82': 1218, '런': 1219, '가장': 1220, '붐': 1221, '신분': 1222, '쭉': 1223, '호강': 1224, '강': 1225, '제작': 1226, '부산': 1227, '홀로': 1228, '실화': 1229, '어둠': 1230, '100': 1231, '힐': 1232, '따라': 1233, '황홍': 1234, '루돌프': 1235, '가리': 1236, '위한': 1237, '소멸': 1238, '치마': 1239, '다르': 1240, '인기': 1241, '탄탄': 1242, '반하': 1243, '실종': 1244, '자매': 1245, '밥': 1246, '만난': 1247, '싹쓸이': 1248, '정한': 1249, '40': 1250, '접수': 1251, '고마워': 1252, '숨길': 1253, '글로벌': 1254, '기자': 1255, '게임': 1256, '출구': 1257, '핸드': 1258, '장발': 1259, '표': 1260, '소시': 1261, '으니': 1262, '힘차': 1263, '뭉미': 1264, '빼꼼': 1265, '경신': 1266, '불꽃': 1267, '귀염': 1268, '연애': 1269, '..\"': 1270, '영': 1271, '우주': 1272, '어서': 1273, '실력': 1274, \"',\": 1275, '그렇게': 1276, '뭘': 1277, '단발머리': 1278, '나서': 1279, '시절': 1280, 'UP': 1281, '거부': 1282, '엔딩': 1283, '터지': 1284, '국제': 1285, '란': 1286, '마성': 1287, '절정': 1288, '투약': 1289, '걷': 1290, '유발자': 1291, '딱': 1292, '박수': 1293, '아서': 1294, '누구': 1295, '광희': 1296, '감출': 1297, '톡톡': 1298, '특급': 1299, '프린팅': 1300, '고정': 1301, '동생': 1302, '아시아': 1303, '버티': 1304, '생긴': 1305, '인정': 1306, '신랑': 1307, '단': 1308, '넘': 1309, '우연': 1310, '여행': 1311, '범접': 1312, '댄디': 1313, '계단': 1314, '뮤': 1315, '포유': 1316, '왜': 1317, '커피': 1318, '꾸미': 1319, '마리': 1320, '선배': 1321, '텐': 1322, '출근길': 1323, '포': 1324, '어떤': 1325, '빠진': 1326, '엄': 1327, '아직': 1328, '훈련소': 1329, '하우스': 1330, '창욱': 1331, '이나': 1332, '라고': 1333, '밴드': 1334, '맛집': 1335, '본능': 1336, '예뻐도': 1337, '블루': 1338, '드디어': 1339, '사르르': 1340, '놀': 1341, '댄': 1342, '애정': 1343, '즐기': 1344, '괜찮': 1345, '저리': 1346, '스크린': 1347, 'MV': 1348, '애절': 1349, '한류': 1350, '실물': 1351, '럭셔리': 1352, '혁': 1353, '믿기': 1354, '분': 1355, '빈': 1356, '어두운': 1357, '외출': 1358, '하의': 1359, '관객': 1360, '베일': 1361, '콧대': 1362, '멋쟁이': 1363, '날씨': 1364, '시리즈': 1365, '강한': 1366, '조심조심': 1367, '싱글벙글': 1368, '으러': 1369, '미스터': 1370, '원정': 1371, '무시': 1372, '흐뭇': 1373, '러브': 1374, '보석': 1375, '곧': 1376, '신혼': 1377, '甲': 1378, '어려': 1379, 'LG': 1380, '뜬': 1381, '건강미': 1382, '은은': 1383, '예요': 1384, '동소': 1385, '서로': 1386, '기원': 1387, '하객': 1388, '뿅뿅': 1389, '강력': 1390, '뿅': 1391, '만들': 1392, '줬': 1393, '불': 1394, '오르': 1395, '나들이': 1396, '쁨': 1397, '졌': 1398, '작품': 1399, '베': 1400, '설': 1401, '더욱': 1402, '지으며': 1403, '씨': 1404, '여친': 1405, '새로운': 1406, '내리': 1407, '무표정': 1408, '여전사': 1409, '진지': 1410, '파인': 1411, '선글라스': 1412, '황제': 1413, '될': 1414, '영원': 1415, '자기': 1416, '여왕': 1417, '프레': 1418, '항소심': 1419, '봤': 1420, '맛': 1421, '잘록': 1422, '뗄': 1423, '솔': 1424, '막히': 1425, '킴': 1426, '춤추': 1427, '방연': 1428, '블랙홀': 1429, 'cm': 1430, '연기대상': 1431, '날카로운': 1432, '자극': 1433, '\"\\'': 1434, '호피': 1435, '고급': 1436, '스타일링': 1437, '투명': 1438, '활동': 1439, '골디': 1440, '폴': 1441, '떨려요': 1442, '볼까': 1443, '드립니다': 1444, '임홍': 1445, '이상': 1446, '축': 1447, '성실히': 1448, '머금': 1449, '스콜': 1450, '갓': 1451, \".'♥\": 1452, '내일': 1453, '운동': 1454, '유포': 1455, '지척': 1456, '파탈': 1457, '꾸러기': 1458, '주먹': 1459, '멋져': 1460, '조금': 1461, '장악': 1462, '제대': 1463, '붉': 1464, '로드': 1465, '독려': 1466, '장사리': 1467, '필': 1468, '명불허전': 1469, 'K': 1470, '이야기': 1471, '행사': 1472, '셋': 1473, '셨': 1474, '터진': 1475, '마무리': 1476, '메리': 1477, '미주': 1478, '현역': 1479, '바지': 1480, '출산': 1481, '먹방': 1482, '멜': 1483, '임신': 1484, '머니': 1485, '뽀짝': 1486, '할게요': 1487, '얼': 1488, '인가': 1489, '높': 1490, '한층': 1491, '놀라운': 1492, '연습': 1493, '타투': 1494, '보랏빛': 1495, '나란히': 1496, '머리카락': 1497, '빠졌': 1498, '엑스칼리버': 1499, '생활': 1500, '합류': 1501, '연상': 1502, '갑니다': 1503, '디': 1504, '주말': 1505, '다니': 1506, '즐겨요': 1507, '감각': 1508, '자꾸': 1509, '청량미': 1510, '설렌다': 1511, '인조': 1512, '거리': 1513, '빠지': 1514, '마마': 1515, '투구': 1516, '넘기': 1517, '잠시': 1518, '떠나': 1519, '드러난': 1520, '스마일': 1521, '거나': 1522, '무슨': 1523, '양손': 1524, '직접': 1525, '관': 1526, '그리': 1527, '차려입': 1528, '맨': 1529, '쪽': 1530, '직전': 1531, '차분': 1532, '한파': 1533, '큐': 1534, '꼬': 1535, 'PD': 1536, '패딩': 1537, '깨': 1538, '새하얀': 1539, '학교': 1540, '동환': 1541, '그대': 1542, '탄': 1543, '마녀': 1544, '스트라이크': 1545, '장미': 1546, '유산': 1547, '포스터': 1548, '영웅': 1549, '눈매': 1550, '멀리': 1551, '롭': 1552, '형제': 1553, '하차': 1554, '손끝': 1555, '캐릭터': 1556, '갈': 1557, '덕분': 1558, '필수': 1559, '뽀뽀': 1560, '연출': 1561, '뽀': 1562, '비밀': 1563, '가죽': 1564, '걸음': 1565, '희': 1566, '핫팬츠': 1567, '포착': 1568, '진리': 1569, '워너': 1570, '답변': 1571, '자연': 1572, '노라조': 1573, '요염': 1574, '발라드': 1575, '사과': 1576, '접대': 1577, '소환': 1578, '어린': 1579, '음주운전': 1580, '소라': 1581, '절': 1582, '가온': 1583, '니까': 1584, '농구': 1585, '팔짱': 1586, '잠실': 1587, '퍼펙트': 1588, '질투': 1589, '해피': 1590, '그림자': 1591, '리본': 1592, '조각상': 1593, '추억': 1594, '개설': 1595, '검찰': 1596, '장난기': 1597, '2021': 1598, 'MJ': 1599, '폭': 1600, '율': 1601, '수록': 1602, '푹': 1603, '본': 1604, '잃': 1605, '발광': 1606, '짠': 1607, '온다': 1608, '악': 1609, '해졌': 1610, '다는': 1611, '통통': 1612, '구속': 1613, '하이틴': 1614, '보스': 1615, '시즌': 1616, '화면': 1617, '연말': 1618, '발끝': 1619, '재판': 1620, '흔들': 1621, '쉬': 1622, 'TMA': 1623, '듬직': 1624, '경': 1625, '니트': 1626, 'JB': 1627, '부탁': 1628, '뿌': 1629, '레깅스': 1630, '콜': 1631, '션': 1632, '옴므': 1633, '여성': 1634, '성규': 1635, '기품': 1636, '슈주': 1637, '밖에': 1638, '뮤지': 1639, '시투': 1640, '맞이': 1641, '금빛': 1642, '레전드': 1643, '백옥': 1644, '기다리': 1645, '로맨스': 1646, '거수경례': 1647, '2017': 1648, '늘': 1649, '앞둔': 1650, '50': 1651, '아슬아슬': 1652, '유홍': 1653, '경례': 1654, '드릴게요': 1655, '소': 1656, '세례': 1657, '대신': 1658, '삼': 1659, '만났': 1660, '잼': 1661, '고막': 1662, '이후': 1663, '연인': 1664, '오프닝': 1665, '아라': 1666, '피날레': 1667, '탄생': 1668, '가능': 1669, 'MGMA': 1670, '틴': 1671, '청청': 1672, '버': 1673, '들어서': 1674, '빠져들': 1675, '동비': 1676, '링': 1677, '무심': 1678, '로버트': 1679, '여성미': 1680, '어라': 1681, '판': 1682, '라니': 1683, '설레이': 1684, '13': 1685, 'MXM': 1686, '촬영장': 1687, '#': 1688, '출두': 1689, '대명사': 1690, '공항': 1691, '황금': 1692, '17': 1693, '편안': 1694, '기다려': 1695, '경찰청': 1696, '석상': 1697, '인데': 1698, '망사': 1699, '휘': 1700, '예뻤': 1701, '반갑': 1702, '수염': 1703, '모먼트': 1704, '바': 1705, '기억': 1706, '숲': 1707, '요원': 1708, '영상': 1709, ']': 1710, '콧날': 1711, '작가': 1712, '시키': 1713, '했어요': 1714, '돌아보': 1715, '요리': 1716, '초대': 1717, '신경': 1718, '크롭': 1719, '후드': 1720, '극장': 1721, '젖': 1722, '위풍당당': 1723, '돼': 1724, '널': 1725, '쏙': 1726, '어마어마': 1727, '거짓말': 1728, '씩': 1729, '든든': 1730, '전한': 1731, '아역': 1732, '매너': 1733, '군대': 1734, '이젠': 1735, '괴물': 1736, '인방': 1737, '송': 1738, '보호': 1739, '체육관': 1740, '트레이닝': 1741, '아냐': 1742, '이협': 1743, '돔': 1744, '혀': 1745, '감격': 1746, '냉': 1747, '홍콩': 1748, '진심': 1749, '듀': 1750, '의사': 1751, '김': 1752, '홈': 1753, '수험': 1754, '대학': 1755, '팔색조': 1756, '광주': 1757, '바라': 1758, '발': 1759, '마네킹': 1760, '실': 1761, \"'..\": 1762, '기죽이': 1763, '남달라': 1764, '패': 1765, '배지현': 1766, '올랐': 1767, '반듯': 1768, '센': 1769, '나선': 1770, '메인': 1771, '까': 1772, '집행유예': 1773, '찔': 1774, '때문': 1775, '쓴': 1776, '오렌지': 1777, '헉': 1778, '청년': 1779, '조': 1780, '대본': 1781, '이웃': 1782, '티셔츠': 1783, '애국가': 1784, '최초': 1785, '활': 1786, '일본': 1787, '팜': 1788, '재밌': 1789, '리우스': 1790, '킹': 1791, '담당': 1792, '운': 1793, '인지': 1794, '찬란': 1795, '가이': 1796, '관리': 1797, '의리': 1798, '함박': 1799, '넌': 1800, '이름': 1801, '군복': 1802, '놀라': 1803, '여우': 1804, 'DJ': 1805, '동고': 1806, '문': 1807, '눈부시': 1808, '와인': 1809, '새댁': 1810, '죽': 1811, '15': 1812, '강승현': 1813, '디오': 1814, '리얼': 1815, '우린': 1816, \"..'\": 1817, '앞트임': 1818, '대사': 1819, '뱅': 1820, '변호사': 1821, '두산': 1822, '화장': 1823, '스페셜': 1824, '셔서': 1825, '프로젝트': 1826, '택트': 1827, '나른': 1828, '플래시': 1829, '추석': 1830, '바른': 1831, '산다': 1832, '달라': 1833, '축제': 1834, '터치': 1835, '고수': 1836, '아나': 1837, '어쩜': 1838, '스틸러': 1839, '제주': 1840, '오픈': 1841, '싱어': 1842, '할리': 1843, '염색': 1844, '롯': 1845, '강조': 1846, '충무로': 1847, '댁': 1848, '한겸': 1849, '수상자': 1850, '바라봐': 1851, '뭉': 1852, '천상계': 1853, '운전': 1854, '인기상': 1855, '우윳빛': 1856, '오징어': 1857, '반할': 1858, '세사': 1859, '만발': 1860, '참여': 1861, '..`': 1862, '광부': 1863, '엑스': 1864, '만기': 1865, '힙합': 1866, '울리': 1867, '수험표': 1868, 'KPMA': 1869, '맏': 1870, '산책': 1871, '라디오': 1872, '불끈': 1873, '울': 1874, '빚': 1875, '꽃밭': 1876, '코믹': 1877, '마다': 1878, '복고': 1879, '마주치': 1880, '인터뷰': 1881, '모르': 1882, '이것': 1883, '당기': 1884, '개그맨': 1885, '크림': 1886, 'B': 1887, '간': 1888, '다소곳': 1889, '번쩍': 1890, 'ing': 1891, '홀리': 1892, '나가': 1893, '남녀': 1894, '듬뿍': 1895, '\"…\\'': 1896, '단정': 1897, '였': 1898, '주의': 1899, 'TV': 1900, '미스트': 1901, '비하인드': 1902, '남매': 1903, '옆트임': 1904, '모아': 1905, '플': 1906, '이란': 1907, '칸': 1908, '중년': 1909, '대기': 1910, '쳤': 1911, '봐요': 1912, '몬': 1913, '통령': 1914, '빼': 1915, '디스코': 1916, '흩날리': 1917, '안희연': 1918, '마이크': 1919, '선명': 1920, '하이': 1921, '무늬': 1922, '깔': 1923, '슬림': 1924, '가졌': 1925, '침대': 1926, '근육': 1927, '완전': 1928, 'MGA': 1929, '깨물': 1930, '음반': 1931, '표현': 1932, '힘내': 1933, '차림': 1934, '온라인': 1935, '피아노': 1936, '핑': 1937, '다문': 1938, '작렬': 1939, '중독': 1940, '화끈': 1941, '샛별': 1942, '잔': 1943, '잡힌': 1944, '화기애애': 1945, '쓰리': 1946, '소개': 1947, '거들': 1948, '펼치': 1949, '서비스': 1950, '14': 1951, '18': 1952, '고생': 1953, '둥': 1954, '완': 1955, '록': 1956, '엣지': 1957, '옹': 1958, '태평양': 1959, '{': 1960, '최희': 1961, '노홍철': 1962, '국보': 1963, \"''\": 1964, '=': 1965, 'EP': 1966, '헤': 1967, '채우': 1968, '복면': 1969, '휴식': 1970, '비드': 1971, '묶': 1972, '기적': 1973, '고백': 1974, '연주': 1975, '예뻐요': 1976, 'LE': 1977, '화관': 1978, '뱀파이어': 1979, '흥부': 1980, '걸어다니': 1981, '묻': 1982, '진한': 1983, '넣': 1984, '매끈': 1985, '들어도': 1986, '섬세': 1987, '싸': 1988, '의인화': 1989, '포옹': 1990, '움직이': 1991, '김호중': 1992, '고등학생': 1993, '붕어빵': 1994, '묘': 1995, '추워': 1996, '후배': 1997, '보여도': 1998, '충성': 1999, '쉿': 2000, '검사': 2001, '한줌': 2002, '롱부츠': 2003, '빈틈': 2004, '시대': 2005, '주장': 2006, '깡패': 2007, '알바': 2008, '현': 2009, '면서': 2010, '국': 2011, '종결자': 2012, '16': 2013, '입국': 2014, 'ENOi': 2015, '자아내': 2016, '선후배': 2017, '끄': 2018, '라면': 2019, '수많': 2020, '가까이': 2021, '선생': 2022, '꽃사슴': 2023, '잉': 2024, '그냥': 2025, '엄청난': 2026, '칭찬': 2027, '질': 2028, '몰카': 2029, '누': 2030, '맏형': 2031, '관심': 2032, '자축': 2033, '모태': 2034, '레트': 2035, '숙녀': 2036, '도하': 2037, '잇': 2038, '성인': 2039, '퍼': 2040, '성우': 2041, '~‘': 2042, '중심': 2043, '골드': 2044, 'SNS': 2045, '전하': 2046, '채운': 2047, '거꾸로': 2048, '계속': 2049, '다섯': 2050, '이리': 2051, '므파탈': 2052, '음란물': 2053, '잊혀진': 2054, '산': 2055, '짜릿': 2056, '기타': 2057, '떠오르': 2058, '어땠': 2059, '강철': 2060, '카페': 2061, '냐': 2062, '명곡': 2063, '벨벳': 2064, '댄서': 2065, '자유': 2066, '자르': 2067, '생기': 2068, '거침없': 2069, '흑': 2070, '용': 2071, '총알': 2072, '박성광': 2073, '개구쟁이': 2074, '듀오': 2075, '잖아': 2076, '샤프': 2077, '배꼽': 2078, '커다란': 2079, '대형': 2080, '뽀얀': 2081, '다고': 2082, '뻗': 2083, '강홍': 2084, '48': 2085, '가린': 2086, '리듬': 2087, '힘들': 2088, '에스': 2089, '에선': 2090, '콜라': 2091, '새빨간': 2092, '대학생': 2093, '송이': 2094, '신흥': 2095, '섭': 2096, '우': 2097, '박장': 2098, '아만': 2099, '잘생겨': 2100, '고파': 2101, '남신': 2102, '은근': 2103, '베레모': 2104, '선한': 2105, '미리': 2106, '프리': 2107, '열려': 2108, '모으': 2109, '북좌': 2110, '충만': 2111, '낸': 2112, '강추위': 2113, '날씬': 2114, '댄싱': 2115, '굿': 2116, '사배': 2117, '걱정': 2118, '광고': 2119, '스타일리시': 2120, '커': 2121, '깜놀': 2122, '32': 2123, '빵빵': 2124, '컨셉': 2125, '고민': 2126, '은발': 2127, '해병대': 2128, '즐겨': 2129, '보복': 2130, '간담회': 2131, '성폭행': 2132, '메기': 2133, '볼살': 2134, '매': 2135, '다크': 2136, '롬': 2137, 'OK': 2138, '장난': 2139, '위크': 2140, '한껏': 2141, '편': 2142, '강자': 2143, '또렷': 2144, '42': 2145, '발표회': 2146, 'CG': 2147, '익살': 2148, '핸섬': 2149, '인자': 2150, '반박': 2151, '사실': 2152, '해외': 2153, 'W': 2154, '민소매': 2155, '검': 2156, '노': 2157, '기뻐요': 2158, '모인': 2159, '약속': 2160, '민': 2161, '다녀올': 2162, '삼총사': 2163, '벚꽃': 2164, '41': 2165, '광': 2166, '께': 2167, '색다른': 2168, '징역': 2169, '실력파': 2170, '팔뚝': 2171, '코드': 2172, '쥐': 2173, '귀걸이': 2174, '판타지': 2175, '소화력': 2176, '가왕': 2177, '손연재': 2178, '천': 2179, '구릿빛': 2180, '장르': 2181, '퇴장': 2182, '44': 2183, '쌍둥이': 2184, '붙': 2185, '리지': 2186, '생애': 2187, '마이': 2188, '사장': 2189, '보이즈': 2190, '노란': 2191, '긴장감': 2192, '권': 2193, '시사회': 2194, '항상': 2195, '확정': 2196, '날개': 2197, '말해요': 2198, '범': 2199, '스쿨': 2200, '즐겁': 2201, '일곱': 2202, '부대': 2203, '그린': 2204, '결정체': 2205, '국가': 2206, '동반': 2207, '부른다': 2208, '지방': 2209, '비결': 2210, '불후': 2211, '생겨': 2212, '법': 2213, '예쁘다': 2214, '떴': 2215, '기대감': 2216, '나타난': 2217, '풍기': 2218, '높이': 2219, '와이드': 2220, '전홍': 2221, '놓': 2222, '줌': 2223, '하얀': 2224, '소장': 2225, '골프': 2226, '재': 2227, '고맙': 2228, '출': 2229, '셀프': 2230, '김이나': 2231, '새신랑': 2232, '금': 2233, '만렙': 2234, '억': 2235, '빈틈없': 2236, '뒷모습': 2237, '아버지': 2238, '포기': 2239, '지후': 2240, '박력': 2241, '노을': 2242, '쟁이': 2243, '뷰티': 2244, '보정': 2245, '기본': 2246, '극치': 2247, '그저': 2248, '뭔들': 2249, '냥': 2250, '머릿결': 2251, '장미꽃': 2252, '소두': 2253, '싱그러움': 2254, '학': 2255, '21': 2256, '평범': 2257, '썼': 2258, '정리': 2259, '미팅': 2260, '준영': 2261, '찡긋': 2262, '즐거워': 2263, '키움': 2264, '천홍': 2265, '동니': 2266, '태': 2267, '정변': 2268, '언': 2269, '프로포폴': 2270, '삼매경': 2271, '첸': 2272, '소집': 2273, '골든': 2274, '목': 2275, '결': 2276, '가벼운': 2277, '진실': 2278, '젠틀맨': 2279, '빅': 2280, '갖': 2281, '야구팬': 2282, '보고회': 2283, '지쳐': 2284, '조연상': 2285, '벌': 2286, '이두희': 2287, '얼마나': 2288, '바쁜': 2289, '개최': 2290, '동작': 2291, '점프': 2292, '치인다': 2293, '영예': 2294, '염': 2295, '멜로디': 2296, '백조': 2297, '되찾': 2298, '정장': 2299, '켄': 2300, '가방': 2301, '톤': 2302, '스키니': 2303, '주목': 2304, '문제': 2305, '부른': 2306, '액션': 2307, '구름': 2308, '취한다': 2309, '모차르트': 2310, '데이': 2311, '무드': 2312, '우산': 2313, '호수': 2314, '환하': 2315, '담긴': 2316, '공손': 2317, '천상': 2318, '카펫': 2319, '함성': 2320, '데일리': 2321, '을까': 2322, '대한': 2323, '뷰': 2324, '무더위': 2325, '위원': 2326, '숙이': 2327, '꽁꽁': 2328, 'BX': 2329, 'KS': 2330, '저격수': 2331, '소울': 2332, '차원': 2333, '쏘': 2334, '회견': 2335, '빨리': 2336, '형신': 2337, '비글': 2338, '투게더': 2339, '무한': 2340, '절대': 2341, '고교': 2342, '스케줄': 2343, '갑': 2344, '및': 2345, '전성기': 2346, '머': 2347, '터': 2348, '방탄': 2349, '미국': 2350, '머신': 2351, '서동주': 2352, '몸짓': 2353, '형사': 2354, '썸': 2355, '교환': 2356, '봄날': 2357, '변치': 2358, '자진': 2359, '취해': 2360, '귀국': 2361, '유연': 2362, '걸음걸이': 2363, '던지': 2364, '술': 2365, '대제전': 2366, '뭉쳤': 2367, 'I': 2368, '46': 2369, 'Y': 2370, '여주인공': 2371, '베이': 2372, '홍': 2373, '짝': 2374, '추': 2375, '킥': 2376, '랍니다': 2377, '강인': 2378, '%': 2379, '짜리': 2380, '자켓': 2381, '먼저': 2382, '스타킹': 2383, '앵': 2384, '내게': 2385, '셀': 2386, '착용': 2387, '올리': 2388, '눈썹': 2389, '나날이': 2390, '올게요': 2391, '네일': 2392, '산하': 2393, '코요태': 2394, '살인': 2395, '회장': 2396, '창': 2397, '방문': 2398, '내성': 2399, '이미': 2400, '푸른': 2401, '어느': 2402, '립': 2403, 'OST': 2404, '초록': 2405, '마시': 2406, '외치': 2407, '패스': 2408, '43': 2409, '방긋': 2410, '일정': 2411, '잠옷': 2412, '다녀왔': 2413, '꾹': 2414, '라포': 2415, '흐르': 2416, '정열': 2417, '흥겨운': 2418, '스투': 2419, '가진': 2420, '모드': 2421, '이혼': 2422, '황금빛': 2423, '계절': 2424, '김나희': 2425, '악동': 2426, '만세': 2427, '싫': 2428, '스커트': 2429, '연예': 2430, '뉴': 2431, '잠긴': 2432, '대화': 2433, '알선': 2434, '우상': 2435, '학사모': 2436, '분장': 2437, '럽': 2438, '래도': 2439, '히어로': 2440, '쓸': 2441, '청량감': 2442, '두부': 2443, '훔치': 2444, '해야': 2445, '기록': 2446, '90': 2447, '파': 2448, '닝': 2449, '탁': 2450, '설레임': 2451, '미스코리아': 2452, '신예': 2453, '드러나': 2454, '충전': 2455, '싹': 2456, '저녁': 2457, 'LA': 2458, '땐': 2459, '포수': 2460, '손바닥': 2461, '던질': 2462, '보나': 2463, '신난': 2464, '예찬': 2465, '광대': 2466, '출발': 2467, '변함': 2468, '클라스': 2469, '새벽': 2470, '섹시해': 2471, '앵두': 2472, '출국': 2473, '역할': 2474, '투톤': 2475, '롤': 2476, '세대': 2477, '동백': 2478, '당찬': 2479, '동시': 2480, '이강성': 2481, '책': 2482, '악역': 2483, '따': 2484, '나르다': 2485, '사복': 2486, '’…': 2487, '베르': 2488, '반달': 2489, '푸근': 2490, '불변': 2491, '함박웃음': 2492, '성큼': 2493, '‘♥': 2494, '밝힌': 2495, '역주행': 2496, '야키': 2497, '진동': 2498, '작업': 2499, '＂': 2500, '청아': 2501, '묘한': 2502, '미안': 2503, '가지': 2504, '기린': 2505, '부족': 2506, '흐른다': 2507, '미친': 2508, '크기': 2509, '퇴근': 2510, '얼짱': 2511, '끈': 2512, '나쁜': 2513, '쎈': 2514, '베베': 2515, '미소녀': 2516, '랜드': 2517, '제복': 2518, '차세대': 2519, '궁금': 2520, '살린': 2521, '캔': 2522, '느끼': 2523, '人': 2524, '정혁': 2525, '바디': 2526, '절개': 2527, 'is': 2528, '조홍': 2529, '늦': 2530, '재회': 2531, '만끽': 2532, '배달': 2533, '소금': 2534, '뮤지션': 2535, '수훈': 2536, '쁨의': 2537, '보낸': 2538, '다음': 2539, '바이러스': 2540, '입학': 2541, '남성': 2542, '헹가래': 2543, '내밀': 2544, '립스틱': 2545, '돈': 2546, '청순가련': 2547, '음색': 2548, '만능': 2549, '스위트': 2550, '마쳤': 2551, '발견': 2552, '처': 2553, '댕댕이': 2554, '불타': 2555, '앙': 2556, '져요': 2557, '바닷가': 2558, '챙기': 2559, '동료': 2560, '후광': 2561, '인어공주': 2562, '강제': 2563, '다양': 2564, '때로': 2565, '대기실': 2566, '장난꾸러기': 2567, 'Aron': 2568, '용식': 2569, '격': 2570, '부상': 2571, '업도': 2572, '예의': 2573, '터프': 2574, '영홍': 2575, '건치': 2576, '어떻게': 2577, '들어가': 2578, '몇': 2579, '커트': 2580, '대마초': 2581, '쳐다보': 2582, '랩': 2583, '잉꼬부부': 2584, '깨알': 2585, '무관': 2586, '추가': 2587, '시청': 2588, '생각나': 2589, '에이리얼': 2590, '승': 2591, '조선': 2592, '열혈': 2593, '우파': 2594, '역행': 2595, '내린': 2596, '허윤진': 2597, '트리': 2598, '이사': 2599, '우유': 2600, '혼신': 2601, '엉덩이': 2602, 'vs': 2603, '갔': 2604, '안정환': 2605, '읽': 2606, '역동': 2607, '여고생': 2608, '24': 2609, '잔뜩': 2610, '위대': 2611, '부츠': 2612, '냈': 2613, '45': 2614, '개그우먼': 2615, '연가': 2616, '제천': 2617, '놀랄': 2618, '인연': 2619, '섹션': 2620, '이야': 2621, '뻔': 2622, '무색': 2623, '사격': 2624, '격리': 2625, '실감': 2626, '더위': 2627, '고스트': 2628, '뜨겁': 2629, '봉': 2630, '오피셜': 2631, '간식': 2632, '제주도': 2633, '色': 2634, '아트': 2635, '포근': 2636, '입담': 2637, '맞춰': 2638, '수찬': 2639, '넓': 2640, '다가': 2641, '복서': 2642, '하이힐': 2643, 'PO': 2644, '디지털': 2645, '뉴트': 2646, '산뜻': 2647, '녹화': 2648, '등산': 2649, '요대': 2650, '봉사': 2651, '주홍': 2652, '밑': 2653, '이태승': 2654, '모녀': 2655, '커버': 2656, '쑥스러운': 2657, '사인회': 2658, '부드럽': 2659, '내년': 2660, '빛난': 2661, '판소리': 2662, '폭행': 2663, '부끄러워': 2664, '뚜렷': 2665, '늙': 2666, '이국': 2667, '린': 2668, '무결': 2669, '행': 2670, '리딩': 2671, '라는': 2672, '어머나': 2673, '성큼성큼': 2674, '시험': 2675, '주자': 2676, '다인': 2677, '등교': 2678, '둘째': 2679, '원스': 2680, '대충': 2681, '부셔': 2682, '女心': 2683, '정직': 2684, '종영': 2685, '랜': 2686, '퇴근길': 2687, '효과': 2688, '나와': 2689, '공존': 2690, '동복': 2691, '똑같': 2692, '맵시': 2693, '줘서': 2694, '뾰로통': 2695, '마른': 2696, '천진난만': 2697, '레이디': 2698, '수편': 2699, '초점': 2700, '환호성': 2701, '성매매': 2702, '프로필': 2703, '장홍': 2704, '최종범': 2705, '타고난': 2706, '천만': 2707, '수척': 2708, '라도': 2709, '시동': 2710, '기운': 2711, '똘망똘망': 2712, '추행': 2713, '악수': 2714, '한잔': 2715, '착시': 2716, '랄까': 2717, '동영': 2718, '트임': 2719, '찰랑': 2720, '세미': 2721, '시티': 2722, '엔젤': 2723, '문체': 2724, '얼마': 2725, '상습': 2726, '할까요': 2727, '깐': 2728, '오묘': 2729, '연속': 2730, '최대치': 2731, '360': 2732, '180': 2733, '인천': 2734, '바보': 2735, '주얼': 2736, '가대': 2737, '어른': 2738, '박은태': 2739, '따스': 2740, '다녀오': 2741, '가운': 2742, '56': 2743, '평생': 2744, '꿀벅지': 2745, '희망': 2746, '男': 2747, '더블': 2748, '쿨': 2749, '난다': 2750, '화수분': 2751, '중후': 2752, '오브': 2753, '네버': 2754, '프로듀서': 2755, '파리': 2756, '26': 2757, '에프엑스': 2758, '심경': 2759, '스모키': 2760, '극복': 2761, '캐럿': 2762, '선택': 2763, '차이': 2764, '반지': 2765, '쏟아지': 2766, '요요': 2767, '아쉬운': 2768, '한테': 2769, '라켓': 2770, '착한': 2771, '나누': 2772, '수려': 2773, '배웅': 2774, '바꾸': 2775, '마이클': 2776, '반쪽': 2777, '뉴욕': 2778, '마법': 2779, '드리': 2780, '배드': 2781, '하모니': 2782, '총총': 2783, '프린': 2784, '길이': 2785, '불러': 2786, '풋': 2787, '웃음꽃': 2788, '녀석': 2789, '포니테일': 2790, '얼음': 2791, '꽃무늬': 2792, '수다': 2793, '돋': 2794, '매니저': 2795, '래': 2796, '머리띠': 2797, '차량': 2798, '사극': 2799, '도착': 2800, '25': 2801, '안방': 2802, '감탄사': 2803, '예감': 2804, '한림': 2805, '연기자': 2806, '내려온': 2807, '드릴': 2808, '넘나드': 2809, '너무나': 2810, '달리': 2811, '길래': 2812, '작정': 2813, '영혼': 2814, '키아라': 2815, '연예계': 2816, '당길': 2817, '테이': 2818, '최재욱': 2819, '꽂': 2820, '협박': 2821, '뼘': 2822, '찰': 2823, '새내기': 2824, '못한': 2825, '정희': 2826, '강속구': 2827, '大': 2828, '동훈': 2829, '어깨동무': 2830, 'R': 2831, '스무': 2832, '꾸민': 2833, '소속': 2834, '누난': 2835, '앞서': 2836, '동': 2837, '찌': 2838, '임하': 2839, '전설': 2840, '보타이': 2841, '위로': 2842, '최애': 2843, '아쉬움': 2844, '누워': 2845, '고척': 2846, '경기': 2847, '치어리더': 2848, '최준성': 2849, '싱크로': 2850, '딩동': 2851, '톡': 2852, '병아리': 2853, '폼나게': 2854, '카': 2855, '경쾌': 2856, '지나': 2857, '미초': 2858, '말랐': 2859, '어게인': 2860, '심플': 2861, '비디오': 2862, '남다르': 2863, '확인': 2864, '피곤': 2865, '보답': 2866, '우승': 2867, '해체': 2868, '틸': 2869, '온몸': 2870, '쪼': 2871, '보고': 2872, '바넘': 2873, '컸': 2874, '어택': 2875, '안방마님': 2876, '폭소': 2877, '정홍': 2878, '장가': 2879, '평상': 2880, '화답': 2881, '셰프': 2882, '갑자기': 2883, '맛있': 2884, '군인': 2885, '맡겨': 2886, '아저씨': 2887, '튜브': 2888, '❤': 2889, '곱': 2890, '어제': 2891, '세트': 2892, 'SM': 2893, '단독': 2894, '가만히': 2895, '감싸': 2896, '구두': 2897, 'FT': 2898, '순홍': 2899, '아일랜드': 2900, '오가': 2901, '낮': 2902, '개봉': 2903, '도자기': 2904, '쯤': 2905, '틸러': 2906, '동주': 2907, '방정': 2908, '총출동': 2909, '주변': 2910, '예쁜데': 2911, '봄여름가을겨울': 2912, '텐션': 2913, '올백': 2914, '젠': 2915, '퀴리': 2916, '동리': 2917, '우열': 2918, '55': 2919, '농구장': 2920, '웩': 2921, '옅': 2922, '마음씨': 2923, '성탄절': 2924, '장식': 2925, '신스': 2926, '땋': 2927, '전원': 2928, '놀이': 2929, '버리': 2930, '육아': 2931, '당신': 2932, '흘러': 2933, '민트': 2934, '묵직': 2935, '넥센': 2936, '당황': 2937, '23': 2938, '하이파': 2939, '신발': 2940, '탈': 2941, '환생': 2942, '튀어나온': 2943, '신입': 2944, '박재범': 2945, '이별': 2946, '곰': 2947, 'A': 2948, '까까머리': 2949, '현란': 2950, '강릉': 2951, '보미': 2952, '넘버원': 2953, '숙여': 2954, '맞추': 2955, '땀': 2956, '한화': 2957, '전도': 2958, 'Not': 2959, '쌀': 2960, '장만': 2961, '앙상블': 2962, '정': 2963, '소나무': 2964, '올라': 2965, '바둑': 2966, '어딜': 2967, '충격': 2968, '선사': 2969, '상처': 2970, '사자': 2971, '35': 2972, '미니스커트': 2973, '떨린다': 2974, '혼': 2975, '입맞춤': 2976, '은데': 2977, '바이': 2978, '코리아': 2979, '29': 2980, '열기': 2981, '관람': 2982, '광화문': 2983, '서머': 2984, '토크': 2985, '동정': 2986, '그라운드': 2987, '개념': 2988, '부러워': 2989, '쳐': 2990, '최선': 2991, '여의도': 2992, '잔망': 2993, '47': 2994, '루키': 2995, '채원': 2996, '심려': 2997, '캐': 2998, '패션쇼': 2999, '신중': 3000, '장전': 3001, '어필': 3002, '부천': 3003, '담담': 3004, '22': 3005, '아님': 3006, '만족': 3007, '오후': 3008, '新': 3009, '근육질': 3010, '본명': 3011, '야구공': 3012, '일자': 3013, '성수기': 3014, '로건': 3015, '똥': 3016, '카프': 3017, '파란': 3018, '터졌': 3019, '관문': 3020, '낫': 3021, '버스': 3022, '그리고': 3023, '흠뻑': 3024, '당': 3025, '도홍': 3026, '삼촌': 3027, '추모': 3028, '쑥': 3029, '바이크': 3030, '정신': 3031, '볼래': 3032, '실사': 3033, '탈출': 3034, '치킨': 3035, '덮': 3036, '방시혁': 3037, '기다렸': 3038, '레벨': 3039, '이벤트': 3040, '우아미': 3041, '잠깐': 3042, '픈': 3043, '사기': 3044, '이건': 3045, '캔디': 3046, '대장': 3047, '문지애': 3048, '간다': 3049, '선녀': 3050, '우먼': 3051, '배경': 3052, '귀염둥이': 3053, '바뀐': 3054, '덤덤': 3055, '자카': 3056, '형광': 3057, '버전': 3058, '백만': 3059, '도경완': 3060, '배트': 3061, '셔터': 3062, '그리스': 3063, '드림콘서트': 3064, '꾸며': 3065, '어린이': 3066, '신선': 3067, '자랐': 3068, '어여쁜': 3069, '그렇': 3070, '떨려': 3071, '야수': 3072, '닮은꼴': 3073, '다채': 3074, '취향': 3075, '울컥': 3076, '캐주얼': 3077, '리그': 3078, 'NO': 3079, '미래': 3080, '개미': 3081, '전동석': 3082, '사죄': 3083, '중국': 3084, '무지개': 3085, '풍성': 3086, '보디라인': 3087, '초췌': 3088, '놀토': 3089, '헬리콥터': 3090, '태국': 3091, '오똑': 3092, '제창': 3093, '덕담': 3094, '대선': 3095, '라떼': 3096, '매서운': 3097, '발라': 3098, '변정': 3099, '샬': 3100, '삶': 3101, '자비': 3102, '줄게': 3103, '게요': 3104, '천옥': 3105, '젊': 3106, '보통': 3107, '뻥': 3108, '체리': 3109, '거친': 3110, '창가': 3111, '필름': 3112, '공인': 3113, '38': 3114, '故': 3115, '백만불': 3116, '딜리버리': 3117, '학생': 3118, '남우': 3119, '베트남': 3120, '버린': 3121, '파트라': 3122, '총': 3123, '삼켰': 3124, '취재': 3125, '실버': 3126, '오버': 3127, '딸기': 3128, '날아올라': 3129, '몰': 3130, '동글동글': 3131, '설명': 3132, '살아남': 3133, '한수': 3134, 'CF': 3135, '표본': 3136, '할까': 3137, ')': 3138, '전계수': 3139, '신인선': 3140, '라이징': 3141, '썬': 3142, '꼬부기': 3143, '묻어나': 3144, '상추': 3145, '벨': 3146, '턴': 3147, '만삭': 3148, '딩': 3149, '짐승돌': 3150, '`,': 3151, '뜨': 3152, '선거': 3153, '합시다': 3154, '설민석': 3155, '라메': 3156, '못지': 3157, '대열': 3158, '박성원': 3159, '필터': 3160, '노력': 3161, '감정': 3162, '넥스트': 3163, '영화배우': 3164, '용의자': 3165, '개그': 3166, '허': 3167, '손길': 3168, '무죄': 3169, '사고': 3170, '캠핑': 3171, '리스': 3172, '간절': 3173, '익': 3174, '승무원': 3175, '전주국': 3176, '무공': 3177, '유치장': 3178, '어엿': 3179, '팬츠': 3180, '황동준': 3181, '모': 3182, '날려': 3183, '작사': 3184, '백마': 3185, '어떡': 3186, '샤워': 3187, '%\"': 3188, '로코': 3189, 'T': 3190, '아자': 3191, '양홍': 3192, '직구': 3193, '환영': 3194, '펌': 3195, '선정': 3196, '리스트': 3197, '일으키': 3198, '홀': 3199, '바르': 3200, '알콩달콩': 3201, '살림': 3202, '라서': 3203, '뭉클': 3204, '와요': 3205, '보관': 3206, '쉽니다': 3207, '화제': 3208, '판타스틱': 3209, '통': 3210, '조카': 3211, '패기': 3212, '괜히': 3213, '과다': 3214, '나타났': 3215, '김연아': 3216, '아쉬워': 3217, '라운': 3218, '챌': 3219, '리틀': 3220, '리나': 3221, '주세요': 3222, '뜻깊': 3223, '37': 3224, '렘': 3225, '자란': 3226, '리허설': 3227, '으리으리': 3228, '꽃길': 3229, '메시지': 3230, '위원장': 3231, '도깨비': 3232, '흠': 3233, '모범': 3234, '귀수': 3235, '부일': 3236, 'CEO': 3237, '샤랄': 3238, '엘': 3239, '쌈디': 3240, '곽': 3241, '신새': 3242, '손잡': 3243, '청정': 3244, '람': 3245, '친절': 3246, '여대생': 3247, '복숭아': 3248, '충분': 3249, 'TEAM': 3250, '근엄': 3251, '웅': 3252, '운명': 3253, '중학교': 3254, '여동생': 3255, '피해': 3256, '화장기': 3257, '해져': 3258, '육군': 3259, '고향': 3260, '재벌': 3261, '골': 3262, '엄청': 3263, '검법': 3264, '여섯': 3265, '일취월장': 3266, '벌레': 3267, '유기': 3268, '무무': 3269, '뚫린': 3270, '채경': 3271, '영어': 3272, '플레이': 3273, '본격': 3274, '장갑': 3275, '...': 3276, '곁': 3277, '㎏': 3278, '풍덩': 3279, '자타': 3280, '초임': 3281, '선언': 3282, '구나': 3283, '엉뚱': 3284, '동우': 3285, '마스코트': 3286, '음료': 3287, '꽃향기': 3288, '이래': 3289, '타자': 3290, '신보': 3291, '선율': 3292, '꼬꼬': 3293, '기도': 3294, '귀가': 3295, '흡수': 3296, '감홍': 3297, '조기': 3298, '무서운': 3299, '손님': 3300, '오스카': 3301, '좌': 3302, '멈추': 3303, '동준': 3304, '틈': 3305, '늑대': 3306, '던져요': 3307, '브랜드': 3308, '그만': 3309, '월요병': 3310, '이모': 3311, '도굴': 3312, '작곡가': 3313, '日': 3314, '떨': 3315, '퐁당': 3316, '기쁜': 3317, '수업': 3318, '축가': 3319, '허그': 3320, '아홉': 3321, '역사': 3322, '강희': 3323, '34': 3324, '동원': 3325, '최우수': 3326, '추워도': 3327, '일으켜': 3328, '안겨': 3329, '플라워': 3330, '관련': 3331, \"~!'\": 3332, '자홍': 3333, '풍': 3334, '혼산': 3335, '카운트': 3336, '장지': 3337, '운동복': 3338, '젓가락': 3339, '축구': 3340, '지배': 3341, '뿔테': 3342, '쇼맨': 3343, '재치': 3344, '봉중근': 3345, '찰랑이': 3346, '떼': 3347, '이거': 3348, '나무': 3349, '올스타': 3350, '로워': 3351, '은광': 3352, '페스티벌': 3353, '그래도': 3354, '28': 3355, '떡': 3356, '수놓': 3357, '트윈스': 3358, '간직': 3359, '애틋': 3360, 'BIFAN': 3361, '레기': 3362, '예사': 3363, '위험': 3364, '동호': 3365, '성관': 3366, '병장': 3367, '재미': 3368, '방금': 3369, '톱스타': 3370, '무한도전': 3371, '들썩': 3372, '특집': 3373, '황바울': 3374, '사냥': 3375, 'or': 3376, '퇴폐': 3377, '빌보드': 3378, '대륙': 3379, '체질': 3380, '피자': 3381, '황태자': 3382, '확실': 3383, '새롭': 3384, '부탁드려요': 3385, '로코퀸': 3386, '런닝맨': 3387, '가을밤': 3388, '기부': 3389, '한데': 3390, '팅': 3391, '볼까요': 3392, '남기': 3393, '투혼': 3394, '김지철': 3395, '긍정': 3396, '이글이글': 3397, '수리': 3398, '뇌쇄': 3399, '달린': 3400, '끼쳐': 3401, '27': 3402, '주인': 3403, '조신': 3404, 'CL': 3405, '북': 3406, '류': 3407, '백설': 3408, '졸업앨범': 3409, 'APAN': 3410, '휴가': 3411, '넥타이': 3412, '뛰어넘': 3413, '갈치': 3414, '탔': 3415, '의연': 3416, '라이프': 3417, '야성미': 3418, '조화': 3419, '발열': 3420, '재미있': 3421, '솟': 3422, '처리': 3423, '시킨': 3424, '모은': 3425, '알록달록': 3426, '휘찬': 3427, '걸어오': 3428, '특수': 3429, '끌': 3430, '꼬미': 3431, '떡소': 3432, '맥주': 3433, '미코': 3434, \"'...\": 3435, '싹둑': 3436, '며느리': 3437, '무사히': 3438, '뷰티풀': 3439, '언론': 3440, '뭉친': 3441, '가냘픈': 3442, '재개': 3443, '된다': 3444, '안홍': 3445, '은혜': 3446, '폭격': 3447, '방역': 3448, '다비': 3449, '클럽': 3450, '싱': 3451, '이마': 3452, '벽화': 3453, '려고': 3454, '이겨': 3455, '과거': 3456, '들어갑니다': 3457, '33': 3458, '춥': 3459, '합동': 3460, '흘러넘치': 3461, '넘버': 3462, '공로상': 3463, '정성': 3464, '수정': 3465, '반바지': 3466, '주한': 3467, '★': 3468, '옥': 3469, '수식어': 3470, '모였': 3471, '하다': 3472, '결과': 3473, '났': 3474, '흔들림': 3475, '꼴': 3476, '벳': 3477, '로움': 3478, '투표소': 3479, '훌쩍': 3480, '목보': 3481, '탑승': 3482, '악녀': 3483, '예뻐질': 3484, '떨군': 3485, '부인': 3486, '멀리서': 3487, '뿌듯': 3488, '뺀': 3489, '뱅크': 3490, '민폐': 3491, '건강히': 3492, '깨끗': 3493, '구장': 3494, '진행자': 3495, '만화책': 3496, '귀신': 3497, '럭키': 3498, '느': 3499, '위즈': 3500, '추운': 3501, '드라': 3502, '예능인': 3503, '아송': 3504, '정확': 3505, '영원히': 3506, '지내': 3507, '뚜': 3508, '씹': 3509, '할로윈': 3510, '열광': 3511, '고유': 3512, '추리': 3513, '놈': 3514, '감기': 3515, '애교만점': 3516, '입가': 3517, '의외': 3518, '맞춘': 3519, '취미': 3520, '하네': 3521, '동물': 3522, '연기력': 3523, '이즈': 3524, '부장': 3525, '핸': 3526, '규': 3527, '지법': 3528, '로망스': 3529, '도령': 3530, '멈췄': 3531, '정조준': 3532, '무엇': 3533, '주찬': 3534, '구경': 3535, '짱': 3536, '실래요': 3537, '흥행': 3538, '콘': 3539, '중계': 3540, '씩씩': 3541, '스타트업': 3542, '안무가': 3543, '요홍': 3544, '자상': 3545, 'F': 3546, '탈색': 3547, '위촉': 3548, '코미디': 3549, '게인': 3550, '그날': 3551, '꿈꾸': 3552, '신났': 3553, '글러브': 3554, '출사표': 3555, '투어': 3556, '켄타': 3557, '재한': 3558, '자라': 3559, '도둑': 3560, '그램': 3561, '발그레': 3562, '꼬리': 3563, '떡볶이': 3564, '녹두': 3565, '보드': 3566, '멍한': 3567, '실루엣': 3568, '넘겨': 3569, '따라와': 3570, '호소력': 3571, '쇼핑': 3572, '셀린': 3573, '정조국': 3574, '자른': 3575, '여보': 3576, '맨발': 3577, 'JM': 3578, '쓰여': 3579, '쩍': 3580, '달려': 3581, '뛰': 3582, '초콜릿': 3583, '49': 3584, '트랙': 3585, '홈즈': 3586, '굽': 3587, '짜': 3588, '전달': 3589, '길거리': 3590, '미드나잇': 3591, 'LOVE': 3592, '이솔': 3593, '대단': 3594, '장신': 3595, '부럽': 3596, '반가워': 3597, '히트': 3598, '사제': 3599, '비상': 3600, '마세요': 3601, '이어': 3602, '동참': 3603, '설탕': 3604, '감치': 3605, '옐로우': 3606, '주머니': 3607, '부드러움': 3608, '박문': 3609, '연휴': 3610, '셜': 3611, '핵': 3612, '이옥섭': 3613, '작년': 3614, '복고풍': 3615, 'U': 3616, '제발': 3617, '입증': 3618, '변화': 3619, '이곳': 3620, '배해선': 3621, '데칼코마니': 3622, '홀쭉': 3623, '봐서': 3624, '사세요': 3625, '식': 3626, '안고': 3627, '이쁜': 3628, '전시회': 3629, '갈림길': 3630, 'M': 3631, '잠': 3632, '흔들리': 3633, '구속영장': 3634, '개막식': 3635, '소문': 3636, '트렌디': 3637, '삭발': 3638, '설렜': 3639, '부러운': 3640, '대만': 3641, '170': 3642, '몰입': 3643, '대잔치': 3644, '혜': 3645, '걸스': 3646, '팀워크': 3647, '뼈': 3648, '화이트로': 3649, '이쁘': 3650, '경험': 3651, '죄': 3652, '들썩이': 3653, '질끈': 3654, '됩니다': 3655, '마주친': 3656, '응시': 3657, '피니시': 3658, '암행어사': 3659, '종료': 3660, '뽑': 3661, '39': 3662, '캐스팅': 3663, '기생충': 3664, '미디어': 3665, '기대주': 3666, '끝내': 3667, '반성': 3668, '31': 3669, '프로그램': 3670, 'm': 3671, '지기': 3672, '빠른': 3673, '쌍꺼풀': 3674, '라스트': 3675, '애니': 3676, '먼': 3677, '차홍': 3678, '앳된': 3679, '히트맨': 3680, '통화': 3681, '스나이퍼': 3682, '윰': 3683, '깊이': 3684, '피처': 3685, '끼리': 3686, '어쩌다': 3687, '키드': 3688, '기습': 3689, '효주': 3690, '올림머리': 3691, '샘': 3692, '체조': 3693, '사이즈': 3694, '구정화': 3695, '배구': 3696, '더하기': 3697, '마음껏': 3698, '신영숙': 3699, '가르마': 3700, '보장': 3701, '열매': 3702, '셜록': 3703, '끌어안': 3704, '\\'…\"': 3705, '야홍': 3706, '갸름': 3707, '여주': 3708, '대답': 3709, '호랑이': 3710, '이창명': 3711, '구형': 3712, '심리': 3713, '어려진': 3714, '제법': 3715, '요청': 3716, '품위': 3717, '승부': 3718, '신기': 3719, '방과': 3720, '대로': 3721, '출동': 3722, '전사': 3723, '해야죠': 3724, '공감': 3725, '뿌까': 3726, '영웅본색': 3727, '회동': 3728, '내려놓': 3729, '짧아진': 3730, '전자': 3731, '꺄르르': 3732, '눈인사': 3733, '통일': 3734, '착': 3735, '바닥': 3736, '철통': 3737, '목걸이': 3738, '체': 3739, '빨': 3740, '쉽': 3741, '골든글러브': 3742, '소통': 3743, '무게': 3744, '라이어': 3745, '뭉이': 3746, 'HIP': 3747, '스포트라이트': 3748, '남주': 3749, '활기찬': 3750, '브라': 3751, '세종': 3752, '동오': 3753, '광장': 3754, '브레인': 3755, '장제원': 3756, '심문': 3757, '댕댕': 3758, '라온': 3759, '첫눈': 3760, '성실': 3761, 'DNA': 3762, '시청자': 3763, '률': 3764, 'THE': 3765, '민망': 3766, '보이프렌드': 3767, '眞': 3768, '디저트': 3769, '상냥': 3770, '52': 3771, '레이저': 3772, '누드': 3773, '질러': 3774, '태풍': 3775, '노크': 3776, '폴더': 3777, '봄꽃': 3778, '듀스': 3779, '츠비': 3780, '절제': 3781, '장각': 3782, '잘못': 3783, '부러질': 3784, '최우': 3785, '랭': 3786, '살리': 3787, '관중': 3788, '정식': 3789, '주근깨': 3790, '국카스텐': 3791, '와우': 3792, '물결': 3793, '차차': 3794, '\"♥': 3795, '母': 3796, '벽': 3797, '밴': 3798, '정갈': 3799, '이른': 3800, '꼰대': 3801, '김제동': 3802, '정상': 3803, '개막': 3804, '입주': 3805, '곰돌이': 3806, '꽃가루': 3807, '365': 3808, '실망': 3809, '넥': 3810, '시점': 3811, '력': 3812, '돌아오': 3813, '차세찌': 3814, '포에버': 3815, '편지': 3816, '양보': 3817, '영화관': 3818, '썸머': 3819, '달빛': 3820, '뿌리': 3821, '당겨': 3822, '호텔': 3823, '듀엣': 3824, '발언': 3825, '큰절': 3826, '붙잡': 3827, '구멍': 3828, '어스': 3829, '관계': 3830, '벅찬': 3831, '경우': 3832, 'You': 3833, '의경': 3834, '이드': 3835, '레이스': 3836, '터닝': 3837, '부스스': 3838, '아카데미': 3839, '집사': 3840, '러스': 3841, '느껴져': 3842, '창작': 3843, '발차기': 3844, '피어싱': 3845, 'Love': 3846, '쯔': 3847, '오영주': 3848, '후회': 3849, '동부': 3850, '전지': 3851, '턱돌이': 3852, '포커스': 3853, '물의': 3854, '폰': 3855, '황홀': 3856, '軍': 3857, '자산어보': 3858, '발목': 3859, '돌파': 3860, '이건명': 3861, '월요일': 3862, '레디': 3863, '분홍': 3864, '어머니': 3865, '시장': 3866, '찌르': 3867, '팡': 3868, '가볍': 3869, '아웃렛': 3870, '지구': 3871, '마린': 3872, '상해': 3873, '증인': 3874, '쫑파티': 3875, '캠퍼스': 3876, '태그': 3877, '어머': 3878, '깜찍이': 3879, '잔디': 3880, '호령': 3881, '나눔': 3882, '온도': 3883, 'TOP': 3884, '지켜봐': 3885, '골반': 3886, '두아': 3887, '전신': 3888, '나올': 3889, '노리': 3890, '친근': 3891, '소송': 3892, '속옷': 3893, '부캐': 3894, '동네': 3895, '손톱': 3896, '제너': 3897, '멀': 3898, '101': 3899, '잡화점': 3900, '베이글': 3901, '(': 3902, '돼요': 3903, '열애': 3904, '오리': 3905, '블라우스': 3906, '칠': 3907, '일까': 3908, '특전': 3909, '때론': 3910, '동규': 3911, '캠페인': 3912, '폴짝': 3913, '입꼬리': 3914, '어쩔': 3915, '상상': 3916, '조작': 3917, '51': 3918, '신다': 3919, '갬': 3920, '구미호': 3921, '야식': 3922, '들리': 3923, '앙증': 3924, '물든': 3925, '개별': 3926, '스완': 3927, '동민': 3928, '하원미': 3929, '변호인': 3930, '연소': 3931, '독립': 3932, '대왕': 3933, '단장': 3934, '숨바꼭질': 3935, '신난다': 3936, '비교': 3937, '존': 3938, '흡연': 3939, '서프라이즈': 3940, '털털': 3941, '두기': 3942, '만개': 3943, 'Butter': 3944, '큐트': 3945, '타석': 3946, '동백꽃': 3947, '으뜸': 3948, '페': 3949, '흠잡': 3950, '자마자': 3951, '미쓰': 3952, '배구장': 3953, '클라': 3954, '껴도': 3955, '쑥스러워': 3956, '의자': 3957, '럭': 3958, '비치': 3959, '한때': 3960, '슬립': 3961, '풍선': 3962, '타오르': 3963, '서른': 3964, '모양': 3965, '맨투맨': 3966, '털': 3967, '벌크': 3968, '스릴러': 3969, '스푼': 3970, '삐': 3971, '前': 3972, '이렇': 3973, '우뚝': 3974, '석': 3975, 'KMDF': 3976, '플레이오프': 3977, '전국': 3978, '눈부심': 3979, '동그란': 3980, '다이너마이트': 3981, '참시': 3982, '사뿐': 3983, '데님': 3984, '리파': 3985, '의미': 3986, '참견': 3987, '축년': 3988, '영웅시대': 3989, '랄': 3990, '아파': 3991, '간만': 3992, '쏠린': 3993, '정미숙': 3994, '음식': 3995, '지키': 3996, '성추행': 3997, '해라': 3998, '인턴': 3999, '웃겨': 4000, '응': 4001, '다만': 4002, '냄새': 4003, '클로': 4004, '은별': 4005, '젯': 4006, '겸손': 4007, '이재명': 4008, '관능미': 4009, '광채': 4010, '불안': 4011, '아가': 4012, '안정': 4013, '로스': 4014, '동락': 4015, '입학식': 4016, '핼러윈': 4017, '락': 4018, '끈끈': 4019, '부시': 4020, '차가운': 4021, '홍일점': 4022, '농염': 4023, '본인': 4024, '투수': 4025, '춤사위': 4026, '남산': 4027, '각자': 4028, '진권': 4029, '동행': 4030, '루드윅': 4031, '웰컴': 4032, '빨강': 4033, '파드': 4034, '빛난다': 4035, '법칙': 4036, '아가씨': 4037, '전격': 4038, '적시': 4039, '파라다이스': 4040, '스토브': 4041, '크리스': 4042, '넋': 4043, '기세': 4044, '능감': 4045, '고독': 4046, '딛': 4047, '공포': 4048, '달라졌': 4049, '부끄부끄': 4050, '개막전': 4051, '도진': 4052, '소식': 4053, '탱': 4054, '수준': 4055, '악인': 4056, '마스터': 4057, '거스르': 4058, '몰랐': 4059, '전해': 4060, '식장': 4061, 'JYP': 4062, '선도': 4063, '영하': 4064, '中': 4065, '식구': 4066, '놀랐': 4067, '예약': 4068, '타임아웃': 4069, '연출가': 4070, '원래': 4071, '초코': 4072, 'BIFF': 4073, '즐거웠': 4074, '사생활': 4075, '몰라': 4076, '수준급': 4077, '와일드': 4078, '36': 4079, '랩퍼': 4080, '흘러넘쳐': 4081, '중무장': 4082, '동지': 4083, '고영욱': 4084, '고양': 4085, '왕관': 4086, '달구': 4087, '잡티': 4088, '도회': 4089, '군주': 4090, '대구': 4091, '단추': 4092, '도연': 4093, '모티브': 4094, '알려': 4095, '펄럭이': 4096, '허벅지': 4097, '나잇': 4098, '불렀': 4099, '합쳐': 4100, '유전자': 4101, '필라테스': 4102, '어느덧': 4103, '둘러싸여': 4104, '혹은': 4105, 'VS': 4106, '원더': 4107, '골프장': 4108, '보디가드': 4109, '지친': 4110, '살포시': 4111, '걸로': 4112, '드럼': 4113, '∙': 4114, '빠르': 4115, '탐정': 4116, '어야': 4117, '콩': 4118, '윙': 4119, 'VIP': 4120, '어울릴': 4121, '샘해밍턴': 4122, '킨': 4123, '어떻': 4124, '아담': 4125, '당당히': 4126, '요트': 4127, '발리': 4128, '어린이날': 4129, '올린': 4130, '훤히': 4131, '영향력': 4132, '삼광': 4133, '방법': 4134, '치과': 4135, '수술': 4136, '라이': 4137, '다비드': 4138, '로켓': 4139, '..“': 4140, '절세': 4141, 'G': 4142, '꼬마': 4143, '녹음': 4144, '란제리': 4145, '상쾌': 4146, '려': 4147, '박진열': 4148, '개그콘서트': 4149, '복수': 4150, '이토록': 4151, '보람': 4152, '귀여울': 4153, '동글': 4154, '철웅': 4155, '애프터': 4156, '터질': 4157, '호탕': 4158, '봄바람': 4159, '라인업': 4160, '제기차기': 4161, '빌': 4162, '엔터': 4163, '은근히': 4164, '덩어리': 4165, '신성': 4166, '오래': 4167, '천국': 4168, '써': 4169, '본식': 4170, '교차로': 4171, '바쁘': 4172, '미러': 4173, '강수정': 4174, '펴': 4175, '바퀴': 4176, '하고': 4177, '지적': 4178, '매료': 4179, '미트': 4180, '화들짝': 4181, '야생': 4182, '뒤흔드': 4183, '캠': 4184, '직': 4185, '너머': 4186, '닫': 4187, '아모르파티': 4188, '속눈썹': 4189, '문신': 4190, '살랑살랑': 4191, '복장': 4192, '레몬': 4193, '쥬얼': 4194, '기죽': 4195, '작곡': 4196, '윤진': 4197, '난해': 4198, '넬': 4199, '다더니': 4200, '가시나': 4201, '풍경': 4202, '성덕': 4203, '틱': 4204, '육대': 4205, '러닝': 4206, '아야': 4207, '렁': 4208, '콤비': 4209, '조우종': 4210, '교수': 4211, '어흥': 4212, '친분': 4213, '움직여': 4214, '모어': 4215, 'YES': 4216, '\\'..\"': 4217, '훈련병': 4218, '스칼렛': 4219, '꾸며도': 4220, '솜씨': 4221, '중단발': 4222, '정점': 4223, '프랑켄슈타인': 4224, '’,': 4225, '꾸밈없': 4226, '덜': 4227, '야무지': 4228, '왓': 4229, '균': 4230, '몬스터': 4231, '문수인': 4232, '버렸': 4233, '음악중심': 4234, '롯데': 4235, '황재균': 4236, '교통사고': 4237, '해변': 4238, '츠': 4239, '여제': 4240, '팅커벨': 4241, '트레이드': 4242, '↑': 4243, '몫': 4244, '테니스': 4245, '마네': 4246, '은빛': 4247, '자유분방': 4248, '살살': 4249, '이욱': 4250, '상반': 4251, '슬리퍼': 4252, '다재다능': 4253, '쿤': 4254, '지하철': 4255, '깃털': 4256, '시너지': 4257, '못지않': 4258, '정면': 4259, '홀린': 4260, '십': 4261, '더라': 4262, '거침없이': 4263, '구하': 4264, '임': 4265, '림': 4266, '이웃사촌': 4267, '구슬': 4268, '으': 4269, '호스트': 4270, '당나귀': 4271, '시준': 4272, '그립': 4273, '임박': 4274, '임성빈': 4275, '조영인': 4276, '차려': 4277, '대장인': 4278, '컬투쇼': 4279, '진아름': 4280, '선두': 4281, '♥”': 4282, '심각': 4283, '가디건': 4284, '통해': 4285, '가발': 4286, '청담동': 4287, '굿바이': 4288, '겸': 4289, '메피스토': 4290, '힙스터': 4291, '건네': 4292, '나비넥타이': 4293, '공부': 4294, '고음': 4295, '전문가': 4296, '윤홍': 4297, '낭만': 4298, '투모로우': 4299, '언니네': 4300, '목도리': 4301, '햄': 4302, '솜사탕': 4303, '과감히': 4304, '범죄': 4305, '초이스': 4306, '유튜브': 4307, '낳': 4308, '리호': 4309, '휴대폰': 4310, '들으며': 4311, '친한': 4312, '이태은': 4313, '점검': 4314, '셔': 4315, '오붓': 4316, '스물': 4317, '인도네시아': 4318, '韓': 4319, '자국': 4320, '말없이': 4321, '특유': 4322, '새초': 4323, '박사': 4324, '눈코': 4325, '동라': 4326, '착장': 4327, '찹쌀떡': 4328, '자전거': 4329, '전파': 4330, '동희': 4331, '통신': 4332, '엽': 4333, '다다': 4334, '비장': 4335, '화창': 4336, '뽐': 4337, '뒤돌아보': 4338, '어쩌': 4339, '성국': 4340, '캐슬': 4341, '레카': 4342, '비켜': 4343, '스피릿': 4344, '한창': 4345, '돋보인': 4346, '착잡': 4347, '린다': 4348, '실비': 4349, '잔잔': 4350, '는구나': 4351, '할머니': 4352, '전화': 4353, '프란': 4354, '슛': 4355, '시험장': 4356, '철저': 4357, '걸치': 4358, '정규수': 4359, '예뻐서': 4360, '픽': 4361, '꼼꼼': 4362, '미라클': 4363, '리건': 4364, '지니': 4365, '윤승열': 4366, '클래식': 4367, '생존': 4368, '/': 4369, '깜직': 4370, '조준': 4371, '코디': 4372, '계약': 4373, '휘어잡': 4374, '중요': 4375, '동재': 4376, '링링': 4377, '찰랑찰랑': 4378, '왕국': 4379, '텍': 4380, '아주': 4381, '승연': 4382, '무해': 4383, '연': 4384, '구리': 4385, '컬': 4386, '시계': 4387, '지리산': 4388, '노란색': 4389, '공략': 4390, '앓': 4391, '기다릴': 4392, '별빛': 4393, '원탑': 4394, '비오': 4395, '귀여우': 4396, '조용히': 4397, 'ON': 4398, '오토바이': 4399, '송민교': 4400, '는지': 4401, '갖춘': 4402, '동갑내기': 4403, '참가': 4404, 'JH': 4405, '생명': 4406, '스타트': 4407, '무조건': 4408, '본드': 4409, '응답': 4410, '패션왕': 4411, '공원': 4412, '섭섭': 4413, '뇌섹남': 4414, '다정다감': 4415, '슈퍼스타': 4416, '모여': 4417, '죽음': 4418, '다홍': 4419, '토요일': 4420, 'UV': 4421, '돌아온다': 4422, '한계': 4423, '엘사': 4424, '엔터테이너': 4425, '걸쳐도': 4426, '명예': 4427, '윤기': 4428, '와이프': 4429, '욕망': 4430, '자연광': 4431, '훈련': 4432, '동표': 4433, '성열': 4434, '개콘': 4435, '으라': 4436, '터져': 4437, '다니까': 4438, '탄성': 4439, '융': 4440, '부쩍': 4441, '활약': 4442, '비욘세': 4443, 'JYJ': 4444, '기일': 4445, '승자': 4446, '격렬': 4447, '남부': 4448, '아픔': 4449, '기르': 4450, '궁민': 4451, '하시시': 4452, '돌아올': 4453, '난감': 4454, '고홍': 4455, '얘': 4456, '키즈': 4457, '익숙': 4458, '캐리': 4459, '햇빛': 4460, '들어갔': 4461, '피하': 4462, '하늘하늘': 4463, '에스코트': 4464, '식사': 4465, '대위': 4466, '한서희': 4467, '나갑니다': 4468, '레인': 4469, '심서': 4470, '퍼플': 4471, '한방': 4472, '인가요': 4473, '자한': 4474, '방망': 4475, '빈센조': 4476, '반응': 4477, '기사': 4478, '부신': 4479, '정글': 4480, '풀풀': 4481, '아더': 4482, '트렌드': 4483, '문제없': 4484, '맞대': 4485, '♥..': 4486, '상견례': 4487, '맘마': 4488, '카디건': 4489, '판박이': 4490, '식스': 4491, '멈춘': 4492, '꾸몄': 4493, '다소': 4494, '스카프': 4495, '빠': 4496, '心': 4497, '부모': 4498, '쿤스': 4499, '추락': 4500, '감회': 4501, '조직': 4502, 'BC': 4503, '실수': 4504, '분방': 4505, '곱창': 4506, '가문': 4507, '얹': 4508, '슬픔': 4509, '블루칩': 4510, '동동': 4511, '장편': 4512, '털모자': 4513, '지켜': 4514, '목표': 4515, '수사대': 4516, '지검': 4517, '단골손님': 4518, '미션': 4519, '단풍': 4520, '녹인다': 4521, 'That': 4522, '한눈': 4523, 'XOXO': 4524, '카운티': 4525, '결국': 4526, '닥터': 4527, '비껴간': 4528, '반항아': 4529, '실패': 4530, '못하': 4531, '등극': 4532, '든지': 4533, '애슐리': 4534, '복지': 4535, '주일': 4536, '行': 4537, '결정': 4538, '포효': 4539, '걸렸': 4540, '동공': 4541, '173': 4542, '앵글': 4543, '철': 4544, '대전': 4545, '신들린': 4546, '이끌': 4547, 'BAD': 4548, '女': 4549, '웹툰': 4550, '유명': 4551, '결혼식장': 4552, '200': 4553, '결별': 4554, '다져진': 4555, '워라': 4556, '꽈당': 4557, '품절녀': 4558, '말문': 4559, '단골': 4560, '악마': 4561, '바람직': 4562, '퍼즐': 4563, '끊': 4564, '흰색': 4565, '삐딱': 4566, 'P': 4567, '배인': 4568, '박양우': 4569, '리예': 4570, '이만큼': 4571, '관능': 4572, '그리운': 4573, '권리': 4574, '변함없이': 4575, '노랑': 4576, '투척': 4577, '논산': 4578, '발레': 4579, '심금': 4580, '시그': 4581, '육': 4582, '축사': 4583, '웃음기': 4584, '태동': 4585, '베테랑': 4586, '불타오르': 4587, '아프': 4588, '회복': 4589, '칼바람': 4590, '블레스': 4591, '말씀': 4592, '날아가': 4593, '미쳤': 4594, '설화': 4595, '♥`': 4596, '타이거즈': 4597, '잇몸': 4598, '사뭇': 4599, '주체': 4600, '벙거지': 4601, '맏언니': 4602, '비친': 4603, '비행': 4604, '예정': 4605, '빠진다': 4606, '뒤집': 4607, '채홍': 4608, '르': 4609, '배틀': 4610, '증명사진': 4611, '향': 4612, '룸': 4613, '로라': 4614, '할리우드': 4615, '알아보': 4616, '펠트': 4617, \"…'\": 4618, '별밤': 4619, '실격': 4620, '천기': 4621, '동윤': 4622, '해치': 4623, '둔': 4624, '뽕': 4625, '파트너': 4626, '훌륭': 4627, '놓치': 4628, '물오르': 4629, '헬스': 4630, '콤': 4631, '슈퍼맨': 4632, \",,'\": 4633, '홍길동전': 4634, '크로스': 4635, '요조숙녀': 4636, '들어오': 4637, '무아지경': 4638, '아닙니다': 4639, '이뻐': 4640, '노린다': 4641, '짜잔': 4642, '던졌': 4643, '우성': 4644, '인질': 4645, '흔한': 4646, '잠자': 4647, '식당': 4648, '떰즈업': 4649, '금융': 4650, '흑조': 4651, '운전자': 4652, '꽁': 4653, '보따리': 4654, '꿇': 4655, '딜란': 4656, '브람스': 4657, '중앙': 4658, '어울려요': 4659, '찢어진': 4660, '마담': 4661, '트웬티': 4662, '불러요': 4663, '감고': 4664, '음직': 4665, '앗': 4666, '부채': 4667, '불참': 4668, '밤톨': 4669, '약': 4670, '챙겨': 4671, '왕후': 4672, '쏜다': 4673, '셔도': 4674, 'The': 4675, '넷플릭스': 4676, '인천항': 4677, '아이반': 4678, '흡입': 4679, '햄릿': 4680, '하홍': 4681, '크라운': 4682, '증량': 4683, '즐거움': 4684, '무한대': 4685, '깨우': 4686, '한가위': 4687, '아쉽': 4688, '돌아와': 4689, '껌': 4690, '살빼': 4691, '칼라': 4692, '여우상': 4693, '플랜': 4694, '피스': 4695, '부담': 4696, '변하': 4697, '치명타': 4698, '버건': 4699, '폭격기': 4700, '튼': 4701, '언더': 4702, '끌린다': 4703, '헐리우드': 4704, '수고': 4705, '서복': 4706, '직각': 4707, '굿모닝': 4708, '연습생': 4709, '다물': 4710, '영국': 4711, '튜버': 4712, '햄버거': 4713, '세포': 4714, '을까요': 4715, '톰보이': 4716, '쉼표': 4717, '쪘': 4718, '크랙': 4719, '♡': 4720, '뇌': 4721, '솔솔': 4722, '김치': 4723, '1000': 4724, '다람쥐': 4725, '몰락': 4726, '더워': 4727, '마나': 4728, '어때': 4729, '화난': 4730, '라이더': 4731, 'Chu': 4732, '감당': 4733, '떨구': 4734, '바가지': 4735, '묶음': 4736, '그려': 4737, '망': 4738, '타이트': 4739, '캣우먼': 4740, '웅장': 4741, '돕': 4742, '수사': 4743, '반장': 4744, '힘드': 4745, '모공': 4746, '탈퇴': 4747, '못해': 4748, '김병현': 4749, '휴지': 4750, '행운': 4751, '컴': 4752, '우홍길': 4753, '60': 4754, '로페즈': 4755, '산후조리원': 4756, 'Time': 4757, 'kt': 4758, '발레리나': 4759, '스와': 4760, '스티커': 4761, '옳': 4762, '와서': 4763, '삐죽': 4764, '편한': 4765, '줘요': 4766, 'for': 4767, '노려': 4768, 'and': 4769, '가사': 4770, '보낸다': 4771, '드레': 4772, '생일맞이': 4773, '본업': 4774, '빛깔': 4775, '최병길': 4776, '모임': 4777, '하루하루': 4778, '동인': 4779, '모자라': 4780, '줄래': 4781, '흘러내릴': 4782, '히피': 4783, '격한': 4784, '달군': 4785, '능력': 4786, '백결': 4787, '객석': 4788, '공작': 4789, '본캐': 4790, '프레임': 4791, '도플갱어': 4792, '감초': 4793, '동장': 4794, '쫙': 4795, '천문': 4796, '공간': 4797, '기지개': 4798, 'MORE': 4799, '숨겨': 4800, '볼게요': 4801, '파문': 4802, '기회': 4803, '잡초': 4804, '기타리스트': 4805, '달성': 4806, '던져': 4807, '은퇴': 4808, '밀': 4809, '정복': 4810, '밤샘': 4811, '쌈': 4812, '의젓': 4813, '하늘색': 4814, '말썽': 4815, '관록': 4816, '유력': 4817, '큐브': 4818, '낭': 4819, '브레': 4820, '시도': 4821, '결백': 4822, '집단': 4823, '부기': 4824, '녹아내려': 4825, '패왕': 4826, '포머': 4827, '빙': 4828, '서울대': 4829, '..‘': 4830, '수줍음': 4831, '련': 4832, '도전장': 4833, \"'❤\": 4834, '그윈': 4835, '아이라인': 4836, '쌩': 4837, '브랜뉴': 4838, '바꿔치기': 4839, '유부녀': 4840, '나팔바지': 4841, '장영실': 4842, '브라운관': 4843, '프로디': 4844, '포승줄': 4845, '위기': 4846, '베이스': 4847, '이끄': 4848, '해냅니다': 4849, '전도사': 4850, '분노': 4851, '위하': 4852, '부리': 4853, '빼어난': 4854, '~\"…': 4855, '마트': 4856, '민족': 4857, 'E': 4858, '넘친': 4859, '팔찌': 4860, '렌즈': 4861, '함부로': 4862, '예스': 4863, '고마운': 4864, '소름': 4865, '스타디움': 4866, 'of': 4867, '젤리': 4868, '실제': 4869, '청소년': 4870, '\"..\\'': 4871, '최종': 4872, '.’': 4873, '트레져': 4874, '소독': 4875, '야호': 4876, '썰매': 4877, '전시': 4878, '비슷': 4879, '상황': 4880, '끝동': 4881, '동양': 4882, '비수기': 4883, '폭염': 4884, '안대': 4885, '한쪽': 4886, '스캔들': 4887, '할래': 4888, '헐렁': 4889, '이동': 4890, '위니': 4891, '도록': 4892, '배려': 4893, '엑': 4894, '미스터리': 4895, '거뜬': 4896, '청일': 4897, 'GD': 4898, '어딘가': 4899, '김병관': 4900, '[': 4901, '깡': 4902, '인사법': 4903, '불시착': 4904, '정미': 4905, '하얗': 4906, '사막여우': 4907, '행보': 4908, '셀러': 4909, 'MAP': 4910, '와도': 4911, '평소': 4912, '샵': 4913, '파란색': 4914, '거장': 4915, '송라이터': 4916, '선보여': 4917, '신데렐라': 4918, '달래': 4919, '박기훈': 4920, '심취': 4921, '마니': 4922, '롤린': 4923, '덥수룩': 4924, '발톱': 4925, '명화': 4926, '방방': 4927, '무비': 4928, '발칙': 4929, '단상': 4930, '다녀': 4931, '자녀': 4932, '규리': 4933, '당돌': 4934, '원대': 4935, '소방': 4936, '틀': 4937, '시기': 4938, '닥': 4939, '다저': 4940, '유어': 4941, '만두': 4942, '이쁨': 4943, '박지': 4944, 'Day': 4945, '피어나': 4946, '다면': 4947, '양말': 4948, '파이트': 4949, '초롱': 4950, '유안': 4951, '귤': 4952, '공약': 4953, '활활': 4954, '마법사': 4955, '차도남': 4956, '말괄량이': 4957, '여고': 4958, '멜로': 4959, 'Shy': 4960, '내민': 4961, '신병교육대': 4962, '나와요': 4963, '싱크홀': 4964, '블링크': 4965, '후쿠시': 4966, '평화': 4967, '던진': 4968, '송연': 4969, '블레어': 4970, '못할': 4971, '설렐': 4972, '열풍': 4973, '아줌마': 4974, '야속': 4975, '식차': 4976, '체중': 4977, '씨네타운': 4978, '흘러도': 4979, '잊어': 4980, '옷소매': 4981, '더한': 4982, '품절남': 4983, '극한': 4984, '입양': 4985, '300': 4986, '야경': 4987, '사과문': 4988, '호구': 4989, '꽃잎': 4990, '해바라기': 4991, '브라더스': 4992, '식단': 4993, '땅': 4994, '동한': 4995, '한편': 4996, '슈퍼밴드': 4997, '호현': 4998, '줄리엣': 4999, '여도': 5000, '돌아가': 5001, '간이역': 5002, '디테일': 5003, '겨울밤': 5004, '박지은': 5005, '파스텔': 5006, '스키': 5007, '진수': 5008, '심저': 5009, '짝짝': 5010, '대작': 5011, '박스': 5012, '조차': 5013, '확신': 5014, '연모': 5015, '아리따운': 5016, '전해요': 5017, '특이': 5018, '최인': 5019, '드루': 5020, '김경화': 5021, 'us': 5022, '물리학': 5023, '양자': 5024, '슈퍼루키': 5025, '포토제닉': 5026, '바짝': 5027, '려도': 5028, '육감': 5029, '훅': 5030, '공중부양': 5031, 'OOPSIE': 5032, '부러움': 5033, '타일러': 5034, '브라운': 5035, '지휘': 5036, '전쟁': 5037, '사탕': 5038, '~\"...': 5039, '디스크': 5040, '정든': 5041, '마냥': 5042, '망고': 5043, 'BE': 5044, '돛': 5045, '만날': 5046, '깅이': 5047, '동영상': 5048, '의미심장': 5049, '얇': 5050, '스승': 5051, '53': 5052, '끌림': 5053, '여름밤': 5054, '자작곡': 5055, '호기심': 5056, '액세서리': 5057, '회상': 5058, '곤': 5059, '박태인': 5060, '흔적': 5061, '위해서': 5062, '바라본다': 5063, '백배': 5064, '내려': 5065, '눈감': 5066, '클': 5067, '마왕': 5068, '오밀조밀': 5069, '전문': 5070, '막둥이': 5071, '녹색': 5072, '마이티마우스': 5073, 'km': 5074, '아이고': 5075, '국내': 5076, '벌어진': 5077, '체구': 5078, '연상호': 5079, '던진다': 5080, '부끄럽': 5081, '댓': 5082, '애기': 5083, '근': 5084, '풋워크': 5085, '동혁': 5086, '뒷': 5087, 'Yes': 5088, 'in': 5089, '소년단': 5090, '유스케': 5091, '실검': 5092, '대학교': 5093, '골목': 5094, '백발': 5095, '태어나': 5096, '거기': 5097, 'My': 5098, '똘': 5099, '초록색': 5100, '섭렵': 5101, '편하': 5102, '말리': 5103, '여덟': 5104, '묘하': 5105, '도대체': 5106, '하드': 5107, '핫바디': 5108, '목선': 5109, '기술': 5110, '국장': 5111, '병원': 5112, '김조': 5113, '제왕': 5114, '킬러': 5115, '넘겨도': 5116, 'ARMY': 5117, '헤어나올': 5118, '넷': 5119, 'Night': 5120, '근무': 5121, '보냈': 5122, '들어갈': 5123, '사업가': 5124, '트인': 5125, '쓸어내리': 5126, '측': 5127, '초전': 5128, '쓰러지': 5129, '형서': 5130, '축복': 5131, '우홍': 5132, 'O': 5133, '올림픽': 5134, '쏟': 5135, '동유': 5136, '나자': 5137, '꺼': 5138, '고기': 5139, 'ME': 5140, '반반': 5141, '생겨도': 5142, '동근': 5143, '이불': 5144, '한국어': 5145, '격정': 5146, '삼각': 5147, '흐믓': 5148, '잠겨': 5149, '소탈': 5150, '보배': 5151, '길쭉': 5152, '맹수': 5153, '누군지': 5154, '황': 5155, '캐롤': 5156, '등굣길': 5157, '뒤흔든': 5158, '로즈': 5159, '중단': 5160, '토이즈': 5161, '결혼기념일': 5162, '가르': 5163, '숀': 5164, '권병호': 5165, '부케': 5166, '프레디': 5167, '소우타': 5168, '끌리': 5169, '으나': 5170, '광피': 5171, '!\"': 5172, '잰': 5173, '새초롬한': 5174, '섭취': 5175, '새끼': 5176, '나갈': 5177, '게스트': 5178, '시집': 5179, '무거워': 5180, '·\"': 5181, 'KIA': 5182, '움푹': 5183, 'UN': 5184, '눈시울': 5185, '혁명': 5186, '고충': 5187, '탕': 5188, '브런치': 5189, '제라': 5190, '진중': 5191, '한번': 5192, '실천': 5193, 'GO': 5194, '뒤늦': 5195, '연탄': 5196, '잠실야구장': 5197, '아워': 5198, '성형': 5199, 'Ready': 5200, '교차': 5201, '김지희': 5202, '패턴': 5203, '숨기': 5204, '똑똑': 5205, '욕': 5206, '니쿠': 5207, '호다': 5208, '지능': 5209, '릴레이': 5210, '벌어지': 5211, '뿜어내': 5212, '체온': 5213, '핼쑥': 5214, 'st': 5215, '캡틴': 5216, '후끈': 5217, '날아갈': 5218, '꾸벅': 5219, '템': 5220, '북한': 5221, '증명': 5222, '남미': 5223, '빼앗': 5224, '진출': 5225, '모닝': 5226, 'SF': 5227, '느라': 5228, '들꽃': 5229, '스윙': 5230, '감자탕': 5231, \"↑'\": 5232, '브리': 5233, '한가': 5234, '전야': 5235, '시네마': 5236, '｜': 5237, '노련': 5238, '부끄러운': 5239, '그놈': 5240, '몸무게': 5241, 'Got': 5242, '기견': 5243, '재난': 5244, '백야': 5245, '그리워': 5246, '벌금': 5247, '의료진': 5248, '부탁드립니다': 5249, '단연': 5250, '어마': 5251, '신명': 5252, '구르': 5253, '확실히': 5254, '통과': 5255, 'MSG': 5256, '둠': 5257, '자택': 5258, '초이스상': 5259, '힘주': 5260, '오피스': 5261, '홍내': 5262, '우승자': 5263, '서홍': 5264, '컵': 5265, '의견': 5266, '등판': 5267, '웹': 5268, '원신': 5269, '문명': 5270, '차차차': 5271, '영롱': 5272, '윌': 5273, '썸씽': 5274, '그래': 5275, '지요': 5276, '외면': 5277, '섬뜩': 5278, '차렷': 5279, 'Boom': 5280, '베토벤': 5281, '높인': 5282, '기쁘': 5283, '군단': 5284, '태교': 5285, '팬텀': 5286, '박준': 5287, '핸드폰': 5288, '박승준': 5289, '캣츠': 5290, '홈런': 5291, '표명': 5292, '혹시': 5293, '얻': 5294, '54': 5295, '시급': 5296, '작별': 5297, '실형': 5298, '따르릉': 5299, '드려': 5300, '안성현': 5301, '수채화': 5302, '오직': 5303, '인사이드': 5304, '에스라': 5305, '가늠': 5306, '사친': 5307, '초보': 5308, '시축': 5309, '밝혀': 5310, '국방': 5311, '올려': 5312, '필승': 5313, '토로': 5314, '군기': 5315, '서구': 5316, '주부': 5317, '봄밤': 5318, '초월': 5319, '우렁찬': 5320, '백신': 5321, '만수': 5322, '빌라': 5323, '소소': 5324, '뺏': 5325, '파마': 5326, '일요일': 5327, '우천': 5328, '곱슬머리': 5329, '고품격': 5330, '샤인': 5331, '로아': 5332, '마주': 5333, '리듬파워': 5334, '\"...\\'': 5335, '흩뿌리': 5336, '급진': 5337, '뿔': 5338, '흉내': 5339, '검은색': 5340, '방한': 5341, '보여준': 5342, '흐트러짐': 5343, '아픈': 5344, '도면': 5345, '데리': 5346, '쥬': 5347, '윌슨': 5348, '인테리어': 5349, '명탐정': 5350, '가가': 5351, '색깔': 5352, '향연': 5353, '그리웠': 5354, '동온': 5355, '슬픈': 5356, '총회': 5357, '두르': 5358, '마술사': 5359, '빵모자': 5360, '완치': 5361, '방송인': 5362, '그물': 5363, '손언진': 5364, '커리어': 5365, '책임진다': 5366, '보디': 5367, '포물선': 5368, '캉': 5369, '호쾌': 5370, '모찌': 5371, '쁨이': 5372, '땡': 5373, '독립영화': 5374, '반가웠': 5375, '허홍': 5376, '오랜': 5377, '백화점': 5378, '노홍': 5379, '책임': 5380, '★,': 5381, '독수리': 5382, '강풍': 5383, '뭔가': 5384, '멈출': 5385, '더하': 5386, '밀랍': 5387, '생기발랄': 5388, '궁': 5389, '주르륵': 5390, '간지': 5391, '‘’': 5392, '저승': 5393, '길쭉길쭉': 5394, '뽀송뽀송': 5395, '놓칠': 5396, '머무': 5397, '대놓고': 5398, '프리티': 5399, '김태호': 5400, '새로': 5401, '형아': 5402, '부분': 5403, '동다': 5404, '주름': 5405, '호리병': 5406, '국악': 5407, '미학': 5408, '서글서글': 5409, '될까요': 5410, '즐길': 5411, '댄스댄스': 5412, '프린세스': 5413, '버튼': 5414, '설날': 5415, '안일환': 5416, '앙큼': 5417, '반삭': 5418, '너무너무': 5419, '잡힐': 5420, '싱그럽': 5421, '그야말로': 5422, '뉴스': 5423, '온화': 5424, '즐거워요': 5425, '조정식': 5426, '검정': 5427, '면모': 5428, '女': 5429, '나래': 5430, '고비': 5431, '발령': 5432, '종횡': 5433, '센치': 5434, '곳곳': 5435, '까꿍': 5436, '전매특허': 5437, '재차': 5438, '빨개': 5439, '시백': 5440, '대비': 5441, '덥': 5442, '도장': 5443, '막힌': 5444, '메롱': 5445, '돋보여': 5446, '어야지': 5447, '근심': 5448, '트렌치코트': 5449, '인물': 5450, '유난히': 5451, '지옥': 5452, '급하': 5453, '귀티': 5454, '아날로그': 5455, '재경': 5456, '넉넉': 5457, 'Hello': 5458, '분홍색': 5459, '‧': 5460, '상태': 5461, '폴짝폴짝': 5462, '인원': 5463, '..?': 5464, '습니까': 5465, '할지': 5466, '콧수염': 5467, '다녀올게요': 5468, '걸어가': 5469, '무표': 5470, '왼쪽': 5471, '줘야': 5472, '초이': 5473, '말끔': 5474, '여명': 5475, '기뻐': 5476, '몽': 5477, '덩실덩실': 5478, '투비': 5479, 'SDG': 5480, '갈등': 5481, '굵': 5482, '을게요': 5483, '부끄': 5484, '악물': 5485, '서부': 5486, 'SK': 5487, '돌입': 5488, '쇼트커트': 5489, '무당': 5490, '정경미': 5491, '사건': 5492, '지미': 5493, '레트로': 5494, '헌': 5495, '플레임': 5496, '빗물': 5497, '재질': 5498, '섰어요': 5499, '외국인': 5500, '가즈': 5501, '벌금형': 5502, '티격태격': 5503, '맞잡': 5504, '크루': 5505, '외계인': 5506, '지킬': 5507, '데스노트': 5508, '공백': 5509, '야지': 5510, '깡총깡총': 5511, '저음': 5512, '난리': 5513, '파트': 5514, '뿌린': 5515, '순정': 5516, '99': 5517, '파이터': 5518, '기각': 5519, '애플힙': 5520, '맺': 5521, '델': 5522, '계획': 5523, '씁쓸': 5524, '숭': 5525, '의지': 5526, '접': 5527, '라일락': 5528, '항소': 5529, '마흔': 5530, '고소인': 5531, '브릿지': 5532, '초고속': 5533, '아닌가요': 5534, '까라': 5535, '무빙': 5536, '유림': 5537, '‥♥': 5538, '학번': 5539, '밍': 5540, '1976': 5541, '정단영': 5542, '씬': 5543, '토반': 5544, '조라': 5545, '파서블': 5546, '동아': 5547, '밭': 5548, '망토': 5549, '립도': 5550, '미공개': 5551, '점프수트': 5552, '독립군': 5553, 'What': 5554, '판다': 5555, '홍원찬': 5556, '연한': 5557, '버릴': 5558, '들려': 5559, '고명성': 5560, '다방': 5561, '소서': 5562, '토': 5563, '아닌데': 5564, '려나': 5565, '뽀글': 5566, '빵꾸': 5567, '옥상': 5568, '들어간': 5569, '아프간': 5570, '입고도': 5571, '잘랐': 5572, '태웅': 5573, '가너': 5574, '독': 5575, '태사자': 5576, '코미디언': 5577, '쭈쭈': 5578, '토피아': 5579, '의무': 5580, '태극기': 5581, '따라잡': 5582, '로망': 5583, '국회의원': 5584, '창문': 5585, '천상지희': 5586, '명절': 5587, '김환': 5588, '캐디': 5589, '캣츠아이': 5590, '\\'\"': 5591, '모방': 5592, '잠겼': 5593, '빗속': 5594, '부드러워': 5595, '박성근': 5596, 'C': 5597, '사이먼': 5598, '엔오': 5599, '1500': 5600, '플렉스': 5601, '흔들려': 5602, '채널': 5603, '워': 5604, '탤런트': 5605, '무섭': 5606, '파이널': 5607, '퀴즈': 5608, '칫': 5609, '양의지': 5610, '엄친아': 5611, '모던': 5612, '꽃송이': 5613, '성탄': 5614, '토일': 5615, '핸즈': 5616, '들어와': 5617, '탄소': 5618, '시아': 5619, '사관': 5620, '딱지': 5621, '조프': 5622, '폭탄': 5623, '살려서': 5624, '갈래머리': 5625, '서언': 5626, '퍼지': 5627, '누아르': 5628, '키치': 5629, '억울': 5630, '정순주': 5631, '줄리엔강': 5632, '스케일': 5633, '누워서': 5634, '윈': 5635, '페인팅': 5636, '소파': 5637, '룰라': 5638, '상승': 5639, '드로': 5640, 'Sneakers': 5641, '환지': 5642, '황후': 5643, '꺼내': 5644, '밀리터리': 5645, '비키니': 5646, '이루': 5647, '대문자': 5648, '뛰어난': 5649, '여권': 5650, '정남': 5651, '점심': 5652, '버뮤다': 5653, '만지': 5654, '아름다워진': 5655, 'Up': 5656, '포크': 5657, '동거': 5658, '컬러풀': 5659, '배기': 5660, '앙상': 5661, '믹스': 5662, '래요': 5663, '헬멧': 5664, '볼록': 5665, '구만': 5666, '나이스': 5667, '장인희': 5668, '실전': 5669, '유광': 5670, '애잔': 5671, '티키': 5672, '찾아갑니다': 5673, '타카': 5674, '저세상': 5675, '구자': 5676, '마우스': 5677, '머플러': 5678, 'god': 5679, '리얼리티': 5680, '좌우': 5681, 'Me': 5682, '달인': 5683, '산행': 5684, '고등': 5685, '어렵': 5686, 'CP': 5687, '다큐': 5688, '옵니다': 5689, '고르': 5690, '신선놀음': 5691, '58': 5692, '새콤달콤': 5693, '단단': 5694, '허쉬': 5695, '심수': 5696, '최근': 5697, '해야지': 5698, '영락없': 5699, '소다': 5700, '집행': 5701, '섬마을': 5702, '껴안': 5703, '밤샜': 5704, '한숨': 5705, '구미': 5706, '트러블': 5707, '태형': 5708, '필로폰': 5709, 'loryUS': 5710, '한가요': 5711, '공세': 5712, '안전': 5713, '나시': 5714, '날아라': 5715, '벌새': 5716, '둘러': 5717, '살리에리': 5718, '미용실': 5719, '뚱': 5720, '도중': 5721, '반사': 5722, '빈틈없이': 5723, '돌아간': 5724, '폭우': 5725, '자화자찬': 5726, '화장실': 5727, '예비역': 5728, '신어': 5729, '떨림': 5730, '엽기': 5731, '에메랄드': 5732, '상체': 5733, '심정': 5734, '놨다': 5735, '0': 5736, '웃기': 5737, '엘비스': 5738, '직진': 5739, '트렌치': 5740, '파도': 5741, '산발': 5742, '한다면': 5743, \"~~'\": 5744, '노규': 5745, '삼진': 5746, '레이': 5747, '여운': 5748, '아기자기': 5749, '최다': 5750, '어느새': 5751, '펼쳐': 5752, '슬로': 5753, '침묵': 5754, '음주': 5755, '전혀': 5756, '채워': 5757, '블랑': 5758, '시홍': 5759, '찾아온': 5760, '임산부': 5761, '빙의': 5762, '임영주': 5763, '모르가': 5764, '펑키': 5765, '상큼상큼': 5766, '관전': 5767, '로빈': 5768, '트립': 5769, '500': 5770, '패밀리': 5771, '코스튬': 5772, '잭': 5773, '숨겨둔': 5774, '버킷': 5775, '동서': 5776, '그래퍼': 5777, '부를래': 5778, 'Like': 5779, '교': 5780, '아누팜': 5781, '질주': 5782, '동양미': 5783, '면회': 5784, '상호': 5785, '철저히': 5786, '쌤': 5787, '새긴': 5788, '넘쳐흘러': 5789, '붓': 5790, '동심': 5791, '낮잠': 5792, '아름': 5793, '\"#': 5794, '수신호': 5795, '전성시대': 5796, '평균': 5797, '반팔': 5798, '펑펑': 5799, '마중': 5800, '붙이': 5801, '다둥': 5802, '스틸': 5803, '두렵': 5804, '교장': 5805, '터진다': 5806, '울먹이': 5807, '보좌관': 5808, '합': 5809, '백두산': 5810, '해군': 5811, '고서': 5812, '사이드암': 5813, '헝클어진': 5814, '차일드': 5815, '그래서': 5816, '궁금증': 5817, '다녀와': 5818, '금의환향': 5819, '블론디': 5820, '시인': 5821, '넘겨요': 5822, '무겁': 5823, '백돌': 5824, '삐삐': 5825, 'SO': 5826, '학년': 5827, '숨쉬': 5828, '김우리': 5829, '득': 5830, '추천': 5831, '고고': 5832, '높여': 5833, '생길': 5834, '갓파더': 5835, '몰아주': 5836, '팔다리': 5837, '패티': 5838, '좋아하': 5839, '더우먼': 5840, '야외': 5841, '행진': 5842, '줍': 5843, '싱글즈': 5844, '티타임': 5845, '레스토랑': 5846, '뾰족': 5847, '부비': 5848, '둬': 5849, '녹여': 5850, '로봇': 5851, '스파이': 5852, '전광판': 5853, '경고': 5854, '라이돌': 5855, '쿠': 5856, '결혼반지': 5857, '아낌없이': 5858, '결성': 5859, '정의': 5860, '유혹자': 5861, '멜빵': 5862, '땡큐': 5863, 'NBC': 5864, '니스': 5865, '사연': 5866, '릭': 5867, '탁월': 5868, '스킨': 5869, '×': 5870, '사단': 5871, '가늘': 5872, '시하': 5873, '무용': 5874, '도움': 5875, '장항준': 5876, '으리': 5877, '바빠': 5878, '승천': 5879, '서핑': 5880, '섬섬옥수': 5881, '호명': 5882, '~?': 5883, '반사판': 5884, '음성': 5885, '미세먼지': 5886, '뎐': 5887, '아웃': 5888, '안젤리나': 5889, '스텝': 5890, '드러머': 5891, \"'…'\": 5892, '성량': 5893, '들썩들썩': 5894, '왼손': 5895, '도와': 5896, '네이슨': 5897, '야윈': 5898, '알베르토': 5899, '흩': 5900, '박세연': 5901, '콕콕': 5902, '.‘': 5903, '서가': 5904, '바이올렛': 5905, '히': 5906, '납시': 5907, '상기': 5908, '김밥': 5909, '넘어진': 5910, '정종철': 5911, '머리숱': 5912, '폈': 5913, '한송이': 5914, '당겨도': 5915, '어릴': 5916, '한별': 5917, '가득찬': 5918, '폭주': 5919, '소녀단': 5920, '환히': 5921, '댓글': 5922, '펭': 5923, '파파': 5924, '크라잉넛': 5925, '두른': 5926, '감자': 5927, '동갑': 5928, '희랑': 5929, '역력': 5930, '도무시': 5931, '아름다움의': 5932, '연륜': 5933, '죽이': 5934, '절규': 5935, '플레': 5936, '힘겨운': 5937, '야옹': 5938, '체력': 5939, '시포': 5940, '앞치마': 5941, '마초': 5942, '외침': 5943, '맞춰요': 5944, '피로연': 5945, '자락': 5946, '로민': 5947, '연극배우': 5948, '드레서': 5949, '한마디': 5950, '제압': 5951, '험난': 5952, '루팡': 5953, '완전히': 5954, '우와': 5955, '툭': 5956, '바뀌': 5957, '콜드': 5958, '거대': 5959, '참고인': 5960, '정답': 5961, '흘리': 5962, '개나리': 5963, '뜻밖': 5964, '덕화': 5965, '맞췄': 5966, '강사': 5967, '조장': 5968, '브이넥': 5969, '아재': 5970, '아임': 5971, '어려워': 5972, '밤비': 5973, '쁜': 5974, '싸움': 5975, '패키지': 5976, '미쓰라': 5977, '전부': 5978, '애중': 5979, '유죄': 5980, '子': 5981, '공격': 5982, '＋': 5983, '맴': 5984, '쉴': 5985, '아끼': 5986, '심호흡': 5987, '최수형': 5988, '까이': 5989, '될까': 5990, '쉰다': 5991, '아마조네스': 5992, '시켜': 5993, '군더더기': 5994, '놀러오': 5995, '외톨이': 5996, '헬': 5997, '돈스파이크': 5998, '할래요': 5999, '중전': 6000, '개구리': 6001, '막강': 6002, '바람아': 6003, '개구진': 6004, '보물': 6005, '철인': 6006, '숨긴': 6007, '포츠': 6008, '힘껏': 6009, '라스': 6010, '홍대': 6011, '치아': 6012, '정통파': 6013, '마술': 6014, '생일날': 6015, '이끈': 6016, '암': 6017, '판사': 6018, '범상': 6019, '이걸': 6020, '당근': 6021, '매니': 6022, 'GV': 6023, '떨어져': 6024, '옹산': 6025, '비대': 6026, '대회': 6027, '발전': 6028, '지각': 6029, '구홍': 6030, '환불': 6031, '뱃살': 6032, '마이노': 6033, '썸남': 6034, '서공': 6035, '반항': 6036, '오른쪽': 6037, '도톰': 6038, '얼른': 6039, '웁': 6040, 'OF': 6041, 'MESSAGE': 6042, '연결': 6043, '학민': 6044, '패러디': 6045, '마라': 6046, '스트릿': 6047, '내공': 6048, '맘속': 6049, '때리': 6050, '에이': 6051, '북극곰': 6052, '엉': 6053, '바꾼': 6054, '로디': 6055, '금요일': 6056, '탐스러운': 6057, 'XEN': 6058, '멋질': 6059, '한양도성': 6060, '지화자': 6061, '보헤미안': 6062, '환경': 6063, '을래': 6064, '취소': 6065, '따위': 6066, '포미': 6067, '스포일러': 6068, '타인': 6069, '캐리어': 6070, '가오': 6071, '가까운': 6072, '죽였': 6073, '각오': 6074, '헬로': 6075, 'HK': 6076, '항공': 6077, '지지': 6078, '크리': 6079, '자판기': 6080, '울려': 6081, '가려진': 6082, '스로': 6083, '속삭임': 6084, '어깨춤': 6085, '바둑판': 6086, '일본인': 6087, '세레': 6088, '찜': 6089, '국적': 6090, '녹음실': 6091, '박해': 6092, '스테이시': 6093, '이글스': 6094, '건아': 6095, '살쪘': 6096, '교육': 6097, '펙': 6098, '김유': 6099, '전직': 6100, '기념식': 6101, 'Or': 6102, '매드': 6103, '하품': 6104, '좌완': 6105, '다짐': 6106, '허미영': 6107, 'BIAF': 6108, '평온': 6109, '초과근무': 6110, '스포츠': 6111, '저돌': 6112, '틱톡': 6113, '터줏대감': 6114, '녹인': 6115, '주방': 6116, '첫째': 6117, '주차장': 6118, '부홍': 6119, '쌓인': 6120, '탓': 6121, '심하': 6122, '흔들린': 6123, '성홍': 6124, '게이트': 6125, '스마': 6126, '격려': 6127, '애월': 6128, '흡': 6129, '만수르': 6130, '낼름': 6131, '다가오': 6132, '번쩍번쩍': 6133, '득표': 6134, '적극': 6135, '슈트로': 6136, '작사가': 6137, 'ONE': 6138, '속삭이': 6139, '스위치': 6140, '만감': 6141, '라틴': 6142, '눈가': 6143, '발찌': 6144, '장형윤': 6145, '학도병': 6146, '정규직': 6147, '펄럭': 6148, '.\"\\'': 6149, '중절모': 6150, '청소': 6151, '황인뢰': 6152, '아이드': 6153, '명랑': 6154, '집안': 6155, '조교': 6156, '역자': 6157, '뚝': 6158, '눌러': 6159, '손등': 6160, '햇': 6161, '탄력': 6162, '봉투': 6163, '싸인': 6164, 'NC': 6165, '모교': 6166, '다가가': 6167, '학창': 6168, '짐승': 6169, '정체': 6170, '뱃속': 6171, '모욕': 6172, '화신': 6173, '상의': 6174, '협업': 6175, '군악대': 6176, '삐딱선': 6177, '프레시': 6178, '귀여워도': 6179, '위아래': 6180, '친해요': 6181, '이틀': 6182, '과자': 6183, '짝꿍': 6184, 'you': 6185, '향수': 6186, '완벽히': 6187, 'HOME': 6188, '가슴골': 6189, '할라': 6190, '불금': 6191, '장군': 6192, '넘어질': 6193, '달릴': 6194, '직관': 6195, '돌격': 6196, '대장금': 6197, '맥스': 6198, '야간': 6199, '최욱': 6200, '첫날': 6201, '숨겨왔': 6202, 'We': 6203, '물들': 6204, '종잇장': 6205, '몰래': 6206, '재간둥이': 6207, '침착': 6208, '수원': 6209, '거니': 6210, '쓰이': 6211, '컨디션': 6212, '뱀': 6213, '원샷': 6214, '자주': 6215, '돌상': 6216, '춤출': 6217, '스테이': 6218, '푸들': 6219, '어딨': 6220, '개천': 6221, '세민': 6222, '순한': 6223, '절묘': 6224, '관리비': 6225, '빅터': 6226, '공백기': 6227, '도선': 6228, '천생': 6229, '스티븐': 6230, '애쉬': 6231, '갈게요': 6232, '간동': 6233, '두건': 6234, '아파트': 6235, '고치': 6236, '장애': 6237, '끌려': 6238, '피칭': 6239, '동구': 6240, '살구': 6241, '촬': 6242, '내게로': 6243, 'Moment': 6244, 'riB': 6245, '미담': 6246, '하이픈': 6247, '스니커즈': 6248, '갑작스러운': 6249, '졌어요': 6250, '작아진': 6251, '편애': 6252, '음중': 6253, '파크': 6254, '다국적': 6255, '…\"': 6256, '쌀쌀': 6257, '진격': 6258, '~!’': 6259, '쾌': 6260, 'MAX': 6261, '땡땡이': 6262, '지사': 6263, '넘긴': 6264, '수련': 6265, '장점': 6266, '버드': 6267, '답답': 6268, '약간': 6269, '돌려': 6270, '손목': 6271, '예상': 6272, '공익': 6273, '김원중': 6274, '해명': 6275, '산소': 6276, '방학': 6277, '마스': 6278, '치료': 6279, '팬클럽': 6280, '홍매': 6281, '물개': 6282, '쓸쓸': 6283, '외제': 6284, '바꿨': 6285, '어린애': 6286, '초특급': 6287, '기안': 6288, '♡\"': 6289, '비행기': 6290, '유령': 6291, '집서': 6292, '재즈': 6293, '미대': 6294, '신입생': 6295, '생글생글': 6296, '만한': 6297, '친남매': 6298, '빗': 6299, '그런가': 6300, '추워서': 6301, '비지': 6302, '세우': 6303, '돌진': 6304, '80': 6305, '학당': 6306, '최대한': 6307, '퍼레이드': 6308, '도미닉': 6309, '거지': 6310, '초승달': 6311, '새콤': 6312, '최준': 6313, '지치': 6314, '고뇌': 6315, '부채춤': 6316, '출소': 6317, '산장': 6318, '뒤집어쓰': 6319, '다큐멘터리': 6320, 'DMZ': 6321, '포차': 6322, '갖췄': 6323, '팀장': 6324, '김재': 6325, 'DAY': 6326, '상념': 6327, '숨겨진': 6328, '살벌': 6329, '일품': 6330, '이너': 6331, '찰랑거리': 6332, '일까요': 6333, '갈비뼈': 6334, '공기': 6335, 'Why': 6336, 'SIS': 6337, 'AOMG': 6338, '그릇': 6339, '조풍': 6340, '송치': 6341, '히든': 6342, '배상재': 6343, '평': 6344, '미드': 6345, '감춘': 6346, '무쌍': 6347, '폴로': 6348, 'Ride': 6349, '선발': 6350, '소수': 6351, '낼': 6352, '말라': 6353, '집합소': 6354, '오지': 6355, '폴라로이드': 6356, '독점': 6357, '베어스': 6358, '보일': 6359, '이선': 6360, '제목': 6361, '상대': 6362, '최재웅': 6363, '꼬옥': 6364, '체포': 6365, '변': 6366, '옆구리': 6367, '갈색': 6368, '이다': 6369, '손해': 6370, '야스코': 6371, '전주': 6372, '묵묵히': 6373, '택시': 6374, '예전': 6375, '군필': 6376, '열린': 6377, '행동': 6378, '농구공': 6379, '하오': 6380, '전후': 6381, '시무룩': 6382, '아마데우스': 6383, '낯설': 6384, '구원': 6385, '배웠': 6386, '황하나': 6387, '책상': 6388, '파묻혀': 6389, '새싹': 6390, '빠져나가': 6391, '선보인': 6392, '이시가미': 6393, '홀연': 6394, '해결': 6395, '달밤': 6396, '복잡': 6397, '터널': 6398, '위생': 6399, '안타까운': 6400, '검찰청': 6401, '휘청': 6402, '취': 6403, '3000': 6404, '떠난': 6405, '스마트': 6406, '보낼': 6407, '최원섭': 6408, '챙겼': 6409, '음악가': 6410, '도박장': 6411, '59': 6412, 'SG': 6413, '너스': 6414, '책임질': 6415, '요가': 6416, '감상': 6417, '두근': 6418, '쾌거': 6419, '마타': 6420, '신비주의': 6421, '프리미어': 6422, '장수': 6423, '풀린': 6424, '낀': 6425, 'JIMFF': 6426, '인디': 6427, '보름달': 6428, '차관': 6429, '감춰': 6430, '최면': 6431, '외식': 6432, '돌리': 6433, '갯마을': 6434, 'SSG': 6435, '백골': 6436, '차범근': 6437, '쿠시': 6438, '김홍길': 6439, '올립니다': 6440, '송도': 6441, '사양': 6442, '시샘': 6443, '멋졌': 6444, '협': 6445, '물들이': 6446, '왕세자': 6447, '카운터': 6448, '어린이재단': 6449, '건배': 6450, '기자상': 6451, '으셨': 6452, '호소': 6453, '뺄': 6454, '진정한': 6455, '박현선': 6456, '소피': 6457, '숙': 6458, '피해자': 6459, '금방': 6460, '냐고': 6461, '저기': 6462, '최동욱': 6463, '문워크': 6464, '했었': 6465, '대부': 6466, '신고식': 6467, '갑작스런': 6468, '걸어온다': 6469, '일리': 6470, '집사부': 6471, '작심': 6472, '성희롱': 6473, '고마움': 6474, '눈꽃': 6475, '가렸': 6476, '적응': 6477, '쇼리': 6478, '무마': 6479, '도그': 6480, '민간인': 6481, '존스': 6482, '노라': 6483, '귀한': 6484, '몰린': 6485, '임할': 6486, '범주': 6487, '각양각색': 6488, '훔쳐': 6489, 'N': 6490, '눌러쓰': 6491, '오해': 6492, '활기차': 6493, '일찍': 6494, '김선근': 6495, '둘러싸인': 6496, '어나더': 6497, '주안': 6498, '어유': 6499, '분홍빛': 6500, '겹': 6501, '마리퀴리': 6502, '고왕': 6503, '착해': 6504, '활력': 6505, '실크': 6506, '동브': 6507, '날아오르': 6508, '토익': 6509, '결실': 6510, '참가자': 6511, '묵묵': 6512, '천생연분': 6513, '치맥': 6514, '..♥': 6515, '실력자': 6516, '007': 6517, '불편': 6518, '솔직': 6519, '언급': 6520, '삽시다': 6521, '밥상': 6522, 'Apple': 6523, '얼쑤': 6524, '태가': 6525, '집합': 6526, '장가가': 6527, \"%'\": 6528, '개회식': 6529, '내림': 6530, '반란': 6531, '생성': 6532, '본부': 6533, '위협': 6534, '의원': 6535, '간택': 6536, '모른다': 6537, '쳐다': 6538, 'No': 6539, '~?’': 6540, '손동작': 6541, '이색': 6542, '점령': 6543, '살며시': 6544, '깡마른': 6545, '플러스': 6546, '이호': 6547, '얘기': 6548, '추리닝': 6549, '학원': 6550, '창영': 6551, '연중무휴': 6552, '유엔': 6553, '미끄럼틀': 6554, '그라': 6555, '최대': 6556, '나린': 6557, '싹뚝': 6558, '일단': 6559, '할수록': 6560, '투피스': 6561, '새색시': 6562, '영구': 6563, '세계사': 6564, '비트': 6565, '그루브': 6566, '비대칭': 6567, '늑대소년': 6568, '172': 6569, '↔': 6570, '공복': 6571, '팍팍': 6572, '이질감': 6573, '움': 6574, '털썩': 6575, '조충현': 6576, '예쁠까': 6577, '펜싱': 6578, '야성': 6579, '식서': 6580, '백년가약': 6581, '따끈따끈': 6582, '불새': 6583, '홀린다': 6584, '원정대': 6585, '기색': 6586, '뿡': 6587, '토닥토닥': 6588, '샤샤': 6589, '외조': 6590, '더운': 6591, '동문': 6592, '열전': 6593, '단짝': 6594, '흘러내린': 6595, '신과': 6596, '쉼': 6597, '디리': 6598, '달걀': 6599, '겁': 6600, '기복': 6601, '각도기': 6602, \"'-\": 6603, '비추': 6604, '표범': 6605, '텀블러': 6606, '울상': 6607, '장남': 6608, '닦': 6609, '뽀글뽀글': 6610, '꽃바구니': 6611, '주문': 6612, '치러': 6613, '책임지': 6614, '마실': 6615, '리액션': 6616, '�': 6617, '캡': 6618, '론': 6619, '시스터즈': 6620, '띠': 6621, '신경전': 6622, '당장': 6623, '개짓': 6624, '내음': 6625, '날릴': 6626, '조상': 6627, '평강공주': 6628, '맨날': 6629, '커요': 6630, '치유': 6631, '릿': 6632, '스스로': 6633, '냉동': 6634, '새틴': 6635, '사우스': 6636, '지배자': 6637, '알린': 6638, '국밥': 6639, '옛날': 6640, '건물': 6641, '태어난': 6642, '존엄': 6643, '독차지': 6644, '굴곡': 6645, '거품': 6646, '딥': 6647, '190': 6648, '이근': 6649, '성대': 6650, '샌드위치': 6651, '서늘': 6652, '예준': 6653, '결방': 6654, '트윙클': 6655, '콧구멍': 6656, '색안경': 6657, '똑부러지': 6658, '여차': 6659, '복싱': 6660, '모음': 6661, '그럼': 6662, '김연경': 6663, '수발': 6664, '모금': 6665, 'by': 6666, '지켜보': 6667, '똥강아지': 6668, '멜빵바지': 6669, '코치': 6670, '꼴리': 6671, 'INSIDE': 6672, '방어': 6673, '장하나': 6674, '서나': 6675, '정비': 6676, '리샤': 6677, '남남': 6678, '기다림': 6679, '한없이': 6680, 'OUT': 6681, '~~’': 6682, '런던': 6683, '빈티지': 6684, '휴': 6685, '포티': 6686, '특기': 6687, 'SET': 6688, '정중': 6689, 'SES': 6690, '케렌': 6691, '건가요': 6692, '수장': 6693, '이쪽': 6694, '서브': 6695, '편성': 6696, 'PART': 6697, '보안': 6698, '화촉': 6699, '취했': 6700, '돈독': 6701, '나눠': 6702, '다이아몬드': 6703, '오드': 6704, '스티브': 6705, '달려가': 6706, '활발': 6707, '멋쩍': 6708, '메들리': 6709, '일세': 6710, '개그계': 6711, '막춤': 6712, '재보궐선거': 6713, '찌릿찌릿': 6714, '훗': 6715, '헤라': 6716, '독서': 6717, '초긴장': 6718, '얍': 6719, '내사': 6720, '뉴시스': 6721, '앞세운': 6722, '한지': 6723, '대가': 6724, '일병': 6725, '조용': 6726, 'YOU': 6727, '확장': 6728, '전역식': 6729, '랜디': 6730, '얼리': 6731, '말려': 6732, '신의': 6733, '로우': 6734, '가져': 6735, '트레이너': 6736, '김홍탁': 6737, '질의': 6738, '쥔': 6739, '부리부리': 6740, '사투리': 6741, '누르': 6742, '탬버린': 6743, '말죽거리': 6744, '한의사': 6745, '한판': 6746, '김용국': 6747, '퇴소': 6748, '탱크톱': 6749, '팝핀': 6750, '장성': 6751, '유애': 6752, '경건': 6753, 'On': 6754, '돼지': 6755, '장소': 6756, '차기': 6757, '피겨': 6758, '어빈': 6759, '거실': 6760, '폭설': 6761, '초근': 6762, '청첩장': 6763, '범인': 6764, '훨씬': 6765, '한우': 6766, '나이트': 6767, '안절부절': 6768, '곽지영': 6769, '콘트': 6770, 'Your': 6771, 'For': 6772, '모범생': 6773, '~♥’': 6774, '자동차': 6775, '색도': 6776, '홀로서기': 6777, '뒤돌': 6778, '노래방': 6779, '앵커': 6780, '대요': 6781, '찰떡궁합': 6782, '사이다': 6783, '코스모': 6784, '경기장': 6785, '놀이터': 6786, '동발': 6787, '이상무': 6788, '따르': 6789, '싸매': 6790, '수요일': 6791, '욕심': 6792, '초커': 6793, '박동수': 6794, '영자': 6795, '세계관': 6796, '샤우': 6797, '송경아': 6798, '전투': 6799, '다가와': 6800, '이가흔': 6801, '성난': 6802, '캣': 6803, '타운': 6804, '영수증': 6805, '거침': 6806, '치이': 6807, 'ACA': 6808, '교실': 6809, '리쉬': 6810, '레이즈': 6811, '내려왔': 6812, '소설': 6813, '직업': 6814, '짚': 6815, '눈치': 6816, '음료수': 6817, '소박': 6818, '받으': 6819, '리에': 6820, '결심': 6821, '달라지': 6822, '단란': 6823, '이동엽': 6824, '지나가': 6825, '켠': 6826, '창피': 6827, '쓰릴': 6828, '무도': 6829, '변했': 6830, '아이템': 6831, '만인': 6832, '윤혜진': 6833, '축의금': 6834, '지난': 6835, '잘라': 6836, '토드': 6837, '떨어졌': 6838, '그리움': 6839, '지영': 6840, '손주': 6841, '거의': 6842, '브래드': 6843, '알아볼': 6844, '퇴사': 6845, '검색어': 6846, '루비': 6847, '귀작': 6848, '나간': 6849, '내한': 6850, '차가워': 6851, '올렸': 6852, '데미안': 6853, '구석': 6854, '그동안': 6855, '맞서': 6856, '여라': 6857, '판타': 6858, '선행': 6859, '동모': 6860, '웬': 6861, '걸친': 6862, '골퍼': 6863, '필감성': 6864, '프레스': 6865, '찐한': 6866, 'NEW': 6867, '무니': 6868, '신호탄': 6869, '예술가': 6870, '지운': 6871, '김태': 6872, '카우보이': 6873, '코러스': 6874, '매끄러운': 6875, '기립': 6876, '외국': 6877, '부녀': 6878, '신체': 6879, '포터': 6880, '꾸준': 6881, '타로': 6882, '자요': 6883, '빨래판': 6884, '심창민': 6885, '서사': 6886, '액터': 6887, '‥‘': 6888, '다정히': 6889, '이따': 6890, '샴푸': 6891, '비티': 6892, '맡기': 6893, '겹경사': 6894, '상무': 6895, '동물원': 6896, '아바타': 6897, '크레': 6898, '가지런': 6899, 'FNC': 6900, '뜯': 6901, '과장': 6902, '내내': 6903, '네임': 6904, '가라': 6905, '오디션': 6906, '고쳐': 6907, '아우': 6908, '친해': 6909, '단편': 6910, '사리': 6911, '미복': 6912, '육군훈련소': 6913, '인기가요': 6914, '재석': 6915, 'LP': 6916, '자본주의': 6917, '이긴': 6918, '꾹꾹': 6919, '이기자': 6920, '번호': 6921, '비둘기': 6922, '깎': 6923, '이성동': 6924, '외할머니': 6925, '삼청동': 6926, '레슬리': 6927, '장구': 6928, '트위스트': 6929, '돼서': 6930, '공채': 6931, '배터리': 6932, 'ㅋㅋ': 6933, '귀족': 6934, '보증': 6935, '트위드': 6936, '~♥': 6937, '지난해': 6938, '백댄서': 6939, '스루': 6940, '주위': 6941, '물들인': 6942, '구독자': 6943, '시려': 6944, '정혁기': 6945, '뭇': 6946, '투애니원': 6947, '루프': 6948, '얼굴선': 6949, '국회': 6950, '심야': 6951, '전미라': 6952, '미술': 6953, '흐': 6954, '표장': 6955, '어리': 6956, '욕구': 6957, 'with': 6958, '리티': 6959, '녹일': 6960, '조끼': 6961, '고깔모자': 6962, '아름다워요': 6963, '는다더니': 6964, '선장': 6965, '휘감': 6966, '마미손': 6967, '떠났': 6968, '더듬이': 6969, '은단': 6970, '정경천': 6971, '옴': 6972, '치열': 6973, '연락': 6974, '어깨선': 6975, '바이든': 6976, '아모르': 6977, '패트릭': 6978, '문득': 6979, '빛낼': 6980, '대리': 6981, '과일': 6982, '랄라': 6983, '전선': 6984, '듬': 6985, '위화감': 6986, '위트': 6987, '몰라볼': 6988, '개인기': 6989, '초토화': 6990, '카레': 6991, '극대': 6992, '매튜': 6993, '푸르른': 6994, '밀짚모자': 6995, '메가': 6996, '파마머리': 6997, '안현수': 6998, '샐러드': 6999, '듯이': 7000, '네온': 7001, '父': 7002, '다워': 7003, '해냈': 7004, '神': 7005, '피쉬': 7006, '전통': 7007, '투성이': 7008, '동랑': 7009, '흔든다': 7010, '봄빛': 7011, '뺐': 7012, '헤드셋': 7013, '쑥스럽': 7014, '택배': 7015, '여름향기': 7016, '인파': 7017, '상업': 7018, '장사': 7019, '새러': 7020, '가끔': 7021, '놀라워': 7022, '닿': 7023, '체인지': 7024, '쑥쓰러운': 7025, '임시': 7026, '준지': 7027, '지켜줄': 7028, '레인저': 7029, '검역': 7030, '얼핏': 7031, '내려도': 7032, '친형제': 7033, '에겐': 7034, '이끌려': 7035, \"·'\": 7036, '쥐띠': 7037, '들려주': 7038, '김장': 7039, '시킬': 7040, '센타': 7041, '므파탈의': 7042, '내겐': 7043, '긴급': 7044, '쿵쿵': 7045, '유행': 7046, '드세요': 7047, '박희연': 7048, '레고': 7049, '동파': 7050, '겨울비': 7051, '다림': 7052, '발란스': 7053, '섞인': 7054, '청와대': 7055, '모아서': 7056, '줘야지': 7057, '해피니스': 7058, '신생아': 7059, '어사': 7060, '분출': 7061, '다연': 7062, '섰': 7063, '고사장': 7064, '장님': 7065, '교포': 7066, '몬디': 7067, '글썽': 7068, '옹기종기': 7069, '..’': 7070, '다래끼': 7071, '보인': 7072, '켓': 7073, '여대': 7074, '총사': 7075, '따라가': 7076, '앵무새': 7077, '팡파레': 7078, '케미스트리': 7079, '관심사': 7080, '뜨거워': 7081, '태혜영': 7082, '진입': 7083, '팍': 7084, '믿겨': 7085, '남동생': 7086, '질서': 7087, '어떠': 7088, '칭': 7089, '드릴께요': 7090, '아아': 7091, '선호': 7092, '준수': 7093, '모를': 7094, '서점': 7095, '짜장면': 7096, '수박': 7097, '살려': 7098, '귀재': 7099, '싣': 7100, '다문화가정': 7101, '매덕스': 7102, '시민': 7103, '공대': 7104, '옆집': 7105, '!!': 7106, '스웨터': 7107, '졸리': 7108, '계세요': 7109, '시즈니': 7110, '뇨': 7111, '신남': 7112, '수달': 7113, '성격': 7114, '쭉쭉': 7115, 'EXPO': 7116, '웃겨요': 7117, '길렀': 7118, '이모티콘': 7119, '츤데레': 7120, '사부작': 7121, '70': 7122, '뭉치': 7123, '부티크': 7124, '온통': 7125, '영접': 7126, '울림': 7127, '임도': 7128, '광색': 7129, '원철': 7130, '동태': 7131, '찬스': 7132, '하체': 7133, '드러냈': 7134, '프랑스': 7135, '기선': 7136, '태리': 7137, '가려져': 7138, '올라간': 7139, 'SOUL': 7140, '마린룩': 7141, '보도': 7142, '버디': 7143, '경쟁': 7144, '내려오': 7145, '홍성흔': 7146, '지휘자': 7147, '김세진': 7148, '뭔데': 7149, '부러지': 7150, '4000': 7151, '내전': 7152, '오목조목': 7153, \"'?\": 7154, '홍홍': 7155, '영업': 7156, '트윈': 7157, '사진사': 7158, '메모': 7159, '뚫어질': 7160, '애플': 7161, '오마이갓': 7162, '진혜지': 7163, '띄우': 7164, '오오': 7165, '홈파티': 7166, '달라요': 7167, '전생': 7168, '스킨십': 7169, '데자뷰': 7170, '수치': 7171, '효': 7172, '흔들흔들': 7173, '소주': 7174, '타이': 7175, '오세연': 7176, '공들여': 7177, '시골': 7178, '보여요': 7179, '셀피': 7180, '카멜레온': 7181, '으쌰': 7182, '마블': 7183, '매직': 7184, '즈다': 7185, '점장': 7186, '정보': 7187, '잔치': 7188, '머리핀': 7189, '봄맞이': 7190, '방구석': 7191, '구마사': 7192, '얼떨떨': 7193, '보너스': 7194, '복슬복슬': 7195, '이스': 7196, '어퍼컷': 7197, 'FACE': 7198, '미치': 7199, '폴라': 7200, '헷갈리': 7201, '잠들': 7202, '윈드': 7203, '훔쳤': 7204, '가느다란': 7205, '여름날': 7206, '베프': 7207, '그때': 7208, '부를': 7209, '주렁주렁': 7210, '벅': 7211, '눈물점': 7212, '하와': 7213, '사재기': 7214, '앙큼상큼': 7215, '언밸런스': 7216, '리빌': 7217, '슬로우': 7218, '회사': 7219, '자격': 7220, '힌트': 7221, '남겨요': 7222, '개명': 7223, '원더풀': 7224, '챔피언': 7225, '파랑': 7226, '짝사랑': 7227, '물러가': 7228, '반홍': 7229, '갈까': 7230, '세심': 7231, '유혼': 7232, '생후': 7233, '폴리': 7234, '교사': 7235, '앙리': 7236, '드롭': 7237, '바모스': 7238, '프릴': 7239, '스태프': 7240, '트레이': 7241, '순박': 7242, '물리친': 7243, '설원': 7244, '소매': 7245, '관계자': 7246, 'Call': 7247, '지나치': 7248, '바치': 7249, '기간': 7250, '아이쿠': 7251, '살랑': 7252, '가치': 7253, 'HERO': 7254, '구매': 7255, '디스': 7256, '처연': 7257, '공중': 7258, '착각': 7259, '변한': 7260, '왕방울': 7261, '면허': 7262, '쿠도': 7263, '세끼': 7264, 'HD': 7265, 's': 7266, '걸맞': 7267, '불토': 7268, '갸우뚱': 7269, '키부츠': 7270, '구왕': 7271, '합체': 7272, '집유': 7273, '다루': 7274, '티어': 7275, '촛': 7276, '위드': 7277, '풍부': 7278, '콘스탄체': 7279, '경청': 7280, '위반': 7281, 'BUMP': 7282, '기소': 7283, '지다': 7284, '억대': 7285, '우완': 7286, '노려보': 7287, '다행': 7288, '사운드': 7289, '멀린': 7290, '작품상': 7291, '송곳': 7292, '삼형제': 7293, '오전': 7294, '나우': 7295, '해봐요': 7296, '기른': 7297, '2000': 7298, '동가': 7299, '이터': 7300, '럿': 7301, '종이': 7302, '차례': 7303, '용서': 7304, '플로어': 7305, '겁나': 7306, 'OOTD': 7307, '미워할': 7308, '달고나': 7309, '전환': 7310, '올리비아': 7311, '전력': 7312, '화질': 7313, '볶': 7314, '배꼽티': 7315, '능청': 7316, '여부': 7317, '라이트': 7318, '선보': 7319, '호감': 7320, '훔친': 7321, '가새': 7322, '빈자리': 7323, ';': 7324, '떠': 7325, '모션': 7326, '꾀꼬리': 7327, '큰일': 7328, '싸우': 7329, 'Waiting': 7330, 'HAPPEN': 7331, '로로': 7332, '예그린': 7333, '제자': 7334, '강태': 7335, '가딩': 7336, '인어': 7337, '공허': 7338, '묶인': 7339, 'CODE': 7340, '곤지암': 7341, '후유증': 7342, 'GIRL': 7343, '연구': 7344, '경자': 7345, '속도': 7346, '찔러': 7347, '조막': 7348, '울산': 7349, '임동규': 7350, '트레일러': 7351, '대해': 7352, '꿀벌': 7353, '윤전': 7354, '봄기운': 7355, '해리포터': 7356, '올라오': 7357, '풀렸': 7358, '가꾼': 7359, '멀티': 7360, '조언': 7361, '친하': 7362, '끄떡없': 7363, '뚝딱': 7364, '민정': 7365, '욕조': 7366, '폭력': 7367, '역전': 7368, '시사': 7369, '덩': 7370, '걸쳐': 7371, '나눠요': 7372, 'LOCO': 7373, '잡아먹': 7374, '알라': 7375, 'Collection': 7376, '내뿜': 7377, '구력': 7378, '카니발': 7379, 'Romanticize': 7380, '조제': 7381, '파자마': 7382, '에홍': 7383, '성원': 7384, '동국': 7385, 'AKMU': 7386, '달라붙': 7387, '으니까': 7388, '큐레이터': 7389, '공연장': 7390, '더빙': 7391, '백설기': 7392, '��': 7393, '체제': 7394, '보단': 7395, '모가디슈': 7396, '엄청나': 7397, '김칠두': 7398, '신혼집': 7399, '까진': 7400, '낚시': 7401, '레이업': 7402, '윽': 7403, '사색': 7404, '노인': 7405, '렛': 7406, '쎄': 7407, '덕지덕지': 7408, '디자인': 7409, '춰요': 7410, '악귀': 7411, '이성배': 7412, '아름다워도': 7413, '사준': 7414, '헤드폰': 7415, '당일': 7416, '계정': 7417, '습관': 7418, 'Bad': 7419, 'Attacca': 7420, '마음고생': 7421, '용하': 7422, '박자': 7423, '허당': 7424, '음감': 7425, '능통': 7426, '퀸카': 7427, '뚜벅뚜벅': 7428, '로마': 7429, '해리': 7430, '최지은': 7431, '여파': 7432, '렛츠': 7433, '특별상': 7434, '옛': 7435, '퇴': 7436, '인치': 7437, '쿰': 7438, '신박': 7439, '착석': 7440, '쏠': 7441, '휴일': 7442, '돼야': 7443, '담요': 7444, '웃긴': 7445, 'WJSN': 7446, '미라지': 7447, '괴팍': 7448, '쨍': 7449, '초등학생': 7450, '허세': 7451, '분명': 7452, '피플': 7453, '카메오': 7454, '깜짝이': 7455, '첫발': 7456, '화환': 7457, '힐끔': 7458, '파일럿': 7459, '세기': 7460, '나르시시즘': 7461, '응급실': 7462, '김나진': 7463, '마요': 7464, '만찬': 7465, '이선영': 7466, '가운데': 7467, '라방': 7468, '텐트': 7469, '체인': 7470, 'Summer': 7471, 'that': 7472, '세미콜론': 7473, '낙엽': 7474, '걸터앉': 7475, '민초': 7476, '채웠': 7477, '나대': 7478, '슝': 7479, '공룡': 7480, '극찬': 7481, '와이낫': 7482, '다녀온': 7483, 'Show': 7484, '천진': 7485, '송글송글': 7486, '한기윤': 7487, '흘러내려': 7488, '전곡': 7489, '활용': 7490, '조우': 7491, 'DAMAGE': 7492, '주제': 7493, '대면': 7494, '히메컷': 7495, '지정': 7496, '카로': 7497, '펀딩': 7498, '희열': 7499, '스위밍': 7500, '그것': 7501, '물려받': 7502, '모니터링': 7503, '아리': 7504, '삐쭉': 7505, '얼룩말': 7506, '프러포즈': 7507, '빗겨': 7508, 'itzy': 7509, '간결': 7510, '취해서': 7511, '밀리': 7512, '옥홍': 7513, '구오': 7514, '예쁘장': 7515, '다소곳이': 7516, '프랭크': 7517, '무이': 7518, '이상천': 7519, '지구촌': 7520, '스퀘어': 7521, '투수판': 7522, '연작': 7523, '창민': 7524, '결계': 7525, '빙구': 7526, '군번줄': 7527, '최동원': 7528, '이탈자': 7529, '가브리엘': 7530, '유체': 7531, '조성우': 7532, '옌': 7533, 'KBO': 7534, '페라': 7535, '지독': 7536, '헹': 7537, '가래': 7538, '축구장': 7539, '외로운': 7540, '폭투': 7541, '안중근': 7542, '판정': 7543, '오래오래': 7544, '오열': 7545, '개념시': 7546, '내려온다': 7547, '어찌': 7548, '물고기': 7549, '반가움': 7550, '중사': 7551, '초미': 7552, '브라더': 7553, \"'#\": 7554, '띤': 7555, '부작': 7556, '가식': 7557, '춘사': 7558, '해병': 7559, '찡': 7560, '마주쳐도': 7561, '반도': 7562, '추격자': 7563, '깃발': 7564, '형용': 7565, '태백': 7566, '라오': 7567, '정수리': 7568, '순서': 7569, '구질': 7570, '아오키': 7571, '동과': 7572, '에이판': 7573, '뵐': 7574, '언젠가': 7575, '꽃처럼': 7576, '나릴': 7577, '염원': 7578, '상병': 7579, '막걸리': 7580, '마우스피스': 7581, '극작가': 7582, '랙': 7583, '외로워': 7584, '생동감': 7585, '랭보': 7586, '동진': 7587, '함희': 7588, '찾아가': 7589, '우신': 7590, '화살': 7591, '서범석': 7592, '이주광': 7593, '예서': 7594, '꼼짝': 7595, '컨트리': 7596, '빙수': 7597, '윤문': 7598, '김순택': 7599, '김동연': 7600, '호주': 7601, '아이다': 7602, '조연': 7603, '늠': 7604, '정통': 7605, '상승세': 7606, '서커스': 7607, '번쩍이': 7608, '동상이몽': 7609, '사직': 7610, '박제': 7611, '골수팬': 7612, '원년': 7613, '무지': 7614, '자아낸': 7615, '힝': 7616, '내면': 7617, '끌어올린': 7618, '그럴': 7619, '볼러': 7620, '박지완': 7621, '마쉬': 7622, '페기': 7623, '금악': 7624, '투정': 7625, '그거': 7626, '델라': 7627, '벨마': 7628, '로이스': 7629, '동렬': 7630, '위키드': 7631, '필립': 7632, '자전': 7633, '려지': 7634, '다이어리': 7635, '교감': 7636, '스테이크': 7637, '카트라이더': 7638, '도솔': 7639, '자아': 7640, '체대': 7641, '외교관': 7642, 'th': 7643, '혜진': 7644, '잖아요': 7645, '능력자': 7646, '친숙': 7647, '예쁜가': 7648, '마돈나': 7649, '정치': 7650, 'So': 7651, '북유럽': 7652, '지간': 7653, '약이': 7654, '바이올린': 7655, 't': 7656, '가시리': 7657, '내려간': 7658, '잡지': 7659, 'TMI': 7660, '돌려요': 7661, '오아': 7662, '맵': 7663, '고전': 7664, '밀러': 7665, '세팅': 7666, '돌이': 7667, '태관': 7668, '방긋방긋': 7669, '종방': 7670, '엎': 7671, '코스프레': 7672, 'Flower': 7673, '불혹': 7674, '옵': 7675, '깁스': 7676, '망가져': 7677, '오픈카': 7678, '신드롬': 7679, '방송국': 7680, '탱크': 7681, 'EBS': 7682, '사이코': 7683, '화장법': 7684, '팔로우': 7685, '부름': 7686, '장서': 7687, '으면서': 7688, '모전': 7689, '좀비': 7690, '%..': 7691, '아수라장': 7692, '이나래': 7693, '찌릿': 7694, '홀릴': 7695, '보좌': 7696, '코피': 7697, '기다려요': 7698, '머치': 7699, '의심': 7700, '체크무늬': 7701, '헤이': 7702, '지은': 7703, '원도': 7704, '내받': 7705, '안내': 7706, '바둑돌': 7707, '아무리': 7708, '외톨': 7709, '아리스': 7710, '사활': 7711, '지주': 7712, '본다': 7713, '감개무량': 7714, '원장': 7715, '타격': 7716, '쿠션': 7717, '장병': 7718, '전승': 7719, '배울': 7720, '유시': 7721, '물신': 7722, '멋들어진': 7723, '어김없이': 7724, '모범택시': 7725, '피할': 7726, '단태': 7727, '곽정은': 7728, '정단': 7729, 'MBN': 7730, '꿀맛': 7731, '자고': 7732, '선남': 7733, '안테나': 7734, '동대': 7735, '줄이': 7736, '넘어간다': 7737, '본사': 7738, '희수': 7739, '갑시다': 7740, '장거리': 7741, '회식': 7742, '저쪽': 7743, '편집': 7744, '올바른': 7745, 'WORLD': 7746, '도담': 7747, '믿음직': 7748, '신비감': 7749, '떰즈': 7750, '더욱더': 7751, '일반인': 7752, '역광': 7753, '좋아해': 7754, '오프라인': 7755, '펭귄': 7756, '삼부자': 7757, '체험': 7758, '아잉': 7759, '한옥': 7760, '꽃단장': 7761, '큰형': 7762, '걸려': 7763, '불사르': 7764, '업로드': 7765, '궂': 7766, '볼거리': 7767, '도마': 7768, '여사': 7769, '즐긴': 7770, '리라': 7771, '월상': 7772, '막대': 7773, '텐데': 7774, \"··'\": 7775, '국어': 7776, '샛노란': 7777, '내조': 7778, '두근거리': 7779, '클리': 7780, '왕자님': 7781, '스러울': 7782, '리다': 7783, '중학생': 7784, '방향': 7785, '누워서도': 7786, '테라스': 7787, '트랩': 7788, '화백': 7789, '보일라': 7790, '넘겼': 7791, '커밍': 7792, '동요': 7793, '포켓': 7794, '96': 7795, '싱그러워': 7796, '불구': 7797, '반복': 7798, '중성': 7799, '이재시': 7800, '의문': 7801, '곱슬': 7802, '바라기': 7803, '매고': 7804, '마무': 7805, '손질': 7806, '한입': 7807, '꽃피': 7808, '과연': 7809, '윤승현': 7810, '점수': 7811, '받침': 7812, '친목': 7813, '무적': 7814, '달째': 7815, \"·'♥\": 7816, '송즈': 7817, '로서': 7818, '!··': 7819, '사용': 7820, '화폐': 7821, '기본소득': 7822, '으신': 7823, '작전': 7824, '빨간색': 7825, '찼': 7826, '망언': 7827, '황신영': 7828, '달려왔': 7829, '떠올리': 7830, '금지': 7831, '승마': 7832, '대담': 7833, '고스란히': 7834, '머리칼': 7835, '밸런스': 7836, '샤론스톤': 7837, '♥\"..': 7838, '서포트': 7839, '옷매무새': 7840, '최후': 7841, '가다듬': 7842, '재활': 7843, '심심': 7844, '옮기': 7845, '보폭': 7846, '금주': 7847, '마쳐': 7848, '95': 7849, '속닥속닥': 7850, '써야': 7851, '400': 7852, '모이': 7853, '내숭': 7854, '헤어밴드': 7855, '신장': 7856, '증': 7857, '조정': 7858, '지킨다': 7859, '휘젓': 7860, '대축': 7861, '코난': 7862, '싸맨': 7863, '멋져요': 7864, '파이': 7865, '주접': 7866, '레이먼킴': 7867, '도복': 7868, '지진': 7869, '유독': 7870, '와중': 7871, '밤새': 7872, '김창렬': 7873, '프로페셔널': 7874, '교도소': 7875, '미쳐': 7876, '효리': 7877, '삼킨다': 7878, '오렌지색': 7879, '혼인': 7880, '팔불출': 7881, '지평': 7882, '커진': 7883, '내릴': 7884, '로써': 7885, '씻': 7886, '커튼': 7887, '베이시스트': 7888, '가닥': 7889, '피고인': 7890, '강원도': 7891, '말랑말랑': 7892, '풀어헤친': 7893, '부끄러움': 7894, '봅니다': 7895, 'PHOTOPIC': 7896, '겁먹': 7897, '춰': 7898, '칼날': 7899, '마실까': 7900, '반드시': 7901, '밤중': 7902, '밤하늘': 7903, '모발': 7904, '브래디': 7905, '꾸밈': 7906, '모았': 7907, '남훈': 7908, '앤더슨': 7909, '분식': 7910, '황민': 7911, '폭로': 7912, '불문': 7913, '붙인': 7914, '바리': 7915, '홀렸': 7916, '혼란': 7917, '파당': 7918, '고소': 7919, '아형': 7920, '불어오': 7921, '대홍': 7922, '차지': 7923, '감은': 7924, '압구정': 7925, '식빵': 7926, '오색': 7927, '부잣집': 7928, '.`': 7929, '침통': 7930, '안마': 7931, '뜻': 7932, '내려가': 7933, '일관': 7934, '소품': 7935, '금연': 7936, '나노': 7937, '태권': 7938, '강하': 7939, '뺨': 7940, '따듯': 7941, '걸린': 7942, '점핑': 7943, '고공': 7944, '무기': 7945, '대칭': 7946, '끼얹': 7947, '길러': 7948, '흐트러진': 7949, '워터': 7950, '재능': 7951, '아름다웠': 7952, '레이디스': 7953, '부활': 7954, '먼로': 7955, '오구': 7956, '귀욤': 7957, '셋째': 7958, '장악력': 7959, '촉촉히': 7960, '형형색색': 7961, '마카롱': 7962, '석홍': 7963, \"'·'\": 7964, '다부진': 7965, '아유': 7966, '초반': 7967, '김충재': 7968, '동신': 7969, '급한': 7970, '양성': 7971, '나경': 7972, '배역': 7973, '무렵': 7974, '극단': 7975, '도종환': 7976, '김강헌': 7977, '넘김': 7978, '구도': 7979, '불리': 7980, '너희': 7981, '벨트': 7982, '답니다': 7983, '눈앞': 7984, '얌': 7985, '꽈배기': 7986, '뇌섹녀': 7987, '서서히': 7988, '봄비': 7989, 'BJ': 7990, '레슨': 7991, '어리둥절': 7992, '저절로': 7993, '회의': 7994, '다툼': 7995, '춘': 7996, '일부': 7997, '귓가': 7998, '천녀': 7999, '오드리': 8000, '열공': 8001, '달려라': 8002, '만보': 8003, '소현': 8004, '내요': 8005, 'Forever': 8006, '사사키': 8007, '흘러내리': 8008, '클라운': 8009, '바리스타': 8010, '행사장': 8011, '코카': 8012, '봄처녀': 8013, '’”': 8014, '아닌가': 8015, '월드컵': 8016, '더벅머리': 8017, '귀고리': 8018, '넘어서': 8019, '쿠키': 8020, '스트라이프': 8021, '개야': 8022, '‥“': 8023, '배워': 8024, 'Choice': 8025, '유승옥': 8026, '샴페인': 8027, '공손히': 8028, '비타': 8029, '방가': 8030, '요미': 8031, '손뼉': 8032, '오누이': 8033, '㎝': 8034, '청계산': 8035, '올레드': 8036, '따라올': 8037, '넷째': 8038, '자심': 8039, '여서': 8040, '알파카': 8041, '편견': 8042, '해사': 8043, '틈새': 8044, '충무': 8045, '새삼': 8046, '\\'...\"': 8047, '나성호': 8048, '플로': 8049, '수학': 8050, '마당': 8051, '헌혈': 8052, '휘리': 8053, '애비': 8054, '이미쉘': 8055, '팁': 8056, '겨울바람': 8057, '퓨마': 8058, '갤러리': 8059, '빡': 8060, '오세득': 8061, '경계': 8062, '발휘': 8063, '투표장': 8064, '트래블': 8065, '흐린': 8066, '살게요': 8067, '뮬': 8068, '부러워요': 8069, '꿈틀': 8070, '잃어버렸': 8071, '자발': 8072, '혼모': 8073, '멸각': 8074, '압살': 8075, '해줘': 8076, '호호': 8077, '풀어헤치': 8078, '렛미인': 8079, '골인': 8080, '상담': 8081, '솜': 8082, '끌레르': 8083, '장기': 8084, '타올': 8085, '죄수복': 8086, '피크닉': 8087, '소녀풍': 8088, '메가폰': 8089, '잠기': 8090, '당연히': 8091, '목숨': 8092, '친동생': 8093, '완연': 8094, '앰': 8095, '건지': 8096, '독일인': 8097, '불러일으키': 8098, '빨려': 8099, '기다려온': 8100, '노희경': 8101, '열중': 8102, '끌어당기': 8103, '피아니스트': 8104, '순위': 8105, '술렁': 8106, '넥타': 8107, '끼쳐드려': 8108, '끊임없이': 8109, '걸까': 8110, '서열': 8111, \"→'\": 8112, '소지': 8113, '기에': 8114, '갈까요': 8115, '떨어질': 8116, '깬': 8117, '훨훨': 8118, '화목': 8119, '슬쩍': 8120, '무서워': 8121, '세스': 8122, '회견장': 8123, '뚱한': 8124, '창백': 8125, '변경': 8126, '총집합': 8127, '울린': 8128, '빼입': 8129, '수건': 8130, '할리퀸': 8131, '뉴이': 8132, '해적': 8133, '환갑': 8134, '자동': 8135, '상징': 8136, '딘': 8137, '올라요': 8138, '세션': 8139, '셉': 8140, '채종': 8141, '황급히': 8142, '생겨서': 8143, '바캉스': 8144, '열리': 8145, '관부': 8146, '걸즈': 8147, '벅차': 8148, '해결사': 8149, '레즈': 8150, '쏘옥': 8151, '댕': 8152, '베스트셀러': 8153, '피팅': 8154, '광합성': 8155, '해짐': 8156, '까르르': 8157, '낭독': 8158, '명동': 8159, '정성윤': 8160, '허민': 8161, '눈부셨': 8162, '선발투수': 8163, '라우': 8164, '계곡': 8165, '완결': 8166, '코스모스': 8167, '동람': 8168, '스님': 8169, '89': 8170, '독도': 8171, '어깨끈': 8172, '멈춰': 8173, '사진첩': 8174, '더그아웃': 8175, '브리지': 8176, '차민': 8177, '도서관': 8178, '시집가': 8179, '쇼핑몰': 8180, '환우': 8181, '모조리': 8182, '히어로즈': 8183, '바둑알': 8184, '나빌레라': 8185, '환해': 8186, '등산복': 8187, '상당': 8188, '어니': 8189, '포토샵': 8190, '보쌈': 8191, 'TMINEWS': 8192, '다우': 8193, '정자': 8194, '담보': 8195, '귀여운데': 8196, '창원': 8197, '불쾌': 8198, '파이프라인': 8199, '라푼젤': 8200, '멸망': 8201, '클로이': 8202, '례': 8203, '플래닛': 8204, '999': 8205, '국군': 8206, '모레츠': 8207, '세일': 8208, '동녀': 8209, '조비': 8210, '참새': 8211, '갖춰': 8212, '직격': 8213, '심강': 8214, '밥알': 8215, '배운': 8216, '해방': 8217, '화상': 8218, '몸보신': 8219, '설치': 8220, '변화구': 8221, '구공': 8222, '새하얗': 8223, '컬렉션': 8224, '옳다': 8225, '냉철': 8226, '대선배': 8227, '귀찮': 8228, '신세계': 8229, '다수': 8230, '봉준': 8231, '스카우트': 8232, '터틀넥': 8233, '절차': 8234, '이순': 8235, \"‥'\": 8236, '주심': 8237, '벤치': 8238, '열도': 8239, '멱살': 8240, '초청': 8241, '강동구': 8242, '지헤': 8243, '노안': 8244, '토스': 8245, '벌리': 8246, '움직인다': 8247, 'Dr': 8248, '제리': 8249, '담벼락': 8250, '폐막식': 8251, '얼도': 8252, '어젯밤': 8253, '몸풀기': 8254, '스며드': 8255, '초록빛': 8256, '한경': 8257, '뒤흔들': 8258, '택서': 8259, '덜덜': 8260, '메일': 8261, 'Don': 8262, '코앞': 8263, '찾아왔': 8264, '주스': 8265, '량': 8266, '박연경': 8267, '찰나': 8268, '필살기': 8269, '달마': 8270, '제격': 8271, '파타': 8272, '여정': 8273, '수칙': 8274, '아침마당': 8275, '파묻힌': 8276, '끈다': 8277, '키로': 8278, '스트리트': 8279, '그라스': 8280, '침입자': 8281, '까칠': 8282, '신종': 8283, '초년생': 8284, '둡': 8285, '배드민턴': 8286, 'aaa': 8287, '들뜬': 8288, '멍멍': 8289, '찍혔': 8290, '꼭꼭': 8291, 'Seoul': 8292, '줄까': 8293, '파노라마': 8294, '방불': 8295, '맥': 8296, '머릿속': 8297, '자료': 8298, '지존': 8299, '오재웅': 8300, '일체': 8301, '무술': 8302, '어쩌면': 8303, '스파크': 8304, '김광빈': 8305, '단단히': 8306, '헤드': 8307, '불러줘': 8308, '보유국': 8309, '소예': 8310, '고영배': 8311, '러시아': 8312, '그렸': 8313, '세자빈': 8314, '항해': 8315, '나세': 8316, '때릴': 8317, '주름잡': 8318, '준두': 8319, '생일상': 8320, '여기저기': 8321, '규빈': 8322, '장화': 8323, '절세미인': 8324, '한양': 8325, '매운맛': 8326, '예방': 8327, '부릅': 8328, '복학생': 8329, '쿵쾅': 8330, '허일': 8331, '코지': 8332, '제작진': 8333, '찬바람': 8334, 'Teddy': 8335, 'Bear': 8336, '다가온': 8337, '마고': 8338, '규모': 8339, 'WAW': 8340, '’…“': 8341, 'SPICY': 8342, '정상급': 8343, '진정선': 8344, '카리스': 8345, '빵떡': 8346, '허락': 8347, '해줘요': 8348, 'IOI': 8349, '이견': 8350, '환각': 8351, '추워진': 8352, 'NOE': 8353, 'MY': 8354, '러블': 8355, 'Side': 8356, '라이터': 8357, 'Bambi': 8358, '블라': 8359, '컨셉트': 8360, '동그래진': 8361, '진행형': 8362, '꽤': 8363, '앙탈': 8364, '보여서': 8365, '돌풍': 8366, '지쳤': 8367, '탐나': 8368, '강원랜드': 8369, '문태곤': 8370, '가뿐': 8371, 'SDA': 8372, 'Feels': 8373, '율동': 8374, '아타카': 8375, '오로지': 8376, '고메즈': 8377, '무서워요': 8378, '아연': 8379, '오케스트라': 8380, '표창장': 8381, '엊그제': 8382, '정승': 8383, '레인져': 8384, '우바이': 8385, '자는': 8386, '당차': 8387, '아틀란티스': 8388, '기준': 8389, '지그재그': 8390, '유치원': 8391, '희성': 8392, '군요': 8393, '접근': 8394, '코스': 8395, '송송': 8396, '졸': 8397, '~~': 8398, '특공대': 8399, '가차없이': 8400, '거절': 8401, '술렁이': 8402, '스트로베리': 8403, '목욕': 8404, '버레': 8405, 'w': 8406, 'How': 8407, '치르': 8408, '꼼꼼히': 8409, '불어': 8410, '스텔': 8411, '수험장': 8412, '격하': 8413, '독일': 8414, '손잡고': 8415, '믹스테이프': 8416, '쉘': 8417, 'YOURS': 8418, '고와': 8419, '호이': 8420, '중국어': 8421, '타타': 8422, '마틴': 8423, '바통': 8424, '퓨리': 8425, '게스': 8426, '마피아': 8427, \"'%%',\": 8428, 'Midnight': 8429, '과백': 8430, '빨려드': 8431, '브리드': 8432, '피네': 8433, '生': 8434, '스탭': 8435, '돈트': 8436, '라곤': 8437, '레더': 8438, '이상곤': 8439, '시영': 8440, '.“': 8441, '고속': 8442, '핸섬한': 8443, '연이': 8444, '콘택트': 8445, '돌변': 8446, '총선': 8447, 'SCENE': 8448, 'Better': 8449, 'Change': 8450, '등라': 8451, '킨텍스': 8452, '갈피': 8453, '랴': 8454, '석화': 8455, '가질': 8456, '신년': 8457, 'Cold': 8458, '먼지': 8459, '야심': 8460, '향해서': 8461, 'URN': 8462, '불태우': 8463, 'OVER': 8464, '마디': 8465, 'TURN': 8466, '167': 8467, 'Holiday': 8468, '홀리데이': 8469, '빙빙': 8470, 'QURIOUS': 8471, '러버': 8472, '다구': 8473, '유망주': 8474, 'WOOPS': 8475, 'Savage': 8476, '드러': 8477, '가만': 8478, '시가': 8479, '밑줄': 8480, '티스': 8481, '휘파람': 8482, '동림': 8483, '자세히': 8484, '혼돈': 8485, '나간다': 8486, '난리나': 8487, '와야': 8488, '추자': 8489, '발동': 8490, '바닐라': 8491, '부수': 8492, '치트키': 8493, '초읽기': 8494, '동굴': 8495, '소띠': 8496, '예열': 8497, 'KAI': 8498, '바라볼': 8499, '국판': 8500, '복제': 8501, '미간': 8502, 'H': 8503, '급해': 8504, '흐려': 8505, '정신줄': 8506, '도련님': 8507, '노하우': 8508, '동철': 8509, '타파': 8510, '현대': 8511, '철벽': 8512, '걸리': 8513, '손오공': 8514, '삼겹살': 8515, '라운드': 8516, '스튜디오': 8517, '휴양지': 8518, '러쉬': 8519, '드린다': 8520, '68': 8521, '옆자리': 8522, 'Maria': 8523, '뒹굴뒹굴': 8524, '뱉': 8525, '튜': 8526, '노랑나비': 8527, '안쓰러워': 8528, '존경': 8529, '레잇': 8530, '전용진': 8531, '일어나': 8532, '보석함': 8533, '의외로': 8534, '상궁': 8535, '리뷰': 8536, '편의점': 8537, '잘생기': 8538, '녹턴': 8539, '단어': 8540, 'Happy': 8541, '한텐': 8542, '단계': 8543, \"~?'\": 8544, '따라오': 8545, '황인욱': 8546, '디테': 8547, '연반': 8548, '레시피': 8549, '함박눈': 8550, '쪄': 8551, '연승': 8552, '박찬호': 8553, '온달': 8554, '정해': 8555, '닐': 8556, '무사': 8557, '설정': 8558, '서부터': 8559, '야망': 8560, '기차': 8561, '칸막이': 8562, '잔소리': 8563, '윤일상': 8564, '영입': 8565, '킹스맨': 8566, '동상': 8567, '업데이트': 8568, '이뤘': 8569, '미워': 8570, '훔친다': 8571, '체불': 8572, '떳떳': 8573, '송편': 8574, '불사': 8575, '휘날려': 8576, '외': 8577, '경국지색': 8578, '보컬리스트': 8579, 'BACK': 8580, '떠날까': 8581, '상사': 8582, '날려도': 8583, '을래요': 8584, '당했': 8585, '룡': 8586, '여요': 8587, '굴': 8588, '중복': 8589, '시산': 8590, '파괴자': 8591, '스트레칭': 8592, '이창규': 8593, '가시': 8594, '프렌즈': 8595, '없인': 8596, '투병': 8597, '뭔지': 8598, '비룡': 8599, '통하': 8600, '내기': 8601, '순백색': 8602, '롱런': 8603, '거뜬히': 8604, '물결치': 8605, '순둥이': 8606, '장모님': 8607, '알아본': 8608, 'INK': 8609, '페는': 8610, '안쓰러운': 8611, '가을맞이': 8612, '찰싹': 8613, '외투': 8614, '이륙': 8615, '체이스': 8616, '누가누': 8617, 'RIP': 8618, '王': 8619, '오를': 8620, '누군가': 8621, '왕년': 8622, '소떡': 8623, '함꼐': 8624, '진상': 8625, '한다는': 8626, '붙드': 8627, '난생': 8628, '신임': 8629, '훤': 8630, '엑스엑스': 8631, '빨갛': 8632, '끼리끼리': 8633, '세련되': 8634, '포레스트': 8635, '왠지': 8636, '갈래요': 8637, '홀딱': 8638, '슈즈': 8639, '쿵쾅쿵쾅': 8640, '플랫': 8641, '내려와': 8642, '빨대': 8643, '부러우': 8644, '이탈': 8645, '발탁': 8646, '종강': 8647, '아스': 8648, '농부': 8649, '우동': 8650, 'Guy': 8651, '오스틴': 8652, '켜': 8653, 'Turn': 8654, '기장': 8655, 'Over': 8656, '티비': 8657, '단화': 8658, '인터': 8659, '벽돌': 8660, '까불': 8661, '장돌': 8662, '귀여웠': 8663, '성취': 8664, '맛나': 8665, '기간제': 8666, '예승': 8667, '인도': 8668, '종결': 8669, '우람': 8670, '챠': 8671, '대래': 8672, '122609': 8673, '퓨전': 8674, '멘': 8675, '대대': 8676, '섹시함': 8677, '재시': 8678, '흑화': 8679, '평상복': 8680, 'CMA': 8681, '을라': 8682, '어렸': 8683, '신대': 8684, '낸다': 8685, '정신없': 8686, '원로': 8687, '카롤': 8688, '보타': 8689, '알찬': 8690, '수녀': 8691, '맥도널드': 8692, '성종': 8693, '전적': 8694, '신상': 8695, '네티즌': 8696, '술상': 8697, '쇼핑백': 8698, '사상': 8699, '조종': 8700, '수료': 8701, '자필': 8702, 'RBW': 8703, '도예': 8704, '구수': 8705, '촛불': 8706, '확산': 8707, '모시': 8708, '펄펄': 8709, '개럿': 8710, '값진': 8711, '으실': 8712, '자유인': 8713, '父子': 8714, '똑같이': 8715, '하디': 8716, '깨소금': 8717, '썩인': 8718, '마비': 8719, '메론': 8720, '파릇파릇': 8721, '지그시': 8722, '랩소디': 8723, 'HAPPY': 8724, '두피': 8725, 'DYNAMITE': 8726, '흥신': 8727, '흥왕': 8728, '라더니': 8729, '펑크': 8730, '감사히': 8731, '영스': 8732, 'OC': 8733, '회색': 8734, '지퍼': 8735, '접도': 8736, '갈갈이': 8737, '~~\"': 8738, '짐주': 8739, '스케치': 8740, 'It': 8741, '경사': 8742, '자나깨나': 8743, '적설': 8744, '크램': 8745, '탈의': 8746, '검진': 8747, '상복': 8748, '원해': 8749, '이제야': 8750, '몸놀림': 8751, '이계벽': 8752, '전보': 8753, '스팽글': 8754, '세연': 8755, '교통': 8756, '펼친': 8757, '가정': 8758, '시린': 8759, '감춰진': 8760, '흥신소': 8761, '대질': 8762, '성동': 8763, '과분': 8764, '체크인': 8765, '스모': 8766, '낙원': 8767, '넘쳐흐르': 8768, '신작': 8769, '여홍': 8770, '재탄생': 8771, '그런': 8772, '옷차림': 8773, '스윗소로우': 8774, '질린': 8775, '빨개진': 8776, '공방': 8777, '소닉': 8778, '이날': 8779, '됨': 8780, '누굴': 8781, '최고령': 8782, '압권': 8783, '슈트룩': 8784, '석양': 8785, '마셨': 8786, '갈아입': 8787, '뺨쳐': 8788, '참담': 8789, '녹두전': 8790, '포퍼': 8791, '충': 8792, '와니': 8793, '수표': 8794, '몸짱': 8795, '친정': 8796, '히로': 8797, '이경자': 8798, '위스키': 8799, '마릴린': 8800, '딴': 8801, '용산': 8802, 'CD': 8803, '강희선': 8804, '평창': 8805, '층': 8806, 'AI': 8807, '올께요': 8808, '관객석': 8809, '첨': 8810, '래린': 8811, '어벤져스': 8812, '뽀로로': 8813, '마감': 8814, '망가질': 8815, '먼스': 8816, '예절': 8817, '~”': 8818, '찾아오': 8819, '하버드': 8820, '꺾': 8821, '스트림': 8822, '허니': 8823, '독전': 8824, '취임식': 8825, '만지작': 8826, '슨': 8827, '전우': 8828, '129': 8829, '벗어난': 8830, '활기': 8831, '다이나마이트': 8832, '덤블': 8833, '헐크': 8834, '홍반장': 8835, '이만': 8836, '어려워요': 8837, '아슬': 8838, '쓰레기': 8839, '촌': 8840, '오른다': 8841, '비법': 8842, '외로움': 8843, '포스트': 8844, '전종환': 8845, '꽃꽂이': 8846, '회사원': 8847, '티켓': 8848, '상관': 8849, '디자이너': 8850, '혹': 8851, '리브': 8852, '돌아서': 8853, '경미': 8854, '불꽃놀이': 8855, '키다리': 8856, '톰': 8857, '윤미래': 8858, '백경': 8859, '건법': 8860, '징': 8861, '신바람': 8862, '부티': 8863, '해질': 8864, '귀부인': 8865, '하사': 8866, '장풍': 8867, '핫도그': 8868, '물리칠': 8869, '양반': 8870, '성운': 8871, '야노시호': 8872, '새치': 8873, '그네': 8874, '윤화': 8875, '봐야': 8876, '줄무늬': 8877, '선언문': 8878, '도넛': 8879, '라디오스타': 8880, '서양': 8881, '프리랜서': 8882, '천하무적': 8883, '넘어지': 8884, '손들': 8885, '주례': 8886, '하와이': 8887, '참으로': 8888, '살께요': 8889, '잤': 8890, '지천명': 8891, '이천수': 8892, '탐': 8893, '아메리카노': 8894, '살금살금': 8895, '애송이': 8896, '이광섭': 8897, '청명': 8898, '까만': 8899, '못했': 8900, '형부': 8901, '퍼진': 8902, '자제': 8903, '살아라': 8904, '상륙': 8905, 'ㅠㅠ': 8906, '강탈자': 8907, '유부': 8908, '두식': 8909, '복덩이': 8910, '동식': 8911, '손도장': 8912, '우려': 8913, '잠자리': 8914, '정교': 8915, '만져': 8916, '각선': 8917, '사니': 8918, '당고': 8919, '별설': 8920, '커졌': 8921, '샤이': 8922, '짱구': 8923, '거수': 8924, '발하': 8925, '홍초': 8926, '개국': 8927, '아까운': 8928, '웨어': 8929, '비켜간': 8930, '까치발': 8931, 'All': 8932, '’(': 8933, '98': 8934, '독감': 8935, '여행자': 8936, '신춘수': 8937, '꼽': 8938, '맞춰서': 8939, '휩쓸': 8940, '숫자': 8941, 'a': 8942, '우디': 8943, '대환영': 8944, '과하': 8945, '표지': 8946, '준이': 8947, '디렉션': 8948, '어두워도': 8949, '흥겹': 8950, '귀태': 8951, 'FOR': 8952, 'CRY': 8953, '펼쳐지': 8954, \">'\": 8955, '접종': 8956, '평정': 8957, '긁': 8958, '소개팅': 8959, '종아리': 8960, '171': 8961, '사카구치': 8962, '장첸': 8963, '소공녀': 8964, '살해': 8965, '~,': 8966, '외쳐': 8967, '에리카': 8968, '입체': 8969, '스에': 8970, '데릴': 8971, '흑표범': 8972, '득녀': 8973, 'JJ': 8974, '어째': 8975, '비포': 8976, '파인애플': 8977, '취해도': 8978, '84': 8979, '하운드': 8980, '정홍길': 8981, '올라서': 8982, '스스': 8983, '페도라': 8984, '박힌': 8985, '얼형': 8986, '될래요': 8987, '개발': 8988, '각기': 8989, '안부': 8990, '꺅': 8991, '164': 8992, '털옷': 8993, '재결합': 8994, '트리플': 8995, '상어': 8996, '진품명품': 8997, '답안': 8998, '주고받': 8999, '입감': 9000, '매진': 9001, '어찌나': 9002, '왕실': 9003, '충동': 9004, '눈물샘': 9005, '혐': 9006, '으시': 9007, '한울': 9008, '가네': 9009, '구준': 9010, \"★'\": 9011, '필리핀': 9012, '봐라': 9013, '전속': 9014, '필드': 9015, '투투': 9016, '오싹': 9017, '흘려': 9018, '원망': 9019, '가지런히': 9020, '남긴': 9021, '유도': 9022, '삼관': 9023, '무난': 9024, '꼬까옷': 9025, '륜': 9026, 'QR': 9027, '수갑차': 9028, '양희종': 9029, '트릴': 9030, '동욱': 9031, '로지': 9032, '덕선': 9033, '달라도': 9034, '라이벌': 9035, '구청장': 9036, '관중석': 9037, '담겨': 9038, '협회': 9039, '의식': 9040, '견도': 9041, '마켓': 9042, '프레슬리': 9043, '묶여': 9044, '떠올라': 9045, '동광': 9046, '돈가스': 9047, '재발견': 9048, '울먹': 9049, '백합': 9050, '커져': 9051, '떨렸': 9052, '다이나믹': 9053, '시봉': 9054, '이시어': 9055, '잠든': 9056, '병구': 9057, '성형수술': 9058, '뭣': 9059, '닭': 9060, '인태': 9061, '참관': 9062, '망한': 9063, '배상': 9064, '제기': 9065, '기로': 9066, '다크서클': 9067, '중헌': 9068, '예측': 9069, '텝': 9070, '지망생': 9071, '재준': 9072, '챙긴': 9073, '쌍수': 9074, '잔인': 9075, '감추': 9076, '와이셔츠': 9077, '할매': 9078, '후다닥': 9079, '희생': 9080, '친오빠': 9081, '버림': 9082, '홀딩스': 9083, '진운': 9084, '뒤통수': 9085, '룰루랄라': 9086, '청구': 9087, '에스더': 9088, '아장아장': 9089, '움켜쥐': 9090, '김태오': 9091, '부내': 9092, 'day': 9093, '아파요': 9094, '으로서': 9095, '엄친': 9096, '답장': 9097, '몸집': 9098, '이뤄': 9099, '대마': 9100, '아슬한': 9101, '이창희': 9102, '밝힐': 9103, '영감': 9104, '역투': 9105, '구애': 9106, '공동': 9107, '단과': 9108, '뭘까': 9109, '럼': 9110, '꽃구경': 9111, '노부부': 9112, '사직야구장': 9113, '깡총': 9114, '드리운': 9115, '벙커': 9116, '특히': 9117, '지난주': 9118, '심판': 9119, '규환': 9120, '엄치': 9121, '도망친': 9122, '손정은': 9123, '셸던': 9124, '쌓': 9125, '다듬': 9126, '알아봐': 9127, '박태환': 9128, '박세혁': 9129, '욱': 9130, '여리': 9131, '울프': 9132, '기증': 9133, '기획': 9134, '석권': 9135, '도로': 9136, '멘첼': 9137, '다룬': 9138, '일산': 9139, '로워진': 9140, '벤허': 9141, '창대': 9142, '덤벼': 9143, '향긋': 9144, '뒤로한': 9145, '원작': 9146, '들린다': 9147, '침': 9148, '\"..♥': 9149, '산증인': 9150, '마라도나': 9151, '호러': 9152, 'WHAT': 9153, '김형주': 9154, '동나': 9155, '기막힌': 9156, '연극제': 9157, '등원': 9158, '모바일': 9159, '광역': 9160, '내자': 9161, '주행': 9162, '서치': 9163, '임강희': 9164, '백두': 9165, '퀭': 9166, '시국': 9167, 'ALL': 9168, '끝나': 9169, '암시': 9170, '봉부': 9171, '니다': 9172, '안나': 9173, '기성': 9174, '처녀': 9175, '미투': 9176, '한라산': 9177, 'TT': 9178, '한다고': 9179, 'Hit': 9180, 'it': 9181, 'Op': 9182, '양팔': 9183, '158': 9184, '성균관': 9185, '던져야': 9186, '투표용지': 9187, '글러': 9188, '겨': 9189, 'off': 9190, 'GOTCHA': 9191, '한스타': 9192, '길동홍': 9193, '짱이': 9194, '일탈': 9195, '주빈': 9196, '“‘': 9197, '설강': 9198, '악몽': 9199, '준우': 9200, '테마': 9201, '플라잉': 9202, '이럴': 9203, '연패': 9204, '묻힌': 9205, '미니언': 9206, '사무실': 9207, 'Lover': 9208, '달린다': 9209, '섬': 9210, '널찍': 9211, 'LR': 9212, 'Tomorrow': 9213, '썰': 9214, '보온병': 9215, '철파': 9216, 'Thank': 9217, '어용': 9218, '밀가루': 9219, '끄떡': 9220, '스파이더맨': 9221, '복만': 9222, 'BLOSSOM': 9223, '소주잔': 9224, '째려보': 9225, '시어머니': 9226, '...\"': 9227, '생방': 9228, '쫄쫄이': 9229, '손재주': 9230, '!..': 9231, '여장': 9232, '던져라': 9233, 'ㅎ': 9234, '했으니': 9235, '에펠': 9236, '꼬집': 9237, '샀': 9238, 'HOT': 9239, '고무장갑': 9240, '타워': 9241, '사구': 9242, '플라스틱': 9243, '맛난': 9244, 'Ponzona': 9245, '중세': 9246, '금지곡': 9247, '헛스윙': 9248, '중반': 9249, '불태운': 9250, '체지방': 9251, '피트': 9252, '세컨드': 9253, 'COLD': 9254, '자도': 9255, '전향': 9256, '살찔': 9257, '명은': 9258, '포복': 9259, '103': 9260, '프로야구': 9261, '목홍': 9262, '샐': 9263, 'MAGENTA': 9264, '농장': 9265, '갇혔': 9266, '평가전': 9267, '쁘': 9268, '휘두르': 9269, '유산소': 9270, '마젠타': 9271, '들판': 9272, '채송화': 9273, '부스': 9274, 'PLAY': 9275, '이서': 9276, '김가온': 9277, '시아버지': 9278, '야밤': 9279, 'Do': 9280, '지도': 9281, '레리': 9282, 'Ice': 9283, '작아졌': 9284, '하윤': 9285, 'Cream': 9286, '조깅': 9287, '차리': 9288, '일부러': 9289, '언더핸드': 9290, '오디오': 9291, '동령': 9292, '호떡': 9293, '호두과자': 9294, 'Dynamite': 9295, '돼도': 9296, '가구': 9297, '얼레': 9298, '손색없': 9299, '두꺼운': 9300, '순대': 9301, '구척장신': 9302, '잔디밭': 9303, '훌렁': 9304, '한남동': 9305, '과식': 9306, '금메달리스트': 9307, '돔구장': 9308, '리릭': 9309, 'FANTASIA': 9310, '스플래시': 9311, '도배': 9312, 'Sugar': 9313, '상관없이': 9314, 'J': 9315, '타고났': 9316, '경소': 9317, 'YOON': 9318, '막힐': 9319, '~♥\"': 9320, '레터링': 9321, 'PARANOIA': 9322, '169': 9323, '쪽진': 9324, '양평': 9325, '쪼그려': 9326, '이중생활': 9327, '상투': 9328, '사모님': 9329, 'Select': 9330, '검정치마': 9331, 'Zombie': 9332, '고글': 9333, 'HIDE': 9334, '후추': 9335, '럭키맨': 9336, '센티': 9337, '등록': 9338, 'SEEK': 9339, 'ㅅ': 9340, '이창석': 9341, '속상한': 9342, '부지런': 9343, 'Taste': 9344, '리믹스': 9345, '대취타': 9346, 'Future': 9347, '반함': 9348, 'SWITCH': 9349, '심오': 9350, '귀하': 9351, 'Shop': 9352, '피쳐': 9353, '구전': 9354, '운동장': 9355, '♥··': 9356, '무스탕': 9357, '경도': 9358, '감상회': 9359, '털보': 9360, 'woo': 9361, 'ah': 9362, '손자': 9363, '홍재경': 9364, '봄내': 9365, '사칭': 9366, '성별': 9367, '62': 9368, '말투': 9369, '트러스트': 9370, '끼니': 9371, '할텐데': 9372, '\",': 9373, '츄리닝': 9374, '눈싸움': 9375, '잘라버렸': 9376, '깔깔이': 9377, '에블린': 9378, '비가': 9379, '뜨개': 9380, '혼혈': 9381, '치맛바람': 9382, '증발': 9383, '화해': 9384, '들어올': 9385, '달랜': 9386, '앞모습': 9387, '꿀잠': 9388, '대머리': 9389, '코빅': 9390, '다녀요': 9391, '깔깔깔': 9392, '월요': 9393, '자몽': 9394, '탕탕': 9395, '는걸': 9396, 'Who': 9397, '으셨어요': 9398, '너자': 9399, '커스텀': 9400, '며칠': 9401, '오웬': 9402, '근데': 9403, '홍차': 9404, '오뚝': 9405, 'Dis': 9406, '핏불': 9407, '로퍼': 9408, 'ETERNITY': 9409, '원홍': 9410, '알콜': 9411, '신디': 9412, '애완견': 9413, '대디': 9414, '자칭': 9415, '냉장고': 9416, '오스본': 9417, '유희관': 9418, '사카다': 9419, '스윗남': 9420, '빨래': 9421, '브렛': 9422, '달빛천사': 9423, '섀도우': 9424, '알레르기': 9425, '검색': 9426, '심마니': 9427, '도리': 9428, '패러글라이딩': 9429, '그건': 9430, '세프': 9431, '디너쇼': 9432, '일기': 9433, '바라다': 9434, '모처럼': 9435, '난리난': 9436, '는다고': 9437, '애프터눈': 9438, '피츠버그': 9439, '!!\"': 9440, '해줘서': 9441, '그려진': 9442, '일출': 9443, '저탄고': 9444, '통기타': 9445, '등지': 9446, '더미': 9447, '벌칙': 9448, '함의': 9449, '인맥': 9450, '딕펑스': 9451, '큼직': 9452, '한참': 9453, '치사량': 9454, '박서': 9455, '퇴치': 9456, '빗방울': 9457, '체전': 9458, '잔머리': 9459, '초유': 9460, '뽀삐': 9461, '서아': 9462, '인데요': 9463, '척하': 9464, '말라서': 9465, 'me': 9466, '영향': 9467, '전태관': 9468, '앞자리': 9469, '되게': 9470, '치통': 9471, '내산': 9472, '피드': 9473, '배고프': 9474, '해시': 9475, '증가': 9476, '접시': 9477, '아이마르': 9478, '㎏’': 9479, '졸린': 9480, '자우림': 9481, '바늘': 9482, '57': 9483, '다저스': 9484, '범벅': 9485, '내렸': 9486, '피니': 9487, \"'..'\": 9488, '마니아': 9489, '완두콩': 9490, '추워졌': 9491, '삼바': 9492, '아랑': 9493, '연장': 9494, '언어': 9495, '로다운': 9496, '플리스': 9497, '쌍권총': 9498, '빗자루': 9499, '먹이': 9500, '스키장': 9501, '팝콘': 9502, '삼색': 9503, '클리어': 9504, '환골탈태': 9505, '후기': 9506, '장작': 9507, '소방관': 9508, '지애': 9509, '바닷바람': 9510, 'New': 9511, '피아': 9512, 'Obliviate': 9513, '뿡뿡이': 9514, '테크노': 9515, '태우': 9516, '카시트': 9517, '’‥': 9518, '헤어핀': 9519, 'Lovesick': 9520, '싱숭생숭': 9521, '어버이날': 9522, '마셔': 9523, '빵집': 9524, '어부': 9525, '에너자이저': 9526, '건데': 9527, 'MILL': 9528, '지워': 9529, '톰보': 9530, '배고파': 9531, '눕': 9532, '키우': 9533, \"…'♥\": 9534, '매래': 9535, 'Girls': 9536, '↑’': 9537, '못난이': 9538, '므': 9539, '친자': 9540, '알통': 9541, '세차': 9542, '긴팔': 9543, '던질까': 9544, '병관': 9545, 'MLB': 9546, '쏘리': 9547, '파이어': 9548, '사부': 9549, '진도': 9550, '맞혀': 9551, '묵찌빠': 9552, '물놀': 9553, '헤메': 9554, '낙서': 9555, '닉': 9556, '이이': 9557, '장염': 9558, '이무기': 9559, '야광': 9560, '뭍': 9561, '지루': 9562, '발빈': 9563, '초면': 9564, '황야': 9565, '하우': 9566, 'AMAs': 9567, '트렁크': 9568, '비닐장갑': 9569, '방해': 9570, '팰런': 9571, 'Black': 9572, '쁨이란': 9573, '이여': 9574, '감싼': 9575, '셰이': 9576, '구먼': 9577, '퓨어': 9578, '빼닮': 9579, '가복': 9580, '마구': 9581, '프로모션': 9582, '당부': 9583, '네이버': 9584, '버즈': 9585, '세터': 9586, '선교사': 9587, '사콜': 9588, '로진': 9589, '합성': 9590, '분리수거': 9591, '풀리': 9592, '모니터': 9593, '정착': 9594, '모리스': 9595, '마렌': 9596, '전력투구': 9597, '놀러': 9598, '지목': 9599, '심한': 9600, '포테': 9601, '미란다': 9602, '외우': 9603, '우비': 9604, '모기': 9605, '쇼트': 9606, '억새': 9607, '백숙': 9608, '심바': 9609, '미우': 9610, '120': 9611, '월렌': 9612, '모건': 9613, '제롬': 9614, '추화': 9615, '장학생': 9616, '간단': 9617, '부디': 9618, '두려움': 9619, '귀갓길': 9620, '카톡': 9621, '헤진': 9622, '섭하': 9623, '샌': 9624, '놀람': 9625, '잃어버린': 9626, '지나갈': 9627, '이목': 9628, '살쪄': 9629, '이행': 9630, '뉘우치': 9631, '명배우': 9632, '유착': 9633, '위태': 9634, '화가': 9635, '기계': 9636, '정지': 9637, '성적': 9638, '큐빅': 9639, '지하': 9640, '측정': 9641, '기울이': 9642, '띈': 9643, '스탠딩': 9644, '행차': 9645, '흐릿': 9646, '했으면': 9647, '승강기': 9648, '얼간': 9649, '몰골': 9650, '앞세우': 9651, '검소': 9652, '밝혀질': 9653, '동전': 9654, '나눌': 9655, '초여름': 9656, '선선': 9657, '황용식': 9658, '좋아할': 9659, '안녕하': 9660, '힌': 9661, '고소장': 9662, '원색': 9663, '알릴': 9664, '스텐': 9665, '힘겹': 9666, '구와': 9667, '도트': 9668, '결의': 9669, '담장': 9670, '하회탈': 9671, '정정': 9672, '녹아드': 9673, '조치': 9674, '단순': 9675, '석방': 9676, '양봉': 9677, '오니': 9678, '라고요': 9679, '우울': 9680, '피고발인': 9681, '동석': 9682, '반창고': 9683, '붕대': 9684, '쑥쓰럽': 9685, '닫힌': 9686, '사태': 9687, '로버트할리': 9688, 'LACMA': 9689, '1988': 9690, '달뜨': 9691, '잠겨서': 9692, '민감': 9693, '베드': 9694, '해프닝': 9695, '배리어': 9696, '에디': 9697, '뱃': 9698, '려니': 9699, '심상': 9700, '상반신': 9701, '룻': 9702, '쏴라': 9703, '오락': 9704, '포항': 9705, '혹독': 9706, '役': 9707, '위안': 9708, '딜레마': 9709, '오은영': 9710, '마블리': 9711, '서요': 9712, '불허': 9713, '눈발': 9714, '참한': 9715, '도봉': 9716, '뼛속': 9717, '손깍지': 9718, '반짝거리': 9719, '완주': 9720, '오만': 9721, '쟈': 9722, '천근만근': 9723, '총괄': 9724, '균형': 9725, '바뻐': 9726, '서류': 9727, '하마터면': 9728, '소인': 9729, '안준영': 9730, '방청': 9731, '인사성': 9732, '일렬': 9733, '더없이': 9734, '쑥스러움': 9735, '아름다울': 9736, '스러워진': 9737, '나날': 9738, '서둘러': 9739, '특별히': 9740, '워진': 9741, '줄행랑': 9742, '정렬': 9743, '청사': 9744, '제보자': 9745, '채진': 9746, '그늘진': 9747, '손금': 9748, '왕눈이': 9749, '컴퍼니': 9750, '망연자실': 9751, '쓱': 9752, '초호': 9753, '착찹': 9754, '관한': 9755, '막내딸': 9756, '겨냥': 9757, '아무것': 9758, '승승장구': 9759, '동현': 9760, '김주연': 9761, '레드원': 9762, '지홍': 9763, '이븐': 9764, '타미': 9765, '연기파': 9766, '간만에': 9767, '새로워': 9768, '박새': 9769, 'Worldwide': 9770, 'Fans': 9771, '안시성': 9772, '오마': 9773, '동혼': 9774, '사무총장': 9775, '연설': 9776, '나옵니다': 9777, '한정판': 9778, '가져요': 9779, '똘똘': 9780, '투스': 9781, '깜박': 9782, '전미': 9783, '스코트': 9784, '큼지막': 9785, '~’‘': 9786, '마련': 9787, '은밀': 9788, '숨겨온': 9789, '오른손': 9790, '며느라기': 9791, '삔': 9792, '센티멘탈': 9793, '새롬': 9794, 'mama': 9795, '볼래요': 9796, '동대문': 9797, '도련': 9798, '무얼': 9799, '겸비': 9800, '남배우': 9801, '켄타로': 9802, \"'★\": 9803, '접촉': 9804, '역조': 9805, '빛났': 9806, '다이나믹듀오': 9807, '위용': 9808, '사리나': 9809, '대접': 9810, '타카모토': 9811, '시호': 9812, '카토': 9813, '주시': 9814, '전방': 9815, '불어온다': 9816, '정감': 9817, '햇님': 9818, '봅시다': 9819, 'LIN': 9820, '수집': 9821, '초겨울': 9822, '도저히': 9823, '매니쉬': 9824, '나고야': 9825, '양국': 9826, '열쇠': 9827, '입김': 9828, '어르신': 9829, '실장': 9830, '올라왔': 9831, 'KPOP': 9832, '스쳐': 9833, '스토': 9834, '옥탑방': 9835, '쑥쑥': 9836, '부전자전': 9837, \",'\": 9838, '전수': 9839, '언덕': 9840, '마르': 9841, '치맛자락': 9842, '외롭': 9843, '깜빡': 9844, '후예': 9845, '코발트': 9846, '우도': 9847, '포크송': 9848, '대모': 9849, '스마트폰': 9850, '즐겨라': 9851, '아휴': 9852, '배지': 9853, '끼치': 9854, '금세': 9855, '휘둥그레': 9856, '내편': 9857, '자존심': 9858, '타이트한': 9859, '엄용수': 9860, '고사리': 9861, 'mc': 9862, 'CM': 9863, '일심동체': 9864, '천장': 9865, '매거진': 9866, '금동이': 9867, '스냅': 9868, '사이버': 9869, '함게': 9870, '얌전': 9871, '포문': 9872, '조절': 9873, '예술인': 9874, '매니큐어': 9875, 'to': 9876, '참전': 9877, '쁙': 9878, \"...'\": 9879, '제작자': 9880, '월도': 9881, '아스라': 9882, '파도타기': 9883, '타이거': 9884, '아우르': 9885, '김용식': 9886, '91': 9887, '봐야지': 9888, '봉시아': 9889, '껏': 9890, '반짝임': 9891, '나야': 9892, '오남매': 9893, '황정혜': 9894, '박이': 9895, '우릴': 9896, '혼담': 9897, '이크': 9898, '집착': 9899, '기네스북': 9900, '맹추위': 9901, '한곡': 9902, '뤠잇': 9903, '해년': 9904, '동그라미': 9905, '뚫리': 9906, '..!': 9907, '쏟아진': 9908, '과해': 9909, '진환': 9910, '화음': 9911, '가상': 9912, '제임스': 9913, '올라가': 9914, '동미': 9915, '현수': 9916, '무더운': 9917, '풍요': 9918, '독무': 9919, '속사포': 9920, '악보': 9921, '태어났': 9922, '그러': 9923, '파도치': 9924, '깃': 9925, '울트라': 9926, '정숙': 9927, '어부바': 9928, '숭숭': 9929, '앞장서': 9930, '담백': 9931, '어질': 9932, '숨죽이': 9933, '좁': 9934, '오름': 9935, '거스른': 9936, '폐': 9937, '콩닥콩닥': 9938, '어휴': 9939, '춥다': 9940, '빤': 9941, '작아지': 9942, '아랫배': 9943, '스러워도': 9944, '버려': 9945, '너야': 9946, '남사': 9947, '올라도': 9948, '이라도': 9949, '빛날': 9950, '장막': 9951, '난로': 9952, '눈송이': 9953, '딸랑딸랑': 9954, '시베': 9955, '인현': 9956, '넘친다': 9957, '쪼르르': 9958, '엷': 9959, '용선': 9960, '요동치': 9961, '보유자': 9962, '최단': 9963, '사이렌': 9964, '망설임': 9965, '귀여': 9966, '모나리자': 9967, 'ok': 9968, '숱': 9969, 'on': 9970, '행시': 9971, '파고드': 9972, '예진': 9973, '점프력': 9974, '맘껏': 9975, 'XRM': 9976, '웜': 9977, '북치': 9978, '들어올리': 9979, '연다': 9980, '닥치': 9981, '비범': 9982, '배길': 9983, '지킨': 9984, '맷': 9985, '털기': 9986, '재주': 9987, '기상': 9988, '쉬워요': 9989, '金': 9990, '밖엔': 9991, '명수': 9992, '각이': 9993, '발랐': 9994, '뻔한': 9995, '옥동자': 9996, '철철철': 9997, '디야': 9998, '엔진': 9999, '막즈': 10000, '꿋꿋': 10001, '인돌': 10002, '엔시': 10003, '넘어질라': 10004, '하얘': 10005, '레게': 10006, '또는': 10007, '애인': 10008, '움직임': 10009, '쇼크': 10010, '좌중': 10011, '산적': 10012, '자부심': 10013, '넘어져': 10014, '얼떨결': 10015, '맞댄': 10016, '기나긴': 10017, '여긴': 10018, '귀여워서': 10019, '췄': 10020, '니코니코': 10021, '빌릴': 10022, '풀려': 10023, '튼튼': 10024, '특한': 10025, '외동딸': 10026, '마음속': 10027, '밀어주': 10028, '이성곤': 10029, '비닐': 10030, '월계수': 10031, '플레시': 10032, '햅번': 10033, '나풀나풀': 10034, '황충': 10035, '바래요': 10036, '구현': 10037, '레몬색': 10038, '정영': 10039, '비즈니스': 10040, '속삭여': 10041, '냅시다': 10042, '서기': 10043, '경기도': 10044, '결재': 10045, '구입': 10046, '정선': 10047, '공주님': 10048, '남겨': 10049, 'RCY': 10050, '뽑혔': 10051, '소비': 10052, '총동원': 10053, '춘다': 10054, '그리울': 10055, '바탕': 10056, '덧': 10057, '개인전': 10058, '문학': 10059, '런더': 10060, '수갑': 10061, '여경': 10062, '커팅': 10063, '독백': 10064, '시려워': 10065, '샌들': 10066, '곁눈질': 10067, '불어라': 10068, '찡그려도': 10069, '헵번': 10070, '이근호': 10071, '사이버펑크': 10072, '바니': 10073, '척도': 10074, '믿음': 10075, '졸려요': 10076, '맹활약': 10077, '황동혁': 10078, '비서': 10079, '피싱': 10080, '정재원': 10081, '데니안': 10082, '져라': 10083, 'WHO': 10084, '그려요': 10085, '스프링': 10086, '서단': 10087, '박매': 10088, '서바이벌': 10089, '・': 10090, '낄낄': 10091, '상회': 10092, '유투': 10093, '자유투': 10094, '매일매일': 10095, '쫌': 10096, '아동': 10097, '탄다': 10098, '부패': 10099, '보각': 10100, '영동대로': 10101, '가드': 10102, '가령': 10103, '로부터': 10104, '봐줘': 10105, '교왕': 10106, '들려줄': 10107, '승화': 10108, '어려도': 10109, '휩쓴': 10110, '지켜낸': 10111, '나리': 10112, '동징': 10113, '뒷자리': 10114, '로다': 10115, '트로피컬': 10116, '뿌렸': 10117, '삼킨': 10118, '화분': 10119, '쉬잇': 10120, '퀄리티': 10121, '쬐': 10122, '마현': 10123, '니티': 10124, '안착': 10125, '사내': 10126, '보험': 10127, '실시간': 10128, '갈기': 10129, '눈꼬리': 10130, '덧니': 10131, '쪽쪽': 10132, '짝눈': 10133, '멀쩡': 10134, '틀린': 10135, '흐트': 10136, 'MK': 10137, '떨어진다': 10138, '초토': 10139, '반달눈': 10140, '살아요': 10141, '빤짝빤짝': 10142, '밀라노': 10143, '수홍': 10144, '그리메상': 10145, '방울': 10146, '캅': 10147, '그려도': 10148, 'Safe': 10149, '걸으면': 10150, '비명': 10151, '시래기': 10152, '덩달': 10153, '도성': 10154, '보노': 10155, '마주칠': 10156, '토마토': 10157, '온기': 10158, '하네스': 10159, '박싱': 10160, '복도': 10161, '시폰': 10162, '가득히': 10163, '살찌': 10164, '댕이': 10165, 'love': 10166, '정류장': 10167, '스며든다': 10168, '스톤': 10169, '꿈속': 10170, '블록버스터': 10171, '얼스': 10172, '천둥': 10173, '잊어버린': 10174, '두바이': 10175, '박람회': 10176, '산다라': 10177, '침입': 10178, '무단': 10179, '그루비': 10180, '메운': 10181, '그곳': 10182, '히아신스': 10183, '려면': 10184, '팟': 10185, '뭉쳐': 10186, '쉬웠': 10187, '양심': 10188, '이을용': 10189, '도전기': 10190, '따와': 10191, '보건': 10192, '비운': 10193, '청치마': 10194, '플레이트': 10195, '도둑잠': 10196, '수북': 10197, '쿡': 10198, '취할': 10199, '매무새': 10200, 'NEWS': 10201, '조조': 10202, '촬영차': 10203, '교양': 10204, \"!'\": 10205, '특사': 10206, '액션물': 10207, '루카': 10208, '바울': 10209, '바너': 10210, '기상천외': 10211, '통쾌': 10212, '야위': 10213, '관통': 10214, '남현희': 10215, '라바': 10216, '루갈': 10217, '음악캠프': 10218, '톡톡히': 10219, '초홍': 10220, '올라탄': 10221, '초능력': 10222, '고파요': 10223, '정유': 10224, '두상': 10225, '리포터': 10226, '음악회': 10227, '데이아나': 10228, '파스타': 10229, 'tvN': 10230, '더라도': 10231, '유별나': 10232, '김문정': 10233, '더킹': 10234, '골절': 10235, '바빠도': 10236, '여린': 10237, '대거': 10238, '출중': 10239, '이랜드': 10240, '착지': 10241, '교문': 10242, '장시간': 10243, '연령': 10244, '부동산': 10245, '사이보그': 10246, 'JTBC': 10247, '일기장': 10248, '망치': 10249, '마인': 10250, '사귀': 10251, '립니': 10252, '레이놀즈': 10253, '자기소개': 10254, '난입': 10255, '위위': 10256, '드문': 10257, '꾸욱': 10258, '기침': 10259, '갈증': 10260, '건다': 10261, '외워': 10262, '출생': 10263, '중간': 10264, '뛰어왔': 10265, '굉장히': 10266, '만난다': 10267, '부릉부릉': 10268, '대하': 10269, '느낄': 10270, '왈칵': 10271, '목격자': 10272, '김태윤': 10273, '입소문': 10274, '무명': 10275, '조심히': 10276, '인삿말': 10277, '어떠셨': 10278, '지나칠': 10279, '블럭': 10280, '헝크러': 10281, '조운': 10282, '워크': 10283, '명성': 10284, '쿨쿨': 10285, '보인다': 10286, '오메가': 10287, '윌리': 10288, '페퍼톤스': 10289, '우다': 10290, '최태성': 10291, '정봉주': 10292, '합격': 10293, '김이선': 10294, '커플링': 10295, '디피': 10296, '가두': 10297, '우미': 10298, '우드': 10299, '반대': 10300, '기승': 10301, '카멜': 10302, '감칠맛': 10303, '치카': 10304, '방지': 10305, '라며': 10306, '잔혹사': 10307, '뮤즈': 10308, '선홍': 10309, '상상력': 10310, '기발': 10311, '현기증': 10312, '스팟': 10313, '만득': 10314, '승부수': 10315, '떠날': 10316, '입금': 10317, '밝아졌': 10318, '이홍길': 10319, '친환경': 10320, '조체': 10321, '버금가': 10322, '추운데': 10323, '미술관': 10324, '민홍': 10325, 'NG': 10326, '패스워드': 10327, '잡히': 10328, 'VAMOS': 10329, 'GLASSY': 10330, 'OUTSIDE': 10331, 'Blue': 10332, 'Eyes': 10333, 'POPPING': 10334, '와이': 10335, '오마주': 10336, '져서': 10337, 'DANCE': 10338, 'MOON': 10339, '액자': 10340, '난조': 10341, '안기': 10342, '헐리': 10343, '타상': 10344, '퍼스트': 10345, '씨앗': 10346, '담아낸': 10347, 'f': 10348, '학사': 10349, '학위': 10350, '능장': 10351, '이름표': 10352, 'Drop': 10353, '쪼개': 10354, '뛸': 10355, '칭칭': 10356, 'GRATATA': 10357, '코어': 10358, '포부': 10359, '태호': 10360, '보냅니다': 10361, '유창': 10362, '곡도': 10363, 'Free': 10364, '셕들': 10365, '자아도취': 10366, '트레이스': 10367, '각인': 10368, '첫인상': 10369, 'Water': 10370, '술잔': 10371, '재연': 10372, '글쎄': 10373, '냉정': 10374, '파괴': 10375, 'Next': 10376, '햄스터': 10377, '샤시': 10378, '오차': 10379, '2005': 10380, '현해탄': 10381, '야자수': 10382, '펀': 10383, '짱짱': 10384, '두통': 10385, '끝냈': 10386, '원투': 10387, '스러우': 10388, '학우': 10389, '셰어': 10390, '탑재': 10391, '입동': 10392, '목련': 10393, '엽신': 10394, '쏭': 10395, 'sbs': 10396, '통했': 10397, '박기원': 10398, '사슴뿔': 10399, \"♡'\": 10400, '쏩니다': 10401, '고리': 10402, '남겨야': 10403, '타요': 10404, '쾌유': 10405, 'Mnet': 10406, '메탈': 10407, '아의': 10408, '퍼퓸': 10409, '세시': 10410, '더워도': 10411, '바닷속': 10412, '선풍기': 10413, '호랑': 10414, '럴한': 10415, '장금': 10416, '냉면': 10417, '내꺼야': 10418, '즉석': 10419, '매미': 10420, '동와': 10421, '메시': 10422, '개편': 10423, 'Dream': 10424, '전교': 10425, '입학생': 10426, '동이': 10427, '졸업생': 10428, '학년도': 10429, '입실': 10430, '챙겨준': 10431, '낼게요': 10432, '원동력': 10433, '딸기코': 10434, '발렌타인데이': 10435, '순도': 10436, '루즈': 10437, '팅팅': 10438, '대견': 10439, '초밥': 10440, '비싼': 10441, '빈아': 10442, '가지각색': 10443, '편해요': 10444, '주연아': 10445, '다발': 10446, '인줄': 10447, '검거': 10448, '가져왔': 10449, '따라갈': 10450, '뒤지': 10451, '돌발': 10452, '실내': 10453, '령': 10454, '유통': 10455, '구한': 10456, '입간판': 10457, '양길영': 10458, '홍완표': 10459, '무자비': 10460, '병기': 10461, '불과': 10462, '하동': 10463, '확진': 10464, '총잡이': 10465, '이니셜': 10466, '다모임': 10467, '피어난': 10468, '크로': 10469, '한국식': 10470, '이을': 10471, '달렸': 10472, '꼬여': 10473, '박물관': 10474, '휩쓰': 10475, 'Can': 10476, '폭죽': 10477, '찬무대': 10478, '러플': 10479, '꽃게': 10480, '이전': 10481, '타짜': 10482, '깍듯': 10483, '내려요': 10484, '재림': 10485, '군제': 10486, '설마': 10487, '도우': 10488, '올라갈': 10489, '농담': 10490, '정오': 10491, '검지': 10492, '을수록': 10493, '데뷔작': 10494, '조무래기': 10495, '신병': 10496, '역장': 10497, '참으': 10498, '\"···': 10499, '아원': 10500, '임명': 10501, '별명': 10502, '재방송': 10503, '폐막': 10504, '단결': 10505, '군입': 10506, '배치': 10507, '역소': 10508, '빡빡머리': 10509, 'happy': 10510, '동영배': 10511, '철원': 10512, '소전': 10513, '예비군': 10514, '중대장': 10515, '보소': 10516, '카모': 10517, '생시': 10518, 'IS': 10519, '병사': 10520, '동의': 10521, '고무신': 10522, '해져서': 10523, '비홍': 10524, '녹차': 10525, '최홍길': 10526, '韓日': 10527, '날갯짓': 10528, '우마': 10529, '박미소': 10530, '바꿔': 10531, '허니문': 10532, '행복감': 10533, '사귄': 10534, '기쁩니다': 10535, '노총각': 10536, '만든다': 10537, '치장': 10538, '구청': 10539, '권총': 10540, '생겼어요': 10541, '꼬였': 10542, '정범균': 10543, '이상봉': 10544, '따끈따근': 10545, '챙겨요': 10546, '이룬': 10547, '예식': 10548, '희준': 10549, '끝자락': 10550, '오작교': 10551, '야구단': 10552, '성혼': 10553, '졸려': 10554, '황영진': 10555, '김용명': 10556, '올려요': 10557, '촉감': 10558, '목발': 10559, '해설': 10560, '바랍니다': 10561, '옹달샘': 10562, '슈렉': 10563, '파업': 10564, '끈적끈적': 10565, '지났': 10566, '소절': 10567, '꾸준히': 10568, '생방송': 10569, '콘텐츠': 10570, '유두': 10571, '래곤': 10572, '표창원': 10573, '무려': 10574, '텔': 10575, '던스': 10576, '감독상': 10577, '노립니다': 10578, '책임져': 10579, '회원': 10580, '허준': 10581, '시터': 10582, '맞대결': 10583, '매치': 10584, '단오': 10585, '박장대소': 10586, '녕': 10587, '슬플': 10588, '근로': 10589, '균형감': 10590, '밸': 10591, '규수': 10592, '닭살': 10593, '後': 10594, '액': 10595, '시트': 10596, '비즈': 10597, '인트': 10598, '김용완': 10599, '연두': 10600, '김경수': 10601, '농익': 10602, '아랏': 10603, '임혜영': 10604, '자살': 10605, '에녹': 10606, '나섰': 10607, '떠올랐': 10608, '하이드': 10609, '쓰러진': 10610, '따라서': 10611, '닷컴': 10612, '용돈': 10613, '포장마차': 10614, '광기': 10615, '보일락': 10616, '플린': 10617, '경력': 10618, '춤춰': 10619, '개비': 10620, '축배': 10621, '자크': 10622, '항아리': 10623, '조건': 10624, '고난': 10625, '스코어': 10626, '계란': 10627, '탭': 10628, '브록': 10629, '소여': 10630, '오리지널': 10631, '기남': 10632, '롤라': 10633, '엠마': 10634, '팽팽': 10635, '창시자': 10636, '김은경': 10637, '익살꾸러기': 10638, '수위': 10639, '봄봄': 10640, '이서윤': 10641, '구직자': 10642, '개구장이': 10643, '신청': 10644, '돌멩이': 10645, '사원': 10646, '사채업자': 10647, '유인택': 10648, '이철하': 10649, '요르단': 10650, '김선': 10651, '강경모': 10652, '추노': 10653, '밝힌다': 10654, '주기': 10655, '추적': 10656, '160': 10657, '이사장': 10658, '오하라': 10659, '오케': 10660, '겨우': 10661, '조윤영': 10662, '막혀': 10663, '에드거': 10664, '굉장': 10665, '차별': 10666, '페스트': 10667, '펼쳐집니다': 10668, '린드': 10669, '올릴': 10670, '동안미녀': 10671, '살찐': 10672, '천안': 10673, '기리': 10674, '툼': 10675, '유하': 10676, '조진모': 10677, '젊은이': 10678, '프로브': 10679, '엘파': 10680, '노장': 10681, '아그네스': 10682, '문진아': 10683, '몰리': 10684, '명장면': 10685, 'FM': 10686, '한양대': 10687, '이등병': 10688, '사마': 10689, '중기': 10690, '광복절': 10691, '기념사진': 10692, '고마웠': 10693, '병역': 10694, '안심': 10695, '질까': 10696, '수료식': 10697, '초신성': 10698, '해경': 10699, '도슨': 10700, '용사': 10701, '지용': 10702, '시츠': 10703, '리비': 10704, '설거지': 10705, '살아가': 10706, '정승혜': 10707, '메노': 10708, '고통': 10709, '쇼트컷': 10710, '차정': 10711, '가이드': 10712, '1446': 10713, '무척': 10714, '엇갈린': 10715, '고자': 10716, '공작부인': 10717, '이혜경': 10718, '거두': 10719, '최적화': 10720, '병실': 10721, 'ROCK': 10722, '와일드혼': 10723, '스탄': 10724, '비어': 10725, '기네': 10726, '앙투아네트': 10727, '말판': 10728, '테너': 10729, '정수': 10730, '착하': 10731, '무용수': 10732, '밤거리': 10733, '강물': 10734, '지저스': 10735, '추정': 10736, '아프로디테': 10737, '만우절': 10738}\n"
     ]
    },
    {
     "data": {
      "text/plain": [
       "array([-0.09700315,  0.02293771, -0.01028785,  0.23994066,  0.18029802,\n",
       "       -0.07470717,  0.07907069,  0.53760356, -0.10535703,  0.22410087,\n",
       "       -0.05899994,  0.06848893,  0.14065185, -0.04751774,  0.2751522 ,\n",
       "       -0.08651539,  0.18479003,  0.13112262, -0.29308575, -0.07737587,\n",
       "        0.10049512, -0.0631912 ,  0.18840896,  0.08020393,  0.04156866,\n",
       "        0.06812388, -0.17141937,  0.03456437, -0.2105569 , -0.01922563,\n",
       "       -0.06531771,  0.10240828,  0.36170894, -0.21442878,  0.19494207,\n",
       "        0.07795159, -0.03718185,  0.294385  , -0.00134624, -0.44854617,\n",
       "       -0.14189607, -0.10563374,  0.03630978,  0.2746968 ,  0.3304311 ,\n",
       "        0.06157553, -0.02533867, -0.15565163,  0.00311089, -0.03215439,\n",
       "       -0.29381898,  0.38714778, -0.03380352,  0.07014058, -0.23967937,\n",
       "       -0.15395373,  0.01625146,  0.00143887, -0.05255526,  0.2049291 ,\n",
       "       -0.04778447, -0.30073413,  0.2019354 ,  0.17766275,  0.14571536,\n",
       "        0.2720821 , -0.14990498,  0.1856849 , -0.27042365,  0.08815021,\n",
       "        0.00259892,  0.26510528, -0.06510947,  0.16421933,  0.21537098,\n",
       "       -0.29565263,  0.05889437,  0.06091668,  0.21314164, -0.23726155,\n",
       "       -0.27798095, -0.25317368,  0.02071325, -0.02712483, -0.16606502,\n",
       "        0.02357213,  0.14917332, -0.0192775 , -0.17204314,  0.18099065,\n",
       "        0.17962281,  0.13450111,  0.3228096 , -0.00643374,  0.0262734 ,\n",
       "       -0.10819052,  0.10116492,  0.06067466,  0.2951445 , -0.08423036,\n",
       "       -0.20965567,  0.2804524 ,  0.2602204 ,  0.26634488,  0.01860967,\n",
       "       -0.25811422, -0.08934352,  0.15323456, -0.22702053, -0.20895287,\n",
       "       -0.09730334, -0.07104955, -0.2462899 , -0.29773048, -0.21871816,\n",
       "       -0.0997365 ,  0.56311744, -0.23441389, -0.21313554, -0.16449903,\n",
       "       -0.01845152, -0.27484494,  0.01862036, -0.29574522, -0.03958569,\n",
       "        0.03263166,  0.06458455,  0.12564804,  0.12990642, -0.21294026,\n",
       "        0.07289045,  0.01085611, -0.10769004, -0.29275075,  0.1934234 ,\n",
       "        0.21254483, -0.02626803,  0.01809727,  0.13394803,  0.07768611,\n",
       "        0.04172534, -0.30429888, -0.08254707,  0.20068873, -0.1537789 ,\n",
       "        0.04820659, -0.07728922, -0.2659712 ,  0.1383234 ,  0.09850748,\n",
       "       -0.09886976, -0.10888667, -0.06687149,  0.19779138,  0.03011112,\n",
       "       -0.06572188,  0.36905414, -0.01218451, -0.21167444,  0.08114654,\n",
       "       -0.0351699 ,  0.25875536,  0.1361243 ,  0.05287793,  0.24603909,\n",
       "       -0.04771794,  0.08705594,  0.14064814, -0.10284804, -0.09257771,\n",
       "       -0.09235787, -0.08199871,  0.01347643,  0.15765537, -0.07786581,\n",
       "       -0.1459311 , -0.38634506,  0.13686128,  0.21112673, -0.04214312,\n",
       "       -0.2340557 ,  0.13700539,  0.03708914, -0.19885223,  0.09400643,\n",
       "       -0.08971816,  0.32763416,  0.14146517,  0.02222131,  0.27641818,\n",
       "        0.166559  , -0.1678988 , -0.00485817, -0.07056791,  0.10146736,\n",
       "        0.17439525,  0.1988206 , -0.02900931, -0.3131984 , -0.0947175 ],\n",
       "      dtype=float32)"
      ]
     },
     "execution_count": 123,
     "metadata": {},
     "output_type": "execute_result"
    }
   ],
   "source": [
    "# 단어별 key & 벡터 확인\n",
    "key2index = model.wv.key_to_index\n",
    "print(key2index)\n",
    "model.wv['홍길동']"
   ]
  },
  {
   "cell_type": "code",
   "execution_count": 124,
   "id": "16444a1f",
   "metadata": {},
   "outputs": [
    {
     "data": {
      "image/png": "[encoded data removed]",
      "text/plain": [
       "<Figure size 1008x1008 with 1 Axes>"
      ]
     },
     "metadata": {
      "needs_background": "light"
     },
     "output_type": "display_data"
    }
   ],
   "source": [
    "import matplotlib.pyplot as plt\n",
    "from sklearn.decomposition import PCA\n",
    "\n",
    "def plot_2d_graph(vocabs, xs, ys):\n",
    "    import matplotlib.pyplot as plt\n",
    "    plt.figure(figsize=(14 ,14))\n",
    "    plt.scatter(xs, ys, marker = 'o')\n",
    "    for i, v in enumerate(vocabs):\n",
    "        plt.annotate(v, xy=(xs[i], ys[i]))\n",
    "\n",
    "N=50\n",
    "\n",
    "#2차원으로 축소\n",
    "pca = PCA(n_components=2)\n",
    "xys = pca.fit_transform([model.wv[key] for key in key2index.keys()][:N])\n",
    "xs = xys[:,0]\n",
    "ys = xys[:,1]\n",
    "\n",
    "plt.rcParams['font.family'] = 'Gulim'\n",
    "plt.rc('font', size=20) \n",
    " \n",
    "# 결과 출력\n",
    "plot_2d_graph(list(key2index.keys())[:N], xs, ys)\n",
    "plt.show()"
   ]
  },
  {
   "cell_type": "code",
   "execution_count": null,
   "id": "2b73a9f8",
   "metadata": {},
   "outputs": [],
   "source": []
  },
  {
   "cell_type": "code",
   "execution_count": 6,
   "id": "09463c94",
   "metadata": {},
   "outputs": [
    {
     "ename": "NameError",
     "evalue": "name 'sentences' is not defined",
     "output_type": "error",
     "traceback": [
      "\u001b[1;31m---------------------------------------------------------------------------\u001b[0m",
      "\u001b[1;31mNameError\u001b[0m                                 Traceback (most recent call last)",
      "\u001b[1;32m~\\AppData\\Local\\Temp/ipykernel_21696/1920482474.py\u001b[0m in \u001b[0;36m<module>\u001b[1;34m\u001b[0m\n\u001b[0;32m      3\u001b[0m \u001b[1;33m\u001b[0m\u001b[0m\n\u001b[0;32m      4\u001b[0m \u001b[1;33m\u001b[0m\u001b[0m\n\u001b[1;32m----> 5\u001b[1;33m \u001b[0membedder\u001b[0m \u001b[1;33m=\u001b[0m \u001b[0membedding\u001b[0m\u001b[1;33m.\u001b[0m\u001b[0mEmbedding_caption\u001b[0m\u001b[1;33m(\u001b[0m\u001b[0msentences\u001b[0m\u001b[1;33m,\u001b[0m \u001b[0mmethod\u001b[0m\u001b[1;33m=\u001b[0m\u001b[1;34m'fast'\u001b[0m\u001b[1;33m)\u001b[0m\u001b[1;33m\u001b[0m\u001b[1;33m\u001b[0m\u001b[0m\n\u001b[0m\u001b[0;32m      6\u001b[0m \u001b[0mdataset\u001b[0m \u001b[1;33m=\u001b[0m \u001b[0mCelebDataset\u001b[0m\u001b[1;33m(\u001b[0m\u001b[1;34m'datasets/debug/captions.csv'\u001b[0m\u001b[1;33m,\u001b[0m \u001b[1;34m'datasets/debug/img'\u001b[0m\u001b[1;33m,\u001b[0m \u001b[0membedder\u001b[0m\u001b[1;33m=\u001b[0m\u001b[0membedder\u001b[0m\u001b[1;33m,\u001b[0m \u001b[0mfixed_length\u001b[0m\u001b[1;33m=\u001b[0m\u001b[1;36m20\u001b[0m\u001b[1;33m,\u001b[0m \u001b[0mdic_path\u001b[0m\u001b[1;33m=\u001b[0m\u001b[1;34m'희진이 ko-dic폴더'\u001b[0m\u001b[1;33m)\u001b[0m\u001b[1;33m\u001b[0m\u001b[1;33m\u001b[0m\u001b[0m\n\u001b[0;32m      7\u001b[0m \u001b[0mdataset\u001b[0m\u001b[1;33m[\u001b[0m\u001b[1;36m0\u001b[0m\u001b[1;33m]\u001b[0m\u001b[1;33m\u001b[0m\u001b[1;33m\u001b[0m\u001b[0m\n",
      "\u001b[1;31mNameError\u001b[0m: name 'sentences' is not defined"
     ]
    }
   ],
   "source": [
    "from datasets.dataset import CelebDataset\n",
    "from datasets.preprocess import embedding\n",
    "\n",
    "\n",
    "embedder = embedding.Embedding_caption(sentences, method='fast')\n",
    "dataset = CelebDataset('datasets/debug/captions.csv', 'datasets/debug/img', embedder=embedder, fixed_length=20, dic_path='희진이 ko-dic폴더')\n",
    "dataset[0]"
   ]
  },
  {
   "cell_type": "code",
   "execution_count": null,
   "id": "8c139f1d",
   "metadata": {},
   "outputs": [],
   "source": []
  },
  {
   "cell_type": "code",
   "execution_count": null,
   "id": "d55616b4",
   "metadata": {},
   "outputs": [],
   "source": []
  },
  {
   "cell_type": "code",
   "execution_count": null,
   "id": "b46bd524",
   "metadata": {},
   "outputs": [],
   "source": []
  },
  {
   "cell_type": "code",
   "execution_count": null,
   "id": "7c2faa07",
   "metadata": {},
   "outputs": [],
   "source": []
  },
  {
   "cell_type": "code",
   "execution_count": null,
   "id": "628c82dd",
   "metadata": {},
   "outputs": [],
   "source": []
  }
 ],
 "metadata": {
  "kernelspec": {
   "display_name": "caption",
   "language": "python",
   "name": "caption"
  },
  "language_info": {
   "codemirror_mode": {
    "name": "ipython",
    "version": 3
   },
   "file_extension": ".py",
   "mimetype": "text/x-python",
   "name": "python",
   "nbconvert_exporter": "python",
   "pygments_lexer": "ipython3",
   "version": "3.8.12"
  },
  "toc": {
   "base_numbering": 1,
   "nav_menu": {},
   "number_sections": true,
   "sideBar": true,
   "skip_h1_title": false,
   "title_cell": "Table of Contents",
   "title_sidebar": "Contents",
   "toc_cell": false,
   "toc_position": {},
   "toc_section_display": true,
   "toc_window_display": true
  }
 },
 "nbformat": 4,
 "nbformat_minor": 5
}
