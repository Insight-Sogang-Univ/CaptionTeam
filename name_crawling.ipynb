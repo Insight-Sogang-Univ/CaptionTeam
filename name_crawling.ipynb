{
 "cells": [
  {
   "cell_type": "markdown",
   "id": "ce1dfff4",
   "metadata": {},
   "source": [
    "# 이름 크롤링"
   ]
  },
  {
   "cell_type": "code",
   "execution_count": 1,
   "id": "b036107a",
   "metadata": {},
   "outputs": [],
   "source": [
    "from selenium import webdriver\n",
    "import pandas as pd\n",
    "import numpy as np\n",
    "\n",
    "import requests\n",
    "from bs4 import BeautifulSoup\n",
    "import time\n",
    "import urllib.request\n",
    "\n",
    "from selenium.webdriver import Chrome\n",
    "import re     \n",
    "from selenium.webdriver.chrome.options import Options\n",
    "from selenium.webdriver.common.keys import Keys\n",
    "import datetime as dt\n",
    "\n",
    "from tqdm import tqdm\n",
    "from urllib.request import urlretrieve"
   ]
  },
  {
   "cell_type": "markdown",
   "id": "405697c3",
   "metadata": {},
   "source": [
    "## 1차"
   ]
  },
  {
   "cell_type": "code",
   "execution_count": null,
   "id": "71174fe2",
   "metadata": {},
   "outputs": [],
   "source": [
    "# 가수 tv배우 영화배우 희극인 래퍼 아이돌\n",
    "web_links = ['https://ko.wikipedia.org/wiki/%EB%B6%84%EB%A5%98:%EB%8C%80%ED%95%9C%EB%AF%BC%EA%B5%AD%EC%9D%98_%EB%82%A8%EC%9E%90_%EA%B0%80%EC%88%98',\n",
    "             'https://ko.wikipedia.org/wiki/%EB%B6%84%EB%A5%98:%EB%8C%80%ED%95%9C%EB%AF%BC%EA%B5%AD%EC%9D%98_%EB%82%A8%EC%9E%90_%ED%85%94%EB%A0%88%EB%B9%84%EC%A0%84_%EB%B0%B0%EC%9A%B0',\n",
    "             'https://ko.wikipedia.org/wiki/%EB%B6%84%EB%A5%98:%EB%8C%80%ED%95%9C%EB%AF%BC%EA%B5%AD%EC%9D%98_%EB%82%A8%EC%9E%90_%EC%98%81%ED%99%94_%EB%B0%B0%EC%9A%B0',\n",
    "             'https://ko.wikipedia.org/wiki/%EB%B6%84%EB%A5%98:%EB%8C%80%ED%95%9C%EB%AF%BC%EA%B5%AD%EC%9D%98_%EB%82%A8%EC%9E%90_%ED%9D%AC%EA%B7%B9%EC%9D%B8',\n",
    "             'https://ko.wikipedia.org/wiki/%EB%B6%84%EB%A5%98:%EB%8C%80%ED%95%9C%EB%AF%BC%EA%B5%AD%EC%9D%98_%EB%82%A8%EC%9E%90_%EB%9E%98%ED%8D%BC',\n",
    "             'https://ko.wikipedia.org/wiki/%EB%B6%84%EB%A5%98:%EB%8C%80%ED%95%9C%EB%AF%BC%EA%B5%AD%EC%9D%98_%EB%B3%B4%EC%9D%B4_%EB%B0%B4%EB%93%9C',\n",
    "             'https://ko.wikipedia.org/wiki/%EB%B6%84%EB%A5%98:%EB%8C%80%ED%95%9C%EB%AF%BC%EA%B5%AD%EC%9D%98_%EC%97%AC%EC%9E%90_%EA%B0%80%EC%88%98',\n",
    "             'https://ko.wikipedia.org/wiki/%EB%B6%84%EB%A5%98:%EB%8C%80%ED%95%9C%EB%AF%BC%EA%B5%AD%EC%9D%98_%EC%97%AC%EC%9E%90_%ED%85%94%EB%A0%88%EB%B9%84%EC%A0%84_%EB%B0%B0%EC%9A%B0',\n",
    "             'https://ko.wikipedia.org/wiki/%EB%B6%84%EB%A5%98:%EB%8C%80%ED%95%9C%EB%AF%BC%EA%B5%AD%EC%9D%98_%EC%97%AC%EC%9E%90_%EC%98%81%ED%99%94_%EB%B0%B0%EC%9A%B0',\n",
    "             'https://ko.wikipedia.org/wiki/%EB%B6%84%EB%A5%98:%EB%8C%80%ED%95%9C%EB%AF%BC%EA%B5%AD%EC%9D%98_%EC%97%AC%EC%9E%90_%ED%9D%AC%EA%B7%B9%EC%9D%B8',\n",
    "             'https://ko.wikipedia.org/wiki/%EB%B6%84%EB%A5%98:%EB%8C%80%ED%95%9C%EB%AF%BC%EA%B5%AD%EC%9D%98_%EC%97%AC%EC%9E%90_%EB%9E%98%ED%8D%BC',\n",
    "             'https://ko.wikipedia.org/wiki/%EB%B6%84%EB%A5%98:%EB%8C%80%ED%95%9C%EB%AF%BC%EA%B5%AD%EC%9D%98_%EA%B1%B8_%EA%B7%B8%EB%A3%B9'\n",
    "            ]"
   ]
  },
  {
   "cell_type": "code",
   "execution_count": null,
   "id": "fcf5465d",
   "metadata": {},
   "outputs": [],
   "source": [
    "wiki = 'https://ko.wikipedia.org'\n",
    "#driver = webdriver.Chrome('C:\\\\Users\\\\park3\\\\park\\\\chromedriver.exe')\n",
    "\n",
    "name_from_wiki = []\n",
    "\n",
    "for web_link in web_links:\n",
    "    \n",
    "    next_url = web_link\n",
    "    \n",
    "    while next_url != None:\n",
    "    \n",
    "        html = requests.get(next_url)\n",
    "\n",
    "        soup = BeautifulSoup(html.text, 'html.parser')\n",
    "\n",
    "        mw_pages = soup.find(id='mw-pages')\n",
    "\n",
    "        #mw_cat = mw_pages.find('div','mw-category')\n",
    "        mw_li = mw_pages.find_all('li')\n",
    "        [name_from_wiki.append( re.match('[^(]*(?<!\\s)', li.text).group() ) for li in mw_li]\n",
    "\n",
    "        next_url = None\n",
    "        for a in mw_pages.find_all('a'):\n",
    "            if a.text=='다음 페이지':\n",
    "                next_url = wiki+a['href']\n",
    "                break"
   ]
  },
  {
   "cell_type": "code",
   "execution_count": null,
   "id": "ab451431",
   "metadata": {},
   "outputs": [],
   "source": [
    "import numpy as np\n",
    "\n",
    "print('총 이름 수 :',len(name_from_wiki))\n",
    "print('예시 :',np.random.choice(name_from_wiki,10))"
   ]
  },
  {
   "cell_type": "code",
   "execution_count": null,
   "id": "7379cc59",
   "metadata": {},
   "outputs": [],
   "source": [
    "'정용화' in name_from_wiki"
   ]
  },
  {
   "cell_type": "code",
   "execution_count": null,
   "id": "7f75f4ce",
   "metadata": {},
   "outputs": [],
   "source": [
    "import pandas as pd\n",
    "names = pd.read_csv('names.csv', encoding='cp949', header=None)\n",
    "names.columns = ['name']\n",
    "names"
   ]
  },
  {
   "cell_type": "code",
   "execution_count": null,
   "id": "f5759aa2",
   "metadata": {},
   "outputs": [],
   "source": [
    "name_A = sorted([*names.values.reshape(-1,)])[3:]\n",
    "name_B = sorted(name_from_wiki)[1:]"
   ]
  },
  {
   "cell_type": "code",
   "execution_count": null,
   "id": "9f06592b",
   "metadata": {},
   "outputs": [],
   "source": [
    "name_AB = sorted(np.unique([*name_A, *name_B]))\n",
    "print(len(name_AB))\n",
    "name_AB"
   ]
  },
  {
   "cell_type": "code",
   "execution_count": null,
   "id": "27cd9362",
   "metadata": {},
   "outputs": [],
   "source": [
    "pd.DataFrame(name_AB, columns=['name']).to_csv('names_raw.csv', index=False)"
   ]
  },
  {
   "cell_type": "code",
   "execution_count": null,
   "id": "c203e4cb",
   "metadata": {},
   "outputs": [],
   "source": []
  }
 ],
 "metadata": {
  "kernelspec": {
   "display_name": "data",
   "language": "python",
   "name": "data"
  },
  "language_info": {
   "codemirror_mode": {
    "name": "ipython",
    "version": 3
   },
   "file_extension": ".py",
   "mimetype": "text/x-python",
   "name": "python",
   "nbconvert_exporter": "python",
   "pygments_lexer": "ipython3",
   "version": "3.8.10"
  },
  "toc": {
   "base_numbering": 1,
   "nav_menu": {},
   "number_sections": true,
   "sideBar": true,
   "skip_h1_title": false,
   "title_cell": "Table of Contents",
   "title_sidebar": "Contents",
   "toc_cell": false,
   "toc_position": {},
   "toc_section_display": true,
   "toc_window_display": true
  }
 },
 "nbformat": 4,
 "nbformat_minor": 5
}
